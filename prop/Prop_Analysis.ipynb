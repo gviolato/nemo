{
 "cells": [
  {
   "cell_type": "code",
   "execution_count": 1,
   "metadata": {
    "collapsed": true
   },
   "outputs": [],
   "source": [
    "import os\n",
    "import numpy as np\n",
    "import pandas as pd\n",
    "\n",
    "from bokeh.plotting import figure, output_notebook, show\n",
    "from bokeh.models import Range1d, LinearAxis"
   ]
  },
  {
   "cell_type": "code",
   "execution_count": 2,
   "metadata": {
    "collapsed": false
   },
   "outputs": [
    {
     "data": {
      "text/html": [
       "\n",
       "    <div class=\"bk-root\">\n",
       "        <a href=\"http://bokeh.pydata.org\" target=\"_blank\" class=\"bk-logo bk-logo-small bk-logo-notebook\"></a>\n",
       "        <span id=\"2498a659-6ddd-4d27-b858-af920197ff3f\">Loading BokehJS ...</span>\n",
       "    </div>"
      ]
     },
     "metadata": {},
     "output_type": "display_data"
    },
    {
     "data": {
      "application/javascript": [
       "\n",
       "(function(global) {\n",
       "  function now() {\n",
       "    return new Date();\n",
       "  }\n",
       "\n",
       "  var force = \"1\";\n",
       "\n",
       "  if (typeof (window._bokeh_onload_callbacks) === \"undefined\" || force !== \"\") {\n",
       "    window._bokeh_onload_callbacks = [];\n",
       "    window._bokeh_is_loading = undefined;\n",
       "  }\n",
       "\n",
       "  function run_callbacks() {\n",
       "    window._bokeh_onload_callbacks.forEach(function(callback) { callback() });\n",
       "    delete window._bokeh_onload_callbacks\n",
       "    console.info(\"Bokeh: all callbacks have finished\");\n",
       "  }\n",
       "\n",
       "  function load_libs(js_urls, callback) {\n",
       "    window._bokeh_onload_callbacks.push(callback);\n",
       "    if (window._bokeh_is_loading > 0) {\n",
       "      console.log(\"Bokeh: BokehJS is being loaded, scheduling callback at\", now());\n",
       "      return null;\n",
       "    }\n",
       "    if (js_urls == null || js_urls.length === 0) {\n",
       "      run_callbacks();\n",
       "      return null;\n",
       "    }\n",
       "    console.log(\"Bokeh: BokehJS not loaded, scheduling load and callback at\", now());\n",
       "    window._bokeh_is_loading = js_urls.length;\n",
       "    for (var i = 0; i < js_urls.length; i++) {\n",
       "      var url = js_urls[i];\n",
       "      var s = document.createElement('script');\n",
       "      s.src = url;\n",
       "      s.async = false;\n",
       "      s.onreadystatechange = s.onload = function() {\n",
       "        window._bokeh_is_loading--;\n",
       "        if (window._bokeh_is_loading === 0) {\n",
       "          console.log(\"Bokeh: all BokehJS libraries loaded\");\n",
       "          run_callbacks()\n",
       "        }\n",
       "      };\n",
       "      s.onerror = function() {\n",
       "        console.warn(\"failed to load library \" + url);\n",
       "      };\n",
       "      console.log(\"Bokeh: injecting script tag for BokehJS library: \", url);\n",
       "      document.getElementsByTagName(\"head\")[0].appendChild(s);\n",
       "    }\n",
       "  };\n",
       "\n",
       "  var js_urls = ['https://cdn.pydata.org/bokeh/release/bokeh-0.12.1.min.js', 'https://cdn.pydata.org/bokeh/release/bokeh-widgets-0.12.1.min.js', 'https://cdn.pydata.org/bokeh/release/bokeh-compiler-0.12.1.min.js'];\n",
       "\n",
       "  var inline_js = [\n",
       "    function(Bokeh) {\n",
       "      Bokeh.set_log_level(\"info\");\n",
       "    },\n",
       "    \n",
       "    function(Bokeh) {\n",
       "      \n",
       "      Bokeh.$(\"#2498a659-6ddd-4d27-b858-af920197ff3f\").text(\"BokehJS successfully loaded\");\n",
       "      var kernel = Jupyter.notebook.kernel\n",
       "      if (kernel.execute !== undefined) {\n",
       "          kernel.execute(\"import bokeh.io; bokeh.io._nb_loaded = True\");\n",
       "      }\n",
       "    },\n",
       "    function(Bokeh) {\n",
       "      console.log(\"Bokeh: injecting CSS: https://cdn.pydata.org/bokeh/release/bokeh-0.12.1.min.css\");\n",
       "      Bokeh.embed.inject_css(\"https://cdn.pydata.org/bokeh/release/bokeh-0.12.1.min.css\");\n",
       "      console.log(\"Bokeh: injecting CSS: https://cdn.pydata.org/bokeh/release/bokeh-widgets-0.12.1.min.css\");\n",
       "      Bokeh.embed.inject_css(\"https://cdn.pydata.org/bokeh/release/bokeh-widgets-0.12.1.min.css\");\n",
       "    }\n",
       "  ];\n",
       "\n",
       "  function run_inline_js() {\n",
       "    for (var i = 0; i < inline_js.length; i++) {\n",
       "      inline_js[i](window.Bokeh);\n",
       "    }\n",
       "  }\n",
       "\n",
       "  if (window._bokeh_is_loading === 0) {\n",
       "    console.log(\"Bokeh: BokehJS loaded, going straight to plotting\");\n",
       "    run_inline_js();\n",
       "  } else {\n",
       "    load_libs(js_urls, function() {\n",
       "      console.log(\"Bokeh: BokehJS plotting callback run at\", now());\n",
       "      run_inline_js();\n",
       "    });\n",
       "  }\n",
       "}(this));"
      ]
     },
     "metadata": {},
     "output_type": "display_data"
    }
   ],
   "source": [
    "output_notebook()"
   ]
  },
  {
   "cell_type": "code",
   "execution_count": 3,
   "metadata": {
    "collapsed": true
   },
   "outputs": [],
   "source": [
    "## User defined variables\n",
    "\n",
    "PROPNAME = 'be50_340mm_pit'\n",
    "RUNNAME  = 'sweepvrpm'"
   ]
  },
  {
   "cell_type": "code",
   "execution_count": 33,
   "metadata": {
    "collapsed": false
   },
   "outputs": [],
   "source": [
    "df = pd.read_csv(os.path.join(PROPNAME,'{}.out'.format(RUNNAME)),comment='#')"
   ]
  },
  {
   "cell_type": "code",
   "execution_count": 19,
   "metadata": {
    "collapsed": true
   },
   "outputs": [],
   "source": [
    "drag = pd.read_csv('./nemodrag.dat', delimiter=' ')"
   ]
  },
  {
   "cell_type": "code",
   "execution_count": 37,
   "metadata": {
    "collapsed": false
   },
   "outputs": [
    {
     "data": {
      "text/html": [
       "\n",
       "\n",
       "    <div class=\"bk-root\">\n",
       "        <div class=\"plotdiv\" id=\"b1deb07f-c490-4e35-9af5-3ddd9f48f592\"></div>\n",
       "    </div>\n",
       "<script type=\"text/javascript\">\n",
       "  \n",
       "  (function(global) {\n",
       "    function now() {\n",
       "      return new Date();\n",
       "    }\n",
       "  \n",
       "    var force = \"\";\n",
       "  \n",
       "    if (typeof (window._bokeh_onload_callbacks) === \"undefined\" || force !== \"\") {\n",
       "      window._bokeh_onload_callbacks = [];\n",
       "      window._bokeh_is_loading = undefined;\n",
       "    }\n",
       "  \n",
       "    function run_callbacks() {\n",
       "      window._bokeh_onload_callbacks.forEach(function(callback) { callback() });\n",
       "      delete window._bokeh_onload_callbacks\n",
       "      console.info(\"Bokeh: all callbacks have finished\");\n",
       "    }\n",
       "  \n",
       "    function load_libs(js_urls, callback) {\n",
       "      window._bokeh_onload_callbacks.push(callback);\n",
       "      if (window._bokeh_is_loading > 0) {\n",
       "        console.log(\"Bokeh: BokehJS is being loaded, scheduling callback at\", now());\n",
       "        return null;\n",
       "      }\n",
       "      if (js_urls == null || js_urls.length === 0) {\n",
       "        run_callbacks();\n",
       "        return null;\n",
       "      }\n",
       "      console.log(\"Bokeh: BokehJS not loaded, scheduling load and callback at\", now());\n",
       "      window._bokeh_is_loading = js_urls.length;\n",
       "      for (var i = 0; i < js_urls.length; i++) {\n",
       "        var url = js_urls[i];\n",
       "        var s = document.createElement('script');\n",
       "        s.src = url;\n",
       "        s.async = false;\n",
       "        s.onreadystatechange = s.onload = function() {\n",
       "          window._bokeh_is_loading--;\n",
       "          if (window._bokeh_is_loading === 0) {\n",
       "            console.log(\"Bokeh: all BokehJS libraries loaded\");\n",
       "            run_callbacks()\n",
       "          }\n",
       "        };\n",
       "        s.onerror = function() {\n",
       "          console.warn(\"failed to load library \" + url);\n",
       "        };\n",
       "        console.log(\"Bokeh: injecting script tag for BokehJS library: \", url);\n",
       "        document.getElementsByTagName(\"head\")[0].appendChild(s);\n",
       "      }\n",
       "    };var element = document.getElementById(\"b1deb07f-c490-4e35-9af5-3ddd9f48f592\");\n",
       "    if (element == null) {\n",
       "      console.log(\"Bokeh: ERROR: autoload.js configured with elementid 'b1deb07f-c490-4e35-9af5-3ddd9f48f592' but no matching script tag was found. \")\n",
       "      return false;\n",
       "    }\n",
       "  \n",
       "    var js_urls = [];\n",
       "  \n",
       "    var inline_js = [\n",
       "      function(Bokeh) {\n",
       "        Bokeh.$(function() {\n",
       "            var docs_json = {\"9db425f7-9d6e-4406-ba8c-06460b2f133a\":{\"roots\":{\"references\":[{\"attributes\":{},\"id\":\"b8bd07db-8090-4f46-9047-9d90b206a881\",\"type\":\"BasicTicker\"},{\"attributes\":{\"line_color\":{\"value\":\"red\"},\"x\":{\"field\":\"x\"},\"y\":{\"field\":\"y\"}},\"id\":\"ac42f427-2cdc-404b-8851-18d264afe1c6\",\"type\":\"Line\"},{\"attributes\":{\"active_drag\":\"auto\",\"active_scroll\":\"auto\",\"active_tap\":\"auto\",\"tools\":[{\"id\":\"4b05a3f3-27e1-4698-9e43-4dbd133bd754\",\"type\":\"PanTool\"},{\"id\":\"0b6489c5-01cb-4abe-8dc8-9a1f616276ae\",\"type\":\"WheelZoomTool\"},{\"id\":\"3c22c994-0f38-4bbc-887a-8dd403271c94\",\"type\":\"BoxZoomTool\"},{\"id\":\"b20d1931-dba0-46c0-b761-989670edf524\",\"type\":\"SaveTool\"},{\"id\":\"67539882-8037-48ce-94df-df26722a30c6\",\"type\":\"ResetTool\"},{\"id\":\"a3e5adfb-c40c-4f0e-9f7f-e722777c5640\",\"type\":\"HelpTool\"}]},\"id\":\"ae326fd5-9d27-4d71-be9d-dbc3ce09659f\",\"type\":\"Toolbar\"},{\"attributes\":{\"fill_color\":{\"value\":\"firebrick\"},\"line_color\":{\"value\":\"firebrick\"},\"x\":{\"field\":\"x\"},\"y\":{\"field\":\"y\"}},\"id\":\"335b9e1a-5b7b-4c35-a15f-98dc994a90d3\",\"type\":\"Circle\"},{\"attributes\":{\"callback\":null,\"column_names\":[\"y\",\"x\"],\"data\":{\"x\":[0.1,0.5,0.75,1.0,1.25,1.5,1.75,2.0,2.25,2.5,2.75,3.0,3.25,3.5,3.75,4.0,4.25,4.5,4.75,5.0,5.25,5.5,5.75,6.0,6.25,6.5,6.75,7.0],\"y\":[28.467,111.22399999999999,223.137,237.813,250.075,263.376,280.719,304.069,334.721,377.001,430.76,475.475,504.76199999999994,515.566,510.7,497.491,479.366,456.949,429.108,394.394,351.964,302.58799999999997,246.16400000000002,171.65200000000002,91.814,4.918,-90.111,-177.985]}},\"id\":\"428fc1c4-657e-438f-8bf3-7097ca31c4b7\",\"type\":\"ColumnDataSource\"},{\"attributes\":{\"plot\":{\"id\":\"b7ad4440-e23d-466f-8722-b642ef641664\",\"subtype\":\"Figure\",\"type\":\"Plot\"},\"ticker\":{\"id\":\"b8bd07db-8090-4f46-9047-9d90b206a881\",\"type\":\"BasicTicker\"}},\"id\":\"5a7ad511-1f8c-495e-8d28-e85b47669f9d\",\"type\":\"Grid\"},{\"attributes\":{\"line_alpha\":{\"value\":0.1},\"line_color\":{\"value\":\"#1f77b4\"},\"line_width\":{\"value\":2},\"x\":{\"field\":\"x\"},\"y\":{\"field\":\"y\"}},\"id\":\"2dc0424d-a524-46a2-a46e-3c6ebe661d24\",\"type\":\"Line\"},{\"attributes\":{\"callback\":null,\"column_names\":[\"y\",\"x\"],\"data\":{\"x\":[1,7],\"y\":[250,250]}},\"id\":\"953206eb-af5f-4cc1-b7c7-82c1e97ed0b5\",\"type\":\"ColumnDataSource\"},{\"attributes\":{\"plot\":{\"id\":\"b7ad4440-e23d-466f-8722-b642ef641664\",\"subtype\":\"Figure\",\"type\":\"Plot\"}},\"id\":\"a3e5adfb-c40c-4f0e-9f7f-e722777c5640\",\"type\":\"HelpTool\"},{\"attributes\":{\"data_source\":{\"id\":\"dab3a3ab-a95b-4ede-a22e-9debfb36d2db\",\"type\":\"ColumnDataSource\"},\"glyph\":{\"id\":\"854496d3-fd18-4ed5-bfef-c2bd40be39ff\",\"type\":\"Circle\"},\"hover_glyph\":null,\"nonselection_glyph\":{\"id\":\"3759efb1-3946-4e81-b764-3fae26b1de24\",\"type\":\"Circle\"},\"selection_glyph\":null,\"y_range_name\":\"y_right\"},\"id\":\"52c404d6-afcc-4497-9a18-f0855b47a145\",\"type\":\"GlyphRenderer\"},{\"attributes\":{},\"id\":\"be269523-f184-4876-978d-2a210929255c\",\"type\":\"BasicTickFormatter\"},{\"attributes\":{\"line_alpha\":{\"value\":0.1},\"line_color\":{\"value\":\"#1f77b4\"},\"x\":{\"field\":\"x\"},\"y\":{\"field\":\"y\"}},\"id\":\"7e9a47de-f66f-4dca-84ad-36889e379c15\",\"type\":\"Line\"},{\"attributes\":{\"formatter\":{\"id\":\"55232bc4-3c4f-41b7-8054-78088785b976\",\"type\":\"BasicTickFormatter\"},\"plot\":{\"id\":\"b7ad4440-e23d-466f-8722-b642ef641664\",\"subtype\":\"Figure\",\"type\":\"Plot\"},\"ticker\":{\"id\":\"35ce705d-9033-4d03-b8e3-08972b5cb470\",\"type\":\"BasicTicker\"}},\"id\":\"915bacdb-3816-4945-86e7-8c14b25cade7\",\"type\":\"LinearAxis\"},{\"attributes\":{},\"id\":\"bfe26e44-3398-4b9c-8135-d33fd47bc823\",\"type\":\"ToolEvents\"},{\"attributes\":{\"callback\":null,\"column_names\":[\"y\",\"x\"],\"data\":{\"x\":[0.1,0.5,0.75,1.0,1.25,1.5,1.75,2.0,2.25,2.5,2.75,3.0,3.25,3.5,3.75,4.0,4.25,4.5,4.75,5.0,5.25,5.5,5.75,6.0,6.25,6.5,6.75,7.0],\"y\":[4.374,18.846,40.21,43.65,46.723,50.482,55.356,61.531000000000006,72.536,85.396,89.742,89.303,84.787,78.59,71.911,64.889,57.262,48.841,39.56,29.671,17.566,5.069,-8.538,-24.228,-37.531,-47.74,-55.445,-64.278]}},\"id\":\"80f77d01-3647-4314-a147-b9f09f15bc01\",\"type\":\"ColumnDataSource\"},{\"attributes\":{\"data_source\":{\"id\":\"953206eb-af5f-4cc1-b7c7-82c1e97ed0b5\",\"type\":\"ColumnDataSource\"},\"glyph\":{\"id\":\"9d8c871e-eb99-42b9-a2ae-a002b15ce20f\",\"type\":\"Line\"},\"hover_glyph\":null,\"nonselection_glyph\":{\"id\":\"7b8ca814-f846-4e31-95b0-d578a6f658f5\",\"type\":\"Line\"},\"selection_glyph\":null,\"y_range_name\":\"y_right\"},\"id\":\"176aac3d-5dde-4bc6-ba66-9315059d8af9\",\"type\":\"GlyphRenderer\"},{\"attributes\":{\"data_source\":{\"id\":\"e6587f12-6ac1-43fb-bb76-e030e379f336\",\"type\":\"ColumnDataSource\"},\"glyph\":{\"id\":\"f67c38c0-88b2-4f31-9950-c179dc526aea\",\"type\":\"Line\"},\"hover_glyph\":null,\"nonselection_glyph\":{\"id\":\"7e9a47de-f66f-4dca-84ad-36889e379c15\",\"type\":\"Line\"},\"selection_glyph\":null},\"id\":\"6af00e92-5baf-4375-acf9-b97d3d5ff4e2\",\"type\":\"GlyphRenderer\"},{\"attributes\":{},\"id\":\"35ce705d-9033-4d03-b8e3-08972b5cb470\",\"type\":\"BasicTicker\"},{\"attributes\":{\"data_source\":{\"id\":\"428fc1c4-657e-438f-8bf3-7097ca31c4b7\",\"type\":\"ColumnDataSource\"},\"glyph\":{\"id\":\"335b9e1a-5b7b-4c35-a15f-98dc994a90d3\",\"type\":\"Circle\"},\"hover_glyph\":null,\"nonselection_glyph\":{\"id\":\"e83de4b7-a90f-4b6c-8cf6-9e52d537cb25\",\"type\":\"Circle\"},\"selection_glyph\":null,\"y_range_name\":\"y_right\"},\"id\":\"9038ee3d-8d89-43e7-8249-0d5a32628f6e\",\"type\":\"GlyphRenderer\"},{\"attributes\":{\"line_alpha\":{\"value\":0.1},\"line_color\":{\"value\":\"#1f77b4\"},\"x\":{\"field\":\"x\"},\"y\":{\"field\":\"y\"}},\"id\":\"5fcade3e-a2c4-4f2a-b470-51716e65ff81\",\"type\":\"Line\"},{\"attributes\":{\"data_source\":{\"id\":\"60b48af6-35b6-4339-9727-003201fcfc47\",\"type\":\"ColumnDataSource\"},\"glyph\":{\"id\":\"2a094a06-a4a9-4c07-a45e-541be320ff0f\",\"type\":\"Circle\"},\"hover_glyph\":null,\"nonselection_glyph\":{\"id\":\"67cfa7e4-ab95-4c7b-ae1f-7cb005f233ed\",\"type\":\"Circle\"},\"selection_glyph\":null},\"id\":\"43ec378b-f5f7-436b-8f74-de5a674b86ab\",\"type\":\"GlyphRenderer\"},{\"attributes\":{\"fill_alpha\":{\"value\":0.1},\"fill_color\":{\"value\":\"#1f77b4\"},\"line_alpha\":{\"value\":0.1},\"line_color\":{\"value\":\"#1f77b4\"},\"x\":{\"field\":\"x\"},\"y\":{\"field\":\"y\"}},\"id\":\"416d75c0-cb0b-4d1f-987b-8cf23dee6ffc\",\"type\":\"Circle\"},{\"attributes\":{\"data_source\":{\"id\":\"80f77d01-3647-4314-a147-b9f09f15bc01\",\"type\":\"ColumnDataSource\"},\"glyph\":{\"id\":\"9e65d714-2ef4-4246-8600-82d4b42d2b19\",\"type\":\"Line\"},\"hover_glyph\":null,\"nonselection_glyph\":{\"id\":\"a4ad09ac-ad11-4c71-88a6-758579cc741b\",\"type\":\"Line\"},\"selection_glyph\":null},\"id\":\"23cc5025-d81e-402e-9190-4fff410f0e54\",\"type\":\"GlyphRenderer\"},{\"attributes\":{\"data_source\":{\"id\":\"f0253190-bcda-4a5b-a19f-6efcaca0638c\",\"type\":\"ColumnDataSource\"},\"glyph\":{\"id\":\"cc3b762b-00c0-4709-b801-3211d73359e6\",\"type\":\"Circle\"},\"hover_glyph\":null,\"nonselection_glyph\":{\"id\":\"c3c9c872-cf38-4e1c-829b-0690fdcc2a02\",\"type\":\"Circle\"},\"selection_glyph\":null},\"id\":\"64f024ec-33dd-4970-a36e-ee24a3ffc5f5\",\"type\":\"GlyphRenderer\"},{\"attributes\":{\"plot\":{\"id\":\"b7ad4440-e23d-466f-8722-b642ef641664\",\"subtype\":\"Figure\",\"type\":\"Plot\"}},\"id\":\"0b6489c5-01cb-4abe-8dc8-9a1f616276ae\",\"type\":\"WheelZoomTool\"},{\"attributes\":{\"data_source\":{\"id\":\"91c085fe-3056-4815-a14b-68a9ad29ce7f\",\"type\":\"ColumnDataSource\"},\"glyph\":{\"id\":\"ac42f427-2cdc-404b-8851-18d264afe1c6\",\"type\":\"Line\"},\"hover_glyph\":null,\"nonselection_glyph\":{\"id\":\"27ad51f4-25df-4ba7-801d-487bfb2ce064\",\"type\":\"Line\"},\"selection_glyph\":null,\"y_range_name\":\"y_right\"},\"id\":\"ec8e8acb-6c28-4320-bf13-6d934dda251e\",\"type\":\"GlyphRenderer\"},{\"attributes\":{\"bottom_units\":\"screen\",\"fill_alpha\":{\"value\":0.5},\"fill_color\":{\"value\":\"lightgrey\"},\"left_units\":\"screen\",\"level\":\"overlay\",\"line_alpha\":{\"value\":1.0},\"line_color\":{\"value\":\"black\"},\"line_dash\":[4,4],\"line_width\":{\"value\":2},\"plot\":null,\"render_mode\":\"css\",\"right_units\":\"screen\",\"top_units\":\"screen\"},\"id\":\"c29344a7-efe5-47ce-826b-8113629bf191\",\"type\":\"BoxAnnotation\"},{\"attributes\":{\"callback\":null,\"column_names\":[\"y\",\"x\"],\"data\":{\"x\":[0.1,0.5,0.75,1.0,1.25,1.5,1.75,2.0,2.25,2.5,2.75,3.0,3.25,3.5,3.75,4.0,4.25,4.5,4.75,5.0,5.25,5.5,5.75,6.0,6.25,6.5,6.75,7.0],\"y\":[3.775,23.68,35.409,38.418,41.43,45.318000000000005,50.45,58.369,70.899,76.821,77.285,73.482,67.764,61.551,54.978,47.756,39.717,31.054000000000002,20.912,9.4,-2.728,-16.602999999999998,-30.070999999999998,-39.9,-47.246,-55.424,-64.251,-73.038]}},\"id\":\"60b48af6-35b6-4339-9727-003201fcfc47\",\"type\":\"ColumnDataSource\"},{\"attributes\":{\"line_color\":{\"value\":\"blue\"},\"x\":{\"field\":\"x\"},\"y\":{\"field\":\"y\"}},\"id\":\"b8b55348-6927-4bc7-a132-0dc4599bdd7a\",\"type\":\"Line\"},{\"attributes\":{\"plot\":null,\"text\":null},\"id\":\"2b8557f9-656b-4fd3-9067-229234e97d70\",\"type\":\"Title\"},{\"attributes\":{\"fill_alpha\":{\"value\":0.1},\"fill_color\":{\"value\":\"#1f77b4\"},\"line_alpha\":{\"value\":0.1},\"line_color\":{\"value\":\"#1f77b4\"},\"x\":{\"field\":\"x\"},\"y\":{\"field\":\"y\"}},\"id\":\"3759efb1-3946-4e81-b764-3fae26b1de24\",\"type\":\"Circle\"},{\"attributes\":{\"line_alpha\":{\"value\":0.1},\"line_color\":{\"value\":\"#1f77b4\"},\"x\":{\"field\":\"x\"},\"y\":{\"field\":\"y\"}},\"id\":\"8003c7e4-451c-4c3b-b164-720db2ce5660\",\"type\":\"Line\"},{\"attributes\":{\"fill_alpha\":{\"value\":0.1},\"fill_color\":{\"value\":\"#1f77b4\"},\"line_alpha\":{\"value\":0.1},\"line_color\":{\"value\":\"#1f77b4\"},\"x\":{\"field\":\"x\"},\"y\":{\"field\":\"y\"}},\"id\":\"e83de4b7-a90f-4b6c-8cf6-9e52d537cb25\",\"type\":\"Circle\"},{\"attributes\":{\"callback\":null,\"column_names\":[\"y\",\"x\"],\"data\":{\"x\":[1,7],\"y\":[350,350]}},\"id\":\"7937126c-e16a-4dcc-8c0e-ad05e3ea8aa6\",\"type\":\"ColumnDataSource\"},{\"attributes\":{\"callback\":null},\"id\":\"b21780e5-9cac-430a-8680-4969a8373cd1\",\"type\":\"DataRange1d\"},{\"attributes\":{\"data_source\":{\"id\":\"7937126c-e16a-4dcc-8c0e-ad05e3ea8aa6\",\"type\":\"ColumnDataSource\"},\"glyph\":{\"id\":\"0728942f-6ed1-46b0-b9d9-f0473ef3c75c\",\"type\":\"Line\"},\"hover_glyph\":null,\"nonselection_glyph\":{\"id\":\"5b4d6bae-3fd2-4c59-a727-7e1c7f230b1c\",\"type\":\"Line\"},\"selection_glyph\":null,\"y_range_name\":\"y_right\"},\"id\":\"aecf6673-361b-4184-bcad-98c70b2f9791\",\"type\":\"GlyphRenderer\"},{\"attributes\":{\"data_source\":{\"id\":\"d5490fc1-1094-42e4-8da6-8c6e95af7ca3\",\"type\":\"ColumnDataSource\"},\"glyph\":{\"id\":\"8ba5a0a4-355e-4bf7-b59d-dcefa2ff1002\",\"type\":\"Circle\"},\"hover_glyph\":null,\"nonselection_glyph\":{\"id\":\"3c22035b-3208-403f-ace1-72e17fc1c4c1\",\"type\":\"Circle\"},\"selection_glyph\":null},\"id\":\"fbd468f1-91db-4863-ac68-eb3c6c42cb0e\",\"type\":\"GlyphRenderer\"},{\"attributes\":{\"line_alpha\":{\"value\":0.1},\"line_color\":{\"value\":\"#1f77b4\"},\"x\":{\"field\":\"x\"},\"y\":{\"field\":\"y\"}},\"id\":\"0f5147ee-fdd0-4c93-8be4-9d772ca6b0ab\",\"type\":\"Line\"},{\"attributes\":{\"callback\":null,\"end\":700},\"id\":\"65a7acce-e137-4f1f-8aa6-8323f3a88b74\",\"type\":\"Range1d\"},{\"attributes\":{},\"id\":\"55232bc4-3c4f-41b7-8054-78088785b976\",\"type\":\"BasicTickFormatter\"},{\"attributes\":{\"callback\":null,\"column_names\":[\"y\",\"x\"],\"data\":{\"x\":[0.1,0.5,0.75,1.0,1.25,1.5,1.75,2.0,2.25,2.5,2.75,3.0,3.25,3.5,3.75,4.0,4.25,4.5,4.75,5.0,5.25,5.5,5.75,6.0,6.25,6.5,6.75,7.0],\"y\":[5.702999999999999,23.691999999999997,50.456,54.917,58.461000000000006,62.141999999999996,66.643,72.301,79.249,90.867,106.15,115.156,117.67399999999999,115.654,109.785,102.649,95.03200000000001,87.103,78.638,69.41,59.358999999999995,48.626000000000005,36.916,22.943,8.679,-6.569,-23.684,-41.086000000000006]}},\"id\":\"e6587f12-6ac1-43fb-bb76-e030e379f336\",\"type\":\"ColumnDataSource\"},{\"attributes\":{\"line_color\":{\"value\":\"blue\"},\"x\":{\"field\":\"x\"},\"y\":{\"field\":\"y\"}},\"id\":\"f67c38c0-88b2-4f31-9950-c179dc526aea\",\"type\":\"Line\"},{\"attributes\":{\"line_alpha\":{\"value\":0.1},\"line_color\":{\"value\":\"#1f77b4\"},\"x\":{\"field\":\"x\"},\"y\":{\"field\":\"y\"}},\"id\":\"7b8ca814-f846-4e31-95b0-d578a6f658f5\",\"type\":\"Line\"},{\"attributes\":{\"overlay\":{\"id\":\"c29344a7-efe5-47ce-826b-8113629bf191\",\"type\":\"BoxAnnotation\"},\"plot\":{\"id\":\"b7ad4440-e23d-466f-8722-b642ef641664\",\"subtype\":\"Figure\",\"type\":\"Plot\"}},\"id\":\"3c22c994-0f38-4bbc-887a-8dd403271c94\",\"type\":\"BoxZoomTool\"},{\"attributes\":{\"plot\":{\"id\":\"b7ad4440-e23d-466f-8722-b642ef641664\",\"subtype\":\"Figure\",\"type\":\"Plot\"}},\"id\":\"b20d1931-dba0-46c0-b761-989670edf524\",\"type\":\"SaveTool\"},{\"attributes\":{\"formatter\":{\"id\":\"be269523-f184-4876-978d-2a210929255c\",\"type\":\"BasicTickFormatter\"},\"plot\":{\"id\":\"b7ad4440-e23d-466f-8722-b642ef641664\",\"subtype\":\"Figure\",\"type\":\"Plot\"},\"ticker\":{\"id\":\"1673e4d6-f419-4ca6-b26e-a66c818959b6\",\"type\":\"BasicTicker\"},\"y_range_name\":\"y_right\"},\"id\":\"d9da58b8-aa7c-4f1e-a350-713ef8925685\",\"type\":\"LinearAxis\"},{\"attributes\":{\"callback\":null,\"column_names\":[\"y\",\"x\"],\"data\":{\"x\":[0.1,0.5,0.75,1.0,1.25,1.5,1.75,2.0,2.25,2.5,2.75,3.0,3.25,3.5,3.75,4.0,4.25,4.5,4.75,5.0,5.25,5.5,5.75,6.0,6.25,6.5,6.75,7.0],\"y\":[5.702999999999999,23.691999999999997,50.456,54.917,58.461000000000006,62.141999999999996,66.643,72.301,79.249,90.867,106.15,115.156,117.67399999999999,115.654,109.785,102.649,95.03200000000001,87.103,78.638,69.41,59.358999999999995,48.626000000000005,36.916,22.943,8.679,-6.569,-23.684,-41.086000000000006]}},\"id\":\"d5490fc1-1094-42e4-8da6-8c6e95af7ca3\",\"type\":\"ColumnDataSource\"},{\"attributes\":{\"callback\":null,\"column_names\":[\"y\",\"x\"],\"data\":{\"x\":[0.1,0.5,0.75,1.0,1.25,1.5,1.75,2.0,2.25,2.5,2.75,3.0,3.25,3.5,3.75,4.0,4.25,4.5,4.75,5.0,5.25,5.5,5.75,6.0,6.25,6.5,6.75,7.0],\"y\":[19.112000000000002,76.66,154.012,164.111,173.67,186.18099999999998,203.702,227.65599999999998,262.077,303.43,331.11199999999997,344.481,343.04699999999997,333.28,319.186,301.214,278.13599999999997,248.722,212.095,171.132,114.993,53.668,-14.206,-87.73200000000001,-144.727,-181.81099999999998,-211.28900000000002,-254.08900000000003]}},\"id\":\"e90e1277-865a-4e15-a36a-e2c165f54716\",\"type\":\"ColumnDataSource\"},{\"attributes\":{\"below\":[{\"id\":\"7e6e7872-4595-4a11-9dd3-c7096cc2d490\",\"type\":\"LinearAxis\"}],\"extra_y_ranges\":{\"y_right\":{\"id\":\"65a7acce-e137-4f1f-8aa6-8323f3a88b74\",\"type\":\"Range1d\"}},\"left\":[{\"id\":\"915bacdb-3816-4945-86e7-8c14b25cade7\",\"type\":\"LinearAxis\"}],\"plot_height\":350,\"plot_width\":900,\"renderers\":[{\"id\":\"7e6e7872-4595-4a11-9dd3-c7096cc2d490\",\"type\":\"LinearAxis\"},{\"id\":\"5a7ad511-1f8c-495e-8d28-e85b47669f9d\",\"type\":\"Grid\"},{\"id\":\"915bacdb-3816-4945-86e7-8c14b25cade7\",\"type\":\"LinearAxis\"},{\"id\":\"8d61103c-ed61-4dd9-b8c4-69281ae7fdd8\",\"type\":\"Grid\"},{\"id\":\"c29344a7-efe5-47ce-826b-8113629bf191\",\"type\":\"BoxAnnotation\"},{\"id\":\"67512377-18b0-4ca1-ae98-77f849b091b9\",\"type\":\"GlyphRenderer\"},{\"id\":\"43ec378b-f5f7-436b-8f74-de5a674b86ab\",\"type\":\"GlyphRenderer\"},{\"id\":\"ec8e8acb-6c28-4320-bf13-6d934dda251e\",\"type\":\"GlyphRenderer\"},{\"id\":\"83d5a3f0-ba99-4af0-b33a-e8cbc52076ba\",\"type\":\"GlyphRenderer\"},{\"id\":\"23cc5025-d81e-402e-9190-4fff410f0e54\",\"type\":\"GlyphRenderer\"},{\"id\":\"64f024ec-33dd-4970-a36e-ee24a3ffc5f5\",\"type\":\"GlyphRenderer\"},{\"id\":\"610bc905-6c01-45ce-96cd-6096324c954f\",\"type\":\"GlyphRenderer\"},{\"id\":\"52c404d6-afcc-4497-9a18-f0855b47a145\",\"type\":\"GlyphRenderer\"},{\"id\":\"6af00e92-5baf-4375-acf9-b97d3d5ff4e2\",\"type\":\"GlyphRenderer\"},{\"id\":\"fbd468f1-91db-4863-ac68-eb3c6c42cb0e\",\"type\":\"GlyphRenderer\"},{\"id\":\"5a55fd83-10ba-459d-a52a-19aefc607210\",\"type\":\"GlyphRenderer\"},{\"id\":\"9038ee3d-8d89-43e7-8249-0d5a32628f6e\",\"type\":\"GlyphRenderer\"},{\"id\":\"a19890de-cecc-4fd4-b6a6-8cd9d5b51620\",\"type\":\"GlyphRenderer\"},{\"id\":\"176aac3d-5dde-4bc6-ba66-9315059d8af9\",\"type\":\"GlyphRenderer\"},{\"id\":\"aecf6673-361b-4184-bcad-98c70b2f9791\",\"type\":\"GlyphRenderer\"},{\"id\":\"d9da58b8-aa7c-4f1e-a350-713ef8925685\",\"type\":\"LinearAxis\"}],\"right\":[{\"id\":\"d9da58b8-aa7c-4f1e-a350-713ef8925685\",\"type\":\"LinearAxis\"}],\"title\":{\"id\":\"2b8557f9-656b-4fd3-9067-229234e97d70\",\"type\":\"Title\"},\"tool_events\":{\"id\":\"bfe26e44-3398-4b9c-8135-d33fd47bc823\",\"type\":\"ToolEvents\"},\"toolbar\":{\"id\":\"ae326fd5-9d27-4d71-be9d-dbc3ce09659f\",\"type\":\"Toolbar\"},\"toolbar_location\":\"above\",\"x_range\":{\"id\":\"b21780e5-9cac-430a-8680-4969a8373cd1\",\"type\":\"DataRange1d\"},\"y_range\":{\"id\":\"bd0eff60-962f-4448-8605-7c88d8457419\",\"type\":\"Range1d\"}},\"id\":\"b7ad4440-e23d-466f-8722-b642ef641664\",\"subtype\":\"Figure\",\"type\":\"Plot\"},{\"attributes\":{\"fill_color\":{\"value\":\"navy\"},\"line_color\":{\"value\":\"navy\"},\"x\":{\"field\":\"x\"},\"y\":{\"field\":\"y\"}},\"id\":\"2a094a06-a4a9-4c07-a45e-541be320ff0f\",\"type\":\"Circle\"},{\"attributes\":{\"callback\":null,\"column_names\":[\"y\",\"x\"],\"data\":{\"x\":[0.1,0.5,0.75,1.0,1.25,1.5,1.75,2.0,2.25,2.5,2.75,3.0,3.25,3.5,3.75,4.0,4.25,4.5,4.75,5.0,5.25,5.5,5.75,6.0,6.25,6.5,6.75,7.0],\"y\":[15.32,87.552,125.28200000000001,133.63,142.507,154.90200000000002,172.71400000000003,198.09599999999998,233.433,260.559,274.991,275.04200000000003,266.843,254.56799999999998,238.623,217.71,190.69799999999998,158.533,117.413,66.119,10.05,-52.398999999999994,-107.25399999999999,-141.125,-166.855,-203.438,-248.19299999999998,-294.624]}},\"id\":\"13b4558d-507f-4842-a142-a5ba134d8e06\",\"type\":\"ColumnDataSource\"},{\"attributes\":{\"line_alpha\":{\"value\":0.1},\"line_color\":{\"value\":\"#1f77b4\"},\"x\":{\"field\":\"x\"},\"y\":{\"field\":\"y\"}},\"id\":\"27ad51f4-25df-4ba7-801d-487bfb2ce064\",\"type\":\"Line\"},{\"attributes\":{},\"id\":\"1673e4d6-f419-4ca6-b26e-a66c818959b6\",\"type\":\"BasicTicker\"},{\"attributes\":{\"fill_color\":{\"value\":\"firebrick\"},\"line_color\":{\"value\":\"firebrick\"},\"x\":{\"field\":\"x\"},\"y\":{\"field\":\"y\"}},\"id\":\"854496d3-fd18-4ed5-bfef-c2bd40be39ff\",\"type\":\"Circle\"},{\"attributes\":{\"callback\":null,\"end\":200},\"id\":\"bd0eff60-962f-4448-8605-7c88d8457419\",\"type\":\"Range1d\"},{\"attributes\":{\"data_source\":{\"id\":\"464d238f-cc58-4604-ba79-240eb46d6e47\",\"type\":\"ColumnDataSource\"},\"glyph\":{\"id\":\"d3318929-9f9f-465e-a363-c29c314b8044\",\"type\":\"Line\"},\"hover_glyph\":null,\"nonselection_glyph\":{\"id\":\"2dc0424d-a524-46a2-a46e-3c6ebe661d24\",\"type\":\"Line\"},\"selection_glyph\":null},\"id\":\"a19890de-cecc-4fd4-b6a6-8cd9d5b51620\",\"type\":\"GlyphRenderer\"},{\"attributes\":{\"plot\":{\"id\":\"b7ad4440-e23d-466f-8722-b642ef641664\",\"subtype\":\"Figure\",\"type\":\"Plot\"}},\"id\":\"4b05a3f3-27e1-4698-9e43-4dbd133bd754\",\"type\":\"PanTool\"},{\"attributes\":{\"data_source\":{\"id\":\"13b4558d-507f-4842-a142-a5ba134d8e06\",\"type\":\"ColumnDataSource\"},\"glyph\":{\"id\":\"1ca5a5a9-bf65-4658-a058-1a3dd6261d89\",\"type\":\"Circle\"},\"hover_glyph\":null,\"nonselection_glyph\":{\"id\":\"416d75c0-cb0b-4d1f-987b-8cf23dee6ffc\",\"type\":\"Circle\"},\"selection_glyph\":null,\"y_range_name\":\"y_right\"},\"id\":\"83d5a3f0-ba99-4af0-b33a-e8cbc52076ba\",\"type\":\"GlyphRenderer\"},{\"attributes\":{\"callback\":null,\"column_names\":[\"y\",\"x\"],\"data\":{\"x\":[0.1,0.5,0.75,1.0,1.25,1.5,1.75,2.0,2.25,2.5,2.75,3.0,3.25,3.5,3.75,4.0,4.25,4.5,4.75,5.0,5.25,5.5,5.75,6.0,6.25,6.5,6.75,7.0],\"y\":[4.374,18.846,40.21,43.65,46.723,50.482,55.356,61.531000000000006,72.536,85.396,89.742,89.303,84.787,78.59,71.911,64.889,57.262,48.841,39.56,29.671,17.566,5.069,-8.538,-24.228,-37.531,-47.74,-55.445,-64.278]}},\"id\":\"f0253190-bcda-4a5b-a19f-6efcaca0638c\",\"type\":\"ColumnDataSource\"},{\"attributes\":{\"line_color\":{\"value\":\"red\"},\"x\":{\"field\":\"x\"},\"y\":{\"field\":\"y\"}},\"id\":\"11dbaba3-4335-4953-bacd-eda2d54485b9\",\"type\":\"Line\"},{\"attributes\":{\"callback\":null,\"column_names\":[\"y\",\"x\"],\"data\":{\"x\":[0.1,0.5,0.75,1.0,1.25,1.5,1.75,2.0,2.25,2.5,2.75,3.0,3.25,3.5,3.75,4.0,4.25,4.5,4.75,5.0,5.25,5.5,5.75,6.0,6.25,6.5,6.75,7.0],\"y\":[3.775,23.68,35.409,38.418,41.43,45.318000000000005,50.45,58.369,70.899,76.821,77.285,73.482,67.764,61.551,54.978,47.756,39.717,31.054000000000002,20.912,9.4,-2.728,-16.602999999999998,-30.070999999999998,-39.9,-47.246,-55.424,-64.251,-73.038]}},\"id\":\"abe72443-e212-462d-a4f3-25763e6cc272\",\"type\":\"ColumnDataSource\"},{\"attributes\":{\"line_alpha\":{\"value\":0.1},\"line_color\":{\"value\":\"#1f77b4\"},\"x\":{\"field\":\"x\"},\"y\":{\"field\":\"y\"}},\"id\":\"a4ad09ac-ad11-4c71-88a6-758579cc741b\",\"type\":\"Line\"},{\"attributes\":{\"fill_color\":{\"value\":\"navy\"},\"line_color\":{\"value\":\"navy\"},\"x\":{\"field\":\"x\"},\"y\":{\"field\":\"y\"}},\"id\":\"cc3b762b-00c0-4709-b801-3211d73359e6\",\"type\":\"Circle\"},{\"attributes\":{\"callback\":null,\"column_names\":[\"y\",\"x\"],\"data\":{\"x\":[0.1,0.5,0.75,1.0,1.25,1.5,1.75,2.0,2.25,2.5,2.75,3.0,3.25,3.5,3.75,4.0,4.25,4.5,4.75,5.0,5.25,5.5,5.75,6.0,6.25,6.5,6.75,7.0],\"y\":[19.112000000000002,76.66,154.012,164.111,173.67,186.18099999999998,203.702,227.65599999999998,262.077,303.43,331.11199999999997,344.481,343.04699999999997,333.28,319.186,301.214,278.13599999999997,248.722,212.095,171.132,114.993,53.668,-14.206,-87.73200000000001,-144.727,-181.81099999999998,-211.28900000000002,-254.08900000000003]}},\"id\":\"dab3a3ab-a95b-4ede-a22e-9debfb36d2db\",\"type\":\"ColumnDataSource\"},{\"attributes\":{\"fill_color\":{\"value\":\"firebrick\"},\"line_color\":{\"value\":\"firebrick\"},\"x\":{\"field\":\"x\"},\"y\":{\"field\":\"y\"}},\"id\":\"1ca5a5a9-bf65-4658-a058-1a3dd6261d89\",\"type\":\"Circle\"},{\"attributes\":{\"callback\":null,\"column_names\":[\"y\",\"x\"],\"data\":{\"x\":[1.0,1.25,1.5,1.75,2.0,2.25,2.5,2.75,3.0,3.3,3.6,3.9,4.2,4.5,4.8,5.1,5.4,5.7,6.0,6.3,6.6,6.9],\"y\":[26.055270424,33.3771957918,50.9467823525,54.3887301059,64.7691090523,73.76423919140001,79.0899905235,82.4049030483,85.607366766,64.5179641675,60.0162155513,58.2036473365,58.29640856060001,59.7698400442,62.3661785668,65.97891860680001,70.6173110321,76.48913889880001,83.5841169216,94.3549794593,111.269788547,139.754996509]}},\"id\":\"464d238f-cc58-4604-ba79-240eb46d6e47\",\"type\":\"ColumnDataSource\"},{\"attributes\":{\"data_source\":{\"id\":\"abe72443-e212-462d-a4f3-25763e6cc272\",\"type\":\"ColumnDataSource\"},\"glyph\":{\"id\":\"b8b55348-6927-4bc7-a132-0dc4599bdd7a\",\"type\":\"Line\"},\"hover_glyph\":null,\"nonselection_glyph\":{\"id\":\"0f5147ee-fdd0-4c93-8be4-9d772ca6b0ab\",\"type\":\"Line\"},\"selection_glyph\":null},\"id\":\"67512377-18b0-4ca1-ae98-77f849b091b9\",\"type\":\"GlyphRenderer\"},{\"attributes\":{\"fill_alpha\":{\"value\":0.1},\"fill_color\":{\"value\":\"#1f77b4\"},\"line_alpha\":{\"value\":0.1},\"line_color\":{\"value\":\"#1f77b4\"},\"x\":{\"field\":\"x\"},\"y\":{\"field\":\"y\"}},\"id\":\"67cfa7e4-ab95-4c7b-ae1f-7cb005f233ed\",\"type\":\"Circle\"},{\"attributes\":{\"fill_color\":{\"value\":\"navy\"},\"line_color\":{\"value\":\"navy\"},\"x\":{\"field\":\"x\"},\"y\":{\"field\":\"y\"}},\"id\":\"8ba5a0a4-355e-4bf7-b59d-dcefa2ff1002\",\"type\":\"Circle\"},{\"attributes\":{\"line_color\":{\"value\":\"blue\"},\"x\":{\"field\":\"x\"},\"y\":{\"field\":\"y\"}},\"id\":\"9e65d714-2ef4-4246-8600-82d4b42d2b19\",\"type\":\"Line\"},{\"attributes\":{\"callback\":null,\"column_names\":[\"y\",\"x\"],\"data\":{\"x\":[0.1,0.5,0.75,1.0,1.25,1.5,1.75,2.0,2.25,2.5,2.75,3.0,3.25,3.5,3.75,4.0,4.25,4.5,4.75,5.0,5.25,5.5,5.75,6.0,6.25,6.5,6.75,7.0],\"y\":[28.467,111.22399999999999,223.137,237.813,250.075,263.376,280.719,304.069,334.721,377.001,430.76,475.475,504.76199999999994,515.566,510.7,497.491,479.366,456.949,429.108,394.394,351.964,302.58799999999997,246.16400000000002,171.65200000000002,91.814,4.918,-90.111,-177.985]}},\"id\":\"d650c5b9-1f7d-4997-85be-65481793b7c4\",\"type\":\"ColumnDataSource\"},{\"attributes\":{\"dimension\":1,\"plot\":{\"id\":\"b7ad4440-e23d-466f-8722-b642ef641664\",\"subtype\":\"Figure\",\"type\":\"Plot\"},\"ticker\":{\"id\":\"35ce705d-9033-4d03-b8e3-08972b5cb470\",\"type\":\"BasicTicker\"}},\"id\":\"8d61103c-ed61-4dd9-b8c4-69281ae7fdd8\",\"type\":\"Grid\"},{\"attributes\":{\"line_color\":{\"value\":\"red\"},\"x\":{\"field\":\"x\"},\"y\":{\"field\":\"y\"}},\"id\":\"770955be-acea-4298-acf4-77d2d15c9d6d\",\"type\":\"Line\"},{\"attributes\":{\"fill_alpha\":{\"value\":0.1},\"fill_color\":{\"value\":\"#1f77b4\"},\"line_alpha\":{\"value\":0.1},\"line_color\":{\"value\":\"#1f77b4\"},\"x\":{\"field\":\"x\"},\"y\":{\"field\":\"y\"}},\"id\":\"3c22035b-3208-403f-ace1-72e17fc1c4c1\",\"type\":\"Circle\"},{\"attributes\":{\"fill_alpha\":{\"value\":0.1},\"fill_color\":{\"value\":\"#1f77b4\"},\"line_alpha\":{\"value\":0.1},\"line_color\":{\"value\":\"#1f77b4\"},\"x\":{\"field\":\"x\"},\"y\":{\"field\":\"y\"}},\"id\":\"c3c9c872-cf38-4e1c-829b-0690fdcc2a02\",\"type\":\"Circle\"},{\"attributes\":{\"data_source\":{\"id\":\"d650c5b9-1f7d-4997-85be-65481793b7c4\",\"type\":\"ColumnDataSource\"},\"glyph\":{\"id\":\"11dbaba3-4335-4953-bacd-eda2d54485b9\",\"type\":\"Line\"},\"hover_glyph\":null,\"nonselection_glyph\":{\"id\":\"5fcade3e-a2c4-4f2a-b470-51716e65ff81\",\"type\":\"Line\"},\"selection_glyph\":null,\"y_range_name\":\"y_right\"},\"id\":\"5a55fd83-10ba-459d-a52a-19aefc607210\",\"type\":\"GlyphRenderer\"},{\"attributes\":{\"line_color\":{\"value\":\"green\"},\"x\":{\"field\":\"x\"},\"y\":{\"field\":\"y\"}},\"id\":\"9d8c871e-eb99-42b9-a2ae-a002b15ce20f\",\"type\":\"Line\"},{\"attributes\":{\"data_source\":{\"id\":\"e90e1277-865a-4e15-a36a-e2c165f54716\",\"type\":\"ColumnDataSource\"},\"glyph\":{\"id\":\"770955be-acea-4298-acf4-77d2d15c9d6d\",\"type\":\"Line\"},\"hover_glyph\":null,\"nonselection_glyph\":{\"id\":\"8003c7e4-451c-4c3b-b164-720db2ce5660\",\"type\":\"Line\"},\"selection_glyph\":null,\"y_range_name\":\"y_right\"},\"id\":\"610bc905-6c01-45ce-96cd-6096324c954f\",\"type\":\"GlyphRenderer\"},{\"attributes\":{},\"id\":\"eff22cdf-a385-4ec5-98d0-f3a7f75fdb67\",\"type\":\"BasicTickFormatter\"},{\"attributes\":{\"callback\":null,\"column_names\":[\"y\",\"x\"],\"data\":{\"x\":[0.1,0.5,0.75,1.0,1.25,1.5,1.75,2.0,2.25,2.5,2.75,3.0,3.25,3.5,3.75,4.0,4.25,4.5,4.75,5.0,5.25,5.5,5.75,6.0,6.25,6.5,6.75,7.0],\"y\":[15.32,87.552,125.28200000000001,133.63,142.507,154.90200000000002,172.71400000000003,198.09599999999998,233.433,260.559,274.991,275.04200000000003,266.843,254.56799999999998,238.623,217.71,190.69799999999998,158.533,117.413,66.119,10.05,-52.398999999999994,-107.25399999999999,-141.125,-166.855,-203.438,-248.19299999999998,-294.624]}},\"id\":\"91c085fe-3056-4815-a14b-68a9ad29ce7f\",\"type\":\"ColumnDataSource\"},{\"attributes\":{\"line_color\":{\"value\":\"green\"},\"x\":{\"field\":\"x\"},\"y\":{\"field\":\"y\"}},\"id\":\"0728942f-6ed1-46b0-b9d9-f0473ef3c75c\",\"type\":\"Line\"},{\"attributes\":{\"line_alpha\":{\"value\":0.1},\"line_color\":{\"value\":\"#1f77b4\"},\"x\":{\"field\":\"x\"},\"y\":{\"field\":\"y\"}},\"id\":\"5b4d6bae-3fd2-4c59-a727-7e1c7f230b1c\",\"type\":\"Line\"},{\"attributes\":{\"plot\":{\"id\":\"b7ad4440-e23d-466f-8722-b642ef641664\",\"subtype\":\"Figure\",\"type\":\"Plot\"}},\"id\":\"67539882-8037-48ce-94df-df26722a30c6\",\"type\":\"ResetTool\"},{\"attributes\":{\"line_width\":{\"value\":2},\"x\":{\"field\":\"x\"},\"y\":{\"field\":\"y\"}},\"id\":\"d3318929-9f9f-465e-a363-c29c314b8044\",\"type\":\"Line\"},{\"attributes\":{\"formatter\":{\"id\":\"eff22cdf-a385-4ec5-98d0-f3a7f75fdb67\",\"type\":\"BasicTickFormatter\"},\"plot\":{\"id\":\"b7ad4440-e23d-466f-8722-b642ef641664\",\"subtype\":\"Figure\",\"type\":\"Plot\"},\"ticker\":{\"id\":\"b8bd07db-8090-4f46-9047-9d90b206a881\",\"type\":\"BasicTicker\"}},\"id\":\"7e6e7872-4595-4a11-9dd3-c7096cc2d490\",\"type\":\"LinearAxis\"}],\"root_ids\":[\"b7ad4440-e23d-466f-8722-b642ef641664\"]},\"title\":\"Bokeh Application\",\"version\":\"0.12.1\"}};\n",
       "            var render_items = [{\"docid\":\"9db425f7-9d6e-4406-ba8c-06460b2f133a\",\"elementid\":\"b1deb07f-c490-4e35-9af5-3ddd9f48f592\",\"modelid\":\"b7ad4440-e23d-466f-8722-b642ef641664\",\"notebook_comms_target\":\"1fe46035-c0a9-42d0-9900-116b18b95f5a\"}];\n",
       "            \n",
       "            Bokeh.embed.embed_items(docs_json, render_items);\n",
       "        });\n",
       "      },\n",
       "      function(Bokeh) {\n",
       "      }\n",
       "    ];\n",
       "  \n",
       "    function run_inline_js() {\n",
       "      for (var i = 0; i < inline_js.length; i++) {\n",
       "        inline_js[i](window.Bokeh);\n",
       "      }\n",
       "    }\n",
       "  \n",
       "    if (window._bokeh_is_loading === 0) {\n",
       "      console.log(\"Bokeh: BokehJS loaded, going straight to plotting\");\n",
       "      run_inline_js();\n",
       "    } else {\n",
       "      load_libs(js_urls, function() {\n",
       "        console.log(\"Bokeh: BokehJS plotting callback run at\", now());\n",
       "        run_inline_js();\n",
       "      });\n",
       "    }\n",
       "  }(this));\n",
       "</script>"
      ]
     },
     "metadata": {},
     "output_type": "display_data"
    },
    {
     "data": {
      "text/html": [
       "<p><code>&lt;Bokeh Notebook handle for <strong>In[32]</strong>&gt;</code></p>"
      ],
      "text/plain": [
       "<bokeh.io._CommsHandle at 0x7fb160086f90>"
      ]
     },
     "execution_count": 37,
     "metadata": {},
     "output_type": "execute_result"
    }
   ],
   "source": [
    "p = figure(width=900, height=350, toolbar_location='above')\n",
    "\n",
    "p.extra_y_ranges = {\"y_right\": Range1d(0,700)}\n",
    "\n",
    "for rpmv in [325., 350. ,400.]:\n",
    "    p.line(df[df.RPM==rpmv]['V'],df[df.RPM==rpmv]['T'],color='blue')\n",
    "    p.circle(df[df.RPM==rpmv]['V'],df[df.RPM==rpmv]['T'],color='navy')\n",
    "\n",
    "    p.line(df[df.RPM==rpmv]['V'],df[df.RPM==rpmv]['pwr'],color='red', y_range_name=\"y_right\")\n",
    "    p.circle(df[df.RPM==rpmv]['V'],df[df.RPM==rpmv]['pwr'],color='firebrick', y_range_name=\"y_right\")\n",
    "\n",
    "p.line(drag['V'],drag['Drag'], color='black', line_width=2)\n",
    "p.line([1,7],[250,250], color='green', y_range_name=\"y_right\")\n",
    "p.line([1,7],[350,350], color='green', y_range_name=\"y_right\")\n",
    "\n",
    "p.y_range=Range1d(0,200)\n",
    "p.add_layout(LinearAxis(y_range_name=\"y_right\"), 'right')\n",
    "\n",
    "show(p)"
   ]
  },
  {
   "cell_type": "code",
   "execution_count": 16,
   "metadata": {
    "collapsed": false
   },
   "outputs": [
    {
     "data": {
      "text/html": [
       "\n",
       "\n",
       "    <div class=\"bk-root\">\n",
       "        <div class=\"plotdiv\" id=\"01a348f7-eb90-483a-af96-fdc2d6b24322\"></div>\n",
       "    </div>\n",
       "<script type=\"text/javascript\">\n",
       "  \n",
       "  (function(global) {\n",
       "    function now() {\n",
       "      return new Date();\n",
       "    }\n",
       "  \n",
       "    var force = \"\";\n",
       "  \n",
       "    if (typeof (window._bokeh_onload_callbacks) === \"undefined\" || force !== \"\") {\n",
       "      window._bokeh_onload_callbacks = [];\n",
       "      window._bokeh_is_loading = undefined;\n",
       "    }\n",
       "  \n",
       "    function run_callbacks() {\n",
       "      window._bokeh_onload_callbacks.forEach(function(callback) { callback() });\n",
       "      delete window._bokeh_onload_callbacks\n",
       "      console.info(\"Bokeh: all callbacks have finished\");\n",
       "    }\n",
       "  \n",
       "    function load_libs(js_urls, callback) {\n",
       "      window._bokeh_onload_callbacks.push(callback);\n",
       "      if (window._bokeh_is_loading > 0) {\n",
       "        console.log(\"Bokeh: BokehJS is being loaded, scheduling callback at\", now());\n",
       "        return null;\n",
       "      }\n",
       "      if (js_urls == null || js_urls.length === 0) {\n",
       "        run_callbacks();\n",
       "        return null;\n",
       "      }\n",
       "      console.log(\"Bokeh: BokehJS not loaded, scheduling load and callback at\", now());\n",
       "      window._bokeh_is_loading = js_urls.length;\n",
       "      for (var i = 0; i < js_urls.length; i++) {\n",
       "        var url = js_urls[i];\n",
       "        var s = document.createElement('script');\n",
       "        s.src = url;\n",
       "        s.async = false;\n",
       "        s.onreadystatechange = s.onload = function() {\n",
       "          window._bokeh_is_loading--;\n",
       "          if (window._bokeh_is_loading === 0) {\n",
       "            console.log(\"Bokeh: all BokehJS libraries loaded\");\n",
       "            run_callbacks()\n",
       "          }\n",
       "        };\n",
       "        s.onerror = function() {\n",
       "          console.warn(\"failed to load library \" + url);\n",
       "        };\n",
       "        console.log(\"Bokeh: injecting script tag for BokehJS library: \", url);\n",
       "        document.getElementsByTagName(\"head\")[0].appendChild(s);\n",
       "      }\n",
       "    };var element = document.getElementById(\"01a348f7-eb90-483a-af96-fdc2d6b24322\");\n",
       "    if (element == null) {\n",
       "      console.log(\"Bokeh: ERROR: autoload.js configured with elementid '01a348f7-eb90-483a-af96-fdc2d6b24322' but no matching script tag was found. \")\n",
       "      return false;\n",
       "    }\n",
       "  \n",
       "    var js_urls = [];\n",
       "  \n",
       "    var inline_js = [\n",
       "      function(Bokeh) {\n",
       "        Bokeh.$(function() {\n",
       "            var docs_json = {\"62c4d513-09a1-40d6-bab5-44b4f1ac2966\":{\"roots\":{\"references\":[{\"attributes\":{\"callback\":null,\"column_names\":[\"y\",\"x\"],\"data\":{\"x\":[0.007,0.026,0.044,0.062,0.08,0.098,0.116,0.134,0.152],\"y\":[1.2014653746507433,1.3514300508917336,1.3130712813236518,1.348374558523533,1.3494044833694263,1.3475095281959917,1.3418453575116327,1.3325010129020023,1.3186089299232724]}},\"id\":\"19c13cd1-e0e5-4e50-b207-09ff8548ca45\",\"type\":\"ColumnDataSource\"},{\"attributes\":{},\"id\":\"b8c4bd2a-54e2-463b-b2d8-33e770b59667\",\"type\":\"BasicTickFormatter\"},{\"attributes\":{\"below\":[{\"id\":\"8c223b49-90b0-4118-a439-c10a63bf20fe\",\"type\":\"LinearAxis\"}],\"extra_y_ranges\":{\"y_right\":{\"id\":\"3494bce2-67f7-4708-af22-c248a2cd0941\",\"type\":\"Range1d\"}},\"left\":[{\"id\":\"c835408a-0c66-4b5c-8d10-d87ecd254b75\",\"type\":\"LinearAxis\"}],\"plot_height\":350,\"plot_width\":900,\"renderers\":[{\"id\":\"8c223b49-90b0-4118-a439-c10a63bf20fe\",\"type\":\"LinearAxis\"},{\"id\":\"40a257ef-0c13-4174-98e9-d4f3327788cf\",\"type\":\"Grid\"},{\"id\":\"c835408a-0c66-4b5c-8d10-d87ecd254b75\",\"type\":\"LinearAxis\"},{\"id\":\"5cbcbdec-0e4d-4b34-8d66-dac8172b4eab\",\"type\":\"Grid\"},{\"id\":\"47be05ed-883d-450d-9ac6-322c5b881534\",\"type\":\"BoxAnnotation\"},{\"id\":\"d6445ae2-5be5-4cb0-947a-036009f19b86\",\"type\":\"GlyphRenderer\"},{\"id\":\"539b45d7-6670-4c38-b535-9d02cb272b1b\",\"type\":\"GlyphRenderer\"},{\"id\":\"26258b57-f255-42c7-9917-b8ea221c00b6\",\"type\":\"LinearAxis\"}],\"right\":[{\"id\":\"26258b57-f255-42c7-9917-b8ea221c00b6\",\"type\":\"LinearAxis\"}],\"title\":{\"id\":\"19e13ab0-7596-4c50-b154-918df3f819d4\",\"type\":\"Title\"},\"tool_events\":{\"id\":\"48fea85f-00d6-475e-9456-69461f251f67\",\"type\":\"ToolEvents\"},\"toolbar\":{\"id\":\"fae55a47-047a-4fa2-b2fa-2860361227d4\",\"type\":\"Toolbar\"},\"toolbar_location\":\"above\",\"x_range\":{\"id\":\"9eb56905-aa06-4831-983a-bbaf161addb7\",\"type\":\"DataRange1d\"},\"y_range\":{\"id\":\"bdf44823-1ad6-4797-8420-60fb23254af3\",\"type\":\"DataRange1d\"}},\"id\":\"66384387-40e2-46e2-a871-8251453bebed\",\"subtype\":\"Figure\",\"type\":\"Plot\"},{\"attributes\":{\"plot\":{\"id\":\"66384387-40e2-46e2-a871-8251453bebed\",\"subtype\":\"Figure\",\"type\":\"Plot\"}},\"id\":\"269e5003-aa40-430e-85b9-5eed88e694aa\",\"type\":\"HelpTool\"},{\"attributes\":{},\"id\":\"48fea85f-00d6-475e-9456-69461f251f67\",\"type\":\"ToolEvents\"},{\"attributes\":{\"callback\":null},\"id\":\"bdf44823-1ad6-4797-8420-60fb23254af3\",\"type\":\"DataRange1d\"},{\"attributes\":{\"active_drag\":\"auto\",\"active_scroll\":\"auto\",\"active_tap\":\"auto\",\"tools\":[{\"id\":\"d5348b33-d140-4294-81f5-9d382e0351c0\",\"type\":\"PanTool\"},{\"id\":\"18abc759-776e-490d-bbe1-3572915474d8\",\"type\":\"WheelZoomTool\"},{\"id\":\"9210421b-4016-4dde-80e7-d1adea626b75\",\"type\":\"BoxZoomTool\"},{\"id\":\"fabfb373-2b21-4b27-8588-192c1c471023\",\"type\":\"SaveTool\"},{\"id\":\"72ae7edd-d6cb-4037-8bc7-61512f5ada0a\",\"type\":\"ResetTool\"},{\"id\":\"269e5003-aa40-430e-85b9-5eed88e694aa\",\"type\":\"HelpTool\"}]},\"id\":\"fae55a47-047a-4fa2-b2fa-2860361227d4\",\"type\":\"Toolbar\"},{\"attributes\":{\"overlay\":{\"id\":\"47be05ed-883d-450d-9ac6-322c5b881534\",\"type\":\"BoxAnnotation\"},\"plot\":{\"id\":\"66384387-40e2-46e2-a871-8251453bebed\",\"subtype\":\"Figure\",\"type\":\"Plot\"}},\"id\":\"9210421b-4016-4dde-80e7-d1adea626b75\",\"type\":\"BoxZoomTool\"},{\"attributes\":{\"dimension\":1,\"plot\":{\"id\":\"66384387-40e2-46e2-a871-8251453bebed\",\"subtype\":\"Figure\",\"type\":\"Plot\"},\"ticker\":{\"id\":\"cb3217b6-fb0b-43cf-b9da-d6ab2c91d9f2\",\"type\":\"BasicTicker\"}},\"id\":\"5cbcbdec-0e4d-4b34-8d66-dac8172b4eab\",\"type\":\"Grid\"},{\"attributes\":{\"line_color\":{\"value\":\"blue\"},\"x\":{\"field\":\"x\"},\"y\":{\"field\":\"y\"}},\"id\":\"39082362-7c6a-497d-a8c1-15b3c7a44bee\",\"type\":\"Line\"},{\"attributes\":{\"plot\":null,\"text\":null},\"id\":\"19e13ab0-7596-4c50-b154-918df3f819d4\",\"type\":\"Title\"},{\"attributes\":{\"line_alpha\":{\"value\":0.1},\"line_color\":{\"value\":\"#1f77b4\"},\"x\":{\"field\":\"x\"},\"y\":{\"field\":\"y\"}},\"id\":\"ff51f09d-789f-4a0d-a2ce-5f351e235123\",\"type\":\"Line\"},{\"attributes\":{\"plot\":{\"id\":\"66384387-40e2-46e2-a871-8251453bebed\",\"subtype\":\"Figure\",\"type\":\"Plot\"}},\"id\":\"18abc759-776e-490d-bbe1-3572915474d8\",\"type\":\"WheelZoomTool\"},{\"attributes\":{\"bottom_units\":\"screen\",\"fill_alpha\":{\"value\":0.5},\"fill_color\":{\"value\":\"lightgrey\"},\"left_units\":\"screen\",\"level\":\"overlay\",\"line_alpha\":{\"value\":1.0},\"line_color\":{\"value\":\"black\"},\"line_dash\":[4,4],\"line_width\":{\"value\":2},\"plot\":null,\"render_mode\":\"css\",\"right_units\":\"screen\",\"top_units\":\"screen\"},\"id\":\"47be05ed-883d-450d-9ac6-322c5b881534\",\"type\":\"BoxAnnotation\"},{\"attributes\":{\"plot\":{\"id\":\"66384387-40e2-46e2-a871-8251453bebed\",\"subtype\":\"Figure\",\"type\":\"Plot\"}},\"id\":\"d5348b33-d140-4294-81f5-9d382e0351c0\",\"type\":\"PanTool\"},{\"attributes\":{},\"id\":\"1b8b5929-5715-4f6b-a201-c3ace07c09c8\",\"type\":\"BasicTicker\"},{\"attributes\":{\"line_color\":{\"value\":\"green\"},\"x\":{\"field\":\"x\"},\"y\":{\"field\":\"y\"}},\"id\":\"9a48a430-fa24-49b1-8a35-d5acb55910fd\",\"type\":\"Line\"},{\"attributes\":{\"plot\":{\"id\":\"66384387-40e2-46e2-a871-8251453bebed\",\"subtype\":\"Figure\",\"type\":\"Plot\"}},\"id\":\"fabfb373-2b21-4b27-8588-192c1c471023\",\"type\":\"SaveTool\"},{\"attributes\":{\"plot\":{\"id\":\"66384387-40e2-46e2-a871-8251453bebed\",\"subtype\":\"Figure\",\"type\":\"Plot\"},\"ticker\":{\"id\":\"3338aff4-2adf-4475-b7cd-6f6fc0392108\",\"type\":\"BasicTicker\"}},\"id\":\"40a257ef-0c13-4174-98e9-d4f3327788cf\",\"type\":\"Grid\"},{\"attributes\":{\"callback\":null},\"id\":\"9eb56905-aa06-4831-983a-bbaf161addb7\",\"type\":\"DataRange1d\"},{\"attributes\":{\"line_alpha\":{\"value\":0.1},\"line_color\":{\"value\":\"#1f77b4\"},\"x\":{\"field\":\"x\"},\"y\":{\"field\":\"y\"}},\"id\":\"90deb521-90bf-4adc-b2f4-cdd0951a84a5\",\"type\":\"Line\"},{\"attributes\":{\"data_source\":{\"id\":\"19c13cd1-e0e5-4e50-b207-09ff8548ca45\",\"type\":\"ColumnDataSource\"},\"glyph\":{\"id\":\"9a48a430-fa24-49b1-8a35-d5acb55910fd\",\"type\":\"Line\"},\"hover_glyph\":null,\"nonselection_glyph\":{\"id\":\"ff51f09d-789f-4a0d-a2ce-5f351e235123\",\"type\":\"Line\"},\"selection_glyph\":null,\"y_range_name\":\"y_right\"},\"id\":\"539b45d7-6670-4c38-b535-9d02cb272b1b\",\"type\":\"GlyphRenderer\"},{\"attributes\":{},\"id\":\"cb3217b6-fb0b-43cf-b9da-d6ab2c91d9f2\",\"type\":\"BasicTicker\"},{\"attributes\":{\"callback\":null,\"column_names\":[\"y\",\"x\"],\"data\":{\"x\":[0.007,0.026,0.044,0.062,0.08,0.098,0.116,0.134,0.152],\"y\":[7.1995973796598065,10.536125247703808,13.23565638197325,10.174433179534688,10.284600382889366,10.084325853749135,9.752314158756768,9.38118905336075,9.023494278035436]}},\"id\":\"fab3c511-df33-4779-9b4b-e4bcf4f47169\",\"type\":\"ColumnDataSource\"},{\"attributes\":{},\"id\":\"6f2d0b14-687a-4dcb-a32d-72f680c89e10\",\"type\":\"BasicTickFormatter\"},{\"attributes\":{},\"id\":\"3338aff4-2adf-4475-b7cd-6f6fc0392108\",\"type\":\"BasicTicker\"},{\"attributes\":{\"callback\":null,\"end\":1.5},\"id\":\"3494bce2-67f7-4708-af22-c248a2cd0941\",\"type\":\"Range1d\"},{\"attributes\":{\"formatter\":{\"id\":\"b8c4bd2a-54e2-463b-b2d8-33e770b59667\",\"type\":\"BasicTickFormatter\"},\"plot\":{\"id\":\"66384387-40e2-46e2-a871-8251453bebed\",\"subtype\":\"Figure\",\"type\":\"Plot\"},\"ticker\":{\"id\":\"cb3217b6-fb0b-43cf-b9da-d6ab2c91d9f2\",\"type\":\"BasicTicker\"}},\"id\":\"c835408a-0c66-4b5c-8d10-d87ecd254b75\",\"type\":\"LinearAxis\"},{\"attributes\":{\"data_source\":{\"id\":\"fab3c511-df33-4779-9b4b-e4bcf4f47169\",\"type\":\"ColumnDataSource\"},\"glyph\":{\"id\":\"39082362-7c6a-497d-a8c1-15b3c7a44bee\",\"type\":\"Line\"},\"hover_glyph\":null,\"nonselection_glyph\":{\"id\":\"90deb521-90bf-4adc-b2f4-cdd0951a84a5\",\"type\":\"Line\"},\"selection_glyph\":null},\"id\":\"d6445ae2-5be5-4cb0-947a-036009f19b86\",\"type\":\"GlyphRenderer\"},{\"attributes\":{},\"id\":\"c82a9004-ae89-4902-9e23-9f3937df18bd\",\"type\":\"BasicTickFormatter\"},{\"attributes\":{\"plot\":{\"id\":\"66384387-40e2-46e2-a871-8251453bebed\",\"subtype\":\"Figure\",\"type\":\"Plot\"}},\"id\":\"72ae7edd-d6cb-4037-8bc7-61512f5ada0a\",\"type\":\"ResetTool\"},{\"attributes\":{\"formatter\":{\"id\":\"6f2d0b14-687a-4dcb-a32d-72f680c89e10\",\"type\":\"BasicTickFormatter\"},\"plot\":{\"id\":\"66384387-40e2-46e2-a871-8251453bebed\",\"subtype\":\"Figure\",\"type\":\"Plot\"},\"ticker\":{\"id\":\"3338aff4-2adf-4475-b7cd-6f6fc0392108\",\"type\":\"BasicTicker\"}},\"id\":\"8c223b49-90b0-4118-a439-c10a63bf20fe\",\"type\":\"LinearAxis\"},{\"attributes\":{\"formatter\":{\"id\":\"c82a9004-ae89-4902-9e23-9f3937df18bd\",\"type\":\"BasicTickFormatter\"},\"plot\":{\"id\":\"66384387-40e2-46e2-a871-8251453bebed\",\"subtype\":\"Figure\",\"type\":\"Plot\"},\"ticker\":{\"id\":\"1b8b5929-5715-4f6b-a201-c3ace07c09c8\",\"type\":\"BasicTicker\"},\"y_range_name\":\"y_right\"},\"id\":\"26258b57-f255-42c7-9917-b8ea221c00b6\",\"type\":\"LinearAxis\"}],\"root_ids\":[\"66384387-40e2-46e2-a871-8251453bebed\"]},\"title\":\"Bokeh Application\",\"version\":\"0.12.1\"}};\n",
       "            var render_items = [{\"docid\":\"62c4d513-09a1-40d6-bab5-44b4f1ac2966\",\"elementid\":\"01a348f7-eb90-483a-af96-fdc2d6b24322\",\"modelid\":\"66384387-40e2-46e2-a871-8251453bebed\",\"notebook_comms_target\":\"fabf04bf-467a-47e2-95d0-d0fc32c03cc7\"}];\n",
       "            \n",
       "            Bokeh.embed.embed_items(docs_json, render_items);\n",
       "        });\n",
       "      },\n",
       "      function(Bokeh) {\n",
       "      }\n",
       "    ];\n",
       "  \n",
       "    function run_inline_js() {\n",
       "      for (var i = 0; i < inline_js.length; i++) {\n",
       "        inline_js[i](window.Bokeh);\n",
       "      }\n",
       "    }\n",
       "  \n",
       "    if (window._bokeh_is_loading === 0) {\n",
       "      console.log(\"Bokeh: BokehJS loaded, going straight to plotting\");\n",
       "      run_inline_js();\n",
       "    } else {\n",
       "      load_libs(js_urls, function() {\n",
       "        console.log(\"Bokeh: BokehJS plotting callback run at\", now());\n",
       "        run_inline_js();\n",
       "      });\n",
       "    }\n",
       "  }(this));\n",
       "</script>"
      ]
     },
     "metadata": {},
     "output_type": "display_data"
    },
    {
     "data": {
      "text/html": [
       "<p><code>&lt;Bokeh Notebook handle for <strong>In[16]</strong>&gt;</code></p>"
      ],
      "text/plain": [
       "<bokeh.io._CommsHandle at 0x7fb16074e250>"
      ]
     },
     "execution_count": 16,
     "metadata": {},
     "output_type": "execute_result"
    }
   ],
   "source": [
    "POINT = 122\n",
    "\n",
    "# Order of variables is\n",
    "# r, cl, cd, a, al, phi (radians), alpha (def)\n",
    "\n",
    "dist = np.loadtxt(os.path.join(PROPNAME,'{}_dist_{}.out'.format(RUNNAME,POINT)),delimiter=',')\n",
    "\n",
    "p1 = figure(width=900, height=350, toolbar_location='above')\n",
    "\n",
    "p1.extra_y_ranges = {\"y_right\": Range1d(0,1.5)}\n",
    "\n",
    "p1.line(dist[:,0],dist[:,-1],color='blue')\n",
    "p1.line(dist[:,0],dist[:,1],color='green',y_range_name='y_right')\n",
    "\n",
    "p1.add_layout(LinearAxis(y_range_name=\"y_right\"), 'right')\n",
    "\n",
    "show(p1)"
   ]
  }
 ],
 "metadata": {
  "kernelspec": {
   "display_name": "Python 2",
   "language": "python",
   "name": "python2"
  },
  "language_info": {
   "codemirror_mode": {
    "name": "ipython",
    "version": 2
   },
   "file_extension": ".py",
   "mimetype": "text/x-python",
   "name": "python",
   "nbconvert_exporter": "python",
   "pygments_lexer": "ipython2",
   "version": "2.7.11"
  }
 },
 "nbformat": 4,
 "nbformat_minor": 0
}
