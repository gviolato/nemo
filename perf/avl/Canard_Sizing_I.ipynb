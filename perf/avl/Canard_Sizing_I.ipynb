{
 "cells": [
  {
   "cell_type": "markdown",
   "metadata": {},
   "source": [
    "## Equilibrium and stability basic analysis\n",
    "### (Canard sizing)\n",
    "\n",
    "Nemo human powered hydrofoil\n",
    "\n",
    "June 2016 - Gustavo Violato, Diego Montero, Fernando Valentini"
   ]
  },
  {
   "cell_type": "code",
   "execution_count": 13,
   "metadata": {
    "collapsed": true
   },
   "outputs": [],
   "source": [
    "import numpy as np\n",
    "import matplotlib.pyplot as plt\n",
    "from scipy.interpolate import interp1d\n",
    "from scipy.optimize import fsolve\n",
    "%matplotlib notebook"
   ]
  },
  {
   "cell_type": "markdown",
   "metadata": {},
   "source": [
    "### Scilab prelim_perf.sce results\n",
    "\n",
    "#### 2.00m wing\n",
    "\n",
    ">Results:\n",
    ">\n",
    ">Chosen wind span[m]/aspect ratio[-]: 2.00, 18.0\n",
    ">\n",
    ">-Rider----------<br>\n",
    "Name     : Gustavo<br>\n",
    "Mass [kg]: 87.0<br>\n",
    "Power [W]: 250.0<br>\n",
    ">\n",
    ">-Wing-----------<br>\n",
    "Wing area [m^2]: 0.222<br>\n",
    "Root Chord  [m]: 0.153<br>\n",
    "Tip Chord   [m]: 0.069<br>\n",
    ">\n",
    ">-Performance----<br>\n",
    "Take-off speed [m/s]: 3.0<br>\n",
    "Take-off power   [W]: 150.0<br>\n",
    "Cruise Speed   [m/s]: 4.6<br>\n",
    "Range           [km]: 16.62<br>\n",
    "Speed@750W     [m/s]: 7.2<br>\n",
    "Min power        [W]: 146.9<br>\n",
    "Speed@MinPwr   [m/s]: 2.7<br>\n",
    "\n",
    "<img src='perf_curves_S2_AR18.gif'>\n",
    "\n",
    "#### 1.80m wing\n",
    "\n",
    ">Results:\n",
    ">\n",
    ">Chosen wind span[m]/aspect ratio[-]: 1.80, 17.0\n",
    ">\n",
    ">-Rider----------<br>\n",
    "Name     : Gustavo<br>\n",
    "Mass [kg]: 87.0<br>\n",
    "Power [W]: 250.0<br>\n",
    ">\n",
    ">-Wing-----------<br>\n",
    "Wing area [m^2]: 0.191<br>\n",
    "Root Chord  [m]: 0.146<br>\n",
    "Tip Chord   [m]: 0.066<br>\n",
    ">\n",
    ">-Performance----<br>\n",
    "Take-off speed [m/s]: 3.3<br>\n",
    "Take-off power   [W]: 172.7<br>\n",
    "Cruise Speed   [m/s]: 4.6<br>\n",
    "Range           [km]: 16.56<br>\n",
    "Speed@750W     [m/s]: 7.4<br>\n",
    "Min power        [W]: 168.8<br>\n",
    "Speed@MinPwr   [m/s]: 2.9<br>\n",
    "\n",
    "<img src='perf_curves_b1p8_AR17.gif'>"
   ]
  },
  {
   "cell_type": "code",
   "execution_count": 150,
   "metadata": {
    "collapsed": false,
    "scrolled": true
   },
   "outputs": [
    {
     "name": "stdout",
     "output_type": "stream",
     "text": [
      "Wing Props:\n",
      "-----------\n",
      "S_w (Sref): 0.191 m^2\n",
      "cma_w (cma): 0.111 m\n",
      "r_w: 0.991 m\n",
      "delta_w: 6.37 deg\n",
      "Cla_w: 5.60\n",
      "Cl0_w: 0.36\n",
      "\n",
      "Canard Props:\n",
      "-------------\n",
      "S_c: 0.015 m^2\n",
      "b_c: 0.327 m\n",
      "cma_c: 0.047 m\n",
      "xc0: 1.430 m\n",
      "Cla_c: 4.54\n",
      "Cl0_c: 0.30\n",
      "\n",
      "Keel Props:\n",
      "-----------\n",
      "c_k: 0.200 m\n",
      "S_k: 0.100 m^2\n",
      "h_cp_k: 0.500 m\n",
      "Cd_k: 0.007\n"
     ]
    }
   ],
   "source": [
    "# Constants definitions\n",
    "grav = 9.80665 # gravity [m/s^2]\n",
    "rho_w = 1020 # (sea) water density [kg/m^3]\n",
    "\n",
    "V_cruise = 4.5 # cruise speed [m/s]\n",
    "Q_cruise = 0.5*rho_w*V_cruise**2\n",
    "\n",
    "mass     = 101  # total vehicle mass [kg]\n",
    "delta_cg = 0.0  # forward distance of actual CG pos to nominal CG pos\n",
    "\n",
    "# Wing geometry and properties\n",
    "wing_pos = 0.11    # horizontal distance from nominal CG pos to wing quarter chord\n",
    "xw0      = wing_pos + delta_cg\n",
    "h_cg_w   = 0.985   # vertical distance from nominal CG pos to wing quarter chord\n",
    "r_w      = np.sqrt(xw0**2 + h_cg_w**2)\n",
    "delta_w  = np.arctan(xw0/h_cg_w)\n",
    "Sref     = 0.191 # (wing) reference area [m^2]\n",
    "cr       = 0.146\n",
    "ctip     = 0.066\n",
    "cma      = 2./3*(cr+ctip-cr*ctip/(cr+ctip))\n",
    "Cla_w    = 6.277/(1+(6.277/(np.pi*17))*(1+0.03))\n",
    "Cl0_w    = 0.4/6.227*Cla_w\n",
    "Cm_w     = -0.075\n",
    "i_w      = 2.5*np.pi/180.\n",
    "\n",
    "print \"Wing Props:\"\n",
    "print \"-----------\"\n",
    "print \"S_w (Sref): {:.3f} m^2\".format(Sref)\n",
    "print \"cma_w (cma): {:.3f} m\".format(cma)\n",
    "print \"r_w: {:.3f} m\".format(r_w)\n",
    "print \"delta_w: {:.2f} deg\".format(delta_w*180/np.pi)\n",
    "print \"Cla_w: {:.2f}\".format(Cla_w)\n",
    "print \"Cl0_w: {:.2f}\".format(Cl0_w)\n",
    "\n",
    "# Canard geometry and properties\n",
    "C_factor = 0.08\n",
    "AR_c = 7\n",
    "S_c  = Sref*C_factor\n",
    "b_c = np.sqrt(AR_c*S_c)\n",
    "c_c = S_c/b_c\n",
    "x_cw_qc = 1.515 + 0.25*(cr-c_c) # distance between canard and wing quarter chord\n",
    "xc0 = x_cw_qc - xw0\n",
    "Cla_c    = 5.988/(1+(5.988/(np.pi*AR_c))*(1+0.17))\n",
    "Cl0_c    = 0.4/5.988*Cla_c\n",
    "Cm_c     = -0.08\n",
    "\n",
    "print \"\\nCanard Props:\"\n",
    "print \"-------------\"\n",
    "print \"S_c: {:.3f} m^2\".format(S_c)\n",
    "print \"b_c: {:.3f} m\".format(b_c)\n",
    "print \"cma_c: {:.3f} m\".format(c_c)\n",
    "print \"xc0: {:.3f} m\".format(xc0)\n",
    "print \"Cla_c: {:.2f}\".format(Cla_c)\n",
    "print \"Cl0_c: {:.2f}\".format(Cl0_c)\n",
    "\n",
    "# Keel geometry and properties\n",
    "d_k = 0.030 # Keel tube diameter\n",
    "t_k = 0.15  # Keel fairing profile relative thickness\n",
    "c_k = d_k/t_k # Keel chord\n",
    "S_k = c_k*0.5 # Keel submerged area\n",
    "h_cp_k = 0.5  # Keel drag arm relative to nominal cg pos\n",
    "Cd_k = 0.007  # Keel profile drag Coef\n",
    "\n",
    "print \"\\nKeel Props:\"\n",
    "print \"-----------\"\n",
    "print \"c_k: {:.3f} m\".format(c_k)\n",
    "print \"S_k: {:.3f} m^2\".format(S_k)\n",
    "print \"h_cp_k: {:.3f} m\".format(h_cp_k)\n",
    "print \"Cd_k: {:.3f}\".format(Cd_k)"
   ]
  },
  {
   "cell_type": "code",
   "execution_count": 151,
   "metadata": {
    "collapsed": false
   },
   "outputs": [
    {
     "name": "stdout",
     "output_type": "stream",
     "text": [
      "Equilibrium conditions for\n",
      "Mass 101.0kg, V 4.5 m/s, Cg 0.110 m ahead of wing-1/4c\n",
      "---------------------------\n",
      "alpha: -1.561deg; dp:5.720deg\n",
      "Wing Cl: 0.45 (Wing Lift: 90.8kgf)\n",
      "Canard Cl: 0.63 (Canard Lift: 10.2kgf)\n",
      "Neutral Point: 0.094m ahead of wing-1/4c\n",
      "CG Pos: 0.137m ahead of wing-1/4c\n"
     ]
    }
   ],
   "source": [
    "CLeq = mass*grav/(Q_cruise*Sref)\n",
    "\n",
    "CF_a  = (C_factor*Cla_c + Cla_w)\n",
    "CF_dp = (C_factor*Cla_c)\n",
    "CF_0  = CLeq - C_factor*Cl0_c-Cl0_w-Cla_w*i_w\n",
    "\n",
    "CM_a2 = r_w/cma*Cla_w\n",
    "CM_a  = C_factor*xc0/cma*Cla_c + r_w/cma*(Cl0_w+Cla_w*(i_w-delta_w))\n",
    "CM_dp = C_factor*xc0/cma*Cla_c\n",
    "CM_0  = S_k/Sref*h_cp_k/cma*Cd_k-C_factor*c_c/cma*Cm_c-Cm_w-C_factor*xc0/cma*Cl0_c+r_w/cma*delta_w*(Cl0_w+Cla_w*i_w)\n",
    "\n",
    "def equilibrium(p):\n",
    "    alpha, dp = p\n",
    "    eq1 = CF_a*alpha + CF_dp*dp - CF_0\n",
    "    eq2 = CM_a2*alpha**2 + CM_a*alpha + CM_dp*dp - CM_0\n",
    "    return (eq1,eq2)\n",
    "    \n",
    "a, dp = fsolve(equilibrium,(4*np.pi/180.,5*np.pi/180.))\n",
    "\n",
    "Cl_w = Cl0_w + (a+i_w)*Cla_w\n",
    "L_w = Q_cruise*Sref*Cl_w/grav\n",
    "Cl_c = Cl0_c + (a+dp)*Cla_c\n",
    "L_c = Q_cruise*S_c*Cl_c/grav\n",
    "\n",
    "Xn = x_cw_qc/(1+(Cla_w/(C_factor*Cla_c)))\n",
    "\n",
    "print \"Equilibrium conditions for\\nMass {:.1f}kg, V {:.1f} m/s, Cg {:.3f} m ahead of wing-1/4c\".format(mass,V_cruise,xw0)\n",
    "print \"---------------------------\"\n",
    "print \"alpha: {:.3f}deg; dp:{:.3f}deg\".format(a*180/np.pi, dp*180/np.pi)\n",
    "print \"Wing Cl: {:.2f} (Wing Lift: {:.1f}kgf)\".format(Cl_w,L_w)\n",
    "print \"Canard Cl: {:.2f} (Canard Lift: {:.1f}kgf)\".format(Cl_c,L_c)\n",
    "print \"Neutral Point: {:.3f}m ahead of wing-1/4c\".format(Xn)\n",
    "print \"CG Pos: {:.3f}m ahead of wing-1/4c\".format(r_w*np.sin(delta_w-a))"
   ]
  },
  {
   "cell_type": "code",
   "execution_count": 111,
   "metadata": {
    "collapsed": false
   },
   "outputs": [
    {
     "name": "stdout",
     "output_type": "stream",
     "text": [
      "60.0262945061 48.9316167531\n",
      "-8.83361941726 -0.317193335756\n",
      "1.943865\n"
     ]
    },
    {
     "data": {
      "text/plain": [
       "-2.4424906541753444e-15"
      ]
     },
     "execution_count": 111,
     "metadata": {},
     "output_type": "execute_result"
    }
   ],
   "source": [
    "print L_c*xc0*grav, L_w*r_w*(delta_w-a)*grav\n",
    "print Q_cruise*Cm_w*Sref*cma, Q_cruise*Cm_c*S_c*c_c\n",
    "print Q_cruise*Cd_k*S_k*h_cp_k\n",
    "L_c*xc0*grav-L_w*r_w*(delta_w-a)*grav+Q_cruise*Cm_w*Sref*cma+Q_cruise*Cm_c*S_c*c_c-Q_cruise*Cd_k*S_k*h_cp_k"
   ]
  },
  {
   "cell_type": "code",
   "execution_count": 141,
   "metadata": {
    "collapsed": false
   },
   "outputs": [
    {
     "name": "stdout",
     "output_type": "stream",
     "text": [
      "0.1415\n",
      "0.985\n",
      "0.502126888891\n"
     ]
    }
   ],
   "source": [
    "print 0.178-0.25*cr\n",
    "print h_cg_w\n",
    "print CLeq"
   ]
  },
  {
   "cell_type": "code",
   "execution_count": 111,
   "metadata": {
    "collapsed": false
   },
   "outputs": [
    {
     "name": "stdout",
     "output_type": "stream",
     "text": [
      "Xc_avl: 1.56507575758\n",
      "Xl_avl: 1.51877272727\n"
     ]
    }
   ],
   "source": [
    "Xc_avl = Xt-0.25*(cr-c_c)\n",
    "Xl_avl = Xc_avl - c_c\n",
    "print \"Xc_avl: {}\".format(Xc_avl)\n",
    "print \"Xl_avl: {}\".format(Xl_avl)"
   ]
  },
  {
   "cell_type": "code",
   "execution_count": 123,
   "metadata": {
    "collapsed": false
   },
   "outputs": [
    {
     "name": "stdout",
     "output_type": "stream",
     "text": [
      "0.3 0.06 0.018 5.0\n"
     ]
    }
   ],
   "source": [
    "b_l = 0.30\n",
    "c_l = 0.06\n",
    "A_l = c_l*b_l\n",
    "AR_l = b_l**2/(A_l)\n",
    "print b_l, c_l, A_l, AR_l"
   ]
  },
  {
   "cell_type": "code",
   "execution_count": 1,
   "metadata": {
    "collapsed": false
   },
   "outputs": [
    {
     "name": "stdout",
     "output_type": "stream",
     "text": [
      "Espessura relativa: 0.12\n",
      "Corda [mm]: 233.3\n",
      "Reynolds: 1071000\n",
      "Arrasto [kg]: 0.577\n",
      "\n",
      "\n",
      "Espessura relativa: 0.15\n",
      "Corda [mm]: 186.7\n",
      "Reynolds: 856800\n",
      "Arrasto [kg]: 0.581\n",
      "\n",
      "\n",
      "Espessura relativa: 0.18\n",
      "Corda [mm]: 155.6\n",
      "Reynolds: 714000\n",
      "Arrasto [kg]: 0.598\n",
      "\n",
      "\n"
     ]
    }
   ],
   "source": [
    "FACTOR = 1.1\n",
    "\n",
    "rho_w = 1020\n",
    "mu_w = 1e-3\n",
    "Vel = 4.5\n",
    "\n",
    "diam_q = 28\n",
    "\n",
    "t_q = [0.12, 0.15, 0.18]\n",
    "Cd0 = [0.0054, 0.0068, 0.0084]\n",
    "\n",
    "for i,t in enumerate(t_q):\n",
    "    cq = diam_q/t\n",
    "    Re = rho_w*Vel*cq/mu_w/1000  \n",
    "    Dq = 0.5*1020*4**2*Cd0[i]*cq*0.5/1000*FACTOR\n",
    "    print \"Espessura relativa: {:.2f}\".format(t)\n",
    "    print \"Corda [mm]: {:.1f}\".format(cq)\n",
    "    print \"Reynolds: {:.0f}\".format(Re)\n",
    "    print \"Arrasto [kg]: {:.3f}\".format(Dq/9.80665)\n",
    "    print \"\\n\""
   ]
  },
  {
   "cell_type": "code",
   "execution_count": 20,
   "metadata": {
    "collapsed": true
   },
   "outputs": [],
   "source": [
    "from scipy.integrate import simps"
   ]
  }
 ],
 "metadata": {
  "kernelspec": {
   "display_name": "Python 2",
   "language": "python",
   "name": "python2"
  },
  "language_info": {
   "codemirror_mode": {
    "name": "ipython",
    "version": 2
   },
   "file_extension": ".py",
   "mimetype": "text/x-python",
   "name": "python",
   "nbconvert_exporter": "python",
   "pygments_lexer": "ipython2",
   "version": "2.7.11"
  }
 },
 "nbformat": 4,
 "nbformat_minor": 0
}
