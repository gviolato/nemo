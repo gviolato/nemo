{
 "cells": [
  {
   "cell_type": "markdown",
   "metadata": {},
   "source": [
    "## Equilibrium and stability basic analysis\n",
    "### (Canard sizing)\n",
    "\n",
    "Nemo human powered hydrofoil\n",
    "\n",
    "August 2016 - Gustavo Violato, Diego Montero, Fernando Valentini"
   ]
  },
  {
   "cell_type": "code",
   "execution_count": 1,
   "metadata": {
    "collapsed": false
   },
   "outputs": [],
   "source": [
    "%load_ext autoreload\n",
    "%autoreload 2"
   ]
  },
  {
   "cell_type": "code",
   "execution_count": 2,
   "metadata": {
    "collapsed": true
   },
   "outputs": [],
   "source": [
    "import numpy as np\n",
    "from bokeh.plotting import figure, output_notebook, show\n",
    "from bokeh.models import LinearAxis, Range1d, Label\n",
    "from bokeh.io import push_notebook\n",
    "import ipywidgets as wd\n",
    "import basic_equil as beq\n",
    "import readouts as ro\n",
    "import yaml\n",
    "%matplotlib notebook"
   ]
  },
  {
   "cell_type": "code",
   "execution_count": 3,
   "metadata": {
    "collapsed": false
   },
   "outputs": [
    {
     "data": {
      "text/html": [
       "\n",
       "    <div class=\"bk-root\">\n",
       "        <a href=\"http://bokeh.pydata.org\" target=\"_blank\" class=\"bk-logo bk-logo-small bk-logo-notebook\"></a>\n",
       "        <span id=\"29157459-4336-44ee-b421-396ae9b7602b\">Loading BokehJS ...</span>\n",
       "    </div>"
      ]
     },
     "metadata": {},
     "output_type": "display_data"
    },
    {
     "data": {
      "application/javascript": [
       "\n",
       "(function(global) {\n",
       "  function now() {\n",
       "    return new Date();\n",
       "  }\n",
       "\n",
       "  var force = \"1\";\n",
       "\n",
       "  if (typeof (window._bokeh_onload_callbacks) === \"undefined\" || force !== \"\") {\n",
       "    window._bokeh_onload_callbacks = [];\n",
       "    window._bokeh_is_loading = undefined;\n",
       "  }\n",
       "\n",
       "  function run_callbacks() {\n",
       "    window._bokeh_onload_callbacks.forEach(function(callback) { callback() });\n",
       "    delete window._bokeh_onload_callbacks\n",
       "    console.info(\"Bokeh: all callbacks have finished\");\n",
       "  }\n",
       "\n",
       "  function load_libs(js_urls, callback) {\n",
       "    window._bokeh_onload_callbacks.push(callback);\n",
       "    if (window._bokeh_is_loading > 0) {\n",
       "      console.log(\"Bokeh: BokehJS is being loaded, scheduling callback at\", now());\n",
       "      return null;\n",
       "    }\n",
       "    if (js_urls == null || js_urls.length === 0) {\n",
       "      run_callbacks();\n",
       "      return null;\n",
       "    }\n",
       "    console.log(\"Bokeh: BokehJS not loaded, scheduling load and callback at\", now());\n",
       "    window._bokeh_is_loading = js_urls.length;\n",
       "    for (var i = 0; i < js_urls.length; i++) {\n",
       "      var url = js_urls[i];\n",
       "      var s = document.createElement('script');\n",
       "      s.src = url;\n",
       "      s.async = false;\n",
       "      s.onreadystatechange = s.onload = function() {\n",
       "        window._bokeh_is_loading--;\n",
       "        if (window._bokeh_is_loading === 0) {\n",
       "          console.log(\"Bokeh: all BokehJS libraries loaded\");\n",
       "          run_callbacks()\n",
       "        }\n",
       "      };\n",
       "      s.onerror = function() {\n",
       "        console.warn(\"failed to load library \" + url);\n",
       "      };\n",
       "      console.log(\"Bokeh: injecting script tag for BokehJS library: \", url);\n",
       "      document.getElementsByTagName(\"head\")[0].appendChild(s);\n",
       "    }\n",
       "  };\n",
       "\n",
       "  var js_urls = ['https://cdn.pydata.org/bokeh/release/bokeh-0.12.1.min.js', 'https://cdn.pydata.org/bokeh/release/bokeh-widgets-0.12.1.min.js', 'https://cdn.pydata.org/bokeh/release/bokeh-compiler-0.12.1.min.js'];\n",
       "\n",
       "  var inline_js = [\n",
       "    function(Bokeh) {\n",
       "      Bokeh.set_log_level(\"info\");\n",
       "    },\n",
       "    \n",
       "    function(Bokeh) {\n",
       "      \n",
       "      Bokeh.$(\"#29157459-4336-44ee-b421-396ae9b7602b\").text(\"BokehJS successfully loaded\");\n",
       "      var kernel = Jupyter.notebook.kernel\n",
       "      if (kernel.execute !== undefined) {\n",
       "          kernel.execute(\"import bokeh.io; bokeh.io._nb_loaded = True\");\n",
       "      }\n",
       "    },\n",
       "    function(Bokeh) {\n",
       "      console.log(\"Bokeh: injecting CSS: https://cdn.pydata.org/bokeh/release/bokeh-0.12.1.min.css\");\n",
       "      Bokeh.embed.inject_css(\"https://cdn.pydata.org/bokeh/release/bokeh-0.12.1.min.css\");\n",
       "      console.log(\"Bokeh: injecting CSS: https://cdn.pydata.org/bokeh/release/bokeh-widgets-0.12.1.min.css\");\n",
       "      Bokeh.embed.inject_css(\"https://cdn.pydata.org/bokeh/release/bokeh-widgets-0.12.1.min.css\");\n",
       "    }\n",
       "  ];\n",
       "\n",
       "  function run_inline_js() {\n",
       "    for (var i = 0; i < inline_js.length; i++) {\n",
       "      inline_js[i](window.Bokeh);\n",
       "    }\n",
       "  }\n",
       "\n",
       "  if (window._bokeh_is_loading === 0) {\n",
       "    console.log(\"Bokeh: BokehJS loaded, going straight to plotting\");\n",
       "    run_inline_js();\n",
       "  } else {\n",
       "    load_libs(js_urls, function() {\n",
       "      console.log(\"Bokeh: BokehJS plotting callback run at\", now());\n",
       "      run_inline_js();\n",
       "    });\n",
       "  }\n",
       "}(this));"
      ]
     },
     "metadata": {},
     "output_type": "display_data"
    }
   ],
   "source": [
    "output_notebook()"
   ]
  },
  {
   "cell_type": "code",
   "execution_count": 4,
   "metadata": {
    "collapsed": true
   },
   "outputs": [],
   "source": [
    "# Global Constants\n",
    "D2R = np.pi/180.\n",
    "R2D = 1./D2R\n",
    "\n",
    "DIMSFILE = 'nemo_dims.yml'"
   ]
  },
  {
   "cell_type": "code",
   "execution_count": 5,
   "metadata": {
    "collapsed": false
   },
   "outputs": [],
   "source": [
    "# Flight parameters\n",
    "fp = {'V':4.,          # Just a dummy value, it will be replaced as needed\n",
    "      'iw':2.5*D2R,    # Wind incidence angle (radians)\n",
    "      'delta_cg':0.05, # CG displacement wrt nominal position\n",
    "      'mass': 101      # Total mass\n",
    "     }"
   ]
  },
  {
   "cell_type": "code",
   "execution_count": 28,
   "metadata": {
    "collapsed": false
   },
   "outputs": [],
   "source": [
    "# Nemo relevant equilibrim dimensions/characteristics\n",
    "dims = beq.read_dims('./data/'+DIMSFILE)\n",
    "# Speeds for analysis:\n",
    "# Takeoff speeds\n",
    "Vs_TO = np.arange(1.,3.1,0.25)\n",
    "# Flight speeds\n",
    "Vs = np.arange(3.3,7.0,0.3)\n",
    "# Exepcted Thrust (to be checked against drag curve later)\n",
    "Ts = np.array([66.81,62.09,60.08,60.00,61.33,63.79,67.29,71.84,77.63,84.65,95.37,112.26,140.75])\n",
    "# Equilibrium Matrix\n",
    "eq_matrix = beq.solve_equilibrium(Vs,dims,fp,Thrust=Ts)\n",
    "# AVL Calculaleted Equilibrium Matrix\n",
    "avl_eq_TO, _ = ro.read_results('./results/to/',Vs_TO)\n",
    "avl_eq_FL, avl_st = ro.read_results('./results/7mps',Vs)\n",
    "avl_eq = np.append(avl_eq_TO,avl_eq_FL,axis=0)"
   ]
  },
  {
   "cell_type": "code",
   "execution_count": 9,
   "metadata": {
    "collapsed": false
   },
   "outputs": [
    {
     "data": {
      "text/plain": [
       "<bokeh.models.renderers.GlyphRenderer at 0x7fd590389390>"
      ]
     },
     "execution_count": 9,
     "metadata": {},
     "output_type": "execute_result"
    }
   ],
   "source": [
    "#Plotting\n",
    "p = figure(title='Equilibrium conditions',\n",
    "           x_axis_label='Flight Speed [m/s]',\n",
    "           y_axis_label='AoA and d_p [deg]',\n",
    "           y_range=[-5,10],\n",
    "           width=900, height=350, toolbar_location='above')\n",
    "\n",
    "aoa = p.line(eq_matrix[:,0],eq_matrix[:,1], line_color='navy',legend='AoA')\n",
    "dp  = p.line(eq_matrix[:,0],eq_matrix[:,2], line_color='firebrick',legend='dp')\n",
    "\n",
    "p.line(avl_eq[:,0],avl_eq[:,1], line_color='blue',legend='AVL_AoA')\n",
    "p.line(avl_eq[:,0],avl_eq[:,2], line_color='red',legend='AVL_dp')\n",
    "\n",
    "p.extra_y_ranges = {\"cls\": Range1d(start=0., end=1.2)}\n",
    "p.add_layout(LinearAxis(y_range_name=\"cls\"), 'right')\n",
    "\n",
    "clw = p.line(eq_matrix[:,0], eq_matrix[:,4], line_color=\"green\", y_range_name=\"cls\", legend='Cl_w')\n",
    "clc = p.line(eq_matrix[:,0], eq_matrix[:,6], line_color=\"teal\", y_range_name=\"cls\", legend='Cl_c')\n",
    "\n",
    "p.line(avl_eq[:,0], avl_eq[:,4], line_color=\"darkgreen\", y_range_name=\"cls\", legend='AVL_Cl_w')\n",
    "p.line(avl_eq[:,0], avl_eq[:,5], line_color=\"cadetblue\", y_range_name=\"cls\", legend='AVL_Cl_c')"
   ]
  },
  {
   "cell_type": "code",
   "execution_count": 10,
   "metadata": {
    "collapsed": true
   },
   "outputs": [],
   "source": [
    "def update(iw=2.5, d_cg=0.05, mass=101.):\n",
    "    fp['iw'] = iw*D2R\n",
    "    fp['delta_cg'] = d_cg\n",
    "    fp['mass'] = mass\n",
    "    eq_matrix = beq.solve_equilibrium(Vs,dims,fp)\n",
    "    aoa.data_source.data['y'] = eq_matrix[:,1]\n",
    "    dp.data_source.data['y']  = eq_matrix[:,2]\n",
    "    clw.data_source.data['y'] = eq_matrix[:,4]\n",
    "    clc.data_source.data['y'] = eq_matrix[:,6]\n",
    "    push_notebook()"
   ]
  },
  {
   "cell_type": "code",
   "execution_count": 11,
   "metadata": {
    "collapsed": false,
    "scrolled": true
   },
   "outputs": [
    {
     "data": {
      "text/html": [
       "\n",
       "\n",
       "    <div class=\"bk-root\">\n",
       "        <div class=\"plotdiv\" id=\"135feb75-43a5-416d-aa66-05f08af43291\"></div>\n",
       "    </div>\n",
       "<script type=\"text/javascript\">\n",
       "  \n",
       "  (function(global) {\n",
       "    function now() {\n",
       "      return new Date();\n",
       "    }\n",
       "  \n",
       "    var force = \"\";\n",
       "  \n",
       "    if (typeof (window._bokeh_onload_callbacks) === \"undefined\" || force !== \"\") {\n",
       "      window._bokeh_onload_callbacks = [];\n",
       "      window._bokeh_is_loading = undefined;\n",
       "    }\n",
       "  \n",
       "    function run_callbacks() {\n",
       "      window._bokeh_onload_callbacks.forEach(function(callback) { callback() });\n",
       "      delete window._bokeh_onload_callbacks\n",
       "      console.info(\"Bokeh: all callbacks have finished\");\n",
       "    }\n",
       "  \n",
       "    function load_libs(js_urls, callback) {\n",
       "      window._bokeh_onload_callbacks.push(callback);\n",
       "      if (window._bokeh_is_loading > 0) {\n",
       "        console.log(\"Bokeh: BokehJS is being loaded, scheduling callback at\", now());\n",
       "        return null;\n",
       "      }\n",
       "      if (js_urls == null || js_urls.length === 0) {\n",
       "        run_callbacks();\n",
       "        return null;\n",
       "      }\n",
       "      console.log(\"Bokeh: BokehJS not loaded, scheduling load and callback at\", now());\n",
       "      window._bokeh_is_loading = js_urls.length;\n",
       "      for (var i = 0; i < js_urls.length; i++) {\n",
       "        var url = js_urls[i];\n",
       "        var s = document.createElement('script');\n",
       "        s.src = url;\n",
       "        s.async = false;\n",
       "        s.onreadystatechange = s.onload = function() {\n",
       "          window._bokeh_is_loading--;\n",
       "          if (window._bokeh_is_loading === 0) {\n",
       "            console.log(\"Bokeh: all BokehJS libraries loaded\");\n",
       "            run_callbacks()\n",
       "          }\n",
       "        };\n",
       "        s.onerror = function() {\n",
       "          console.warn(\"failed to load library \" + url);\n",
       "        };\n",
       "        console.log(\"Bokeh: injecting script tag for BokehJS library: \", url);\n",
       "        document.getElementsByTagName(\"head\")[0].appendChild(s);\n",
       "      }\n",
       "    };var element = document.getElementById(\"135feb75-43a5-416d-aa66-05f08af43291\");\n",
       "    if (element == null) {\n",
       "      console.log(\"Bokeh: ERROR: autoload.js configured with elementid '135feb75-43a5-416d-aa66-05f08af43291' but no matching script tag was found. \")\n",
       "      return false;\n",
       "    }\n",
       "  \n",
       "    var js_urls = [];\n",
       "  \n",
       "    var inline_js = [\n",
       "      function(Bokeh) {\n",
       "        Bokeh.$(function() {\n",
       "            var docs_json = {\"500d27e8-145b-4374-b09a-44aef582b2a2\":{\"roots\":{\"references\":[{\"attributes\":{\"line_alpha\":{\"value\":0.1},\"line_color\":{\"value\":\"#1f77b4\"},\"x\":{\"field\":\"x\"},\"y\":{\"field\":\"y\"}},\"id\":\"b4b91e1c-059e-43e1-ba30-fef63cb627de\",\"type\":\"Line\"},{\"attributes\":{\"dimension\":1,\"plot\":{\"id\":\"c3f10c08-8ab5-4956-96f4-86a4a08cc988\",\"subtype\":\"Figure\",\"type\":\"Plot\"},\"ticker\":{\"id\":\"df9f241e-1a46-462e-939a-7952db4abeee\",\"type\":\"BasicTicker\"}},\"id\":\"69890f63-e5a4-4044-a678-4b9eae63b32e\",\"type\":\"Grid\"},{\"attributes\":{\"data_source\":{\"id\":\"80b51a71-99ce-4655-99e5-b1c1ea1a16f8\",\"type\":\"ColumnDataSource\"},\"glyph\":{\"id\":\"8fa49948-428d-4ee3-8448-2221378575ff\",\"type\":\"Line\"},\"hover_glyph\":null,\"nonselection_glyph\":{\"id\":\"b4b91e1c-059e-43e1-ba30-fef63cb627de\",\"type\":\"Line\"},\"selection_glyph\":null},\"id\":\"92cb319e-e881-4180-999f-f54a2db49bae\",\"type\":\"GlyphRenderer\"},{\"attributes\":{\"line_color\":{\"value\":\"green\"},\"x\":{\"field\":\"x\"},\"y\":{\"field\":\"y\"}},\"id\":\"42f5bc0f-062b-4e65-8c93-82bc224c12a2\",\"type\":\"Line\"},{\"attributes\":{\"line_alpha\":{\"value\":0.1},\"line_color\":{\"value\":\"#1f77b4\"},\"x\":{\"field\":\"x\"},\"y\":{\"field\":\"y\"}},\"id\":\"437e43a7-5ea1-48f0-be4b-cf1a90b783f3\",\"type\":\"Line\"},{\"attributes\":{\"plot\":{\"id\":\"c3f10c08-8ab5-4956-96f4-86a4a08cc988\",\"subtype\":\"Figure\",\"type\":\"Plot\"},\"ticker\":{\"id\":\"fc515569-22af-4026-afd1-24f4ebf0ffa4\",\"type\":\"BasicTicker\"}},\"id\":\"8d832bdf-0683-4d16-a852-69281359e565\",\"type\":\"Grid\"},{\"attributes\":{\"line_color\":{\"value\":\"navy\"},\"x\":{\"field\":\"x\"},\"y\":{\"field\":\"y\"}},\"id\":\"f6e1dc65-f571-4884-8785-582aea7ed497\",\"type\":\"Line\"},{\"attributes\":{\"line_alpha\":{\"value\":0.1},\"line_color\":{\"value\":\"#1f77b4\"},\"x\":{\"field\":\"x\"},\"y\":{\"field\":\"y\"}},\"id\":\"7b15371d-50e4-4d3b-9295-aeaa5c2e2fdd\",\"type\":\"Line\"},{\"attributes\":{\"callback\":null},\"id\":\"8f3227e8-3143-41e7-8ccc-5c242e469317\",\"type\":\"DataRange1d\"},{\"attributes\":{\"callback\":null,\"column_names\":[\"y\",\"x\"],\"data\":{\"x\":[3.3,3.5999999999999996,3.8999999999999995,4.199999999999999,4.499999999999999,4.799999999999999,5.099999999999999,5.399999999999999,5.699999999999998,5.999999999999998,6.299999999999998,6.599999999999998,6.899999999999998],\"y\":[0.44419598182365005,0.5549251472751602,0.5820207911157624,0.5705701946058478,0.5418914588269061,0.5062519757468711,0.4685754601045159,0.4312207464139991,0.3950553658741577,0.3607490412123916,0.3251120773610322,0.2860310684176539,0.2387001633700579]}},\"id\":\"f105c987-9e1c-4214-8cb8-574095fc0898\",\"type\":\"ColumnDataSource\"},{\"attributes\":{\"data_source\":{\"id\":\"819f53e2-09af-4bbd-bf4e-3283575f2b2b\",\"type\":\"ColumnDataSource\"},\"glyph\":{\"id\":\"c09362a3-f5db-419c-a50d-558a9ef9526b\",\"type\":\"Line\"},\"hover_glyph\":null,\"nonselection_glyph\":{\"id\":\"7411ea05-6eee-4472-b5ce-4be2b4b4612f\",\"type\":\"Line\"},\"selection_glyph\":null},\"id\":\"73b70378-ea25-420a-a3a5-6bc988bcf86c\",\"type\":\"GlyphRenderer\"},{\"attributes\":{\"data_source\":{\"id\":\"7c138a11-b246-4da1-a6ca-cf631e6add04\",\"type\":\"ColumnDataSource\"},\"glyph\":{\"id\":\"42f5bc0f-062b-4e65-8c93-82bc224c12a2\",\"type\":\"Line\"},\"hover_glyph\":null,\"nonselection_glyph\":{\"id\":\"7b15371d-50e4-4d3b-9295-aeaa5c2e2fdd\",\"type\":\"Line\"},\"selection_glyph\":null,\"y_range_name\":\"cls\"},\"id\":\"cffc9bb3-60c4-4082-8d3d-83f5f8f5f5a7\",\"type\":\"GlyphRenderer\"},{\"attributes\":{},\"id\":\"7a8a0566-89a1-4f30-b191-488f70c3e383\",\"type\":\"BasicTicker\"},{\"attributes\":{\"plot\":{\"id\":\"c3f10c08-8ab5-4956-96f4-86a4a08cc988\",\"subtype\":\"Figure\",\"type\":\"Plot\"}},\"id\":\"8a3d692d-7f78-43e5-9496-b686534f61db\",\"type\":\"ResetTool\"},{\"attributes\":{\"line_color\":{\"value\":\"firebrick\"},\"x\":{\"field\":\"x\"},\"y\":{\"field\":\"y\"}},\"id\":\"8fa49948-428d-4ee3-8448-2221378575ff\",\"type\":\"Line\"},{\"attributes\":{\"data_source\":{\"id\":\"b5ce4f78-a860-471e-a1c7-1856c380d097\",\"type\":\"ColumnDataSource\"},\"glyph\":{\"id\":\"262ea820-85ad-4b43-83b7-629c9f8e4186\",\"type\":\"Line\"},\"hover_glyph\":null,\"nonselection_glyph\":{\"id\":\"69353bfe-e9f5-40f6-81d2-ecab0ace795f\",\"type\":\"Line\"},\"selection_glyph\":null,\"y_range_name\":\"cls\"},\"id\":\"241fb011-3837-4a9c-87e9-4e03896b8425\",\"type\":\"GlyphRenderer\"},{\"attributes\":{\"callback\":null,\"end\":10,\"start\":-5},\"id\":\"3fe62c88-58a4-46be-93d8-6c62986f9bce\",\"type\":\"Range1d\"},{\"attributes\":{\"callback\":null,\"column_names\":[\"y\",\"x\"],\"data\":{\"x\":[3.3,3.5999999999999996,3.8999999999999995,4.199999999999999,4.499999999999999,4.799999999999999,5.099999999999999,5.399999999999999,5.699999999999998,5.999999999999998,6.299999999999998,6.599999999999998,6.899999999999998],\"y\":[2.9424914398263753,1.3095876115431353,0.0957782122117434,-0.8355656856193796,-1.568177791703639,-2.156032420036286,-2.6353824375836834,-3.031506882307709,-3.3623570103351925,-3.6415246893695348,-3.875872813342994,-4.071096029982146,-4.228648824595753]}},\"id\":\"1bf81576-5977-4f4f-8a95-c8d0128d63f6\",\"type\":\"ColumnDataSource\"},{\"attributes\":{\"data_source\":{\"id\":\"d8f6a0e0-3cac-4555-a30c-6f1a833f91d6\",\"type\":\"ColumnDataSource\"},\"glyph\":{\"id\":\"1e5949d7-6a43-4160-9c7e-aba63b750552\",\"type\":\"Line\"},\"hover_glyph\":null,\"nonselection_glyph\":{\"id\":\"58d910e0-f84d-4bf2-a67c-17d1a521a593\",\"type\":\"Line\"},\"selection_glyph\":null,\"y_range_name\":\"cls\"},\"id\":\"fc5bc8a4-98e7-4374-96c6-8cd8c61a9d19\",\"type\":\"GlyphRenderer\"},{\"attributes\":{},\"id\":\"f315fdab-7f4a-4808-aa56-ec5dcf175f56\",\"type\":\"ToolEvents\"},{\"attributes\":{\"axis_label\":\"Flight Speed [m/s]\",\"formatter\":{\"id\":\"72673bf5-ddb8-4771-a97f-5697a696d74a\",\"type\":\"BasicTickFormatter\"},\"plot\":{\"id\":\"c3f10c08-8ab5-4956-96f4-86a4a08cc988\",\"subtype\":\"Figure\",\"type\":\"Plot\"},\"ticker\":{\"id\":\"fc515569-22af-4026-afd1-24f4ebf0ffa4\",\"type\":\"BasicTicker\"}},\"id\":\"0d3ae076-227b-4e55-b94c-32b5cbfb788f\",\"type\":\"LinearAxis\"},{\"attributes\":{},\"id\":\"d67f745c-d9c2-4bb6-bd93-3f55ec02c2c7\",\"type\":\"BasicTickFormatter\"},{\"attributes\":{\"line_alpha\":{\"value\":0.1},\"line_color\":{\"value\":\"#1f77b4\"},\"x\":{\"field\":\"x\"},\"y\":{\"field\":\"y\"}},\"id\":\"493dc51c-1dd5-47e5-a1d4-e8d4f2cf5018\",\"type\":\"Line\"},{\"attributes\":{},\"id\":\"72673bf5-ddb8-4771-a97f-5697a696d74a\",\"type\":\"BasicTickFormatter\"},{\"attributes\":{\"callback\":null,\"column_names\":[\"y\",\"x\"],\"data\":{\"x\":[3.3,3.5999999999999996,3.8999999999999995,4.199999999999999,4.499999999999999,4.799999999999999,5.099999999999999,5.399999999999999,5.699999999999998,5.999999999999998,6.299999999999998,6.599999999999998,6.899999999999998],\"y\":[0.8918456233696951,0.7322766531548763,0.6136620032694565,0.5226501603680818,0.45105858387108716,0.39361285065991813,0.34677029487210365,0.30806062402272794,0.2757296236843363,0.24844908315942046,0.22554835369421083,0.20647094870466814,0.1910747344540153]}},\"id\":\"7c138a11-b246-4da1-a6ca-cf631e6add04\",\"type\":\"ColumnDataSource\"},{\"attributes\":{\"plot\":{\"id\":\"c3f10c08-8ab5-4956-96f4-86a4a08cc988\",\"subtype\":\"Figure\",\"type\":\"Plot\"}},\"id\":\"9de96c4b-ed29-46dc-a995-3d5a5791b05f\",\"type\":\"WheelZoomTool\"},{\"attributes\":{\"plot\":null,\"text\":\"Equilibrium conditions\"},\"id\":\"5177e5fe-dc9d-4684-97ab-25e210be104e\",\"type\":\"Title\"},{\"attributes\":{\"line_color\":{\"value\":\"cadetblue\"},\"x\":{\"field\":\"x\"},\"y\":{\"field\":\"y\"}},\"id\":\"262ea820-85ad-4b43-83b7-629c9f8e4186\",\"type\":\"Line\"},{\"attributes\":{},\"id\":\"fc515569-22af-4026-afd1-24f4ebf0ffa4\",\"type\":\"BasicTicker\"},{\"attributes\":{\"callback\":null,\"column_names\":[\"y\",\"x\"],\"data\":{\"x\":[3.3,3.5999999999999996,3.8999999999999995,4.199999999999999,4.499999999999999,4.799999999999999,5.099999999999999,5.399999999999999,5.699999999999998,5.999999999999998,6.299999999999998,6.599999999999998,6.899999999999998],\"y\":[0.9564,0.9518,0.9113,0.8576,0.801,0.7462,0.6954,0.6496,0.6091,0.5737,0.5466,0.5299,0.5285]}},\"id\":\"b5ce4f78-a860-471e-a1c7-1856c380d097\",\"type\":\"ColumnDataSource\"},{\"attributes\":{\"line_alpha\":{\"value\":0.1},\"line_color\":{\"value\":\"#1f77b4\"},\"x\":{\"field\":\"x\"},\"y\":{\"field\":\"y\"}},\"id\":\"f608832e-b8e9-4046-ab43-17706dbcff9a\",\"type\":\"Line\"},{\"attributes\":{\"plot\":{\"id\":\"c3f10c08-8ab5-4956-96f4-86a4a08cc988\",\"subtype\":\"Figure\",\"type\":\"Plot\"}},\"id\":\"29691d6b-72ea-4fce-8271-0f7dbc576608\",\"type\":\"SaveTool\"},{\"attributes\":{\"line_alpha\":{\"value\":0.1},\"line_color\":{\"value\":\"#1f77b4\"},\"x\":{\"field\":\"x\"},\"y\":{\"field\":\"y\"}},\"id\":\"69353bfe-e9f5-40f6-81d2-ecab0ace795f\",\"type\":\"Line\"},{\"attributes\":{\"line_color\":{\"value\":\"red\"},\"x\":{\"field\":\"x\"},\"y\":{\"field\":\"y\"}},\"id\":\"c09362a3-f5db-419c-a50d-558a9ef9526b\",\"type\":\"Line\"},{\"attributes\":{\"data_source\":{\"id\":\"f105c987-9e1c-4214-8cb8-574095fc0898\",\"type\":\"ColumnDataSource\"},\"glyph\":{\"id\":\"b48af31c-b4e8-4522-b844-5835997202f2\",\"type\":\"Line\"},\"hover_glyph\":null,\"nonselection_glyph\":{\"id\":\"f608832e-b8e9-4046-ab43-17706dbcff9a\",\"type\":\"Line\"},\"selection_glyph\":null,\"y_range_name\":\"cls\"},\"id\":\"c9273220-9fb3-4de9-8486-9f38f874f9f2\",\"type\":\"GlyphRenderer\"},{\"attributes\":{\"callback\":null,\"column_names\":[\"y\",\"x\"],\"data\":{\"x\":[3.3,3.5999999999999996,3.8999999999999995,4.199999999999999,4.499999999999999,4.799999999999999,5.099999999999999,5.399999999999999,5.699999999999998,5.999999999999998,6.299999999999998,6.599999999999998,6.899999999999998],\"y\":[0.8444,0.6955,0.5831,0.496,0.427,0.3713,0.3256,0.2877,0.2557,0.2285,0.2048,0.1836,0.1638]}},\"id\":\"d8f6a0e0-3cac-4555-a30c-6f1a833f91d6\",\"type\":\"ColumnDataSource\"},{\"attributes\":{\"callback\":null,\"column_names\":[\"y\",\"x\"],\"data\":{\"x\":[3.3,3.5999999999999996,3.8999999999999995,4.199999999999999,4.499999999999999,4.799999999999999,5.099999999999999,5.399999999999999,5.699999999999998,5.999999999999998,6.299999999999998,6.599999999999998,6.899999999999998],\"y\":[3.18256,1.60171,0.40836,-0.51753,-1.25184,-1.84497,-2.33156,-2.73633,-3.07733,-3.36759,-3.62022,-3.84478,-4.05163]}},\"id\":\"552c0d22-e8c9-40dd-84a9-94c2e9dffc4b\",\"type\":\"ColumnDataSource\"},{\"attributes\":{\"formatter\":{\"id\":\"57bbce55-44a0-46df-8233-8fe0214f56cb\",\"type\":\"BasicTickFormatter\"},\"plot\":{\"id\":\"c3f10c08-8ab5-4956-96f4-86a4a08cc988\",\"subtype\":\"Figure\",\"type\":\"Plot\"},\"ticker\":{\"id\":\"7a8a0566-89a1-4f30-b191-488f70c3e383\",\"type\":\"BasicTicker\"},\"y_range_name\":\"cls\"},\"id\":\"6d1ba2b8-4975-4eba-beeb-bd9c98419a06\",\"type\":\"LinearAxis\"},{\"attributes\":{},\"id\":\"57bbce55-44a0-46df-8233-8fe0214f56cb\",\"type\":\"BasicTickFormatter\"},{\"attributes\":{\"callback\":null,\"column_names\":[\"y\",\"x\"],\"data\":{\"x\":[3.3,3.5999999999999996,3.8999999999999995,4.199999999999999,4.499999999999999,4.799999999999999,5.099999999999999,5.399999999999999,5.699999999999998,5.999999999999998,6.299999999999998,6.599999999999998,6.899999999999998],\"y\":[-1.1609600937129572,1.8690619572915637,3.424748924395728,4.211615646951505,4.582375623129535,4.720551333929939,4.724520304777143,4.6493240185198506,4.523859751168018,4.370169554464689,4.154870547113952,3.856991611899195,3.417349713766337]}},\"id\":\"80b51a71-99ce-4655-99e5-b1c1ea1a16f8\",\"type\":\"ColumnDataSource\"},{\"attributes\":{\"plot\":{\"id\":\"c3f10c08-8ab5-4956-96f4-86a4a08cc988\",\"subtype\":\"Figure\",\"type\":\"Plot\"}},\"id\":\"2a72155d-fa79-4c1c-a622-2b1043cebc98\",\"type\":\"PanTool\"},{\"attributes\":{\"axis_label\":\"AoA and d_p [deg]\",\"formatter\":{\"id\":\"d67f745c-d9c2-4bb6-bd93-3f55ec02c2c7\",\"type\":\"BasicTickFormatter\"},\"plot\":{\"id\":\"c3f10c08-8ab5-4956-96f4-86a4a08cc988\",\"subtype\":\"Figure\",\"type\":\"Plot\"},\"ticker\":{\"id\":\"df9f241e-1a46-462e-939a-7952db4abeee\",\"type\":\"BasicTicker\"}},\"id\":\"39449631-8570-4cf6-96e1-b7eca7ab9e9d\",\"type\":\"LinearAxis\"},{\"attributes\":{\"line_alpha\":{\"value\":0.1},\"line_color\":{\"value\":\"#1f77b4\"},\"x\":{\"field\":\"x\"},\"y\":{\"field\":\"y\"}},\"id\":\"58d910e0-f84d-4bf2-a67c-17d1a521a593\",\"type\":\"Line\"},{\"attributes\":{\"line_color\":{\"value\":\"teal\"},\"x\":{\"field\":\"x\"},\"y\":{\"field\":\"y\"}},\"id\":\"b48af31c-b4e8-4522-b844-5835997202f2\",\"type\":\"Line\"},{\"attributes\":{\"below\":[{\"id\":\"0d3ae076-227b-4e55-b94c-32b5cbfb788f\",\"type\":\"LinearAxis\"}],\"extra_y_ranges\":{\"cls\":{\"id\":\"927b1047-8ff4-4229-aead-96f0ef6a36a5\",\"type\":\"Range1d\"}},\"left\":[{\"id\":\"39449631-8570-4cf6-96e1-b7eca7ab9e9d\",\"type\":\"LinearAxis\"}],\"plot_height\":350,\"plot_width\":900,\"renderers\":[{\"id\":\"0d3ae076-227b-4e55-b94c-32b5cbfb788f\",\"type\":\"LinearAxis\"},{\"id\":\"8d832bdf-0683-4d16-a852-69281359e565\",\"type\":\"Grid\"},{\"id\":\"39449631-8570-4cf6-96e1-b7eca7ab9e9d\",\"type\":\"LinearAxis\"},{\"id\":\"69890f63-e5a4-4044-a678-4b9eae63b32e\",\"type\":\"Grid\"},{\"id\":\"1698f4f3-ca0e-4f35-859d-1bfe2201d4ba\",\"type\":\"BoxAnnotation\"},{\"id\":\"1419c42a-1381-4d1d-9c75-b91e63ef33f0\",\"type\":\"Legend\"},{\"id\":\"997f99b1-215d-44b3-823c-381e3d512657\",\"type\":\"GlyphRenderer\"},{\"id\":\"92cb319e-e881-4180-999f-f54a2db49bae\",\"type\":\"GlyphRenderer\"},{\"id\":\"5c5c3e37-69c3-4a83-917b-bf117aa6abe8\",\"type\":\"GlyphRenderer\"},{\"id\":\"73b70378-ea25-420a-a3a5-6bc988bcf86c\",\"type\":\"GlyphRenderer\"},{\"id\":\"6d1ba2b8-4975-4eba-beeb-bd9c98419a06\",\"type\":\"LinearAxis\"},{\"id\":\"cffc9bb3-60c4-4082-8d3d-83f5f8f5f5a7\",\"type\":\"GlyphRenderer\"},{\"id\":\"c9273220-9fb3-4de9-8486-9f38f874f9f2\",\"type\":\"GlyphRenderer\"},{\"id\":\"fc5bc8a4-98e7-4374-96c6-8cd8c61a9d19\",\"type\":\"GlyphRenderer\"},{\"id\":\"241fb011-3837-4a9c-87e9-4e03896b8425\",\"type\":\"GlyphRenderer\"}],\"right\":[{\"id\":\"6d1ba2b8-4975-4eba-beeb-bd9c98419a06\",\"type\":\"LinearAxis\"}],\"title\":{\"id\":\"5177e5fe-dc9d-4684-97ab-25e210be104e\",\"type\":\"Title\"},\"tool_events\":{\"id\":\"f315fdab-7f4a-4808-aa56-ec5dcf175f56\",\"type\":\"ToolEvents\"},\"toolbar\":{\"id\":\"48ec92ce-2c3a-4679-845f-3fe6160867a6\",\"type\":\"Toolbar\"},\"toolbar_location\":\"above\",\"x_range\":{\"id\":\"8f3227e8-3143-41e7-8ccc-5c242e469317\",\"type\":\"DataRange1d\"},\"y_range\":{\"id\":\"3fe62c88-58a4-46be-93d8-6c62986f9bce\",\"type\":\"Range1d\"}},\"id\":\"c3f10c08-8ab5-4956-96f4-86a4a08cc988\",\"subtype\":\"Figure\",\"type\":\"Plot\"},{\"attributes\":{\"callback\":null,\"end\":1.2},\"id\":\"927b1047-8ff4-4229-aead-96f0ef6a36a5\",\"type\":\"Range1d\"},{\"attributes\":{\"data_source\":{\"id\":\"552c0d22-e8c9-40dd-84a9-94c2e9dffc4b\",\"type\":\"ColumnDataSource\"},\"glyph\":{\"id\":\"1f18d6e3-9415-4e0a-aadc-1aebc4c6e806\",\"type\":\"Line\"},\"hover_glyph\":null,\"nonselection_glyph\":{\"id\":\"437e43a7-5ea1-48f0-be4b-cf1a90b783f3\",\"type\":\"Line\"},\"selection_glyph\":null},\"id\":\"5c5c3e37-69c3-4a83-917b-bf117aa6abe8\",\"type\":\"GlyphRenderer\"},{\"attributes\":{\"line_color\":{\"value\":\"darkgreen\"},\"x\":{\"field\":\"x\"},\"y\":{\"field\":\"y\"}},\"id\":\"1e5949d7-6a43-4160-9c7e-aba63b750552\",\"type\":\"Line\"},{\"attributes\":{\"active_drag\":\"auto\",\"active_scroll\":\"auto\",\"active_tap\":\"auto\",\"tools\":[{\"id\":\"2a72155d-fa79-4c1c-a622-2b1043cebc98\",\"type\":\"PanTool\"},{\"id\":\"9de96c4b-ed29-46dc-a995-3d5a5791b05f\",\"type\":\"WheelZoomTool\"},{\"id\":\"5def0a28-5a56-4e3a-9aa6-5903c77d7587\",\"type\":\"BoxZoomTool\"},{\"id\":\"29691d6b-72ea-4fce-8271-0f7dbc576608\",\"type\":\"SaveTool\"},{\"id\":\"8a3d692d-7f78-43e5-9496-b686534f61db\",\"type\":\"ResetTool\"},{\"id\":\"4dd0a5e3-2415-4c8e-be4f-d138da61df96\",\"type\":\"HelpTool\"}]},\"id\":\"48ec92ce-2c3a-4679-845f-3fe6160867a6\",\"type\":\"Toolbar\"},{\"attributes\":{\"plot\":{\"id\":\"c3f10c08-8ab5-4956-96f4-86a4a08cc988\",\"subtype\":\"Figure\",\"type\":\"Plot\"}},\"id\":\"4dd0a5e3-2415-4c8e-be4f-d138da61df96\",\"type\":\"HelpTool\"},{\"attributes\":{\"callback\":null,\"column_names\":[\"y\",\"x\"],\"data\":{\"x\":[3.3,3.5999999999999996,3.8999999999999995,4.199999999999999,4.499999999999999,4.799999999999999,5.099999999999999,5.399999999999999,5.699999999999998,5.999999999999998,6.299999999999998,6.599999999999998,6.899999999999998],\"y\":[6.03916,7.53489,8.16663,8.36006,8.32793,8.18287,7.98686,7.77675,7.5757,7.39095,7.28183,7.28357,7.47254]}},\"id\":\"819f53e2-09af-4bbd-bf4e-3283575f2b2b\",\"type\":\"ColumnDataSource\"},{\"attributes\":{\"line_color\":{\"value\":\"blue\"},\"x\":{\"field\":\"x\"},\"y\":{\"field\":\"y\"}},\"id\":\"1f18d6e3-9415-4e0a-aadc-1aebc4c6e806\",\"type\":\"Line\"},{\"attributes\":{\"overlay\":{\"id\":\"1698f4f3-ca0e-4f35-859d-1bfe2201d4ba\",\"type\":\"BoxAnnotation\"},\"plot\":{\"id\":\"c3f10c08-8ab5-4956-96f4-86a4a08cc988\",\"subtype\":\"Figure\",\"type\":\"Plot\"}},\"id\":\"5def0a28-5a56-4e3a-9aa6-5903c77d7587\",\"type\":\"BoxZoomTool\"},{\"attributes\":{\"line_alpha\":{\"value\":0.1},\"line_color\":{\"value\":\"#1f77b4\"},\"x\":{\"field\":\"x\"},\"y\":{\"field\":\"y\"}},\"id\":\"7411ea05-6eee-4472-b5ce-4be2b4b4612f\",\"type\":\"Line\"},{\"attributes\":{\"data_source\":{\"id\":\"1bf81576-5977-4f4f-8a95-c8d0128d63f6\",\"type\":\"ColumnDataSource\"},\"glyph\":{\"id\":\"f6e1dc65-f571-4884-8785-582aea7ed497\",\"type\":\"Line\"},\"hover_glyph\":null,\"nonselection_glyph\":{\"id\":\"493dc51c-1dd5-47e5-a1d4-e8d4f2cf5018\",\"type\":\"Line\"},\"selection_glyph\":null},\"id\":\"997f99b1-215d-44b3-823c-381e3d512657\",\"type\":\"GlyphRenderer\"},{\"attributes\":{\"bottom_units\":\"screen\",\"fill_alpha\":{\"value\":0.5},\"fill_color\":{\"value\":\"lightgrey\"},\"left_units\":\"screen\",\"level\":\"overlay\",\"line_alpha\":{\"value\":1.0},\"line_color\":{\"value\":\"black\"},\"line_dash\":[4,4],\"line_width\":{\"value\":2},\"plot\":null,\"render_mode\":\"css\",\"right_units\":\"screen\",\"top_units\":\"screen\"},\"id\":\"1698f4f3-ca0e-4f35-859d-1bfe2201d4ba\",\"type\":\"BoxAnnotation\"},{\"attributes\":{},\"id\":\"df9f241e-1a46-462e-939a-7952db4abeee\",\"type\":\"BasicTicker\"},{\"attributes\":{\"legends\":[[\"AoA\",[{\"id\":\"997f99b1-215d-44b3-823c-381e3d512657\",\"type\":\"GlyphRenderer\"}]],[\"dp\",[{\"id\":\"92cb319e-e881-4180-999f-f54a2db49bae\",\"type\":\"GlyphRenderer\"}]],[\"AVL_AoA\",[{\"id\":\"5c5c3e37-69c3-4a83-917b-bf117aa6abe8\",\"type\":\"GlyphRenderer\"}]],[\"AVL_dp\",[{\"id\":\"73b70378-ea25-420a-a3a5-6bc988bcf86c\",\"type\":\"GlyphRenderer\"}]],[\"Cl_w\",[{\"id\":\"cffc9bb3-60c4-4082-8d3d-83f5f8f5f5a7\",\"type\":\"GlyphRenderer\"}]],[\"Cl_c\",[{\"id\":\"c9273220-9fb3-4de9-8486-9f38f874f9f2\",\"type\":\"GlyphRenderer\"}]],[\"AVL_Cl_w\",[{\"id\":\"fc5bc8a4-98e7-4374-96c6-8cd8c61a9d19\",\"type\":\"GlyphRenderer\"}]],[\"AVL_Cl_c\",[{\"id\":\"241fb011-3837-4a9c-87e9-4e03896b8425\",\"type\":\"GlyphRenderer\"}]]],\"plot\":{\"id\":\"c3f10c08-8ab5-4956-96f4-86a4a08cc988\",\"subtype\":\"Figure\",\"type\":\"Plot\"}},\"id\":\"1419c42a-1381-4d1d-9c75-b91e63ef33f0\",\"type\":\"Legend\"}],\"root_ids\":[\"c3f10c08-8ab5-4956-96f4-86a4a08cc988\"]},\"title\":\"Bokeh Application\",\"version\":\"0.12.1\"}};\n",
       "            var render_items = [{\"docid\":\"500d27e8-145b-4374-b09a-44aef582b2a2\",\"elementid\":\"135feb75-43a5-416d-aa66-05f08af43291\",\"modelid\":\"c3f10c08-8ab5-4956-96f4-86a4a08cc988\",\"notebook_comms_target\":\"9b5946fc-89af-4e21-b287-6d73c233881c\"}];\n",
       "            \n",
       "            Bokeh.embed.embed_items(docs_json, render_items);\n",
       "        });\n",
       "      },\n",
       "      function(Bokeh) {\n",
       "      }\n",
       "    ];\n",
       "  \n",
       "    function run_inline_js() {\n",
       "      for (var i = 0; i < inline_js.length; i++) {\n",
       "        inline_js[i](window.Bokeh);\n",
       "      }\n",
       "    }\n",
       "  \n",
       "    if (window._bokeh_is_loading === 0) {\n",
       "      console.log(\"Bokeh: BokehJS loaded, going straight to plotting\");\n",
       "      run_inline_js();\n",
       "    } else {\n",
       "      load_libs(js_urls, function() {\n",
       "        console.log(\"Bokeh: BokehJS plotting callback run at\", now());\n",
       "        run_inline_js();\n",
       "      });\n",
       "    }\n",
       "  }(this));\n",
       "</script>"
      ]
     },
     "metadata": {},
     "output_type": "display_data"
    },
    {
     "data": {
      "text/html": [
       "<p><code>&lt;Bokeh Notebook handle for <strong>In[11]</strong>&gt;</code></p>"
      ],
      "text/plain": [
       "<bokeh.io._CommsHandle at 0x7fd590445950>"
      ]
     },
     "execution_count": 11,
     "metadata": {},
     "output_type": "execute_result"
    }
   ],
   "source": [
    "show(p)"
   ]
  },
  {
   "cell_type": "code",
   "execution_count": 12,
   "metadata": {
    "collapsed": false
   },
   "outputs": [
    {
     "data": {
      "text/plain": [
       "<function __main__.update>"
      ]
     },
     "execution_count": 12,
     "metadata": {},
     "output_type": "execute_result"
    }
   ],
   "source": [
    "wd.interact(update,iw=(-2,6,0.1),d_cg=(-0.1,0.2,0.01),mass=(90.,110.,0.5))"
   ]
  },
  {
   "cell_type": "code",
   "execution_count": 13,
   "metadata": {
    "collapsed": false
   },
   "outputs": [
    {
     "data": {
      "text/plain": [
       "<bokeh.models.renderers.GlyphRenderer at 0x7fd5903a4990>"
      ]
     },
     "execution_count": 13,
     "metadata": {},
     "output_type": "execute_result"
    }
   ],
   "source": [
    "p99 = figure(title='Equilibrium conditions',\n",
    "           x_axis_label='AoA [deg]',\n",
    "           y_axis_label='Cd',\n",
    "           width=900, height=350, toolbar_location='above')\n",
    "\n",
    "p99.line(avl_eq[:,1],avl_eq[:,6], line_color='blue',legend='Cd_tot')\n",
    "p99.line(avl_eq[:,1],avl_eq[:,8], line_color='red',legend='Cd_ind')"
   ]
  },
  {
   "cell_type": "code",
   "execution_count": 14,
   "metadata": {
    "collapsed": false
   },
   "outputs": [
    {
     "data": {
      "text/html": [
       "\n",
       "\n",
       "    <div class=\"bk-root\">\n",
       "        <div class=\"plotdiv\" id=\"0227b8c5-7a3b-4767-9c73-246411d4226b\"></div>\n",
       "    </div>\n",
       "<script type=\"text/javascript\">\n",
       "  \n",
       "  (function(global) {\n",
       "    function now() {\n",
       "      return new Date();\n",
       "    }\n",
       "  \n",
       "    var force = \"\";\n",
       "  \n",
       "    if (typeof (window._bokeh_onload_callbacks) === \"undefined\" || force !== \"\") {\n",
       "      window._bokeh_onload_callbacks = [];\n",
       "      window._bokeh_is_loading = undefined;\n",
       "    }\n",
       "  \n",
       "    function run_callbacks() {\n",
       "      window._bokeh_onload_callbacks.forEach(function(callback) { callback() });\n",
       "      delete window._bokeh_onload_callbacks\n",
       "      console.info(\"Bokeh: all callbacks have finished\");\n",
       "    }\n",
       "  \n",
       "    function load_libs(js_urls, callback) {\n",
       "      window._bokeh_onload_callbacks.push(callback);\n",
       "      if (window._bokeh_is_loading > 0) {\n",
       "        console.log(\"Bokeh: BokehJS is being loaded, scheduling callback at\", now());\n",
       "        return null;\n",
       "      }\n",
       "      if (js_urls == null || js_urls.length === 0) {\n",
       "        run_callbacks();\n",
       "        return null;\n",
       "      }\n",
       "      console.log(\"Bokeh: BokehJS not loaded, scheduling load and callback at\", now());\n",
       "      window._bokeh_is_loading = js_urls.length;\n",
       "      for (var i = 0; i < js_urls.length; i++) {\n",
       "        var url = js_urls[i];\n",
       "        var s = document.createElement('script');\n",
       "        s.src = url;\n",
       "        s.async = false;\n",
       "        s.onreadystatechange = s.onload = function() {\n",
       "          window._bokeh_is_loading--;\n",
       "          if (window._bokeh_is_loading === 0) {\n",
       "            console.log(\"Bokeh: all BokehJS libraries loaded\");\n",
       "            run_callbacks()\n",
       "          }\n",
       "        };\n",
       "        s.onerror = function() {\n",
       "          console.warn(\"failed to load library \" + url);\n",
       "        };\n",
       "        console.log(\"Bokeh: injecting script tag for BokehJS library: \", url);\n",
       "        document.getElementsByTagName(\"head\")[0].appendChild(s);\n",
       "      }\n",
       "    };var element = document.getElementById(\"0227b8c5-7a3b-4767-9c73-246411d4226b\");\n",
       "    if (element == null) {\n",
       "      console.log(\"Bokeh: ERROR: autoload.js configured with elementid '0227b8c5-7a3b-4767-9c73-246411d4226b' but no matching script tag was found. \")\n",
       "      return false;\n",
       "    }\n",
       "  \n",
       "    var js_urls = [];\n",
       "  \n",
       "    var inline_js = [\n",
       "      function(Bokeh) {\n",
       "        Bokeh.$(function() {\n",
       "            var docs_json = {\"b8bf359d-8f01-4b42-b360-c8123488396c\":{\"roots\":{\"references\":[{\"attributes\":{\"plot\":{\"id\":\"3eae0a97-2e5a-4cad-b978-4fbc998a9459\",\"subtype\":\"Figure\",\"type\":\"Plot\"},\"ticker\":{\"id\":\"5e6eac71-65ba-43a0-b527-82c3159a12b1\",\"type\":\"BasicTicker\"}},\"id\":\"2e08209f-47b3-418b-9d62-48a6bcb8860d\",\"type\":\"Grid\"},{\"attributes\":{\"line_color\":{\"value\":\"blue\"},\"x\":{\"field\":\"x\"},\"y\":{\"field\":\"y\"}},\"id\":\"6205e689-97fe-4569-99b5-06ccb3b7e30d\",\"type\":\"Line\"},{\"attributes\":{\"line_color\":{\"value\":\"red\"},\"x\":{\"field\":\"x\"},\"y\":{\"field\":\"y\"}},\"id\":\"20322d8b-62e7-4fa6-b73e-9515250e01b2\",\"type\":\"Line\"},{\"attributes\":{},\"id\":\"ec915537-7259-4641-ac7f-1ebb0839fa32\",\"type\":\"BasicTickFormatter\"},{\"attributes\":{\"active_drag\":\"auto\",\"active_scroll\":\"auto\",\"active_tap\":\"auto\",\"tools\":[{\"id\":\"208e8838-ad32-46ec-a306-557ccf39a021\",\"type\":\"PanTool\"},{\"id\":\"b70fb004-31c3-4949-a64c-5204ec49e030\",\"type\":\"WheelZoomTool\"},{\"id\":\"5ae99440-953c-4a0b-a824-682f67289c5c\",\"type\":\"BoxZoomTool\"},{\"id\":\"ac091d52-75de-4c2e-92e8-a027a3a79efa\",\"type\":\"SaveTool\"},{\"id\":\"837e9d75-9a76-495e-b3bb-37e6408f466c\",\"type\":\"ResetTool\"},{\"id\":\"72c2466a-b345-40cb-8886-cbc642c6fa27\",\"type\":\"HelpTool\"}]},\"id\":\"f0808581-c737-42e3-a04c-42adbc383a78\",\"type\":\"Toolbar\"},{\"attributes\":{\"overlay\":{\"id\":\"46936aaf-c81c-45ff-9186-524062c1936f\",\"type\":\"BoxAnnotation\"},\"plot\":{\"id\":\"3eae0a97-2e5a-4cad-b978-4fbc998a9459\",\"subtype\":\"Figure\",\"type\":\"Plot\"}},\"id\":\"5ae99440-953c-4a0b-a824-682f67289c5c\",\"type\":\"BoxZoomTool\"},{\"attributes\":{\"data_source\":{\"id\":\"a8ce3b10-8384-4058-865c-e4b3f8041b6b\",\"type\":\"ColumnDataSource\"},\"glyph\":{\"id\":\"6205e689-97fe-4569-99b5-06ccb3b7e30d\",\"type\":\"Line\"},\"hover_glyph\":null,\"nonselection_glyph\":{\"id\":\"4cafca7a-69ff-4d64-b9c9-35a33715e988\",\"type\":\"Line\"},\"selection_glyph\":null},\"id\":\"1d5d926d-00e6-45cf-ac1d-718fb8db84a2\",\"type\":\"GlyphRenderer\"},{\"attributes\":{\"below\":[{\"id\":\"5cd92300-fa90-4962-8ffb-8283f1e1411b\",\"type\":\"LinearAxis\"}],\"left\":[{\"id\":\"62b0e9fb-fd01-40b4-973a-78068bf251c0\",\"type\":\"LinearAxis\"}],\"plot_height\":350,\"plot_width\":900,\"renderers\":[{\"id\":\"5cd92300-fa90-4962-8ffb-8283f1e1411b\",\"type\":\"LinearAxis\"},{\"id\":\"2e08209f-47b3-418b-9d62-48a6bcb8860d\",\"type\":\"Grid\"},{\"id\":\"62b0e9fb-fd01-40b4-973a-78068bf251c0\",\"type\":\"LinearAxis\"},{\"id\":\"6f69ea9d-7159-4449-a75f-b856d5921926\",\"type\":\"Grid\"},{\"id\":\"46936aaf-c81c-45ff-9186-524062c1936f\",\"type\":\"BoxAnnotation\"},{\"id\":\"35f53143-6be5-4d00-93a2-611d42ac6ed1\",\"type\":\"Legend\"},{\"id\":\"1d5d926d-00e6-45cf-ac1d-718fb8db84a2\",\"type\":\"GlyphRenderer\"},{\"id\":\"f527d73b-5930-4209-802f-8ed0be92647a\",\"type\":\"GlyphRenderer\"}],\"title\":{\"id\":\"ce4b3797-46ac-4c31-80d7-69d1918850e5\",\"type\":\"Title\"},\"tool_events\":{\"id\":\"2c0bf0ef-c27b-4dc1-9385-3b929411eaf0\",\"type\":\"ToolEvents\"},\"toolbar\":{\"id\":\"f0808581-c737-42e3-a04c-42adbc383a78\",\"type\":\"Toolbar\"},\"toolbar_location\":\"above\",\"x_range\":{\"id\":\"8bba619b-f26a-4362-9df6-7be549f6c3e1\",\"type\":\"DataRange1d\"},\"y_range\":{\"id\":\"822ea5cd-9377-43d1-9b26-8fb47de0aa7b\",\"type\":\"DataRange1d\"}},\"id\":\"3eae0a97-2e5a-4cad-b978-4fbc998a9459\",\"subtype\":\"Figure\",\"type\":\"Plot\"},{\"attributes\":{\"plot\":{\"id\":\"3eae0a97-2e5a-4cad-b978-4fbc998a9459\",\"subtype\":\"Figure\",\"type\":\"Plot\"}},\"id\":\"208e8838-ad32-46ec-a306-557ccf39a021\",\"type\":\"PanTool\"},{\"attributes\":{},\"id\":\"55ecd123-daca-4d6d-b136-886d2636da0a\",\"type\":\"BasicTicker\"},{\"attributes\":{\"axis_label\":\"AoA [deg]\",\"formatter\":{\"id\":\"ec915537-7259-4641-ac7f-1ebb0839fa32\",\"type\":\"BasicTickFormatter\"},\"plot\":{\"id\":\"3eae0a97-2e5a-4cad-b978-4fbc998a9459\",\"subtype\":\"Figure\",\"type\":\"Plot\"},\"ticker\":{\"id\":\"5e6eac71-65ba-43a0-b527-82c3159a12b1\",\"type\":\"BasicTicker\"}},\"id\":\"5cd92300-fa90-4962-8ffb-8283f1e1411b\",\"type\":\"LinearAxis\"},{\"attributes\":{\"dimension\":1,\"plot\":{\"id\":\"3eae0a97-2e5a-4cad-b978-4fbc998a9459\",\"subtype\":\"Figure\",\"type\":\"Plot\"},\"ticker\":{\"id\":\"55ecd123-daca-4d6d-b136-886d2636da0a\",\"type\":\"BasicTicker\"}},\"id\":\"6f69ea9d-7159-4449-a75f-b856d5921926\",\"type\":\"Grid\"},{\"attributes\":{\"axis_label\":\"Cd\",\"formatter\":{\"id\":\"afba62f2-a47e-4210-af24-0f266c08febf\",\"type\":\"BasicTickFormatter\"},\"plot\":{\"id\":\"3eae0a97-2e5a-4cad-b978-4fbc998a9459\",\"subtype\":\"Figure\",\"type\":\"Plot\"},\"ticker\":{\"id\":\"55ecd123-daca-4d6d-b136-886d2636da0a\",\"type\":\"BasicTicker\"}},\"id\":\"62b0e9fb-fd01-40b4-973a-78068bf251c0\",\"type\":\"LinearAxis\"},{\"attributes\":{\"plot\":null,\"text\":\"Equilibrium conditions\"},\"id\":\"ce4b3797-46ac-4c31-80d7-69d1918850e5\",\"type\":\"Title\"},{\"attributes\":{},\"id\":\"5e6eac71-65ba-43a0-b527-82c3159a12b1\",\"type\":\"BasicTicker\"},{\"attributes\":{},\"id\":\"afba62f2-a47e-4210-af24-0f266c08febf\",\"type\":\"BasicTickFormatter\"},{\"attributes\":{\"line_alpha\":{\"value\":0.1},\"line_color\":{\"value\":\"#1f77b4\"},\"x\":{\"field\":\"x\"},\"y\":{\"field\":\"y\"}},\"id\":\"97525331-ca4b-42af-ac4d-3610585014b1\",\"type\":\"Line\"},{\"attributes\":{\"bottom_units\":\"screen\",\"fill_alpha\":{\"value\":0.5},\"fill_color\":{\"value\":\"lightgrey\"},\"left_units\":\"screen\",\"level\":\"overlay\",\"line_alpha\":{\"value\":1.0},\"line_color\":{\"value\":\"black\"},\"line_dash\":[4,4],\"line_width\":{\"value\":2},\"plot\":null,\"render_mode\":\"css\",\"right_units\":\"screen\",\"top_units\":\"screen\"},\"id\":\"46936aaf-c81c-45ff-9186-524062c1936f\",\"type\":\"BoxAnnotation\"},{\"attributes\":{\"plot\":{\"id\":\"3eae0a97-2e5a-4cad-b978-4fbc998a9459\",\"subtype\":\"Figure\",\"type\":\"Plot\"}},\"id\":\"837e9d75-9a76-495e-b3bb-37e6408f466c\",\"type\":\"ResetTool\"},{\"attributes\":{\"callback\":null},\"id\":\"8bba619b-f26a-4362-9df6-7be549f6c3e1\",\"type\":\"DataRange1d\"},{\"attributes\":{\"callback\":null},\"id\":\"822ea5cd-9377-43d1-9b26-8fb47de0aa7b\",\"type\":\"DataRange1d\"},{\"attributes\":{\"plot\":{\"id\":\"3eae0a97-2e5a-4cad-b978-4fbc998a9459\",\"subtype\":\"Figure\",\"type\":\"Plot\"}},\"id\":\"72c2466a-b345-40cb-8886-cbc642c6fa27\",\"type\":\"HelpTool\"},{\"attributes\":{\"legends\":[[\"Cd_tot\",[{\"id\":\"1d5d926d-00e6-45cf-ac1d-718fb8db84a2\",\"type\":\"GlyphRenderer\"}]],[\"Cd_ind\",[{\"id\":\"f527d73b-5930-4209-802f-8ed0be92647a\",\"type\":\"GlyphRenderer\"}]]],\"plot\":{\"id\":\"3eae0a97-2e5a-4cad-b978-4fbc998a9459\",\"subtype\":\"Figure\",\"type\":\"Plot\"}},\"id\":\"35f53143-6be5-4d00-93a2-611d42ac6ed1\",\"type\":\"Legend\"},{\"attributes\":{\"data_source\":{\"id\":\"5453ba21-4990-435e-b872-b90c65f7a7f5\",\"type\":\"ColumnDataSource\"},\"glyph\":{\"id\":\"20322d8b-62e7-4fa6-b73e-9515250e01b2\",\"type\":\"Line\"},\"hover_glyph\":null,\"nonselection_glyph\":{\"id\":\"97525331-ca4b-42af-ac4d-3610585014b1\",\"type\":\"Line\"},\"selection_glyph\":null},\"id\":\"f527d73b-5930-4209-802f-8ed0be92647a\",\"type\":\"GlyphRenderer\"},{\"attributes\":{\"callback\":null,\"column_names\":[\"y\",\"x\"],\"data\":{\"x\":[3.18256,1.60171,0.40836,-0.51753,-1.25184,-1.84497,-2.33156,-2.73633,-3.07733,-3.36759,-3.62022,-3.84478,-4.05163],\"y\":[0.01972,0.01492,0.0115,0.00901,0.00717,0.00578,0.00472,0.0039,0.00327,0.00277,0.00239,0.00212,0.00195]}},\"id\":\"5453ba21-4990-435e-b872-b90c65f7a7f5\",\"type\":\"ColumnDataSource\"},{\"attributes\":{\"plot\":{\"id\":\"3eae0a97-2e5a-4cad-b978-4fbc998a9459\",\"subtype\":\"Figure\",\"type\":\"Plot\"}},\"id\":\"ac091d52-75de-4c2e-92e8-a027a3a79efa\",\"type\":\"SaveTool\"},{\"attributes\":{},\"id\":\"2c0bf0ef-c27b-4dc1-9385-3b929411eaf0\",\"type\":\"ToolEvents\"},{\"attributes\":{\"line_alpha\":{\"value\":0.1},\"line_color\":{\"value\":\"#1f77b4\"},\"x\":{\"field\":\"x\"},\"y\":{\"field\":\"y\"}},\"id\":\"4cafca7a-69ff-4d64-b9c9-35a33715e988\",\"type\":\"Line\"},{\"attributes\":{\"callback\":null,\"column_names\":[\"y\",\"x\"],\"data\":{\"x\":[3.18256,1.60171,0.40836,-0.51753,-1.25184,-1.84497,-2.33156,-2.73633,-3.07733,-3.36759,-3.62022,-3.84478,-4.05163],\"y\":[0.03439,0.02845,0.02441,0.02161,0.01961,0.01817,0.01715,0.01647,0.01612,0.01602,0.01669,0.01846,0.02211]}},\"id\":\"a8ce3b10-8384-4058-865c-e4b3f8041b6b\",\"type\":\"ColumnDataSource\"},{\"attributes\":{\"plot\":{\"id\":\"3eae0a97-2e5a-4cad-b978-4fbc998a9459\",\"subtype\":\"Figure\",\"type\":\"Plot\"}},\"id\":\"b70fb004-31c3-4949-a64c-5204ec49e030\",\"type\":\"WheelZoomTool\"}],\"root_ids\":[\"3eae0a97-2e5a-4cad-b978-4fbc998a9459\"]},\"title\":\"Bokeh Application\",\"version\":\"0.12.1\"}};\n",
       "            var render_items = [{\"docid\":\"b8bf359d-8f01-4b42-b360-c8123488396c\",\"elementid\":\"0227b8c5-7a3b-4767-9c73-246411d4226b\",\"modelid\":\"3eae0a97-2e5a-4cad-b978-4fbc998a9459\",\"notebook_comms_target\":\"44a24a72-15f9-4ea0-a0d7-f24fab96f4cb\"}];\n",
       "            \n",
       "            Bokeh.embed.embed_items(docs_json, render_items);\n",
       "        });\n",
       "      },\n",
       "      function(Bokeh) {\n",
       "      }\n",
       "    ];\n",
       "  \n",
       "    function run_inline_js() {\n",
       "      for (var i = 0; i < inline_js.length; i++) {\n",
       "        inline_js[i](window.Bokeh);\n",
       "      }\n",
       "    }\n",
       "  \n",
       "    if (window._bokeh_is_loading === 0) {\n",
       "      console.log(\"Bokeh: BokehJS loaded, going straight to plotting\");\n",
       "      run_inline_js();\n",
       "    } else {\n",
       "      load_libs(js_urls, function() {\n",
       "        console.log(\"Bokeh: BokehJS plotting callback run at\", now());\n",
       "        run_inline_js();\n",
       "      });\n",
       "    }\n",
       "  }(this));\n",
       "</script>"
      ]
     },
     "metadata": {},
     "output_type": "display_data"
    },
    {
     "data": {
      "text/html": [
       "<p><code>&lt;Bokeh Notebook handle for <strong>In[14]</strong>&gt;</code></p>"
      ],
      "text/plain": [
       "<bokeh.io._CommsHandle at 0x7fd590389d90>"
      ]
     },
     "execution_count": 14,
     "metadata": {},
     "output_type": "execute_result"
    }
   ],
   "source": [
    "show(p99)"
   ]
  },
  {
   "cell_type": "code",
   "execution_count": 15,
   "metadata": {
    "collapsed": false
   },
   "outputs": [
    {
     "data": {
      "text/plain": [
       "<bokeh.models.renderers.GlyphRenderer at 0x7fd5903a4bd0>"
      ]
     },
     "execution_count": 15,
     "metadata": {},
     "output_type": "execute_result"
    }
   ],
   "source": [
    "p98 = figure(title='Equilibrium conditions',\n",
    "           x_axis_label='AoA [deg]',\n",
    "           y_axis_label='Cd',\n",
    "           width=900, height=350, toolbar_location='above')\n",
    "\n",
    "\n",
    "#p99.line(avl_eq[:,1],avl_eq[:,6], line_color='blue',legend='Cd_tot')\n",
    "#p99.line(avl_eq[:,1],avl_eq[:,8], line_color='red',legend='Cd_ind')\n",
    "p98.line(avl_eq[:,1],avl_eq[:,6]-avl_eq[:,8], line_color='green')"
   ]
  },
  {
   "cell_type": "code",
   "execution_count": 16,
   "metadata": {
    "collapsed": false
   },
   "outputs": [
    {
     "data": {
      "text/html": [
       "\n",
       "\n",
       "    <div class=\"bk-root\">\n",
       "        <div class=\"plotdiv\" id=\"cfa6b7a1-ec5b-4a43-932f-1c0cc1d56453\"></div>\n",
       "    </div>\n",
       "<script type=\"text/javascript\">\n",
       "  \n",
       "  (function(global) {\n",
       "    function now() {\n",
       "      return new Date();\n",
       "    }\n",
       "  \n",
       "    var force = \"\";\n",
       "  \n",
       "    if (typeof (window._bokeh_onload_callbacks) === \"undefined\" || force !== \"\") {\n",
       "      window._bokeh_onload_callbacks = [];\n",
       "      window._bokeh_is_loading = undefined;\n",
       "    }\n",
       "  \n",
       "    function run_callbacks() {\n",
       "      window._bokeh_onload_callbacks.forEach(function(callback) { callback() });\n",
       "      delete window._bokeh_onload_callbacks\n",
       "      console.info(\"Bokeh: all callbacks have finished\");\n",
       "    }\n",
       "  \n",
       "    function load_libs(js_urls, callback) {\n",
       "      window._bokeh_onload_callbacks.push(callback);\n",
       "      if (window._bokeh_is_loading > 0) {\n",
       "        console.log(\"Bokeh: BokehJS is being loaded, scheduling callback at\", now());\n",
       "        return null;\n",
       "      }\n",
       "      if (js_urls == null || js_urls.length === 0) {\n",
       "        run_callbacks();\n",
       "        return null;\n",
       "      }\n",
       "      console.log(\"Bokeh: BokehJS not loaded, scheduling load and callback at\", now());\n",
       "      window._bokeh_is_loading = js_urls.length;\n",
       "      for (var i = 0; i < js_urls.length; i++) {\n",
       "        var url = js_urls[i];\n",
       "        var s = document.createElement('script');\n",
       "        s.src = url;\n",
       "        s.async = false;\n",
       "        s.onreadystatechange = s.onload = function() {\n",
       "          window._bokeh_is_loading--;\n",
       "          if (window._bokeh_is_loading === 0) {\n",
       "            console.log(\"Bokeh: all BokehJS libraries loaded\");\n",
       "            run_callbacks()\n",
       "          }\n",
       "        };\n",
       "        s.onerror = function() {\n",
       "          console.warn(\"failed to load library \" + url);\n",
       "        };\n",
       "        console.log(\"Bokeh: injecting script tag for BokehJS library: \", url);\n",
       "        document.getElementsByTagName(\"head\")[0].appendChild(s);\n",
       "      }\n",
       "    };var element = document.getElementById(\"cfa6b7a1-ec5b-4a43-932f-1c0cc1d56453\");\n",
       "    if (element == null) {\n",
       "      console.log(\"Bokeh: ERROR: autoload.js configured with elementid 'cfa6b7a1-ec5b-4a43-932f-1c0cc1d56453' but no matching script tag was found. \")\n",
       "      return false;\n",
       "    }\n",
       "  \n",
       "    var js_urls = [];\n",
       "  \n",
       "    var inline_js = [\n",
       "      function(Bokeh) {\n",
       "        Bokeh.$(function() {\n",
       "            var docs_json = {\"a38f2826-738c-42bd-b160-4fcf862ff64d\":{\"roots\":{\"references\":[{\"attributes\":{\"plot\":{\"id\":\"90b96992-9899-4cb6-b6ba-265a84bd6502\",\"subtype\":\"Figure\",\"type\":\"Plot\"}},\"id\":\"63f68a29-7ebd-4a09-b16b-9a5d4ed993a2\",\"type\":\"HelpTool\"},{\"attributes\":{\"line_alpha\":{\"value\":0.1},\"line_color\":{\"value\":\"#1f77b4\"},\"x\":{\"field\":\"x\"},\"y\":{\"field\":\"y\"}},\"id\":\"d54655c5-1180-428c-9083-7f005ff66690\",\"type\":\"Line\"},{\"attributes\":{\"bottom_units\":\"screen\",\"fill_alpha\":{\"value\":0.5},\"fill_color\":{\"value\":\"lightgrey\"},\"left_units\":\"screen\",\"level\":\"overlay\",\"line_alpha\":{\"value\":1.0},\"line_color\":{\"value\":\"black\"},\"line_dash\":[4,4],\"line_width\":{\"value\":2},\"plot\":null,\"render_mode\":\"css\",\"right_units\":\"screen\",\"top_units\":\"screen\"},\"id\":\"bf0ef6f5-f35d-48ff-9307-3103de77b227\",\"type\":\"BoxAnnotation\"},{\"attributes\":{\"plot\":{\"id\":\"90b96992-9899-4cb6-b6ba-265a84bd6502\",\"subtype\":\"Figure\",\"type\":\"Plot\"}},\"id\":\"1ca873da-ab7b-44be-bc9f-30592cb5215a\",\"type\":\"PanTool\"},{\"attributes\":{\"below\":[{\"id\":\"cb29854e-5003-4303-8cd5-dae9443fb3a0\",\"type\":\"LinearAxis\"}],\"left\":[{\"id\":\"750355ff-5b55-47dc-ae87-c17c2be359b3\",\"type\":\"LinearAxis\"}],\"plot_height\":350,\"plot_width\":900,\"renderers\":[{\"id\":\"cb29854e-5003-4303-8cd5-dae9443fb3a0\",\"type\":\"LinearAxis\"},{\"id\":\"7fa57b4d-95d0-4611-8076-ca04b921e8e7\",\"type\":\"Grid\"},{\"id\":\"750355ff-5b55-47dc-ae87-c17c2be359b3\",\"type\":\"LinearAxis\"},{\"id\":\"75ff4169-a803-4960-864b-b7982be2fb58\",\"type\":\"Grid\"},{\"id\":\"bf0ef6f5-f35d-48ff-9307-3103de77b227\",\"type\":\"BoxAnnotation\"},{\"id\":\"8691f21c-80ba-44a6-836f-24b97bfa5c74\",\"type\":\"GlyphRenderer\"}],\"title\":{\"id\":\"dbdae732-41ca-4685-8ad2-0c7c5057df6a\",\"type\":\"Title\"},\"tool_events\":{\"id\":\"9f74da41-b4a8-41c8-a11c-5d3dfd7a74d8\",\"type\":\"ToolEvents\"},\"toolbar\":{\"id\":\"98df8b20-2e17-434f-b3c4-069e92c3c539\",\"type\":\"Toolbar\"},\"toolbar_location\":\"above\",\"x_range\":{\"id\":\"2268debc-8884-4dd3-83ce-62b4c07dd2f7\",\"type\":\"DataRange1d\"},\"y_range\":{\"id\":\"01b29429-620c-4996-b52c-9c0bd620e284\",\"type\":\"DataRange1d\"}},\"id\":\"90b96992-9899-4cb6-b6ba-265a84bd6502\",\"subtype\":\"Figure\",\"type\":\"Plot\"},{\"attributes\":{\"callback\":null,\"column_names\":[\"y\",\"x\"],\"data\":{\"x\":[3.18256,1.60171,0.40836,-0.51753,-1.25184,-1.84497,-2.33156,-2.73633,-3.07733,-3.36759,-3.62022,-3.84478,-4.05163],\"y\":[0.014669999999999996,0.01353,0.012910000000000001,0.0126,0.01244,0.012389999999999998,0.012429999999999998,0.012569999999999998,0.012849999999999999,0.01325,0.0143,0.01634,0.02016]}},\"id\":\"39d4b189-e287-42b5-b106-0fa3da685955\",\"type\":\"ColumnDataSource\"},{\"attributes\":{\"data_source\":{\"id\":\"39d4b189-e287-42b5-b106-0fa3da685955\",\"type\":\"ColumnDataSource\"},\"glyph\":{\"id\":\"dba32a91-5edd-4b85-89a8-ec9727d18bee\",\"type\":\"Line\"},\"hover_glyph\":null,\"nonselection_glyph\":{\"id\":\"d54655c5-1180-428c-9083-7f005ff66690\",\"type\":\"Line\"},\"selection_glyph\":null},\"id\":\"8691f21c-80ba-44a6-836f-24b97bfa5c74\",\"type\":\"GlyphRenderer\"},{\"attributes\":{\"overlay\":{\"id\":\"bf0ef6f5-f35d-48ff-9307-3103de77b227\",\"type\":\"BoxAnnotation\"},\"plot\":{\"id\":\"90b96992-9899-4cb6-b6ba-265a84bd6502\",\"subtype\":\"Figure\",\"type\":\"Plot\"}},\"id\":\"11eb6c70-0c10-4ebb-9f0c-11f4e139f29a\",\"type\":\"BoxZoomTool\"},{\"attributes\":{\"active_drag\":\"auto\",\"active_scroll\":\"auto\",\"active_tap\":\"auto\",\"tools\":[{\"id\":\"1ca873da-ab7b-44be-bc9f-30592cb5215a\",\"type\":\"PanTool\"},{\"id\":\"198f67a4-4984-42fc-a0b9-0386a4e1f048\",\"type\":\"WheelZoomTool\"},{\"id\":\"11eb6c70-0c10-4ebb-9f0c-11f4e139f29a\",\"type\":\"BoxZoomTool\"},{\"id\":\"ffbff838-e4e9-43b4-ab02-1d9c420027d3\",\"type\":\"SaveTool\"},{\"id\":\"74eb6540-9933-4bb7-95d9-3b0cfe767e9b\",\"type\":\"ResetTool\"},{\"id\":\"63f68a29-7ebd-4a09-b16b-9a5d4ed993a2\",\"type\":\"HelpTool\"}]},\"id\":\"98df8b20-2e17-434f-b3c4-069e92c3c539\",\"type\":\"Toolbar\"},{\"attributes\":{},\"id\":\"44b28d50-67f2-4143-a374-c028529f1302\",\"type\":\"BasicTicker\"},{\"attributes\":{},\"id\":\"481d3c74-f413-41c9-a872-86809e76620a\",\"type\":\"BasicTickFormatter\"},{\"attributes\":{\"callback\":null},\"id\":\"2268debc-8884-4dd3-83ce-62b4c07dd2f7\",\"type\":\"DataRange1d\"},{\"attributes\":{\"axis_label\":\"AoA [deg]\",\"formatter\":{\"id\":\"481d3c74-f413-41c9-a872-86809e76620a\",\"type\":\"BasicTickFormatter\"},\"plot\":{\"id\":\"90b96992-9899-4cb6-b6ba-265a84bd6502\",\"subtype\":\"Figure\",\"type\":\"Plot\"},\"ticker\":{\"id\":\"c3b773f5-3f10-4fd4-bfc0-4c4b46550553\",\"type\":\"BasicTicker\"}},\"id\":\"cb29854e-5003-4303-8cd5-dae9443fb3a0\",\"type\":\"LinearAxis\"},{\"attributes\":{},\"id\":\"bddd26b1-deac-4d6c-bf28-f1c4f7c59b3d\",\"type\":\"BasicTickFormatter\"},{\"attributes\":{\"line_color\":{\"value\":\"green\"},\"x\":{\"field\":\"x\"},\"y\":{\"field\":\"y\"}},\"id\":\"dba32a91-5edd-4b85-89a8-ec9727d18bee\",\"type\":\"Line\"},{\"attributes\":{\"plot\":{\"id\":\"90b96992-9899-4cb6-b6ba-265a84bd6502\",\"subtype\":\"Figure\",\"type\":\"Plot\"}},\"id\":\"74eb6540-9933-4bb7-95d9-3b0cfe767e9b\",\"type\":\"ResetTool\"},{\"attributes\":{\"plot\":{\"id\":\"90b96992-9899-4cb6-b6ba-265a84bd6502\",\"subtype\":\"Figure\",\"type\":\"Plot\"},\"ticker\":{\"id\":\"c3b773f5-3f10-4fd4-bfc0-4c4b46550553\",\"type\":\"BasicTicker\"}},\"id\":\"7fa57b4d-95d0-4611-8076-ca04b921e8e7\",\"type\":\"Grid\"},{\"attributes\":{},\"id\":\"9f74da41-b4a8-41c8-a11c-5d3dfd7a74d8\",\"type\":\"ToolEvents\"},{\"attributes\":{\"plot\":null,\"text\":\"Equilibrium conditions\"},\"id\":\"dbdae732-41ca-4685-8ad2-0c7c5057df6a\",\"type\":\"Title\"},{\"attributes\":{\"plot\":{\"id\":\"90b96992-9899-4cb6-b6ba-265a84bd6502\",\"subtype\":\"Figure\",\"type\":\"Plot\"}},\"id\":\"198f67a4-4984-42fc-a0b9-0386a4e1f048\",\"type\":\"WheelZoomTool\"},{\"attributes\":{\"dimension\":1,\"plot\":{\"id\":\"90b96992-9899-4cb6-b6ba-265a84bd6502\",\"subtype\":\"Figure\",\"type\":\"Plot\"},\"ticker\":{\"id\":\"44b28d50-67f2-4143-a374-c028529f1302\",\"type\":\"BasicTicker\"}},\"id\":\"75ff4169-a803-4960-864b-b7982be2fb58\",\"type\":\"Grid\"},{\"attributes\":{},\"id\":\"c3b773f5-3f10-4fd4-bfc0-4c4b46550553\",\"type\":\"BasicTicker\"},{\"attributes\":{\"plot\":{\"id\":\"90b96992-9899-4cb6-b6ba-265a84bd6502\",\"subtype\":\"Figure\",\"type\":\"Plot\"}},\"id\":\"ffbff838-e4e9-43b4-ab02-1d9c420027d3\",\"type\":\"SaveTool\"},{\"attributes\":{\"callback\":null},\"id\":\"01b29429-620c-4996-b52c-9c0bd620e284\",\"type\":\"DataRange1d\"},{\"attributes\":{\"axis_label\":\"Cd\",\"formatter\":{\"id\":\"bddd26b1-deac-4d6c-bf28-f1c4f7c59b3d\",\"type\":\"BasicTickFormatter\"},\"plot\":{\"id\":\"90b96992-9899-4cb6-b6ba-265a84bd6502\",\"subtype\":\"Figure\",\"type\":\"Plot\"},\"ticker\":{\"id\":\"44b28d50-67f2-4143-a374-c028529f1302\",\"type\":\"BasicTicker\"}},\"id\":\"750355ff-5b55-47dc-ae87-c17c2be359b3\",\"type\":\"LinearAxis\"}],\"root_ids\":[\"90b96992-9899-4cb6-b6ba-265a84bd6502\"]},\"title\":\"Bokeh Application\",\"version\":\"0.12.1\"}};\n",
       "            var render_items = [{\"docid\":\"a38f2826-738c-42bd-b160-4fcf862ff64d\",\"elementid\":\"cfa6b7a1-ec5b-4a43-932f-1c0cc1d56453\",\"modelid\":\"90b96992-9899-4cb6-b6ba-265a84bd6502\",\"notebook_comms_target\":\"c86b1aa4-26a8-46e0-8c43-0686ba1d3634\"}];\n",
       "            \n",
       "            Bokeh.embed.embed_items(docs_json, render_items);\n",
       "        });\n",
       "      },\n",
       "      function(Bokeh) {\n",
       "      }\n",
       "    ];\n",
       "  \n",
       "    function run_inline_js() {\n",
       "      for (var i = 0; i < inline_js.length; i++) {\n",
       "        inline_js[i](window.Bokeh);\n",
       "      }\n",
       "    }\n",
       "  \n",
       "    if (window._bokeh_is_loading === 0) {\n",
       "      console.log(\"Bokeh: BokehJS loaded, going straight to plotting\");\n",
       "      run_inline_js();\n",
       "    } else {\n",
       "      load_libs(js_urls, function() {\n",
       "        console.log(\"Bokeh: BokehJS plotting callback run at\", now());\n",
       "        run_inline_js();\n",
       "      });\n",
       "    }\n",
       "  }(this));\n",
       "</script>"
      ]
     },
     "metadata": {},
     "output_type": "display_data"
    },
    {
     "data": {
      "text/html": [
       "<p><code>&lt;Bokeh Notebook handle for <strong>In[16]</strong>&gt;</code></p>"
      ],
      "text/plain": [
       "<bokeh.io._CommsHandle at 0x7fd5903a4d50>"
      ]
     },
     "execution_count": 16,
     "metadata": {},
     "output_type": "execute_result"
    }
   ],
   "source": [
    "show(p98)"
   ]
  },
  {
   "cell_type": "code",
   "execution_count": 30,
   "metadata": {
    "collapsed": false
   },
   "outputs": [],
   "source": [
    "# Drag build-up!\n",
    "\n",
    "# Method: Calculate Cd contributions for each speed always normalizing on Sref (wing area).\n",
    "#         Then sum them up and multiply by q(V)*Sref for each speed\n",
    "\n",
    "# Important dimensions/variables\n",
    "wing = dims['wing']\n",
    "cnrd = dims['canard']\n",
    "\n",
    "GRAV = 9.80665 # Gravity\n",
    "RHO_W = 1020   # Sea water density\n",
    "RHO_AIR = 1.225 # Air density\n",
    "\n",
    "W_ROOT_C = np.sqrt(wing['S']/wing['AR'])*2/(1+wing['lambda']) # Wing Root Chord\n",
    "C_ROOT_C = np.sqrt(cnrd['S']/cnrd['AR'])*2/(1+cnrd['lambda']) # Canard Root Chord\n",
    "W_CMA    = beq.cma_s(wing) # Wing Mean Aerod. Chord\n",
    "\n",
    "W_ROOT_T = 0.12*W_ROOT_C # Wing Root Thickness\n",
    "STRUT_T  = 0.03          # Main Strut Thickness\n",
    "STRUT_X  = 0.3*0.187     # Distance along strut chord with max thickness\n",
    "WS_DRAG_FACTOR = 0.5     # Factor to account for wing/main strut staggering\n",
    "\n",
    "RUDDER_T = 0.15*0.06     # Rudder Thickness\n",
    "CANARD_T = 0.11*C_ROOT_C # Canard Thickness\n",
    "\n",
    "W_A    = 17     # Wing aspect ratio\n",
    "S_REF  = 0.191  # Reference area (Wing Area)\n",
    "S_HULL = 0.054 # Hull cross sectional area\n",
    "\n",
    "# Total Hidrodynamic drag from AVL (based on Sref)\n",
    "Vs = avl_eq[:,0]\n",
    "Cd_avl = avl_eq[:,6]\n",
    "\n",
    "# Increasing induced drag from wing about 10% as Hoerner says... (XI-C, ~11-26)\n",
    "# \"A single strut in the center increases drag due to lift by some 10%\"\n",
    "Cdi_inc = 0.1*avl_eq[:,7]\n",
    "\n",
    "# Hydrofoil wave drag, based on Breslin, J. \"Hydrofoil Wave Drag Theory\"\n",
    "# Wing depth is supposed to be around a quarter of span ~1.8/4=0.45m\n",
    "F_c    = Vs/np.sqrt(GRAV*W_CMA)\n",
    "Cd_h_w = avl_eq[:,4]**2*(0.5/(np.pi*W_A) + 0.13/F_c**2)\n",
    "\n",
    "# Interference drag, based on Hoerner VIII-4 (8-10)\n",
    "# Cdt = Drag/(qt^2) = 17*(t/c)^2-0.05\n",
    "ws_t = (W_ROOT_T + STRUT_T)/2\n",
    "rc_t = (RUDDER_T + CANARD_T)/2\n",
    "\n",
    "Cd_int_ws = (17*(ws_t/W_ROOT_C)**2-0.05)*ws_t**2/S_REF*WS_DRAG_FACTOR*np.ones(Cd_avl.shape)\n",
    "Cd_int_rc = (17*(rc_t/C_ROOT_C)**2-0.05)*rc_t**2/S_REF*np.ones(Cd_avl.shape)\n",
    "\n",
    "# Spray drag, based on Hoerner X-C (10-13)\n",
    "# Cdx = Drag/(qx^2) = 0.24*(t/x)^2\n",
    "Cd_spray = 0.24*(STRUT_T/STRUT_X)**2*STRUT_X**2/S_REF*np.ones(Cd_avl.shape)\n",
    "\n",
    "# Air resistance (Rider + Hulls), based on Hoerner (3-13), Rider and\n",
    "# Hoerner XIII-1 (13-1) Hulls\n",
    "Cd_air = (0.54 + 0.1*2*S_HULL)/S_REF*np.ones(Cd_avl.shape)\n",
    "\n",
    "# Build-up\n",
    "Cd_total = Cd_avl + Cdi_inc + Cd_h_w + Cd_int_ws + Cd_int_rc + Cd_spray\n",
    "\n",
    "# Arbitrary safety factor for other drag sources such as:\n",
    "# - Air resistance of frame and interferences\n",
    "# - Drag from surface follower\n",
    "# - Spray drag from canard\n",
    "# - Propeller/Strut interaction\n",
    "Cd_total *= 1.1\n",
    "\n",
    "# ...aaaaand we're done!\n",
    "Drag_T = np.multiply(Cd_total,Vs**2)*0.5*RHO_W*S_REF\n",
    "Drag_T += np.multiply(Cd_air,Vs**2)*0.5*RHO_AIR*S_REF\n",
    "\n",
    "mlt_data = np.loadtxt('./data/drag.mlt')\n",
    "Hull_Drag = mlt_data[:,1] + mlt_data[:,2]\n",
    "Drag_T[:len(Hull_Drag)-1] += Hull_Drag[:-1]*1000"
   ]
  },
  {
   "cell_type": "code",
   "execution_count": 19,
   "metadata": {
    "collapsed": false
   },
   "outputs": [
    {
     "name": "stdout",
     "output_type": "stream",
     "text": [
      "w_root_c:  0.146202303881\n",
      "c_root_c:  0.0507092552837\n",
      "cref:  0.111080141225\n",
      "w_root_t:  0.0175442764658\n",
      "strut_t:  0.03\n",
      "strut_x:  0.0561\n",
      "ws_drag_factor:  0.5\n",
      "rudder_t:  0.009\n",
      "canard_t:  0.00557801808121\n",
      "w_AR:  17\n",
      "s_hull:  0.054\n"
     ]
    }
   ],
   "source": [
    "print 'w_root_c: ', W_ROOT_C\n",
    "print 'c_root_c: ', C_ROOT_C\n",
    "print 'cref: ', W_CMA\n",
    "print 'w_root_t: ', W_ROOT_T\n",
    "print 'strut_t: ', STRUT_T\n",
    "print 'strut_x: ', STRUT_X\n",
    "print 'ws_drag_factor: ', WS_DRAG_FACTOR\n",
    "print 'rudder_t: ', RUDDER_T\n",
    "print 'canard_t: ', CANARD_T\n",
    "print 'w_AR: ', W_A\n",
    "print 's_hull: ', S_HULL"
   ]
  },
  {
   "cell_type": "code",
   "execution_count": 31,
   "metadata": {
    "collapsed": false
   },
   "outputs": [
    {
     "name": "stdout",
     "output_type": "stream",
     "text": [
      "1.0 26.055270424\n",
      "1.25 33.3771957918\n",
      "1.5 50.9467823525\n",
      "1.75 54.3887301059\n",
      "2.0 64.7691090523\n",
      "2.25 73.7642391914\n",
      "2.5 79.0899905235\n",
      "2.75 82.4049030483\n",
      "3.0 85.607366766\n",
      "3.3 64.5179641675\n",
      "3.6 60.0162155513\n",
      "3.9 58.2036473365\n",
      "4.2 58.2964085606\n",
      "4.5 59.7698400442\n",
      "4.8 62.3661785668\n",
      "5.1 65.9789186068\n",
      "5.4 70.6173110321\n",
      "5.7 76.4891388988\n",
      "6.0 83.5841169216\n",
      "6.3 94.3549794593\n",
      "6.6 111.269788547\n",
      "6.9 139.754996509\n"
     ]
    }
   ],
   "source": [
    "for i,D in enumerate(Drag_T):\n",
    "    print avl_eq[i,0],D"
   ]
  },
  {
   "cell_type": "code",
   "execution_count": 32,
   "metadata": {
    "collapsed": false
   },
   "outputs": [
    {
     "data": {
      "text/html": [
       "\n",
       "\n",
       "    <div class=\"bk-root\">\n",
       "        <div class=\"plotdiv\" id=\"8bf65e79-c7e9-427f-aa77-731e3efa2388\"></div>\n",
       "    </div>\n",
       "<script type=\"text/javascript\">\n",
       "  \n",
       "  (function(global) {\n",
       "    function now() {\n",
       "      return new Date();\n",
       "    }\n",
       "  \n",
       "    var force = \"\";\n",
       "  \n",
       "    if (typeof (window._bokeh_onload_callbacks) === \"undefined\" || force !== \"\") {\n",
       "      window._bokeh_onload_callbacks = [];\n",
       "      window._bokeh_is_loading = undefined;\n",
       "    }\n",
       "  \n",
       "    function run_callbacks() {\n",
       "      window._bokeh_onload_callbacks.forEach(function(callback) { callback() });\n",
       "      delete window._bokeh_onload_callbacks\n",
       "      console.info(\"Bokeh: all callbacks have finished\");\n",
       "    }\n",
       "  \n",
       "    function load_libs(js_urls, callback) {\n",
       "      window._bokeh_onload_callbacks.push(callback);\n",
       "      if (window._bokeh_is_loading > 0) {\n",
       "        console.log(\"Bokeh: BokehJS is being loaded, scheduling callback at\", now());\n",
       "        return null;\n",
       "      }\n",
       "      if (js_urls == null || js_urls.length === 0) {\n",
       "        run_callbacks();\n",
       "        return null;\n",
       "      }\n",
       "      console.log(\"Bokeh: BokehJS not loaded, scheduling load and callback at\", now());\n",
       "      window._bokeh_is_loading = js_urls.length;\n",
       "      for (var i = 0; i < js_urls.length; i++) {\n",
       "        var url = js_urls[i];\n",
       "        var s = document.createElement('script');\n",
       "        s.src = url;\n",
       "        s.async = false;\n",
       "        s.onreadystatechange = s.onload = function() {\n",
       "          window._bokeh_is_loading--;\n",
       "          if (window._bokeh_is_loading === 0) {\n",
       "            console.log(\"Bokeh: all BokehJS libraries loaded\");\n",
       "            run_callbacks()\n",
       "          }\n",
       "        };\n",
       "        s.onerror = function() {\n",
       "          console.warn(\"failed to load library \" + url);\n",
       "        };\n",
       "        console.log(\"Bokeh: injecting script tag for BokehJS library: \", url);\n",
       "        document.getElementsByTagName(\"head\")[0].appendChild(s);\n",
       "      }\n",
       "    };var element = document.getElementById(\"8bf65e79-c7e9-427f-aa77-731e3efa2388\");\n",
       "    if (element == null) {\n",
       "      console.log(\"Bokeh: ERROR: autoload.js configured with elementid '8bf65e79-c7e9-427f-aa77-731e3efa2388' but no matching script tag was found. \")\n",
       "      return false;\n",
       "    }\n",
       "  \n",
       "    var js_urls = [];\n",
       "  \n",
       "    var inline_js = [\n",
       "      function(Bokeh) {\n",
       "        Bokeh.$(function() {\n",
       "            var docs_json = {\"22d84e29-c866-4d40-9cf4-8998366fc11b\":{\"roots\":{\"references\":[{\"attributes\":{},\"id\":\"d07ae0e8-1ccb-4103-89d4-70ed46d3dcb6\",\"type\":\"BasicTickFormatter\"},{\"attributes\":{\"line_alpha\":{\"value\":0.1},\"line_color\":{\"value\":\"#1f77b4\"},\"line_dash\":[6],\"x\":{\"field\":\"x\"},\"y\":{\"field\":\"y\"}},\"id\":\"0fce3f8b-f97a-452c-a6be-4e57c6a1cb47\",\"type\":\"Line\"},{\"attributes\":{\"axis_label\":\"Flight Speed [m/s]\",\"formatter\":{\"id\":\"d07ae0e8-1ccb-4103-89d4-70ed46d3dcb6\",\"type\":\"BasicTickFormatter\"},\"plot\":{\"id\":\"54b7ecd6-3d10-47d0-bc34-96ac2fc59491\",\"subtype\":\"Figure\",\"type\":\"Plot\"},\"ticker\":{\"id\":\"54b74ce6-a547-49e8-b8a3-8b766097bc02\",\"type\":\"BasicTicker\"}},\"id\":\"a875b492-db54-45e1-aaa0-25ed631b69b4\",\"type\":\"LinearAxis\"},{\"attributes\":{\"line_alpha\":{\"value\":0.1},\"line_color\":{\"value\":\"#1f77b4\"},\"x\":{\"field\":\"x\"},\"y\":{\"field\":\"y\"}},\"id\":\"7056a843-52b9-4881-81fe-564bbf361909\",\"type\":\"Line\"},{\"attributes\":{\"line_color\":{\"value\":\"blue\"},\"line_dash\":[6],\"x\":{\"field\":\"x\"},\"y\":{\"field\":\"y\"}},\"id\":\"28f1c944-3963-4686-88d2-3141519159f5\",\"type\":\"Line\"},{\"attributes\":{\"data_source\":{\"id\":\"b1def74e-2e5c-40eb-9f82-a9565bc758f8\",\"type\":\"ColumnDataSource\"},\"glyph\":{\"id\":\"28f1c944-3963-4686-88d2-3141519159f5\",\"type\":\"Line\"},\"hover_glyph\":null,\"nonselection_glyph\":{\"id\":\"0fce3f8b-f97a-452c-a6be-4e57c6a1cb47\",\"type\":\"Line\"},\"selection_glyph\":null},\"id\":\"6098089a-a320-4c01-8fea-becbaec44359\",\"type\":\"GlyphRenderer\"},{\"attributes\":{\"callback\":null,\"end\":7,\"start\":1},\"id\":\"bf9421de-70de-4fa6-929e-4bda20dcfb72\",\"type\":\"Range1d\"},{\"attributes\":{\"bottom_units\":\"screen\",\"fill_alpha\":{\"value\":0.5},\"fill_color\":{\"value\":\"lightgrey\"},\"left_units\":\"screen\",\"level\":\"overlay\",\"line_alpha\":{\"value\":1.0},\"line_color\":{\"value\":\"black\"},\"line_dash\":[4,4],\"line_width\":{\"value\":2},\"plot\":null,\"render_mode\":\"css\",\"right_units\":\"screen\",\"top_units\":\"screen\"},\"id\":\"64394936-8159-4f2a-97dd-f69eb8c7678d\",\"type\":\"BoxAnnotation\"},{\"attributes\":{\"line_alpha\":{\"value\":0.1},\"line_color\":{\"value\":\"#1f77b4\"},\"line_dash\":[6],\"x\":{\"field\":\"x\"},\"y\":{\"field\":\"y\"}},\"id\":\"0a0a8a2f-523a-4e16-857f-c4086140216c\",\"type\":\"Line\"},{\"attributes\":{\"line_alpha\":{\"value\":0.1},\"line_color\":{\"value\":\"#1f77b4\"},\"x\":{\"field\":\"x\"},\"y\":{\"field\":\"y\"}},\"id\":\"7785444b-4299-4319-afd7-987353d6f6ef\",\"type\":\"Line\"},{\"attributes\":{\"line_alpha\":{\"value\":0.1},\"line_color\":{\"value\":\"#1f77b4\"},\"line_dash\":[6],\"x\":{\"field\":\"x\"},\"y\":{\"field\":\"y\"}},\"id\":\"ebfee3ff-6dad-4547-9eb9-9323b837258c\",\"type\":\"Line\"},{\"attributes\":{\"plot\":{\"id\":\"54b7ecd6-3d10-47d0-bc34-96ac2fc59491\",\"subtype\":\"Figure\",\"type\":\"Plot\"},\"ticker\":{\"id\":\"54b74ce6-a547-49e8-b8a3-8b766097bc02\",\"type\":\"BasicTicker\"}},\"id\":\"c8d892f5-a744-4201-8d13-c94358fcf4c5\",\"type\":\"Grid\"},{\"attributes\":{\"axis_label\":\"Drag [N]\",\"formatter\":{\"id\":\"246439ea-e981-434d-9770-83ae13ef3cc0\",\"type\":\"BasicTickFormatter\"},\"plot\":{\"id\":\"54b7ecd6-3d10-47d0-bc34-96ac2fc59491\",\"subtype\":\"Figure\",\"type\":\"Plot\"},\"ticker\":{\"id\":\"409b3e47-de6b-471d-b392-1e8afb1989f6\",\"type\":\"BasicTicker\"}},\"id\":\"47f90f86-817f-4542-83e9-19c7c68c9b95\",\"type\":\"LinearAxis\"},{\"attributes\":{\"callback\":null,\"column_names\":[\"y\",\"x\"],\"data\":{\"x\":[1.0,1.1224489795918366,1.2448979591836735,1.3673469387755102,1.489795918367347,1.6122448979591837,1.7346938775510203,1.8571428571428572,1.9795918367346939,2.1020408163265305,2.2244897959183674,2.3469387755102042,2.4693877551020407,2.5918367346938775,2.7142857142857144,2.836734693877551,2.9591836734693877,3.0816326530612246,3.204081632653061,3.326530612244898,3.4489795918367347,3.571428571428571,3.693877551020408,3.816326530612245,3.9387755102040813,4.061224489795919,4.183673469387755,4.3061224489795915,4.428571428571429,4.551020408163265,4.673469387755102,4.795918367346939,4.918367346938775,5.040816326530612,5.163265306122449,5.285714285714286,5.408163265306122,5.530612244897959,5.653061224489796,5.775510204081632,5.8979591836734695,6.020408163265306,6.142857142857142,6.26530612244898,6.387755102040816,6.5102040816326525,6.63265306122449,6.755102040816326,6.877551020408163,7.0],\"y\":[300.0,267.2727272727273,240.98360655737704,219.40298507462688,201.36986301369862,186.0759493670886,172.94117647058823,161.53846153846152,151.54639175257734,142.71844660194176,134.8623853211009,127.82608695652173,121.48760330578513,115.74803149606299,110.52631578947368,105.75539568345324,101.37931034482759,97.35099337748345,93.63057324840764,90.1840490797546,86.98224852071006,84.0,81.21546961325967,78.6096256684492,76.16580310880829,73.86934673366834,71.70731707317073,69.66824644549763,67.74193548387096,65.91928251121077,64.19213973799127,62.5531914893617,60.99585062240664,59.51417004048584,58.10276679841897,56.75675675675676,55.47169811320755,54.24354243542435,53.068592057761734,51.94346289752651,50.865051903114185,49.83050847457627,48.83720930232558,47.88273615635179,46.96485623003195,46.08150470219436,45.23076923076923,44.41087613293052,43.62017804154303,42.857142857142854]}},\"id\":\"e211665f-4c5c-4e20-ad0e-65faa4f4dc02\",\"type\":\"ColumnDataSource\"},{\"attributes\":{\"plot\":{\"id\":\"54b7ecd6-3d10-47d0-bc34-96ac2fc59491\",\"subtype\":\"Figure\",\"type\":\"Plot\"}},\"id\":\"e119b4fd-1cb1-4755-92e0-f1108fc01071\",\"type\":\"WheelZoomTool\"},{\"attributes\":{\"line_color\":{\"value\":\"blue\"},\"line_dash\":[6],\"x\":{\"field\":\"x\"},\"y\":{\"field\":\"y\"}},\"id\":\"1483eee4-1f08-406c-b106-aa76537a98ad\",\"type\":\"Line\"},{\"attributes\":{},\"id\":\"54b74ce6-a547-49e8-b8a3-8b766097bc02\",\"type\":\"BasicTicker\"},{\"attributes\":{\"line_alpha\":{\"value\":0.1},\"line_color\":{\"value\":\"#1f77b4\"},\"line_dash\":[6],\"x\":{\"field\":\"x\"},\"y\":{\"field\":\"y\"}},\"id\":\"352f7976-ee27-4261-9144-740214337ae8\",\"type\":\"Line\"},{\"attributes\":{\"data_source\":{\"id\":\"e211665f-4c5c-4e20-ad0e-65faa4f4dc02\",\"type\":\"ColumnDataSource\"},\"glyph\":{\"id\":\"2a3439f5-afc2-4683-ad7a-9673ef5a93b5\",\"type\":\"Line\"},\"hover_glyph\":null,\"nonselection_glyph\":{\"id\":\"ebfee3ff-6dad-4547-9eb9-9323b837258c\",\"type\":\"Line\"},\"selection_glyph\":null},\"id\":\"884f4c77-428b-4a7c-83d9-1a7193058211\",\"type\":\"GlyphRenderer\"},{\"attributes\":{\"line_color\":{\"value\":\"blue\"},\"line_dash\":[6],\"x\":{\"field\":\"x\"},\"y\":{\"field\":\"y\"}},\"id\":\"0218262d-a6ee-450f-ada7-ec8d95c47e41\",\"type\":\"Line\"},{\"attributes\":{\"data_source\":{\"id\":\"12b4e4dc-1201-4d65-8463-295b72b177d4\",\"type\":\"ColumnDataSource\"},\"glyph\":{\"id\":\"01261196-6496-450e-b3f5-0396b5a2dd60\",\"type\":\"Line\"},\"hover_glyph\":null,\"nonselection_glyph\":{\"id\":\"7785444b-4299-4319-afd7-987353d6f6ef\",\"type\":\"Line\"},\"selection_glyph\":null},\"id\":\"7f8bcdc1-cb83-4de4-8f6a-a53b34843b9c\",\"type\":\"GlyphRenderer\"},{\"attributes\":{\"angle\":-0.8190580846859103,\"plot\":{\"id\":\"54b7ecd6-3d10-47d0-bc34-96ac2fc59491\",\"subtype\":\"Figure\",\"type\":\"Plot\"},\"text\":\"250W\",\"text_font_size\":{\"value\":\"10pt\"},\"x\":1.5757142857142858,\"y\":140},\"id\":\"db0bd2b2-d476-4297-908c-11189c70c583\",\"type\":\"Label\"},{\"attributes\":{\"line_alpha\":{\"value\":0.1},\"line_color\":{\"value\":\"#1f77b4\"},\"line_dash\":[6],\"x\":{\"field\":\"x\"},\"y\":{\"field\":\"y\"}},\"id\":\"75acfbbd-c750-4cbf-b919-fa54d1258913\",\"type\":\"Line\"},{\"attributes\":{\"line_color\":{\"value\":\"green\"},\"x\":{\"field\":\"x\"},\"y\":{\"field\":\"y\"}},\"id\":\"13c2023d-47a7-4b05-bb2d-2f8b1ba400c6\",\"type\":\"Line\"},{\"attributes\":{\"plot\":null,\"text\":\"Drag and Available Thrust\"},\"id\":\"2c168d8d-5f72-40a7-b09d-5cfd39120bb6\",\"type\":\"Title\"},{\"attributes\":{\"callback\":null,\"column_names\":[\"y\",\"x\"],\"data\":{\"x\":[0.5,1.0,1.5,2.0,2.5,3.0,3.5,4.0,4.5,5.0,5.5,6.0],\"y\":[94,97,103,113,125,135,135,131,125,117,109,88]}},\"id\":\"12b4e4dc-1201-4d65-8463-295b72b177d4\",\"type\":\"ColumnDataSource\"},{\"attributes\":{\"callback\":null,\"column_names\":[\"y\",\"x\"],\"data\":{\"x\":[1.0,1.25,1.5,1.75,2.0,2.25,2.5,2.75,3.0,3.3,3.5999999999999996,3.8999999999999995,4.199999999999999,4.499999999999999,4.799999999999999,5.099999999999999,5.399999999999999,5.699999999999998,5.999999999999998,6.299999999999998,6.599999999999998,6.899999999999998],\"y\":[26.055270424020268,33.37719579181742,50.9467823524584,54.38873010594318,64.76910905227179,73.76423919144419,79.08999052346043,82.40490304832045,85.60736676602431,64.51796416751645,60.01621555129896,58.203647336525904,58.29640856055292,59.76984004417607,62.36617856682316,65.9789186068432,70.61731103214613,76.48913889880119,83.58411692160205,94.3549794593493,111.26978854713859,139.75499650947012]}},\"id\":\"77abf0c7-9775-471f-9abe-2531e9e45738\",\"type\":\"ColumnDataSource\"},{\"attributes\":{\"plot\":{\"id\":\"54b7ecd6-3d10-47d0-bc34-96ac2fc59491\",\"subtype\":\"Figure\",\"type\":\"Plot\"}},\"id\":\"79736822-94e9-4ff0-aeac-64e7e614aa19\",\"type\":\"HelpTool\"},{\"attributes\":{\"callback\":null,\"column_names\":[\"y\",\"x\"],\"data\":{\"x\":[1.0,1.1224489795918366,1.2448979591836735,1.3673469387755102,1.489795918367347,1.6122448979591837,1.7346938775510203,1.8571428571428572,1.9795918367346939,2.1020408163265305,2.2244897959183674,2.3469387755102042,2.4693877551020407,2.5918367346938775,2.7142857142857144,2.836734693877551,2.9591836734693877,3.0816326530612246,3.204081632653061,3.326530612244898,3.4489795918367347,3.571428571428571,3.693877551020408,3.816326530612245,3.9387755102040813,4.061224489795919,4.183673469387755,4.3061224489795915,4.428571428571429,4.551020408163265,4.673469387755102,4.795918367346939,4.918367346938775,5.040816326530612,5.163265306122449,5.285714285714286,5.408163265306122,5.530612244897959,5.653061224489796,5.775510204081632,5.8979591836734695,6.020408163265306,6.142857142857142,6.26530612244898,6.387755102040816,6.5102040816326525,6.63265306122449,6.755102040816326,6.877551020408163,7.0],\"y\":[200.0,178.1818181818182,160.65573770491804,146.26865671641792,134.24657534246575,124.0506329113924,115.29411764705883,107.6923076923077,101.03092783505154,95.14563106796118,89.90825688073394,85.21739130434781,80.99173553719008,77.16535433070867,73.68421052631578,70.50359712230217,67.58620689655173,64.90066225165563,62.4203821656051,60.12269938650307,57.98816568047337,56.00000000000001,54.14364640883978,52.406417112299465,50.77720207253886,49.246231155778894,47.80487804878049,46.44549763033176,45.16129032258064,43.946188340807176,42.79475982532752,41.702127659574465,40.66390041493776,39.67611336032389,38.73517786561265,37.83783783783784,36.9811320754717,36.162361623616235,35.37906137184115,34.62897526501767,33.910034602076124,33.22033898305085,32.55813953488372,31.921824104234528,31.309904153354633,30.72100313479624,30.153846153846153,29.60725075528701,29.08011869436202,28.571428571428573]}},\"id\":\"7d858b84-6d59-4a2d-a41e-f0af58b491bb\",\"type\":\"ColumnDataSource\"},{\"attributes\":{\"active_drag\":\"auto\",\"active_scroll\":\"auto\",\"active_tap\":\"auto\",\"tools\":[{\"id\":\"ff9a21eb-beac-47e0-9d25-2f4f2aaed020\",\"type\":\"PanTool\"},{\"id\":\"e119b4fd-1cb1-4755-92e0-f1108fc01071\",\"type\":\"WheelZoomTool\"},{\"id\":\"22a936c2-62c1-4ee9-82ea-dbb15c968abc\",\"type\":\"BoxZoomTool\"},{\"id\":\"4454f644-b2e1-4db0-9725-ca6680f213e8\",\"type\":\"SaveTool\"},{\"id\":\"5d7196c4-d5ad-4400-8755-ee5d7e4448ba\",\"type\":\"ResetTool\"},{\"id\":\"79736822-94e9-4ff0-aeac-64e7e614aa19\",\"type\":\"HelpTool\"}]},\"id\":\"f36a0037-6aec-467d-8316-2e727d411267\",\"type\":\"Toolbar\"},{\"attributes\":{\"line_color\":{\"value\":\"red\"},\"x\":{\"field\":\"x\"},\"y\":{\"field\":\"y\"}},\"id\":\"01261196-6496-450e-b3f5-0396b5a2dd60\",\"type\":\"Line\"},{\"attributes\":{\"x\":{\"field\":\"x\"},\"y\":{\"field\":\"y\"}},\"id\":\"dd5240b3-7bd6-49ff-8de7-0573962b9529\",\"type\":\"Line\"},{\"attributes\":{\"line_color\":{\"value\":\"blue\"},\"line_dash\":[6],\"x\":{\"field\":\"x\"},\"y\":{\"field\":\"y\"}},\"id\":\"d430a143-6c73-4779-9f97-b6f1d3b069df\",\"type\":\"Line\"},{\"attributes\":{\"data_source\":{\"id\":\"03b083b0-c945-4c24-a483-193fb7c806f5\",\"type\":\"ColumnDataSource\"},\"glyph\":{\"id\":\"0218262d-a6ee-450f-ada7-ec8d95c47e41\",\"type\":\"Line\"},\"hover_glyph\":null,\"nonselection_glyph\":{\"id\":\"75acfbbd-c750-4cbf-b919-fa54d1258913\",\"type\":\"Line\"},\"selection_glyph\":null},\"id\":\"ce0508d4-e001-4a97-abc9-9827a2af0aa2\",\"type\":\"GlyphRenderer\"},{\"attributes\":{\"overlay\":{\"id\":\"64394936-8159-4f2a-97dd-f69eb8c7678d\",\"type\":\"BoxAnnotation\"},\"plot\":{\"id\":\"54b7ecd6-3d10-47d0-bc34-96ac2fc59491\",\"subtype\":\"Figure\",\"type\":\"Plot\"}},\"id\":\"22a936c2-62c1-4ee9-82ea-dbb15c968abc\",\"type\":\"BoxZoomTool\"},{\"attributes\":{\"callback\":null,\"column_names\":[\"y\",\"x\"],\"data\":{\"x\":[1.0,1.1224489795918366,1.2448979591836735,1.3673469387755102,1.489795918367347,1.6122448979591837,1.7346938775510203,1.8571428571428572,1.9795918367346939,2.1020408163265305,2.2244897959183674,2.3469387755102042,2.4693877551020407,2.5918367346938775,2.7142857142857144,2.836734693877551,2.9591836734693877,3.0816326530612246,3.204081632653061,3.326530612244898,3.4489795918367347,3.571428571428571,3.693877551020408,3.816326530612245,3.9387755102040813,4.061224489795919,4.183673469387755,4.3061224489795915,4.428571428571429,4.551020408163265,4.673469387755102,4.795918367346939,4.918367346938775,5.040816326530612,5.163265306122449,5.285714285714286,5.408163265306122,5.530612244897959,5.653061224489796,5.775510204081632,5.8979591836734695,6.020408163265306,6.142857142857142,6.26530612244898,6.387755102040816,6.5102040816326525,6.63265306122449,6.755102040816326,6.877551020408163,7.0],\"y\":[700.0,623.6363636363637,562.295081967213,511.9402985074627,469.8630136986301,434.17721518987344,403.5294117647059,376.9230769230769,353.6082474226804,333.0097087378641,314.6788990825688,298.2608695652174,283.4710743801653,270.0787401574803,257.89473684210526,246.76258992805757,236.55172413793105,227.1523178807947,218.47133757961785,210.42944785276075,202.9585798816568,196.0,189.50276243093924,183.4224598930481,177.72020725388603,172.36180904522612,167.3170731707317,162.55924170616115,158.06451612903226,153.81165919282512,149.7816593886463,145.95744680851064,142.32365145228215,138.86639676113361,135.57312252964425,132.43243243243245,129.43396226415095,126.56826568265683,123.82671480144404,121.20141342756185,118.68512110726644,116.27118644067797,113.95348837209303,111.72638436482085,109.58466453674122,107.52351097178685,105.53846153846153,103.62537764350454,101.78041543026707,100.0]}},\"id\":\"b1def74e-2e5c-40eb-9f82-a9565bc758f8\",\"type\":\"ColumnDataSource\"},{\"attributes\":{\"angle\":-0.504898819326931,\"plot\":{\"id\":\"54b7ecd6-3d10-47d0-bc34-96ac2fc59491\",\"subtype\":\"Figure\",\"type\":\"Plot\"},\"text\":\"700W\",\"text_font_size\":{\"value\":\"10pt\"},\"x\":4.66,\"y\":140},\"id\":\"a12b834e-aa50-436d-8468-110b7847fb4a\",\"type\":\"Label\"},{\"attributes\":{\"line_color\":{\"value\":\"blue\"},\"line_dash\":[6],\"x\":{\"field\":\"x\"},\"y\":{\"field\":\"y\"}},\"id\":\"2a3439f5-afc2-4683-ad7a-9673ef5a93b5\",\"type\":\"Line\"},{\"attributes\":{\"angle\":-0.8975979010256552,\"plot\":{\"id\":\"54b7ecd6-3d10-47d0-bc34-96ac2fc59491\",\"subtype\":\"Figure\",\"type\":\"Plot\"},\"text\":\"200W\",\"text_font_size\":{\"value\":\"10pt\"},\"x\":1.2185714285714286,\"y\":140},\"id\":\"5f458c7d-799b-4069-b45c-8a929b47b627\",\"type\":\"Label\"},{\"attributes\":{},\"id\":\"409b3e47-de6b-471d-b392-1e8afb1989f6\",\"type\":\"BasicTicker\"},{\"attributes\":{\"callback\":null,\"column_names\":[\"y\",\"x\"],\"data\":{\"x\":[1.0,1.1224489795918366,1.2448979591836735,1.3673469387755102,1.489795918367347,1.6122448979591837,1.7346938775510203,1.8571428571428572,1.9795918367346939,2.1020408163265305,2.2244897959183674,2.3469387755102042,2.4693877551020407,2.5918367346938775,2.7142857142857144,2.836734693877551,2.9591836734693877,3.0816326530612246,3.204081632653061,3.326530612244898,3.4489795918367347,3.571428571428571,3.693877551020408,3.816326530612245,3.9387755102040813,4.061224489795919,4.183673469387755,4.3061224489795915,4.428571428571429,4.551020408163265,4.673469387755102,4.795918367346939,4.918367346938775,5.040816326530612,5.163265306122449,5.285714285714286,5.408163265306122,5.530612244897959,5.653061224489796,5.775510204081632,5.8979591836734695,6.020408163265306,6.142857142857142,6.26530612244898,6.387755102040816,6.5102040816326525,6.63265306122449,6.755102040816326,6.877551020408163,7.0],\"y\":[250.0,222.72727272727275,200.81967213114754,182.8358208955224,167.80821917808217,155.0632911392405,144.11764705882354,134.6153846153846,126.28865979381443,118.93203883495146,112.38532110091742,106.52173913043478,101.2396694214876,96.45669291338582,92.10526315789473,88.1294964028777,84.48275862068965,81.12582781456953,78.02547770700637,75.15337423312883,72.48520710059171,70.0,67.67955801104972,65.50802139037432,63.47150259067358,61.55778894472361,59.75609756097561,58.056872037914694,56.4516129032258,54.93273542600897,53.49344978165939,52.12765957446808,50.8298755186722,49.59514170040486,48.418972332015805,47.2972972972973,46.22641509433963,45.2029520295203,44.22382671480145,43.28621908127209,42.38754325259516,41.525423728813564,40.697674418604656,39.90228013029316,39.13738019169329,38.4012539184953,37.69230769230769,37.00906344410876,36.35014836795253,35.714285714285715]}},\"id\":\"f8add10c-3b1f-4766-9a33-98aaea803cd0\",\"type\":\"ColumnDataSource\"},{\"attributes\":{\"dimension\":1,\"plot\":{\"id\":\"54b7ecd6-3d10-47d0-bc34-96ac2fc59491\",\"subtype\":\"Figure\",\"type\":\"Plot\"},\"ticker\":{\"id\":\"409b3e47-de6b-471d-b392-1e8afb1989f6\",\"type\":\"BasicTicker\"}},\"id\":\"6cfd4cc4-c8ce-4d51-918b-38391136d376\",\"type\":\"Grid\"},{\"attributes\":{\"data_source\":{\"id\":\"1ef64689-8462-486b-973b-9405851f80b9\",\"type\":\"ColumnDataSource\"},\"glyph\":{\"id\":\"13c2023d-47a7-4b05-bb2d-2f8b1ba400c6\",\"type\":\"Line\"},\"hover_glyph\":null,\"nonselection_glyph\":{\"id\":\"1430e7fd-8ba7-45d3-a65e-cd9a3cdeb6b5\",\"type\":\"Line\"},\"selection_glyph\":null},\"id\":\"088908a3-3d79-433b-b4dc-40dd8fa1dc44\",\"type\":\"GlyphRenderer\"},{\"attributes\":{},\"id\":\"9fff855b-1130-471e-8505-6d95eb6b6971\",\"type\":\"ToolEvents\"},{\"attributes\":{\"line_alpha\":{\"value\":0.1},\"line_color\":{\"value\":\"#1f77b4\"},\"x\":{\"field\":\"x\"},\"y\":{\"field\":\"y\"}},\"id\":\"1430e7fd-8ba7-45d3-a65e-cd9a3cdeb6b5\",\"type\":\"Line\"},{\"attributes\":{\"angle\":-0.7405182683461655,\"plot\":{\"id\":\"54b7ecd6-3d10-47d0-bc34-96ac2fc59491\",\"subtype\":\"Figure\",\"type\":\"Plot\"},\"text\":\"300W\",\"text_font_size\":{\"value\":\"10pt\"},\"x\":1.9328571428571428,\"y\":140},\"id\":\"3e2bc22f-2fc1-44f8-937e-a70b61c1a4ff\",\"type\":\"Label\"},{\"attributes\":{\"legends\":[[\"Drag\",[{\"id\":\"22c747de-3968-4033-9774-c44139156585\",\"type\":\"GlyphRenderer\"}]],[\"Max Thrust\",[{\"id\":\"7f8bcdc1-cb83-4de4-8f6a-a53b34843b9c\",\"type\":\"GlyphRenderer\"}]],[\"250W Thrust\",[{\"id\":\"088908a3-3d79-433b-b4dc-40dd8fa1dc44\",\"type\":\"GlyphRenderer\"}]]],\"plot\":{\"id\":\"54b7ecd6-3d10-47d0-bc34-96ac2fc59491\",\"subtype\":\"Figure\",\"type\":\"Plot\"}},\"id\":\"9d7214aa-f4d7-4e33-be5f-49232dff64a0\",\"type\":\"Legend\"},{\"attributes\":{\"callback\":null,\"column_names\":[\"y\",\"x\"],\"data\":{\"x\":[0.5,1.0,1.5,2.0,2.5,3.0,3.5,4.0,4.5,5.0,5.5,6.0],\"y\":[51,56,62,67,68,65,69,53,48,43,38,33]}},\"id\":\"1ef64689-8462-486b-973b-9405851f80b9\",\"type\":\"ColumnDataSource\"},{\"attributes\":{\"callback\":null,\"end\":150},\"id\":\"f47de63d-e8fa-4722-8029-badd15c34264\",\"type\":\"Range1d\"},{\"attributes\":{\"line_color\":{\"value\":\"blue\"},\"line_dash\":[6],\"x\":{\"field\":\"x\"},\"y\":{\"field\":\"y\"}},\"id\":\"30d73100-7259-4c4d-8f85-7f6c24159c77\",\"type\":\"Line\"},{\"attributes\":{\"plot\":{\"id\":\"54b7ecd6-3d10-47d0-bc34-96ac2fc59491\",\"subtype\":\"Figure\",\"type\":\"Plot\"}},\"id\":\"5d7196c4-d5ad-4400-8755-ee5d7e4448ba\",\"type\":\"ResetTool\"},{\"attributes\":{\"line_alpha\":{\"value\":0.1},\"line_color\":{\"value\":\"#1f77b4\"},\"line_dash\":[6],\"x\":{\"field\":\"x\"},\"y\":{\"field\":\"y\"}},\"id\":\"a1a5f977-8a76-4181-8772-ee9ecb28d3fd\",\"type\":\"Line\"},{\"attributes\":{\"data_source\":{\"id\":\"7d858b84-6d59-4a2d-a41e-f0af58b491bb\",\"type\":\"ColumnDataSource\"},\"glyph\":{\"id\":\"30d73100-7259-4c4d-8f85-7f6c24159c77\",\"type\":\"Line\"},\"hover_glyph\":null,\"nonselection_glyph\":{\"id\":\"a1a5f977-8a76-4181-8772-ee9ecb28d3fd\",\"type\":\"Line\"},\"selection_glyph\":null},\"id\":\"81204cd3-7908-4b18-bf74-fbf30c1b261b\",\"type\":\"GlyphRenderer\"},{\"attributes\":{\"angle\":-0.6619784520064207,\"plot\":{\"id\":\"54b7ecd6-3d10-47d0-bc34-96ac2fc59491\",\"subtype\":\"Figure\",\"type\":\"Plot\"},\"text\":\"350W\",\"text_font_size\":{\"value\":\"10pt\"},\"x\":2.29,\"y\":140},\"id\":\"0d77e5fa-6855-4568-a71d-fa47bb85ff17\",\"type\":\"Label\"},{\"attributes\":{\"callback\":null,\"column_names\":[\"y\",\"x\"],\"data\":{\"x\":[1.0,1.1224489795918366,1.2448979591836735,1.3673469387755102,1.489795918367347,1.6122448979591837,1.7346938775510203,1.8571428571428572,1.9795918367346939,2.1020408163265305,2.2244897959183674,2.3469387755102042,2.4693877551020407,2.5918367346938775,2.7142857142857144,2.836734693877551,2.9591836734693877,3.0816326530612246,3.204081632653061,3.326530612244898,3.4489795918367347,3.571428571428571,3.693877551020408,3.816326530612245,3.9387755102040813,4.061224489795919,4.183673469387755,4.3061224489795915,4.428571428571429,4.551020408163265,4.673469387755102,4.795918367346939,4.918367346938775,5.040816326530612,5.163265306122449,5.285714285714286,5.408163265306122,5.530612244897959,5.653061224489796,5.775510204081632,5.8979591836734695,6.020408163265306,6.142857142857142,6.26530612244898,6.387755102040816,6.5102040816326525,6.63265306122449,6.755102040816326,6.877551020408163,7.0],\"y\":[350.0,311.81818181818187,281.1475409836065,255.97014925373136,234.93150684931504,217.08860759493672,201.76470588235296,188.46153846153845,176.8041237113402,166.50485436893206,157.3394495412844,149.1304347826087,141.73553719008265,135.03937007874015,128.94736842105263,123.38129496402878,118.27586206896552,113.57615894039735,109.23566878980893,105.21472392638037,101.4792899408284,98.0,94.75138121546962,91.71122994652406,88.86010362694302,86.18090452261306,83.65853658536585,81.27962085308057,79.03225806451613,76.90582959641256,74.89082969432314,72.97872340425532,71.16182572614107,69.43319838056681,67.78656126482213,66.21621621621622,64.71698113207547,63.284132841328415,61.91335740072202,60.60070671378092,59.34256055363322,58.13559322033898,56.97674418604652,55.86319218241042,54.79233226837061,53.761755485893424,52.76923076923077,51.81268882175227,50.890207715133535,50.0]}},\"id\":\"cb78553f-051f-4fdc-a696-d527dc140959\",\"type\":\"ColumnDataSource\"},{\"attributes\":{\"data_source\":{\"id\":\"f8add10c-3b1f-4766-9a33-98aaea803cd0\",\"type\":\"ColumnDataSource\"},\"glyph\":{\"id\":\"1483eee4-1f08-406c-b106-aa76537a98ad\",\"type\":\"Line\"},\"hover_glyph\":null,\"nonselection_glyph\":{\"id\":\"0a0a8a2f-523a-4e16-857f-c4086140216c\",\"type\":\"Line\"},\"selection_glyph\":null},\"id\":\"7cfa3a3d-e948-4310-9bcf-c954d05e47bd\",\"type\":\"GlyphRenderer\"},{\"attributes\":{\"below\":[{\"id\":\"a875b492-db54-45e1-aaa0-25ed631b69b4\",\"type\":\"LinearAxis\"}],\"left\":[{\"id\":\"47f90f86-817f-4542-83e9-19c7c68c9b95\",\"type\":\"LinearAxis\"}],\"plot_height\":350,\"plot_width\":900,\"renderers\":[{\"id\":\"a875b492-db54-45e1-aaa0-25ed631b69b4\",\"type\":\"LinearAxis\"},{\"id\":\"c8d892f5-a744-4201-8d13-c94358fcf4c5\",\"type\":\"Grid\"},{\"id\":\"47f90f86-817f-4542-83e9-19c7c68c9b95\",\"type\":\"LinearAxis\"},{\"id\":\"6cfd4cc4-c8ce-4d51-918b-38391136d376\",\"type\":\"Grid\"},{\"id\":\"64394936-8159-4f2a-97dd-f69eb8c7678d\",\"type\":\"BoxAnnotation\"},{\"id\":\"9d7214aa-f4d7-4e33-be5f-49232dff64a0\",\"type\":\"Legend\"},{\"id\":\"22c747de-3968-4033-9774-c44139156585\",\"type\":\"GlyphRenderer\"},{\"id\":\"81204cd3-7908-4b18-bf74-fbf30c1b261b\",\"type\":\"GlyphRenderer\"},{\"id\":\"5f458c7d-799b-4069-b45c-8a929b47b627\",\"type\":\"Label\"},{\"id\":\"7cfa3a3d-e948-4310-9bcf-c954d05e47bd\",\"type\":\"GlyphRenderer\"},{\"id\":\"db0bd2b2-d476-4297-908c-11189c70c583\",\"type\":\"Label\"},{\"id\":\"884f4c77-428b-4a7c-83d9-1a7193058211\",\"type\":\"GlyphRenderer\"},{\"id\":\"3e2bc22f-2fc1-44f8-937e-a70b61c1a4ff\",\"type\":\"Label\"},{\"id\":\"913482eb-5d98-4632-895e-1780e540d307\",\"type\":\"GlyphRenderer\"},{\"id\":\"0d77e5fa-6855-4568-a71d-fa47bb85ff17\",\"type\":\"Label\"},{\"id\":\"ce0508d4-e001-4a97-abc9-9827a2af0aa2\",\"type\":\"GlyphRenderer\"},{\"id\":\"5458c4fe-142e-4440-8e2d-9cc7b1abe7d6\",\"type\":\"Label\"},{\"id\":\"6098089a-a320-4c01-8fea-becbaec44359\",\"type\":\"GlyphRenderer\"},{\"id\":\"a12b834e-aa50-436d-8468-110b7847fb4a\",\"type\":\"Label\"},{\"id\":\"7f8bcdc1-cb83-4de4-8f6a-a53b34843b9c\",\"type\":\"GlyphRenderer\"},{\"id\":\"088908a3-3d79-433b-b4dc-40dd8fa1dc44\",\"type\":\"GlyphRenderer\"}],\"title\":{\"id\":\"2c168d8d-5f72-40a7-b09d-5cfd39120bb6\",\"type\":\"Title\"},\"tool_events\":{\"id\":\"9fff855b-1130-471e-8505-6d95eb6b6971\",\"type\":\"ToolEvents\"},\"toolbar\":{\"id\":\"f36a0037-6aec-467d-8316-2e727d411267\",\"type\":\"Toolbar\"},\"x_range\":{\"id\":\"bf9421de-70de-4fa6-929e-4bda20dcfb72\",\"type\":\"Range1d\"},\"y_range\":{\"id\":\"f47de63d-e8fa-4722-8029-badd15c34264\",\"type\":\"Range1d\"}},\"id\":\"54b7ecd6-3d10-47d0-bc34-96ac2fc59491\",\"subtype\":\"Figure\",\"type\":\"Plot\"},{\"attributes\":{\"callback\":null,\"column_names\":[\"y\",\"x\"],\"data\":{\"x\":[1.0,1.1224489795918366,1.2448979591836735,1.3673469387755102,1.489795918367347,1.6122448979591837,1.7346938775510203,1.8571428571428572,1.9795918367346939,2.1020408163265305,2.2244897959183674,2.3469387755102042,2.4693877551020407,2.5918367346938775,2.7142857142857144,2.836734693877551,2.9591836734693877,3.0816326530612246,3.204081632653061,3.326530612244898,3.4489795918367347,3.571428571428571,3.693877551020408,3.816326530612245,3.9387755102040813,4.061224489795919,4.183673469387755,4.3061224489795915,4.428571428571429,4.551020408163265,4.673469387755102,4.795918367346939,4.918367346938775,5.040816326530612,5.163265306122449,5.285714285714286,5.408163265306122,5.530612244897959,5.653061224489796,5.775510204081632,5.8979591836734695,6.020408163265306,6.142857142857142,6.26530612244898,6.387755102040816,6.5102040816326525,6.63265306122449,6.755102040816326,6.877551020408163,7.0],\"y\":[500.0,445.4545454545455,401.6393442622951,365.6716417910448,335.61643835616434,310.126582278481,288.2352941176471,269.2307692307692,252.57731958762886,237.8640776699029,224.77064220183485,213.04347826086956,202.4793388429752,192.91338582677164,184.21052631578945,176.2589928057554,168.9655172413793,162.25165562913907,156.05095541401275,150.30674846625766,144.97041420118342,140.0,135.35911602209944,131.01604278074865,126.94300518134716,123.11557788944722,119.51219512195122,116.11374407582939,112.9032258064516,109.86547085201794,106.98689956331879,104.25531914893617,101.6597510373444,99.19028340080972,96.83794466403161,94.5945945945946,92.45283018867926,90.4059040590406,88.4476534296029,86.57243816254417,84.77508650519032,83.05084745762713,81.39534883720931,79.80456026058631,78.27476038338658,76.8025078369906,75.38461538461539,74.01812688821752,72.70029673590506,71.42857142857143]}},\"id\":\"03b083b0-c945-4c24-a483-193fb7c806f5\",\"type\":\"ColumnDataSource\"},{\"attributes\":{\"plot\":{\"id\":\"54b7ecd6-3d10-47d0-bc34-96ac2fc59491\",\"subtype\":\"Figure\",\"type\":\"Plot\"}},\"id\":\"4454f644-b2e1-4db0-9725-ca6680f213e8\",\"type\":\"SaveTool\"},{\"attributes\":{\"data_source\":{\"id\":\"77abf0c7-9775-471f-9abe-2531e9e45738\",\"type\":\"ColumnDataSource\"},\"glyph\":{\"id\":\"dd5240b3-7bd6-49ff-8de7-0573962b9529\",\"type\":\"Line\"},\"hover_glyph\":null,\"nonselection_glyph\":{\"id\":\"7056a843-52b9-4881-81fe-564bbf361909\",\"type\":\"Line\"},\"selection_glyph\":null},\"id\":\"22c747de-3968-4033-9774-c44139156585\",\"type\":\"GlyphRenderer\"},{\"attributes\":{},\"id\":\"246439ea-e981-434d-9770-83ae13ef3cc0\",\"type\":\"BasicTickFormatter\"},{\"attributes\":{\"data_source\":{\"id\":\"cb78553f-051f-4fdc-a696-d527dc140959\",\"type\":\"ColumnDataSource\"},\"glyph\":{\"id\":\"d430a143-6c73-4779-9f97-b6f1d3b069df\",\"type\":\"Line\"},\"hover_glyph\":null,\"nonselection_glyph\":{\"id\":\"352f7976-ee27-4261-9144-740214337ae8\",\"type\":\"Line\"},\"selection_glyph\":null},\"id\":\"913482eb-5d98-4632-895e-1780e540d307\",\"type\":\"GlyphRenderer\"},{\"attributes\":{\"plot\":{\"id\":\"54b7ecd6-3d10-47d0-bc34-96ac2fc59491\",\"subtype\":\"Figure\",\"type\":\"Plot\"}},\"id\":\"ff9a21eb-beac-47e0-9d25-2f4f2aaed020\",\"type\":\"PanTool\"},{\"attributes\":{\"angle\":-0.5834386356666759,\"plot\":{\"id\":\"54b7ecd6-3d10-47d0-bc34-96ac2fc59491\",\"subtype\":\"Figure\",\"type\":\"Plot\"},\"text\":\"500W\",\"text_font_size\":{\"value\":\"10pt\"},\"x\":3.3614285714285717,\"y\":140},\"id\":\"5458c4fe-142e-4440-8e2d-9cc7b1abe7d6\",\"type\":\"Label\"}],\"root_ids\":[\"54b7ecd6-3d10-47d0-bc34-96ac2fc59491\"]},\"title\":\"Bokeh Application\",\"version\":\"0.12.1\"}};\n",
       "            var render_items = [{\"docid\":\"22d84e29-c866-4d40-9cf4-8998366fc11b\",\"elementid\":\"8bf65e79-c7e9-427f-aa77-731e3efa2388\",\"modelid\":\"54b7ecd6-3d10-47d0-bc34-96ac2fc59491\",\"notebook_comms_target\":\"a34c820a-77fa-4e13-bab1-3906457aedd6\"}];\n",
       "            \n",
       "            Bokeh.embed.embed_items(docs_json, render_items);\n",
       "        });\n",
       "      },\n",
       "      function(Bokeh) {\n",
       "      }\n",
       "    ];\n",
       "  \n",
       "    function run_inline_js() {\n",
       "      for (var i = 0; i < inline_js.length; i++) {\n",
       "        inline_js[i](window.Bokeh);\n",
       "      }\n",
       "    }\n",
       "  \n",
       "    if (window._bokeh_is_loading === 0) {\n",
       "      console.log(\"Bokeh: BokehJS loaded, going straight to plotting\");\n",
       "      run_inline_js();\n",
       "    } else {\n",
       "      load_libs(js_urls, function() {\n",
       "        console.log(\"Bokeh: BokehJS plotting callback run at\", now());\n",
       "        run_inline_js();\n",
       "      });\n",
       "    }\n",
       "  }(this));\n",
       "</script>"
      ]
     },
     "metadata": {},
     "output_type": "display_data"
    },
    {
     "data": {
      "text/html": [
       "<p><code>&lt;Bokeh Notebook handle for <strong>In[32]</strong>&gt;</code></p>"
      ],
      "text/plain": [
       "<bokeh.io._CommsHandle at 0x7fd59014c450>"
      ]
     },
     "execution_count": 32,
     "metadata": {},
     "output_type": "execute_result"
    }
   ],
   "source": [
    "p3 = figure(title='Drag and Available Thrust',\n",
    "            x_axis_label='Flight Speed [m/s]',\n",
    "            x_range=[1,7],\n",
    "            y_axis_label='Drag [N]',\n",
    "            y_range=[0,150],\n",
    "            width=900, height=350)\n",
    "\n",
    "p3.line(avl_eq[:,0],Drag_T, line_color='black',legend='Drag')\n",
    "\n",
    "PWR_LVL = [200,250,300,350,500,700] # Power Level in Watts\n",
    "Vs = np.linspace(1,7)\n",
    "for i,pl in enumerate(PWR_LVL):\n",
    "    Thrust = np.divide(pl*np.ones(Vs.shape),Vs)\n",
    "    p3.line(Vs,Thrust, line_color='blue', line_dash='dashed')\n",
    "    p3.add_layout(Label(x=pl/140.-0.21-i/5*0.13, y=140, text_font_size='10pt',\n",
    "                        angle=-np.pi/3.5+i*np.pi/40, text='{}W'.format(pl)))\n",
    "    \n",
    "    \n",
    "V_prop = np.arange(0.5,6.1,0.5)\n",
    "T_prop_max = np.array([94,97,103,113,125,135,135,131,125,117,109,88])\n",
    "T_prop_250 = np.array([51,56,62,67,68,65,69,53,48,43,38,33])\n",
    "\n",
    "p3.line(V_prop,T_prop_max,color='red',legend='Max Thrust')\n",
    "p3.line(V_prop,T_prop_250,color='green',legend='250W Thrust')\n",
    "\n",
    "show(p3)"
   ]
  },
  {
   "cell_type": "code",
   "execution_count": null,
   "metadata": {
    "collapsed": true
   },
   "outputs": [],
   "source": [
    "#Plotting\n",
    "p2 = figure(title='Equilibrium conditions',\n",
    "           x_axis_label='Flight Speed [m/s]',\n",
    "           y_axis_label='AoA and d_p [deg]',\n",
    "           width=900, height=350)\n",
    "\n",
    "p2.line(eq_matrix[:,0],eq_matrix[:,-2], line_color='navy',legend='Xn')\n",
    "p2.line(eq_matrix[:,0],eq_matrix[:,-1], line_color='firebrick',legend='Xcg')\n",
    "\n",
    "p2.line(avl_eq[:,0],-1*avl_eq[:,-1]+0.25*W_ROOT_C, line_color='blue',legend='AVL_Xn')\n",
    "p2.line(avl_eq[:,0],-1*avl_eq[:,-2]+0.25*W_ROOT_C, line_color='red',legend='AVL_xcg')\n",
    "\n",
    "show(p2)"
   ]
  }
 ],
 "metadata": {
  "kernelspec": {
   "display_name": "Python 2",
   "language": "python",
   "name": "python2"
  },
  "language_info": {
   "codemirror_mode": {
    "name": "ipython",
    "version": 2
   },
   "file_extension": ".py",
   "mimetype": "text/x-python",
   "name": "python",
   "nbconvert_exporter": "python",
   "pygments_lexer": "ipython2",
   "version": "2.7.11"
  }
 },
 "nbformat": 4,
 "nbformat_minor": 0
}
