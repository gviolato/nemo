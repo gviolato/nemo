{
 "cells": [
  {
   "cell_type": "markdown",
   "metadata": {},
   "source": [
    "## Equilibrium and stability basic analysis\n",
    "### (Canard sizing)\n",
    "\n",
    "Nemo human powered hydrofoil\n",
    "\n",
    "August 2016 - Gustavo Violato, Diego Montero, Fernando Valentini"
   ]
  },
  {
   "cell_type": "code",
   "execution_count": 1,
   "metadata": {
    "collapsed": false
   },
   "outputs": [],
   "source": [
    "%load_ext autoreload\n",
    "%autoreload 2"
   ]
  },
  {
   "cell_type": "code",
   "execution_count": 2,
   "metadata": {
    "collapsed": true
   },
   "outputs": [],
   "source": [
    "import numpy as np\n",
    "from bokeh.plotting import figure, output_notebook, show\n",
    "from bokeh.models import LinearAxis, Range1d, Label\n",
    "from bokeh.io import push_notebook\n",
    "import ipywidgets as wd\n",
    "import basic_equil as beq\n",
    "import readouts as ro\n",
    "import yaml\n",
    "%matplotlib notebook"
   ]
  },
  {
   "cell_type": "code",
   "execution_count": 10,
   "metadata": {
    "collapsed": false
   },
   "outputs": [
    {
     "data": {
      "text/html": [
       "\n",
       "    <div class=\"bk-root\">\n",
       "        <a href=\"http://bokeh.pydata.org\" target=\"_blank\" class=\"bk-logo bk-logo-small bk-logo-notebook\"></a>\n",
       "        <span id=\"ae708e79-e9c7-4f21-9b63-feb329d4904a\">Loading BokehJS ...</span>\n",
       "    </div>"
      ]
     },
     "metadata": {},
     "output_type": "display_data"
    },
    {
     "data": {
      "application/javascript": [
       "\n",
       "(function(global) {\n",
       "  function now() {\n",
       "    return new Date();\n",
       "  }\n",
       "\n",
       "  var force = \"1\";\n",
       "\n",
       "  if (typeof (window._bokeh_onload_callbacks) === \"undefined\" || force !== \"\") {\n",
       "    window._bokeh_onload_callbacks = [];\n",
       "    window._bokeh_is_loading = undefined;\n",
       "  }\n",
       "\n",
       "  function run_callbacks() {\n",
       "    window._bokeh_onload_callbacks.forEach(function(callback) { callback() });\n",
       "    delete window._bokeh_onload_callbacks\n",
       "    console.info(\"Bokeh: all callbacks have finished\");\n",
       "  }\n",
       "\n",
       "  function load_libs(js_urls, callback) {\n",
       "    window._bokeh_onload_callbacks.push(callback);\n",
       "    if (window._bokeh_is_loading > 0) {\n",
       "      console.log(\"Bokeh: BokehJS is being loaded, scheduling callback at\", now());\n",
       "      return null;\n",
       "    }\n",
       "    if (js_urls == null || js_urls.length === 0) {\n",
       "      run_callbacks();\n",
       "      return null;\n",
       "    }\n",
       "    console.log(\"Bokeh: BokehJS not loaded, scheduling load and callback at\", now());\n",
       "    window._bokeh_is_loading = js_urls.length;\n",
       "    for (var i = 0; i < js_urls.length; i++) {\n",
       "      var url = js_urls[i];\n",
       "      var s = document.createElement('script');\n",
       "      s.src = url;\n",
       "      s.async = false;\n",
       "      s.onreadystatechange = s.onload = function() {\n",
       "        window._bokeh_is_loading--;\n",
       "        if (window._bokeh_is_loading === 0) {\n",
       "          console.log(\"Bokeh: all BokehJS libraries loaded\");\n",
       "          run_callbacks()\n",
       "        }\n",
       "      };\n",
       "      s.onerror = function() {\n",
       "        console.warn(\"failed to load library \" + url);\n",
       "      };\n",
       "      console.log(\"Bokeh: injecting script tag for BokehJS library: \", url);\n",
       "      document.getElementsByTagName(\"head\")[0].appendChild(s);\n",
       "    }\n",
       "  };\n",
       "\n",
       "  var js_urls = ['https://cdn.pydata.org/bokeh/release/bokeh-0.12.1.min.js', 'https://cdn.pydata.org/bokeh/release/bokeh-widgets-0.12.1.min.js', 'https://cdn.pydata.org/bokeh/release/bokeh-compiler-0.12.1.min.js'];\n",
       "\n",
       "  var inline_js = [\n",
       "    function(Bokeh) {\n",
       "      Bokeh.set_log_level(\"info\");\n",
       "    },\n",
       "    \n",
       "    function(Bokeh) {\n",
       "      \n",
       "      Bokeh.$(\"#ae708e79-e9c7-4f21-9b63-feb329d4904a\").text(\"BokehJS successfully loaded\");\n",
       "      var kernel = Jupyter.notebook.kernel\n",
       "      if (kernel.execute !== undefined) {\n",
       "          kernel.execute(\"import bokeh.io; bokeh.io._nb_loaded = True\");\n",
       "      }\n",
       "    },\n",
       "    function(Bokeh) {\n",
       "      console.log(\"Bokeh: injecting CSS: https://cdn.pydata.org/bokeh/release/bokeh-0.12.1.min.css\");\n",
       "      Bokeh.embed.inject_css(\"https://cdn.pydata.org/bokeh/release/bokeh-0.12.1.min.css\");\n",
       "      console.log(\"Bokeh: injecting CSS: https://cdn.pydata.org/bokeh/release/bokeh-widgets-0.12.1.min.css\");\n",
       "      Bokeh.embed.inject_css(\"https://cdn.pydata.org/bokeh/release/bokeh-widgets-0.12.1.min.css\");\n",
       "    }\n",
       "  ];\n",
       "\n",
       "  function run_inline_js() {\n",
       "    for (var i = 0; i < inline_js.length; i++) {\n",
       "      inline_js[i](window.Bokeh);\n",
       "    }\n",
       "  }\n",
       "\n",
       "  if (window._bokeh_is_loading === 0) {\n",
       "    console.log(\"Bokeh: BokehJS loaded, going straight to plotting\");\n",
       "    run_inline_js();\n",
       "  } else {\n",
       "    load_libs(js_urls, function() {\n",
       "      console.log(\"Bokeh: BokehJS plotting callback run at\", now());\n",
       "      run_inline_js();\n",
       "    });\n",
       "  }\n",
       "}(this));"
      ]
     },
     "metadata": {},
     "output_type": "display_data"
    }
   ],
   "source": [
    "output_notebook()"
   ]
  },
  {
   "cell_type": "code",
   "execution_count": 4,
   "metadata": {
    "collapsed": true
   },
   "outputs": [],
   "source": [
    "# Global Constants\n",
    "D2R = np.pi/180.\n",
    "R2D = 1./D2R\n",
    "\n",
    "DIMSFILE = 'nemo_dims.yml'"
   ]
  },
  {
   "cell_type": "code",
   "execution_count": 5,
   "metadata": {
    "collapsed": false
   },
   "outputs": [],
   "source": [
    "# Flight parameters\n",
    "fp = {'V':4.,          # Just a dummy value, it will be replaced as needed\n",
    "      'iw':2.5*D2R,    # Wind incidence angle (radians)\n",
    "      'delta_cg':0.05, # CG displacement wrt nominal position\n",
    "      'mass': 101      # Total mass\n",
    "     }"
   ]
  },
  {
   "cell_type": "code",
   "execution_count": 6,
   "metadata": {
    "collapsed": false
   },
   "outputs": [],
   "source": [
    "# Nemo relevant equilibrim dimensions/characteristics\n",
    "dims = beq.read_dims(DIMSFILE)\n",
    "# Speeds for analysis:\n",
    "# Takeoff speeds\n",
    "Vs_TO = np.arange(1.,3.1,0.25)\n",
    "# Flight speeds\n",
    "Vs = np.arange(3.3,7.0,0.3)\n",
    "# Exepcted Thrust (to be checked against drag curve later)\n",
    "Ts = np.array([66.81,62.09,60.08,60.00,61.33,63.79,67.29,71.84,77.63,84.65,95.37,112.26,140.75])\n",
    "# Equilibrium Matrix\n",
    "eq_matrix = beq.solve_equilibrium(Vs,dims,fp,Thrust=Ts)\n",
    "# AVL Calculaleted Equilibrium Matrix\n",
    "#avl_eq_TO = ro.read_results('./results_to',Vs_TO)\n",
    "avl_eq, avl_st = ro.read_results('./results_7mps',Vs)\n",
    "#avl_eq = np.append(avl_eq_TO,avl_eq_FL,axis=0)"
   ]
  },
  {
   "cell_type": "code",
   "execution_count": 7,
   "metadata": {
    "collapsed": false
   },
   "outputs": [
    {
     "data": {
      "text/plain": [
       "<bokeh.models.renderers.GlyphRenderer at 0x7f6451750050>"
      ]
     },
     "execution_count": 7,
     "metadata": {},
     "output_type": "execute_result"
    }
   ],
   "source": [
    "#Plotting\n",
    "p = figure(title='Equilibrium conditions',\n",
    "           x_axis_label='Flight Speed [m/s]',\n",
    "           y_axis_label='AoA and d_p [deg]',\n",
    "           y_range=[-5,10],\n",
    "           width=900, height=350, toolbar_location='above')\n",
    "\n",
    "aoa = p.line(eq_matrix[:,0],eq_matrix[:,1], line_color='navy',legend='AoA')\n",
    "dp  = p.line(eq_matrix[:,0],eq_matrix[:,2], line_color='firebrick',legend='dp')\n",
    "\n",
    "p.line(avl_eq[:,0],avl_eq[:,1], line_color='blue',legend='AVL_AoA')\n",
    "p.line(avl_eq[:,0],avl_eq[:,2], line_color='red',legend='AVL_dp')\n",
    "\n",
    "p.extra_y_ranges = {\"cls\": Range1d(start=0., end=1.2)}\n",
    "p.add_layout(LinearAxis(y_range_name=\"cls\"), 'right')\n",
    "\n",
    "clw = p.line(eq_matrix[:,0], eq_matrix[:,4], line_color=\"green\", y_range_name=\"cls\", legend='Cl_w')\n",
    "clc = p.line(eq_matrix[:,0], eq_matrix[:,6], line_color=\"teal\", y_range_name=\"cls\", legend='Cl_c')\n",
    "\n",
    "p.line(avl_eq[:,0], avl_eq[:,4], line_color=\"darkgreen\", y_range_name=\"cls\", legend='AVL_Cl_w')\n",
    "p.line(avl_eq[:,0], avl_eq[:,5], line_color=\"cadetblue\", y_range_name=\"cls\", legend='AVL_Cl_c')"
   ]
  },
  {
   "cell_type": "code",
   "execution_count": 8,
   "metadata": {
    "collapsed": true
   },
   "outputs": [],
   "source": [
    "def update(iw=2.5, d_cg=0.05, mass=101.):\n",
    "    fp['iw'] = iw*D2R\n",
    "    fp['delta_cg'] = d_cg\n",
    "    fp['mass'] = mass\n",
    "    eq_matrix = beq.solve_equilibrium(Vs,dims,fp)\n",
    "    aoa.data_source.data['y'] = eq_matrix[:,1]\n",
    "    dp.data_source.data['y']  = eq_matrix[:,2]\n",
    "    clw.data_source.data['y'] = eq_matrix[:,4]\n",
    "    clc.data_source.data['y'] = eq_matrix[:,6]\n",
    "    push_notebook()"
   ]
  },
  {
   "cell_type": "code",
   "execution_count": 11,
   "metadata": {
    "collapsed": false,
    "scrolled": true
   },
   "outputs": [
    {
     "data": {
      "text/html": [
       "\n",
       "\n",
       "    <div class=\"bk-root\">\n",
       "        <div class=\"plotdiv\" id=\"6bb74173-73c9-45eb-9549-e1457d247d8b\"></div>\n",
       "    </div>\n",
       "<script type=\"text/javascript\">\n",
       "  \n",
       "  (function(global) {\n",
       "    function now() {\n",
       "      return new Date();\n",
       "    }\n",
       "  \n",
       "    var force = \"\";\n",
       "  \n",
       "    if (typeof (window._bokeh_onload_callbacks) === \"undefined\" || force !== \"\") {\n",
       "      window._bokeh_onload_callbacks = [];\n",
       "      window._bokeh_is_loading = undefined;\n",
       "    }\n",
       "  \n",
       "    function run_callbacks() {\n",
       "      window._bokeh_onload_callbacks.forEach(function(callback) { callback() });\n",
       "      delete window._bokeh_onload_callbacks\n",
       "      console.info(\"Bokeh: all callbacks have finished\");\n",
       "    }\n",
       "  \n",
       "    function load_libs(js_urls, callback) {\n",
       "      window._bokeh_onload_callbacks.push(callback);\n",
       "      if (window._bokeh_is_loading > 0) {\n",
       "        console.log(\"Bokeh: BokehJS is being loaded, scheduling callback at\", now());\n",
       "        return null;\n",
       "      }\n",
       "      if (js_urls == null || js_urls.length === 0) {\n",
       "        run_callbacks();\n",
       "        return null;\n",
       "      }\n",
       "      console.log(\"Bokeh: BokehJS not loaded, scheduling load and callback at\", now());\n",
       "      window._bokeh_is_loading = js_urls.length;\n",
       "      for (var i = 0; i < js_urls.length; i++) {\n",
       "        var url = js_urls[i];\n",
       "        var s = document.createElement('script');\n",
       "        s.src = url;\n",
       "        s.async = false;\n",
       "        s.onreadystatechange = s.onload = function() {\n",
       "          window._bokeh_is_loading--;\n",
       "          if (window._bokeh_is_loading === 0) {\n",
       "            console.log(\"Bokeh: all BokehJS libraries loaded\");\n",
       "            run_callbacks()\n",
       "          }\n",
       "        };\n",
       "        s.onerror = function() {\n",
       "          console.warn(\"failed to load library \" + url);\n",
       "        };\n",
       "        console.log(\"Bokeh: injecting script tag for BokehJS library: \", url);\n",
       "        document.getElementsByTagName(\"head\")[0].appendChild(s);\n",
       "      }\n",
       "    };var element = document.getElementById(\"6bb74173-73c9-45eb-9549-e1457d247d8b\");\n",
       "    if (element == null) {\n",
       "      console.log(\"Bokeh: ERROR: autoload.js configured with elementid '6bb74173-73c9-45eb-9549-e1457d247d8b' but no matching script tag was found. \")\n",
       "      return false;\n",
       "    }\n",
       "  \n",
       "    var js_urls = [];\n",
       "  \n",
       "    var inline_js = [\n",
       "      function(Bokeh) {\n",
       "        Bokeh.$(function() {\n",
       "            var docs_json = {\"9233204c-1a56-49d5-8cd2-9d9f9ca4c0da\":{\"roots\":{\"references\":[{\"attributes\":{\"active_drag\":\"auto\",\"active_scroll\":\"auto\",\"active_tap\":\"auto\",\"tools\":[{\"id\":\"625458e8-ab5b-4255-a0c8-5af70bed50ce\",\"type\":\"PanTool\"},{\"id\":\"cbf31b72-e351-42ea-917b-9152505a7c18\",\"type\":\"WheelZoomTool\"},{\"id\":\"0081d904-1934-4726-a7a5-e7cb7b6e93d5\",\"type\":\"BoxZoomTool\"},{\"id\":\"b55ad503-be62-4ea9-a085-95a1c6f5393f\",\"type\":\"SaveTool\"},{\"id\":\"e912bbc9-9b5c-4ce1-8f2c-39d23e0dfaaf\",\"type\":\"ResetTool\"},{\"id\":\"8c828073-7c1c-4c2b-b6f0-fa19c2fa91de\",\"type\":\"HelpTool\"}]},\"id\":\"49e41164-3b43-45c4-a633-3b12f3e8271e\",\"type\":\"Toolbar\"},{\"attributes\":{\"plot\":{\"id\":\"5be0c4b5-5e6c-4c62-8f72-6e0c5a1b35e5\",\"subtype\":\"Figure\",\"type\":\"Plot\"}},\"id\":\"b55ad503-be62-4ea9-a085-95a1c6f5393f\",\"type\":\"SaveTool\"},{\"attributes\":{\"data_source\":{\"id\":\"88c73daf-52c8-4a6a-a350-47122d9f36f7\",\"type\":\"ColumnDataSource\"},\"glyph\":{\"id\":\"73dce700-5134-4953-84a2-ad45bd251930\",\"type\":\"Line\"},\"hover_glyph\":null,\"nonselection_glyph\":{\"id\":\"359bc09c-d81f-47aa-ab8c-51d13d2b9c4c\",\"type\":\"Line\"},\"selection_glyph\":null,\"y_range_name\":\"cls\"},\"id\":\"d36d9886-affa-4aed-bd98-118419c09d4c\",\"type\":\"GlyphRenderer\"},{\"attributes\":{\"line_alpha\":{\"value\":0.1},\"line_color\":{\"value\":\"#1f77b4\"},\"x\":{\"field\":\"x\"},\"y\":{\"field\":\"y\"}},\"id\":\"5ef2d5f1-f9ed-468c-9b00-73e8cca4d558\",\"type\":\"Line\"},{\"attributes\":{\"line_alpha\":{\"value\":0.1},\"line_color\":{\"value\":\"#1f77b4\"},\"x\":{\"field\":\"x\"},\"y\":{\"field\":\"y\"}},\"id\":\"1a28d477-838f-48c2-8c54-c2c14e4f9a35\",\"type\":\"Line\"},{\"attributes\":{\"line_color\":{\"value\":\"blue\"},\"x\":{\"field\":\"x\"},\"y\":{\"field\":\"y\"}},\"id\":\"aea07ab8-abc5-4c50-bd70-2d242ceba27a\",\"type\":\"Line\"},{\"attributes\":{},\"id\":\"a7412d21-e6de-4bd8-8b9a-0240bb951801\",\"type\":\"BasicTickFormatter\"},{\"attributes\":{\"plot\":null,\"text\":\"Equilibrium conditions\"},\"id\":\"6622c003-f675-46a0-8b54-9afe4df6e9a6\",\"type\":\"Title\"},{\"attributes\":{\"data_source\":{\"id\":\"11506d4c-b6c6-49c0-96d9-10c2358fd986\",\"type\":\"ColumnDataSource\"},\"glyph\":{\"id\":\"07a514b8-80d0-4f3e-ba9e-7e392c83bf7b\",\"type\":\"Line\"},\"hover_glyph\":null,\"nonselection_glyph\":{\"id\":\"18f7f203-39f8-4481-86de-4c4ddb8a980d\",\"type\":\"Line\"},\"selection_glyph\":null,\"y_range_name\":\"cls\"},\"id\":\"e2026503-0ce8-4c57-8e43-20587300611e\",\"type\":\"GlyphRenderer\"},{\"attributes\":{\"plot\":{\"id\":\"5be0c4b5-5e6c-4c62-8f72-6e0c5a1b35e5\",\"subtype\":\"Figure\",\"type\":\"Plot\"}},\"id\":\"8c828073-7c1c-4c2b-b6f0-fa19c2fa91de\",\"type\":\"HelpTool\"},{\"attributes\":{},\"id\":\"985c92ff-cc51-47a6-9ef4-df241a213ee2\",\"type\":\"BasicTicker\"},{\"attributes\":{\"bottom_units\":\"screen\",\"fill_alpha\":{\"value\":0.5},\"fill_color\":{\"value\":\"lightgrey\"},\"left_units\":\"screen\",\"level\":\"overlay\",\"line_alpha\":{\"value\":1.0},\"line_color\":{\"value\":\"black\"},\"line_dash\":[4,4],\"line_width\":{\"value\":2},\"plot\":null,\"render_mode\":\"css\",\"right_units\":\"screen\",\"top_units\":\"screen\"},\"id\":\"f9547c9f-5d99-43b3-8235-ac2eea6d0f91\",\"type\":\"BoxAnnotation\"},{\"attributes\":{\"line_alpha\":{\"value\":0.1},\"line_color\":{\"value\":\"#1f77b4\"},\"x\":{\"field\":\"x\"},\"y\":{\"field\":\"y\"}},\"id\":\"700923a8-bcf6-454d-87b4-b677c0b4dd57\",\"type\":\"Line\"},{\"attributes\":{\"line_color\":{\"value\":\"green\"},\"x\":{\"field\":\"x\"},\"y\":{\"field\":\"y\"}},\"id\":\"73dce700-5134-4953-84a2-ad45bd251930\",\"type\":\"Line\"},{\"attributes\":{\"data_source\":{\"id\":\"78a0d09c-58a7-4135-bbe1-f8c75fe3c80b\",\"type\":\"ColumnDataSource\"},\"glyph\":{\"id\":\"f0a005b9-f1ce-4734-8339-12cad8d45fb4\",\"type\":\"Line\"},\"hover_glyph\":null,\"nonselection_glyph\":{\"id\":\"6c713901-2e68-491e-b62c-bae75e645003\",\"type\":\"Line\"},\"selection_glyph\":null},\"id\":\"a53a84e2-424b-46d6-a730-617d6ec982df\",\"type\":\"GlyphRenderer\"},{\"attributes\":{},\"id\":\"bc687eee-5c25-4aa1-8463-eb5278176c35\",\"type\":\"ToolEvents\"},{\"attributes\":{\"data_source\":{\"id\":\"dafe1846-17b1-4194-8768-fa1b07698926\",\"type\":\"ColumnDataSource\"},\"glyph\":{\"id\":\"aea07ab8-abc5-4c50-bd70-2d242ceba27a\",\"type\":\"Line\"},\"hover_glyph\":null,\"nonselection_glyph\":{\"id\":\"6fa2c62a-7981-401f-9e30-4b0ee6005a8b\",\"type\":\"Line\"},\"selection_glyph\":null},\"id\":\"959497a7-4221-4931-84c6-a8f6ffa11629\",\"type\":\"GlyphRenderer\"},{\"attributes\":{\"plot\":{\"id\":\"5be0c4b5-5e6c-4c62-8f72-6e0c5a1b35e5\",\"subtype\":\"Figure\",\"type\":\"Plot\"}},\"id\":\"cbf31b72-e351-42ea-917b-9152505a7c18\",\"type\":\"WheelZoomTool\"},{\"attributes\":{\"plot\":{\"id\":\"5be0c4b5-5e6c-4c62-8f72-6e0c5a1b35e5\",\"subtype\":\"Figure\",\"type\":\"Plot\"},\"ticker\":{\"id\":\"3d5a257a-d23a-45f3-87fc-2d305aa4f025\",\"type\":\"BasicTicker\"}},\"id\":\"89db6892-c882-47fd-8735-9018ec2670d3\",\"type\":\"Grid\"},{\"attributes\":{\"callback\":null,\"column_names\":[\"y\",\"x\"],\"data\":{\"x\":[3.3,3.5999999999999996,3.8999999999999995,4.199999999999999,4.499999999999999,4.799999999999999,5.099999999999999,5.399999999999999,5.699999999999998,5.999999999999998,6.299999999999998,6.599999999999998,6.899999999999998],\"y\":[0.8918456233696951,0.7322766531548763,0.6136620032694565,0.5226501603680818,0.45105858387108716,0.39361285065991813,0.34677029487210365,0.30806062402272794,0.2757296236843363,0.24844908315942046,0.22554835369421083,0.20647094870466814,0.1910747344540153]}},\"id\":\"88c73daf-52c8-4a6a-a350-47122d9f36f7\",\"type\":\"ColumnDataSource\"},{\"attributes\":{\"axis_label\":\"Flight Speed [m/s]\",\"formatter\":{\"id\":\"51790e32-c5bc-4a85-8ba0-03a3cf0fa6ec\",\"type\":\"BasicTickFormatter\"},\"plot\":{\"id\":\"5be0c4b5-5e6c-4c62-8f72-6e0c5a1b35e5\",\"subtype\":\"Figure\",\"type\":\"Plot\"},\"ticker\":{\"id\":\"3d5a257a-d23a-45f3-87fc-2d305aa4f025\",\"type\":\"BasicTicker\"}},\"id\":\"35bafa0a-0895-4e93-b64d-e77e9c65f61f\",\"type\":\"LinearAxis\"},{\"attributes\":{\"data_source\":{\"id\":\"8b044b8a-0b8b-4b50-8dfc-a87cb9f11fff\",\"type\":\"ColumnDataSource\"},\"glyph\":{\"id\":\"29926d8e-bf99-4a4c-8195-cba67239d097\",\"type\":\"Line\"},\"hover_glyph\":null,\"nonselection_glyph\":{\"id\":\"138ee8ad-5c0a-49a9-91b5-6f4df172dab7\",\"type\":\"Line\"},\"selection_glyph\":null,\"y_range_name\":\"cls\"},\"id\":\"e0e26054-57cc-426a-97c5-f66b2cdb45d0\",\"type\":\"GlyphRenderer\"},{\"attributes\":{\"line_color\":{\"value\":\"navy\"},\"x\":{\"field\":\"x\"},\"y\":{\"field\":\"y\"}},\"id\":\"b42b4a8f-a32f-443e-90e6-8101cc558968\",\"type\":\"Line\"},{\"attributes\":{\"line_alpha\":{\"value\":0.1},\"line_color\":{\"value\":\"#1f77b4\"},\"x\":{\"field\":\"x\"},\"y\":{\"field\":\"y\"}},\"id\":\"138ee8ad-5c0a-49a9-91b5-6f4df172dab7\",\"type\":\"Line\"},{\"attributes\":{},\"id\":\"51790e32-c5bc-4a85-8ba0-03a3cf0fa6ec\",\"type\":\"BasicTickFormatter\"},{\"attributes\":{\"line_alpha\":{\"value\":0.1},\"line_color\":{\"value\":\"#1f77b4\"},\"x\":{\"field\":\"x\"},\"y\":{\"field\":\"y\"}},\"id\":\"6fa2c62a-7981-401f-9e30-4b0ee6005a8b\",\"type\":\"Line\"},{\"attributes\":{\"line_alpha\":{\"value\":0.1},\"line_color\":{\"value\":\"#1f77b4\"},\"x\":{\"field\":\"x\"},\"y\":{\"field\":\"y\"}},\"id\":\"359bc09c-d81f-47aa-ab8c-51d13d2b9c4c\",\"type\":\"Line\"},{\"attributes\":{\"line_color\":{\"value\":\"cadetblue\"},\"x\":{\"field\":\"x\"},\"y\":{\"field\":\"y\"}},\"id\":\"0aa25e03-c0e2-474b-9ebc-87cf46cbfb86\",\"type\":\"Line\"},{\"attributes\":{\"line_color\":{\"value\":\"teal\"},\"x\":{\"field\":\"x\"},\"y\":{\"field\":\"y\"}},\"id\":\"07a514b8-80d0-4f3e-ba9e-7e392c83bf7b\",\"type\":\"Line\"},{\"attributes\":{},\"id\":\"3d5a257a-d23a-45f3-87fc-2d305aa4f025\",\"type\":\"BasicTicker\"},{\"attributes\":{\"callback\":null,\"column_names\":[\"y\",\"x\"],\"data\":{\"x\":[3.3,3.5999999999999996,3.8999999999999995,4.199999999999999,4.499999999999999,4.799999999999999,5.099999999999999,5.399999999999999,5.699999999999998,5.999999999999998,6.299999999999998,6.599999999999998,6.899999999999998],\"y\":[0.44419598182365005,0.5549251472751602,0.5820207911157624,0.5705701946058478,0.5418914588269061,0.5062519757468711,0.4685754601045159,0.4312207464139991,0.3950553658741577,0.3607490412123916,0.3251120773610322,0.2860310684176539,0.2387001633700579]}},\"id\":\"11506d4c-b6c6-49c0-96d9-10c2358fd986\",\"type\":\"ColumnDataSource\"},{\"attributes\":{\"axis_label\":\"AoA and d_p [deg]\",\"formatter\":{\"id\":\"889be528-d0a8-462f-be75-e860c692fca2\",\"type\":\"BasicTickFormatter\"},\"plot\":{\"id\":\"5be0c4b5-5e6c-4c62-8f72-6e0c5a1b35e5\",\"subtype\":\"Figure\",\"type\":\"Plot\"},\"ticker\":{\"id\":\"77fa95bf-b655-4456-8546-c1c1c24768e5\",\"type\":\"BasicTicker\"}},\"id\":\"6ddbdc89-8bf6-408f-aff3-456efeaf6aef\",\"type\":\"LinearAxis\"},{\"attributes\":{\"data_source\":{\"id\":\"35ae9f52-1b16-4267-a200-cd595094c0e3\",\"type\":\"ColumnDataSource\"},\"glyph\":{\"id\":\"abb02694-2666-49ee-9351-3ae3ff2039d0\",\"type\":\"Line\"},\"hover_glyph\":null,\"nonselection_glyph\":{\"id\":\"700923a8-bcf6-454d-87b4-b677c0b4dd57\",\"type\":\"Line\"},\"selection_glyph\":null},\"id\":\"cdc56178-bea8-4577-ada9-8409e7179cf2\",\"type\":\"GlyphRenderer\"},{\"attributes\":{\"callback\":null},\"id\":\"e34ecb30-0f6d-46ee-a79a-b947e3295411\",\"type\":\"DataRange1d\"},{\"attributes\":{\"legends\":[[\"AoA\",[{\"id\":\"11261c84-c2c4-4f6f-9896-0d0bb212f672\",\"type\":\"GlyphRenderer\"}]],[\"dp\",[{\"id\":\"cdc56178-bea8-4577-ada9-8409e7179cf2\",\"type\":\"GlyphRenderer\"}]],[\"AVL_AoA\",[{\"id\":\"959497a7-4221-4931-84c6-a8f6ffa11629\",\"type\":\"GlyphRenderer\"}]],[\"AVL_dp\",[{\"id\":\"a53a84e2-424b-46d6-a730-617d6ec982df\",\"type\":\"GlyphRenderer\"}]],[\"Cl_w\",[{\"id\":\"d36d9886-affa-4aed-bd98-118419c09d4c\",\"type\":\"GlyphRenderer\"}]],[\"Cl_c\",[{\"id\":\"e2026503-0ce8-4c57-8e43-20587300611e\",\"type\":\"GlyphRenderer\"}]],[\"AVL_Cl_w\",[{\"id\":\"e0e26054-57cc-426a-97c5-f66b2cdb45d0\",\"type\":\"GlyphRenderer\"}]],[\"AVL_Cl_c\",[{\"id\":\"dc162c50-55c5-475a-8630-4dedfb962d08\",\"type\":\"GlyphRenderer\"}]]],\"plot\":{\"id\":\"5be0c4b5-5e6c-4c62-8f72-6e0c5a1b35e5\",\"subtype\":\"Figure\",\"type\":\"Plot\"}},\"id\":\"cb42a0b3-d5b8-4cce-bdb2-904e1bc02d5f\",\"type\":\"Legend\"},{\"attributes\":{},\"id\":\"889be528-d0a8-462f-be75-e860c692fca2\",\"type\":\"BasicTickFormatter\"},{\"attributes\":{\"callback\":null,\"column_names\":[\"y\",\"x\"],\"data\":{\"x\":[3.3,3.5999999999999996,3.8999999999999995,4.199999999999999,4.499999999999999,4.799999999999999,5.099999999999999,5.399999999999999,5.699999999999998,5.999999999999998,6.299999999999998,6.599999999999998,6.899999999999998],\"y\":[-1.1609600937129572,1.8690619572915637,3.424748924395728,4.211615646951505,4.582375623129535,4.720551333929939,4.724520304777143,4.6493240185198506,4.523859751168018,4.370169554464689,4.154870547113952,3.856991611899195,3.417349713766337]}},\"id\":\"35ae9f52-1b16-4267-a200-cd595094c0e3\",\"type\":\"ColumnDataSource\"},{\"attributes\":{\"formatter\":{\"id\":\"a7412d21-e6de-4bd8-8b9a-0240bb951801\",\"type\":\"BasicTickFormatter\"},\"plot\":{\"id\":\"5be0c4b5-5e6c-4c62-8f72-6e0c5a1b35e5\",\"subtype\":\"Figure\",\"type\":\"Plot\"},\"ticker\":{\"id\":\"985c92ff-cc51-47a6-9ef4-df241a213ee2\",\"type\":\"BasicTicker\"},\"y_range_name\":\"cls\"},\"id\":\"7cefced7-3374-46c7-a7f0-4d8db9dcb0a5\",\"type\":\"LinearAxis\"},{\"attributes\":{\"plot\":{\"id\":\"5be0c4b5-5e6c-4c62-8f72-6e0c5a1b35e5\",\"subtype\":\"Figure\",\"type\":\"Plot\"}},\"id\":\"625458e8-ab5b-4255-a0c8-5af70bed50ce\",\"type\":\"PanTool\"},{\"attributes\":{\"overlay\":{\"id\":\"f9547c9f-5d99-43b3-8235-ac2eea6d0f91\",\"type\":\"BoxAnnotation\"},\"plot\":{\"id\":\"5be0c4b5-5e6c-4c62-8f72-6e0c5a1b35e5\",\"subtype\":\"Figure\",\"type\":\"Plot\"}},\"id\":\"0081d904-1934-4726-a7a5-e7cb7b6e93d5\",\"type\":\"BoxZoomTool\"},{\"attributes\":{\"line_color\":{\"value\":\"firebrick\"},\"x\":{\"field\":\"x\"},\"y\":{\"field\":\"y\"}},\"id\":\"abb02694-2666-49ee-9351-3ae3ff2039d0\",\"type\":\"Line\"},{\"attributes\":{\"callback\":null,\"column_names\":[\"y\",\"x\"],\"data\":{\"x\":[3.3,3.5999999999999996,3.8999999999999995,4.199999999999999,4.499999999999999,4.799999999999999,5.099999999999999,5.399999999999999,5.699999999999998,5.999999999999998,6.299999999999998,6.599999999999998,6.899999999999998],\"y\":[3.18256,1.60171,0.40836,-0.51753,-1.25184,-1.84497,-2.33156,-2.73633,-3.07733,-3.36759,-3.62022,-3.84478,-4.05163]}},\"id\":\"dafe1846-17b1-4194-8768-fa1b07698926\",\"type\":\"ColumnDataSource\"},{\"attributes\":{\"line_color\":{\"value\":\"darkgreen\"},\"x\":{\"field\":\"x\"},\"y\":{\"field\":\"y\"}},\"id\":\"29926d8e-bf99-4a4c-8195-cba67239d097\",\"type\":\"Line\"},{\"attributes\":{\"line_alpha\":{\"value\":0.1},\"line_color\":{\"value\":\"#1f77b4\"},\"x\":{\"field\":\"x\"},\"y\":{\"field\":\"y\"}},\"id\":\"6c713901-2e68-491e-b62c-bae75e645003\",\"type\":\"Line\"},{\"attributes\":{},\"id\":\"77fa95bf-b655-4456-8546-c1c1c24768e5\",\"type\":\"BasicTicker\"},{\"attributes\":{\"line_color\":{\"value\":\"red\"},\"x\":{\"field\":\"x\"},\"y\":{\"field\":\"y\"}},\"id\":\"f0a005b9-f1ce-4734-8339-12cad8d45fb4\",\"type\":\"Line\"},{\"attributes\":{\"plot\":{\"id\":\"5be0c4b5-5e6c-4c62-8f72-6e0c5a1b35e5\",\"subtype\":\"Figure\",\"type\":\"Plot\"}},\"id\":\"e912bbc9-9b5c-4ce1-8f2c-39d23e0dfaaf\",\"type\":\"ResetTool\"},{\"attributes\":{\"callback\":null,\"end\":10,\"start\":-5},\"id\":\"ba09baf6-8a94-4dc8-be6f-879b15cc106a\",\"type\":\"Range1d\"},{\"attributes\":{\"below\":[{\"id\":\"35bafa0a-0895-4e93-b64d-e77e9c65f61f\",\"type\":\"LinearAxis\"}],\"extra_y_ranges\":{\"cls\":{\"id\":\"bea0bda3-9844-4fc7-8337-f9e13bf13cd2\",\"type\":\"Range1d\"}},\"left\":[{\"id\":\"6ddbdc89-8bf6-408f-aff3-456efeaf6aef\",\"type\":\"LinearAxis\"}],\"plot_height\":350,\"plot_width\":900,\"renderers\":[{\"id\":\"35bafa0a-0895-4e93-b64d-e77e9c65f61f\",\"type\":\"LinearAxis\"},{\"id\":\"89db6892-c882-47fd-8735-9018ec2670d3\",\"type\":\"Grid\"},{\"id\":\"6ddbdc89-8bf6-408f-aff3-456efeaf6aef\",\"type\":\"LinearAxis\"},{\"id\":\"6e7e15f7-68fc-4147-a7cb-df5e9921f31c\",\"type\":\"Grid\"},{\"id\":\"f9547c9f-5d99-43b3-8235-ac2eea6d0f91\",\"type\":\"BoxAnnotation\"},{\"id\":\"cb42a0b3-d5b8-4cce-bdb2-904e1bc02d5f\",\"type\":\"Legend\"},{\"id\":\"11261c84-c2c4-4f6f-9896-0d0bb212f672\",\"type\":\"GlyphRenderer\"},{\"id\":\"cdc56178-bea8-4577-ada9-8409e7179cf2\",\"type\":\"GlyphRenderer\"},{\"id\":\"959497a7-4221-4931-84c6-a8f6ffa11629\",\"type\":\"GlyphRenderer\"},{\"id\":\"a53a84e2-424b-46d6-a730-617d6ec982df\",\"type\":\"GlyphRenderer\"},{\"id\":\"7cefced7-3374-46c7-a7f0-4d8db9dcb0a5\",\"type\":\"LinearAxis\"},{\"id\":\"d36d9886-affa-4aed-bd98-118419c09d4c\",\"type\":\"GlyphRenderer\"},{\"id\":\"e2026503-0ce8-4c57-8e43-20587300611e\",\"type\":\"GlyphRenderer\"},{\"id\":\"e0e26054-57cc-426a-97c5-f66b2cdb45d0\",\"type\":\"GlyphRenderer\"},{\"id\":\"dc162c50-55c5-475a-8630-4dedfb962d08\",\"type\":\"GlyphRenderer\"}],\"right\":[{\"id\":\"7cefced7-3374-46c7-a7f0-4d8db9dcb0a5\",\"type\":\"LinearAxis\"}],\"title\":{\"id\":\"6622c003-f675-46a0-8b54-9afe4df6e9a6\",\"type\":\"Title\"},\"tool_events\":{\"id\":\"bc687eee-5c25-4aa1-8463-eb5278176c35\",\"type\":\"ToolEvents\"},\"toolbar\":{\"id\":\"49e41164-3b43-45c4-a633-3b12f3e8271e\",\"type\":\"Toolbar\"},\"toolbar_location\":\"above\",\"x_range\":{\"id\":\"e34ecb30-0f6d-46ee-a79a-b947e3295411\",\"type\":\"DataRange1d\"},\"y_range\":{\"id\":\"ba09baf6-8a94-4dc8-be6f-879b15cc106a\",\"type\":\"Range1d\"}},\"id\":\"5be0c4b5-5e6c-4c62-8f72-6e0c5a1b35e5\",\"subtype\":\"Figure\",\"type\":\"Plot\"},{\"attributes\":{\"callback\":null,\"column_names\":[\"y\",\"x\"],\"data\":{\"x\":[3.3,3.5999999999999996,3.8999999999999995,4.199999999999999,4.499999999999999,4.799999999999999,5.099999999999999,5.399999999999999,5.699999999999998,5.999999999999998,6.299999999999998,6.599999999999998,6.899999999999998],\"y\":[0.9564,0.9518,0.9113,0.8576,0.801,0.7462,0.6954,0.6496,0.6091,0.5737,0.5466,0.5299,0.5285]}},\"id\":\"c6361bf2-06fc-4a80-be63-d21a9289bfdc\",\"type\":\"ColumnDataSource\"},{\"attributes\":{\"dimension\":1,\"plot\":{\"id\":\"5be0c4b5-5e6c-4c62-8f72-6e0c5a1b35e5\",\"subtype\":\"Figure\",\"type\":\"Plot\"},\"ticker\":{\"id\":\"77fa95bf-b655-4456-8546-c1c1c24768e5\",\"type\":\"BasicTicker\"}},\"id\":\"6e7e15f7-68fc-4147-a7cb-df5e9921f31c\",\"type\":\"Grid\"},{\"attributes\":{\"data_source\":{\"id\":\"c6361bf2-06fc-4a80-be63-d21a9289bfdc\",\"type\":\"ColumnDataSource\"},\"glyph\":{\"id\":\"0aa25e03-c0e2-474b-9ebc-87cf46cbfb86\",\"type\":\"Line\"},\"hover_glyph\":null,\"nonselection_glyph\":{\"id\":\"5ef2d5f1-f9ed-468c-9b00-73e8cca4d558\",\"type\":\"Line\"},\"selection_glyph\":null,\"y_range_name\":\"cls\"},\"id\":\"dc162c50-55c5-475a-8630-4dedfb962d08\",\"type\":\"GlyphRenderer\"},{\"attributes\":{\"callback\":null,\"column_names\":[\"y\",\"x\"],\"data\":{\"x\":[3.3,3.5999999999999996,3.8999999999999995,4.199999999999999,4.499999999999999,4.799999999999999,5.099999999999999,5.399999999999999,5.699999999999998,5.999999999999998,6.299999999999998,6.599999999999998,6.899999999999998],\"y\":[0.8444,0.6955,0.5831,0.496,0.427,0.3713,0.3256,0.2877,0.2557,0.2285,0.2048,0.1836,0.1638]}},\"id\":\"8b044b8a-0b8b-4b50-8dfc-a87cb9f11fff\",\"type\":\"ColumnDataSource\"},{\"attributes\":{\"data_source\":{\"id\":\"9e3aa937-53c5-4f40-a5be-c992f5c33091\",\"type\":\"ColumnDataSource\"},\"glyph\":{\"id\":\"b42b4a8f-a32f-443e-90e6-8101cc558968\",\"type\":\"Line\"},\"hover_glyph\":null,\"nonselection_glyph\":{\"id\":\"1a28d477-838f-48c2-8c54-c2c14e4f9a35\",\"type\":\"Line\"},\"selection_glyph\":null},\"id\":\"11261c84-c2c4-4f6f-9896-0d0bb212f672\",\"type\":\"GlyphRenderer\"},{\"attributes\":{\"callback\":null,\"column_names\":[\"y\",\"x\"],\"data\":{\"x\":[3.3,3.5999999999999996,3.8999999999999995,4.199999999999999,4.499999999999999,4.799999999999999,5.099999999999999,5.399999999999999,5.699999999999998,5.999999999999998,6.299999999999998,6.599999999999998,6.899999999999998],\"y\":[2.9424914398263753,1.3095876115431353,0.0957782122117434,-0.8355656856193796,-1.568177791703639,-2.156032420036286,-2.6353824375836834,-3.031506882307709,-3.3623570103351925,-3.6415246893695348,-3.875872813342994,-4.071096029982146,-4.228648824595753]}},\"id\":\"9e3aa937-53c5-4f40-a5be-c992f5c33091\",\"type\":\"ColumnDataSource\"},{\"attributes\":{\"callback\":null,\"end\":1.2},\"id\":\"bea0bda3-9844-4fc7-8337-f9e13bf13cd2\",\"type\":\"Range1d\"},{\"attributes\":{\"callback\":null,\"column_names\":[\"y\",\"x\"],\"data\":{\"x\":[3.3,3.5999999999999996,3.8999999999999995,4.199999999999999,4.499999999999999,4.799999999999999,5.099999999999999,5.399999999999999,5.699999999999998,5.999999999999998,6.299999999999998,6.599999999999998,6.899999999999998],\"y\":[6.03916,7.53489,8.16663,8.36006,8.32793,8.18287,7.98686,7.77675,7.5757,7.39095,7.28183,7.28357,7.47254]}},\"id\":\"78a0d09c-58a7-4135-bbe1-f8c75fe3c80b\",\"type\":\"ColumnDataSource\"},{\"attributes\":{\"line_alpha\":{\"value\":0.1},\"line_color\":{\"value\":\"#1f77b4\"},\"x\":{\"field\":\"x\"},\"y\":{\"field\":\"y\"}},\"id\":\"18f7f203-39f8-4481-86de-4c4ddb8a980d\",\"type\":\"Line\"}],\"root_ids\":[\"5be0c4b5-5e6c-4c62-8f72-6e0c5a1b35e5\"]},\"title\":\"Bokeh Application\",\"version\":\"0.12.1\"}};\n",
       "            var render_items = [{\"docid\":\"9233204c-1a56-49d5-8cd2-9d9f9ca4c0da\",\"elementid\":\"6bb74173-73c9-45eb-9549-e1457d247d8b\",\"modelid\":\"5be0c4b5-5e6c-4c62-8f72-6e0c5a1b35e5\",\"notebook_comms_target\":\"fd7bb235-db99-461e-911d-fa6fb89e8494\"}];\n",
       "            \n",
       "            Bokeh.embed.embed_items(docs_json, render_items);\n",
       "        });\n",
       "      },\n",
       "      function(Bokeh) {\n",
       "      }\n",
       "    ];\n",
       "  \n",
       "    function run_inline_js() {\n",
       "      for (var i = 0; i < inline_js.length; i++) {\n",
       "        inline_js[i](window.Bokeh);\n",
       "      }\n",
       "    }\n",
       "  \n",
       "    if (window._bokeh_is_loading === 0) {\n",
       "      console.log(\"Bokeh: BokehJS loaded, going straight to plotting\");\n",
       "      run_inline_js();\n",
       "    } else {\n",
       "      load_libs(js_urls, function() {\n",
       "        console.log(\"Bokeh: BokehJS plotting callback run at\", now());\n",
       "        run_inline_js();\n",
       "      });\n",
       "    }\n",
       "  }(this));\n",
       "</script>"
      ]
     },
     "metadata": {},
     "output_type": "display_data"
    },
    {
     "data": {
      "text/html": [
       "<p><code>&lt;Bokeh Notebook handle for <strong>In[11]</strong>&gt;</code></p>"
      ],
      "text/plain": [
       "<bokeh.io._CommsHandle at 0x7f6484400490>"
      ]
     },
     "execution_count": 11,
     "metadata": {},
     "output_type": "execute_result"
    }
   ],
   "source": [
    "show(p)"
   ]
  },
  {
   "cell_type": "code",
   "execution_count": 12,
   "metadata": {
    "collapsed": false
   },
   "outputs": [
    {
     "data": {
      "text/plain": [
       "<function __main__.update>"
      ]
     },
     "execution_count": 12,
     "metadata": {},
     "output_type": "execute_result"
    }
   ],
   "source": [
    "wd.interact(update,iw=(-2,6,0.1),d_cg=(-0.1,0.2,0.01),mass=(90.,110.,0.5))"
   ]
  },
  {
   "cell_type": "code",
   "execution_count": 13,
   "metadata": {
    "collapsed": false
   },
   "outputs": [
    {
     "data": {
      "text/plain": [
       "<bokeh.models.renderers.GlyphRenderer at 0x7f645176f510>"
      ]
     },
     "execution_count": 13,
     "metadata": {},
     "output_type": "execute_result"
    }
   ],
   "source": [
    "p99 = figure(title='Equilibrium conditions',\n",
    "           x_axis_label='AoA [deg]',\n",
    "           y_axis_label='Cd',\n",
    "           width=900, height=350, toolbar_location='above')\n",
    "\n",
    "p99.line(avl_eq[:,1],avl_eq[:,6], line_color='blue',legend='Cd_tot')\n",
    "p99.line(avl_eq[:,1],avl_eq[:,8], line_color='red',legend='Cd_ind')"
   ]
  },
  {
   "cell_type": "code",
   "execution_count": 14,
   "metadata": {
    "collapsed": false
   },
   "outputs": [
    {
     "data": {
      "text/html": [
       "\n",
       "\n",
       "    <div class=\"bk-root\">\n",
       "        <div class=\"plotdiv\" id=\"43a7e9c1-651e-4034-8e77-3ce1e11ead6e\"></div>\n",
       "    </div>\n",
       "<script type=\"text/javascript\">\n",
       "  \n",
       "  (function(global) {\n",
       "    function now() {\n",
       "      return new Date();\n",
       "    }\n",
       "  \n",
       "    var force = \"\";\n",
       "  \n",
       "    if (typeof (window._bokeh_onload_callbacks) === \"undefined\" || force !== \"\") {\n",
       "      window._bokeh_onload_callbacks = [];\n",
       "      window._bokeh_is_loading = undefined;\n",
       "    }\n",
       "  \n",
       "    function run_callbacks() {\n",
       "      window._bokeh_onload_callbacks.forEach(function(callback) { callback() });\n",
       "      delete window._bokeh_onload_callbacks\n",
       "      console.info(\"Bokeh: all callbacks have finished\");\n",
       "    }\n",
       "  \n",
       "    function load_libs(js_urls, callback) {\n",
       "      window._bokeh_onload_callbacks.push(callback);\n",
       "      if (window._bokeh_is_loading > 0) {\n",
       "        console.log(\"Bokeh: BokehJS is being loaded, scheduling callback at\", now());\n",
       "        return null;\n",
       "      }\n",
       "      if (js_urls == null || js_urls.length === 0) {\n",
       "        run_callbacks();\n",
       "        return null;\n",
       "      }\n",
       "      console.log(\"Bokeh: BokehJS not loaded, scheduling load and callback at\", now());\n",
       "      window._bokeh_is_loading = js_urls.length;\n",
       "      for (var i = 0; i < js_urls.length; i++) {\n",
       "        var url = js_urls[i];\n",
       "        var s = document.createElement('script');\n",
       "        s.src = url;\n",
       "        s.async = false;\n",
       "        s.onreadystatechange = s.onload = function() {\n",
       "          window._bokeh_is_loading--;\n",
       "          if (window._bokeh_is_loading === 0) {\n",
       "            console.log(\"Bokeh: all BokehJS libraries loaded\");\n",
       "            run_callbacks()\n",
       "          }\n",
       "        };\n",
       "        s.onerror = function() {\n",
       "          console.warn(\"failed to load library \" + url);\n",
       "        };\n",
       "        console.log(\"Bokeh: injecting script tag for BokehJS library: \", url);\n",
       "        document.getElementsByTagName(\"head\")[0].appendChild(s);\n",
       "      }\n",
       "    };var element = document.getElementById(\"43a7e9c1-651e-4034-8e77-3ce1e11ead6e\");\n",
       "    if (element == null) {\n",
       "      console.log(\"Bokeh: ERROR: autoload.js configured with elementid '43a7e9c1-651e-4034-8e77-3ce1e11ead6e' but no matching script tag was found. \")\n",
       "      return false;\n",
       "    }\n",
       "  \n",
       "    var js_urls = [];\n",
       "  \n",
       "    var inline_js = [\n",
       "      function(Bokeh) {\n",
       "        Bokeh.$(function() {\n",
       "            var docs_json = {\"5b5fd7b9-2e61-4ac0-a115-c8f03b4b9ac1\":{\"roots\":{\"references\":[{\"attributes\":{\"plot\":{\"id\":\"5ae90342-bb08-448d-8b76-8a27a2f8b233\",\"subtype\":\"Figure\",\"type\":\"Plot\"},\"ticker\":{\"id\":\"22250d0b-d8f4-4003-9927-90cd00be01fd\",\"type\":\"BasicTicker\"}},\"id\":\"4418e2a9-7867-4d64-a1dd-ae7c77f2e096\",\"type\":\"Grid\"},{\"attributes\":{\"callback\":null},\"id\":\"d90dcbc9-4eb4-48b4-a5c0-0f3573ac9855\",\"type\":\"DataRange1d\"},{\"attributes\":{\"data_source\":{\"id\":\"4b5d408e-ff3a-46bf-9c5d-efe1445f83ea\",\"type\":\"ColumnDataSource\"},\"glyph\":{\"id\":\"e082cfab-e182-4cab-86e3-f8a5e64eab51\",\"type\":\"Line\"},\"hover_glyph\":null,\"nonselection_glyph\":{\"id\":\"b2ccef7b-07b1-4bb0-b010-4a7a93fc8eee\",\"type\":\"Line\"},\"selection_glyph\":null},\"id\":\"8214bfeb-cded-470d-abfe-3e2d9ee816e1\",\"type\":\"GlyphRenderer\"},{\"attributes\":{\"plot\":{\"id\":\"5ae90342-bb08-448d-8b76-8a27a2f8b233\",\"subtype\":\"Figure\",\"type\":\"Plot\"}},\"id\":\"218b2d2f-c2c8-44d5-b41a-798aee7b2df9\",\"type\":\"PanTool\"},{\"attributes\":{\"axis_label\":\"AoA [deg]\",\"formatter\":{\"id\":\"ca38726d-f526-492f-bd77-0a6390b8b62b\",\"type\":\"BasicTickFormatter\"},\"plot\":{\"id\":\"5ae90342-bb08-448d-8b76-8a27a2f8b233\",\"subtype\":\"Figure\",\"type\":\"Plot\"},\"ticker\":{\"id\":\"22250d0b-d8f4-4003-9927-90cd00be01fd\",\"type\":\"BasicTicker\"}},\"id\":\"bd20cc6a-aef5-46c0-b71a-b5e74215dbc7\",\"type\":\"LinearAxis\"},{\"attributes\":{\"plot\":{\"id\":\"5ae90342-bb08-448d-8b76-8a27a2f8b233\",\"subtype\":\"Figure\",\"type\":\"Plot\"}},\"id\":\"2a7504ed-d167-4cc9-a6d6-91ab0cc8b9c0\",\"type\":\"SaveTool\"},{\"attributes\":{\"dimension\":1,\"plot\":{\"id\":\"5ae90342-bb08-448d-8b76-8a27a2f8b233\",\"subtype\":\"Figure\",\"type\":\"Plot\"},\"ticker\":{\"id\":\"ea62507f-f619-47f6-a28c-b454b29369e0\",\"type\":\"BasicTicker\"}},\"id\":\"0794259a-9777-46dc-92df-006ddc37db62\",\"type\":\"Grid\"},{\"attributes\":{},\"id\":\"7a11d1a3-7325-4b47-9489-064f640502c8\",\"type\":\"BasicTickFormatter\"},{\"attributes\":{},\"id\":\"ea62507f-f619-47f6-a28c-b454b29369e0\",\"type\":\"BasicTicker\"},{\"attributes\":{},\"id\":\"ca38726d-f526-492f-bd77-0a6390b8b62b\",\"type\":\"BasicTickFormatter\"},{\"attributes\":{\"bottom_units\":\"screen\",\"fill_alpha\":{\"value\":0.5},\"fill_color\":{\"value\":\"lightgrey\"},\"left_units\":\"screen\",\"level\":\"overlay\",\"line_alpha\":{\"value\":1.0},\"line_color\":{\"value\":\"black\"},\"line_dash\":[4,4],\"line_width\":{\"value\":2},\"plot\":null,\"render_mode\":\"css\",\"right_units\":\"screen\",\"top_units\":\"screen\"},\"id\":\"781a3b2b-0d3e-4608-813a-f2cc2c81e2a8\",\"type\":\"BoxAnnotation\"},{\"attributes\":{\"line_alpha\":{\"value\":0.1},\"line_color\":{\"value\":\"#1f77b4\"},\"x\":{\"field\":\"x\"},\"y\":{\"field\":\"y\"}},\"id\":\"b2ccef7b-07b1-4bb0-b010-4a7a93fc8eee\",\"type\":\"Line\"},{\"attributes\":{\"plot\":{\"id\":\"5ae90342-bb08-448d-8b76-8a27a2f8b233\",\"subtype\":\"Figure\",\"type\":\"Plot\"}},\"id\":\"5c83ad30-22a2-4b98-af35-7ef5debb7ad0\",\"type\":\"HelpTool\"},{\"attributes\":{\"line_color\":{\"value\":\"blue\"},\"x\":{\"field\":\"x\"},\"y\":{\"field\":\"y\"}},\"id\":\"8693cad8-c256-4b49-acb8-7c59acabb6c8\",\"type\":\"Line\"},{\"attributes\":{\"callback\":null,\"column_names\":[\"y\",\"x\"],\"data\":{\"x\":[3.18256,1.60171,0.40836,-0.51753,-1.25184,-1.84497,-2.33156,-2.73633,-3.07733,-3.36759,-3.62022,-3.84478,-4.05163],\"y\":[0.03439,0.02845,0.02441,0.02161,0.01961,0.01817,0.01715,0.01647,0.01612,0.01602,0.01669,0.01846,0.02211]}},\"id\":\"72c01806-0659-4106-8321-beb83283ff86\",\"type\":\"ColumnDataSource\"},{\"attributes\":{\"line_color\":{\"value\":\"red\"},\"x\":{\"field\":\"x\"},\"y\":{\"field\":\"y\"}},\"id\":\"e082cfab-e182-4cab-86e3-f8a5e64eab51\",\"type\":\"Line\"},{\"attributes\":{\"plot\":null,\"text\":\"Equilibrium conditions\"},\"id\":\"cb629ee1-8d55-4bf5-a804-7309e0701fff\",\"type\":\"Title\"},{\"attributes\":{\"callback\":null},\"id\":\"cc8f7924-3bd6-4718-a891-988ed041bd92\",\"type\":\"DataRange1d\"},{\"attributes\":{\"callback\":null,\"column_names\":[\"y\",\"x\"],\"data\":{\"x\":[3.18256,1.60171,0.40836,-0.51753,-1.25184,-1.84497,-2.33156,-2.73633,-3.07733,-3.36759,-3.62022,-3.84478,-4.05163],\"y\":[0.01972,0.01492,0.0115,0.00901,0.00717,0.00578,0.00472,0.0039,0.00327,0.00277,0.00239,0.00212,0.00195]}},\"id\":\"4b5d408e-ff3a-46bf-9c5d-efe1445f83ea\",\"type\":\"ColumnDataSource\"},{\"attributes\":{\"legends\":[[\"Cd_tot\",[{\"id\":\"8cd85ad3-5502-4112-ab8b-6dc04dee379b\",\"type\":\"GlyphRenderer\"}]],[\"Cd_ind\",[{\"id\":\"8214bfeb-cded-470d-abfe-3e2d9ee816e1\",\"type\":\"GlyphRenderer\"}]]],\"plot\":{\"id\":\"5ae90342-bb08-448d-8b76-8a27a2f8b233\",\"subtype\":\"Figure\",\"type\":\"Plot\"}},\"id\":\"aca3e886-7e0b-4af8-be74-daa17cea823b\",\"type\":\"Legend\"},{\"attributes\":{\"plot\":{\"id\":\"5ae90342-bb08-448d-8b76-8a27a2f8b233\",\"subtype\":\"Figure\",\"type\":\"Plot\"}},\"id\":\"9d760f4f-f52d-4712-8474-a81bc05966d1\",\"type\":\"ResetTool\"},{\"attributes\":{\"active_drag\":\"auto\",\"active_scroll\":\"auto\",\"active_tap\":\"auto\",\"tools\":[{\"id\":\"218b2d2f-c2c8-44d5-b41a-798aee7b2df9\",\"type\":\"PanTool\"},{\"id\":\"82228945-264e-4973-a2d9-4b5370f2a5fa\",\"type\":\"WheelZoomTool\"},{\"id\":\"25ab4010-9c2d-4094-b7d9-c81136f92b8d\",\"type\":\"BoxZoomTool\"},{\"id\":\"2a7504ed-d167-4cc9-a6d6-91ab0cc8b9c0\",\"type\":\"SaveTool\"},{\"id\":\"9d760f4f-f52d-4712-8474-a81bc05966d1\",\"type\":\"ResetTool\"},{\"id\":\"5c83ad30-22a2-4b98-af35-7ef5debb7ad0\",\"type\":\"HelpTool\"}]},\"id\":\"01afb2ac-0894-4ee5-ab6a-19c70c07250b\",\"type\":\"Toolbar\"},{\"attributes\":{\"below\":[{\"id\":\"bd20cc6a-aef5-46c0-b71a-b5e74215dbc7\",\"type\":\"LinearAxis\"}],\"left\":[{\"id\":\"dbbc176f-143e-49f3-8ae3-0a574756dc76\",\"type\":\"LinearAxis\"}],\"plot_height\":350,\"plot_width\":900,\"renderers\":[{\"id\":\"bd20cc6a-aef5-46c0-b71a-b5e74215dbc7\",\"type\":\"LinearAxis\"},{\"id\":\"4418e2a9-7867-4d64-a1dd-ae7c77f2e096\",\"type\":\"Grid\"},{\"id\":\"dbbc176f-143e-49f3-8ae3-0a574756dc76\",\"type\":\"LinearAxis\"},{\"id\":\"0794259a-9777-46dc-92df-006ddc37db62\",\"type\":\"Grid\"},{\"id\":\"781a3b2b-0d3e-4608-813a-f2cc2c81e2a8\",\"type\":\"BoxAnnotation\"},{\"id\":\"aca3e886-7e0b-4af8-be74-daa17cea823b\",\"type\":\"Legend\"},{\"id\":\"8cd85ad3-5502-4112-ab8b-6dc04dee379b\",\"type\":\"GlyphRenderer\"},{\"id\":\"8214bfeb-cded-470d-abfe-3e2d9ee816e1\",\"type\":\"GlyphRenderer\"}],\"title\":{\"id\":\"cb629ee1-8d55-4bf5-a804-7309e0701fff\",\"type\":\"Title\"},\"tool_events\":{\"id\":\"9af817a7-a34c-4e9d-9975-2a783745c1e0\",\"type\":\"ToolEvents\"},\"toolbar\":{\"id\":\"01afb2ac-0894-4ee5-ab6a-19c70c07250b\",\"type\":\"Toolbar\"},\"toolbar_location\":\"above\",\"x_range\":{\"id\":\"cc8f7924-3bd6-4718-a891-988ed041bd92\",\"type\":\"DataRange1d\"},\"y_range\":{\"id\":\"d90dcbc9-4eb4-48b4-a5c0-0f3573ac9855\",\"type\":\"DataRange1d\"}},\"id\":\"5ae90342-bb08-448d-8b76-8a27a2f8b233\",\"subtype\":\"Figure\",\"type\":\"Plot\"},{\"attributes\":{\"data_source\":{\"id\":\"72c01806-0659-4106-8321-beb83283ff86\",\"type\":\"ColumnDataSource\"},\"glyph\":{\"id\":\"8693cad8-c256-4b49-acb8-7c59acabb6c8\",\"type\":\"Line\"},\"hover_glyph\":null,\"nonselection_glyph\":{\"id\":\"f29068cf-d3c2-43e2-9e95-426e2f1e5cfa\",\"type\":\"Line\"},\"selection_glyph\":null},\"id\":\"8cd85ad3-5502-4112-ab8b-6dc04dee379b\",\"type\":\"GlyphRenderer\"},{\"attributes\":{},\"id\":\"9af817a7-a34c-4e9d-9975-2a783745c1e0\",\"type\":\"ToolEvents\"},{\"attributes\":{},\"id\":\"22250d0b-d8f4-4003-9927-90cd00be01fd\",\"type\":\"BasicTicker\"},{\"attributes\":{\"line_alpha\":{\"value\":0.1},\"line_color\":{\"value\":\"#1f77b4\"},\"x\":{\"field\":\"x\"},\"y\":{\"field\":\"y\"}},\"id\":\"f29068cf-d3c2-43e2-9e95-426e2f1e5cfa\",\"type\":\"Line\"},{\"attributes\":{\"overlay\":{\"id\":\"781a3b2b-0d3e-4608-813a-f2cc2c81e2a8\",\"type\":\"BoxAnnotation\"},\"plot\":{\"id\":\"5ae90342-bb08-448d-8b76-8a27a2f8b233\",\"subtype\":\"Figure\",\"type\":\"Plot\"}},\"id\":\"25ab4010-9c2d-4094-b7d9-c81136f92b8d\",\"type\":\"BoxZoomTool\"},{\"attributes\":{\"plot\":{\"id\":\"5ae90342-bb08-448d-8b76-8a27a2f8b233\",\"subtype\":\"Figure\",\"type\":\"Plot\"}},\"id\":\"82228945-264e-4973-a2d9-4b5370f2a5fa\",\"type\":\"WheelZoomTool\"},{\"attributes\":{\"axis_label\":\"Cd\",\"formatter\":{\"id\":\"7a11d1a3-7325-4b47-9489-064f640502c8\",\"type\":\"BasicTickFormatter\"},\"plot\":{\"id\":\"5ae90342-bb08-448d-8b76-8a27a2f8b233\",\"subtype\":\"Figure\",\"type\":\"Plot\"},\"ticker\":{\"id\":\"ea62507f-f619-47f6-a28c-b454b29369e0\",\"type\":\"BasicTicker\"}},\"id\":\"dbbc176f-143e-49f3-8ae3-0a574756dc76\",\"type\":\"LinearAxis\"}],\"root_ids\":[\"5ae90342-bb08-448d-8b76-8a27a2f8b233\"]},\"title\":\"Bokeh Application\",\"version\":\"0.12.1\"}};\n",
       "            var render_items = [{\"docid\":\"5b5fd7b9-2e61-4ac0-a115-c8f03b4b9ac1\",\"elementid\":\"43a7e9c1-651e-4034-8e77-3ce1e11ead6e\",\"modelid\":\"5ae90342-bb08-448d-8b76-8a27a2f8b233\",\"notebook_comms_target\":\"6d16a6d5-d179-4632-b219-3cc015e55c3f\"}];\n",
       "            \n",
       "            Bokeh.embed.embed_items(docs_json, render_items);\n",
       "        });\n",
       "      },\n",
       "      function(Bokeh) {\n",
       "      }\n",
       "    ];\n",
       "  \n",
       "    function run_inline_js() {\n",
       "      for (var i = 0; i < inline_js.length; i++) {\n",
       "        inline_js[i](window.Bokeh);\n",
       "      }\n",
       "    }\n",
       "  \n",
       "    if (window._bokeh_is_loading === 0) {\n",
       "      console.log(\"Bokeh: BokehJS loaded, going straight to plotting\");\n",
       "      run_inline_js();\n",
       "    } else {\n",
       "      load_libs(js_urls, function() {\n",
       "        console.log(\"Bokeh: BokehJS plotting callback run at\", now());\n",
       "        run_inline_js();\n",
       "      });\n",
       "    }\n",
       "  }(this));\n",
       "</script>"
      ]
     },
     "metadata": {},
     "output_type": "display_data"
    },
    {
     "data": {
      "text/html": [
       "<p><code>&lt;Bokeh Notebook handle for <strong>In[14]</strong>&gt;</code></p>"
      ],
      "text/plain": [
       "<bokeh.io._CommsHandle at 0x7f64843e2810>"
      ]
     },
     "execution_count": 14,
     "metadata": {},
     "output_type": "execute_result"
    }
   ],
   "source": [
    "show(p99)"
   ]
  },
  {
   "cell_type": "code",
   "execution_count": 15,
   "metadata": {
    "collapsed": false
   },
   "outputs": [
    {
     "data": {
      "text/plain": [
       "<bokeh.models.renderers.GlyphRenderer at 0x7f645176f810>"
      ]
     },
     "execution_count": 15,
     "metadata": {},
     "output_type": "execute_result"
    }
   ],
   "source": [
    "p98 = figure(title='Equilibrium conditions',\n",
    "           x_axis_label='AoA [deg]',\n",
    "           y_axis_label='Cd',\n",
    "           width=900, height=350, toolbar_location='above')\n",
    "\n",
    "\n",
    "#p99.line(avl_eq[:,1],avl_eq[:,6], line_color='blue',legend='Cd_tot')\n",
    "#p99.line(avl_eq[:,1],avl_eq[:,8], line_color='red',legend='Cd_ind')\n",
    "p98.line(avl_eq[:,1],avl_eq[:,6]-avl_eq[:,8], line_color='green')"
   ]
  },
  {
   "cell_type": "code",
   "execution_count": 16,
   "metadata": {
    "collapsed": false
   },
   "outputs": [
    {
     "data": {
      "text/html": [
       "\n",
       "\n",
       "    <div class=\"bk-root\">\n",
       "        <div class=\"plotdiv\" id=\"6971ae23-466c-494d-80b6-1ff0206c9b7f\"></div>\n",
       "    </div>\n",
       "<script type=\"text/javascript\">\n",
       "  \n",
       "  (function(global) {\n",
       "    function now() {\n",
       "      return new Date();\n",
       "    }\n",
       "  \n",
       "    var force = \"\";\n",
       "  \n",
       "    if (typeof (window._bokeh_onload_callbacks) === \"undefined\" || force !== \"\") {\n",
       "      window._bokeh_onload_callbacks = [];\n",
       "      window._bokeh_is_loading = undefined;\n",
       "    }\n",
       "  \n",
       "    function run_callbacks() {\n",
       "      window._bokeh_onload_callbacks.forEach(function(callback) { callback() });\n",
       "      delete window._bokeh_onload_callbacks\n",
       "      console.info(\"Bokeh: all callbacks have finished\");\n",
       "    }\n",
       "  \n",
       "    function load_libs(js_urls, callback) {\n",
       "      window._bokeh_onload_callbacks.push(callback);\n",
       "      if (window._bokeh_is_loading > 0) {\n",
       "        console.log(\"Bokeh: BokehJS is being loaded, scheduling callback at\", now());\n",
       "        return null;\n",
       "      }\n",
       "      if (js_urls == null || js_urls.length === 0) {\n",
       "        run_callbacks();\n",
       "        return null;\n",
       "      }\n",
       "      console.log(\"Bokeh: BokehJS not loaded, scheduling load and callback at\", now());\n",
       "      window._bokeh_is_loading = js_urls.length;\n",
       "      for (var i = 0; i < js_urls.length; i++) {\n",
       "        var url = js_urls[i];\n",
       "        var s = document.createElement('script');\n",
       "        s.src = url;\n",
       "        s.async = false;\n",
       "        s.onreadystatechange = s.onload = function() {\n",
       "          window._bokeh_is_loading--;\n",
       "          if (window._bokeh_is_loading === 0) {\n",
       "            console.log(\"Bokeh: all BokehJS libraries loaded\");\n",
       "            run_callbacks()\n",
       "          }\n",
       "        };\n",
       "        s.onerror = function() {\n",
       "          console.warn(\"failed to load library \" + url);\n",
       "        };\n",
       "        console.log(\"Bokeh: injecting script tag for BokehJS library: \", url);\n",
       "        document.getElementsByTagName(\"head\")[0].appendChild(s);\n",
       "      }\n",
       "    };var element = document.getElementById(\"6971ae23-466c-494d-80b6-1ff0206c9b7f\");\n",
       "    if (element == null) {\n",
       "      console.log(\"Bokeh: ERROR: autoload.js configured with elementid '6971ae23-466c-494d-80b6-1ff0206c9b7f' but no matching script tag was found. \")\n",
       "      return false;\n",
       "    }\n",
       "  \n",
       "    var js_urls = [];\n",
       "  \n",
       "    var inline_js = [\n",
       "      function(Bokeh) {\n",
       "        Bokeh.$(function() {\n",
       "            var docs_json = {\"86b06842-6c58-405f-85a3-0b7da69e215c\":{\"roots\":{\"references\":[{\"attributes\":{\"plot\":null,\"text\":\"Equilibrium conditions\"},\"id\":\"b55c2736-3d0e-4b09-a329-b7f3059cdde5\",\"type\":\"Title\"},{\"attributes\":{\"active_drag\":\"auto\",\"active_scroll\":\"auto\",\"active_tap\":\"auto\",\"tools\":[{\"id\":\"4107584d-8b52-43e3-8e6a-067d46b42264\",\"type\":\"PanTool\"},{\"id\":\"7732d069-a07f-4af1-8957-dd26c3796be2\",\"type\":\"WheelZoomTool\"},{\"id\":\"ca9d5bdc-982b-4be0-aa80-b0a12b451a93\",\"type\":\"BoxZoomTool\"},{\"id\":\"b0da8433-0734-4b0b-9445-1ea596003dad\",\"type\":\"SaveTool\"},{\"id\":\"b173020e-1ffc-4032-b16c-0643e29aeaef\",\"type\":\"ResetTool\"},{\"id\":\"c4316ed8-cfdf-4499-959d-901e6310522f\",\"type\":\"HelpTool\"}]},\"id\":\"b5c4ac07-8314-4edc-85e8-6823b6b733af\",\"type\":\"Toolbar\"},{\"attributes\":{\"plot\":{\"id\":\"5d7ec9a7-aea5-48fb-88fd-b8479e328dc9\",\"subtype\":\"Figure\",\"type\":\"Plot\"}},\"id\":\"7732d069-a07f-4af1-8957-dd26c3796be2\",\"type\":\"WheelZoomTool\"},{\"attributes\":{\"callback\":null},\"id\":\"5dcf2eb0-906b-4467-bb9a-e13bd5516fd8\",\"type\":\"DataRange1d\"},{\"attributes\":{\"bottom_units\":\"screen\",\"fill_alpha\":{\"value\":0.5},\"fill_color\":{\"value\":\"lightgrey\"},\"left_units\":\"screen\",\"level\":\"overlay\",\"line_alpha\":{\"value\":1.0},\"line_color\":{\"value\":\"black\"},\"line_dash\":[4,4],\"line_width\":{\"value\":2},\"plot\":null,\"render_mode\":\"css\",\"right_units\":\"screen\",\"top_units\":\"screen\"},\"id\":\"0e21003c-5892-4d2d-9662-5b75c435ae5b\",\"type\":\"BoxAnnotation\"},{\"attributes\":{\"axis_label\":\"Cd\",\"formatter\":{\"id\":\"f3f02e8b-5ee9-4a50-bdf4-7b7a6e39aef4\",\"type\":\"BasicTickFormatter\"},\"plot\":{\"id\":\"5d7ec9a7-aea5-48fb-88fd-b8479e328dc9\",\"subtype\":\"Figure\",\"type\":\"Plot\"},\"ticker\":{\"id\":\"ff0a1fe3-f6a8-400e-ba05-7ba4ae955f87\",\"type\":\"BasicTicker\"}},\"id\":\"5597be98-2434-40df-98df-a39b36b95655\",\"type\":\"LinearAxis\"},{\"attributes\":{\"overlay\":{\"id\":\"0e21003c-5892-4d2d-9662-5b75c435ae5b\",\"type\":\"BoxAnnotation\"},\"plot\":{\"id\":\"5d7ec9a7-aea5-48fb-88fd-b8479e328dc9\",\"subtype\":\"Figure\",\"type\":\"Plot\"}},\"id\":\"ca9d5bdc-982b-4be0-aa80-b0a12b451a93\",\"type\":\"BoxZoomTool\"},{\"attributes\":{\"data_source\":{\"id\":\"ecc76741-556b-456e-8d73-1f8294bff2f2\",\"type\":\"ColumnDataSource\"},\"glyph\":{\"id\":\"3374199c-9fbe-41aa-9ab7-d155599a6a93\",\"type\":\"Line\"},\"hover_glyph\":null,\"nonselection_glyph\":{\"id\":\"16048622-7b6c-4f25-a233-273ab33e8684\",\"type\":\"Line\"},\"selection_glyph\":null},\"id\":\"9ee7c985-2bad-41e0-bf97-6bb4ce2e75a1\",\"type\":\"GlyphRenderer\"},{\"attributes\":{},\"id\":\"ff0a1fe3-f6a8-400e-ba05-7ba4ae955f87\",\"type\":\"BasicTicker\"},{\"attributes\":{\"axis_label\":\"AoA [deg]\",\"formatter\":{\"id\":\"afdcd5da-22ef-464a-9b44-487bc3b0ef8a\",\"type\":\"BasicTickFormatter\"},\"plot\":{\"id\":\"5d7ec9a7-aea5-48fb-88fd-b8479e328dc9\",\"subtype\":\"Figure\",\"type\":\"Plot\"},\"ticker\":{\"id\":\"7fd75192-bf11-4a2e-a2c0-b575f4410e7c\",\"type\":\"BasicTicker\"}},\"id\":\"307078fc-0efa-44c6-8bdb-de363a2cc475\",\"type\":\"LinearAxis\"},{\"attributes\":{\"dimension\":1,\"plot\":{\"id\":\"5d7ec9a7-aea5-48fb-88fd-b8479e328dc9\",\"subtype\":\"Figure\",\"type\":\"Plot\"},\"ticker\":{\"id\":\"ff0a1fe3-f6a8-400e-ba05-7ba4ae955f87\",\"type\":\"BasicTicker\"}},\"id\":\"715618cd-cc54-465d-9861-1936291478c2\",\"type\":\"Grid\"},{\"attributes\":{},\"id\":\"afdcd5da-22ef-464a-9b44-487bc3b0ef8a\",\"type\":\"BasicTickFormatter\"},{\"attributes\":{\"line_alpha\":{\"value\":0.1},\"line_color\":{\"value\":\"#1f77b4\"},\"x\":{\"field\":\"x\"},\"y\":{\"field\":\"y\"}},\"id\":\"16048622-7b6c-4f25-a233-273ab33e8684\",\"type\":\"Line\"},{\"attributes\":{},\"id\":\"f3f02e8b-5ee9-4a50-bdf4-7b7a6e39aef4\",\"type\":\"BasicTickFormatter\"},{\"attributes\":{\"plot\":{\"id\":\"5d7ec9a7-aea5-48fb-88fd-b8479e328dc9\",\"subtype\":\"Figure\",\"type\":\"Plot\"}},\"id\":\"4107584d-8b52-43e3-8e6a-067d46b42264\",\"type\":\"PanTool\"},{\"attributes\":{\"plot\":{\"id\":\"5d7ec9a7-aea5-48fb-88fd-b8479e328dc9\",\"subtype\":\"Figure\",\"type\":\"Plot\"}},\"id\":\"b0da8433-0734-4b0b-9445-1ea596003dad\",\"type\":\"SaveTool\"},{\"attributes\":{\"line_color\":{\"value\":\"green\"},\"x\":{\"field\":\"x\"},\"y\":{\"field\":\"y\"}},\"id\":\"3374199c-9fbe-41aa-9ab7-d155599a6a93\",\"type\":\"Line\"},{\"attributes\":{},\"id\":\"2c92aa65-af8b-450e-af6e-ec042c8cebcb\",\"type\":\"ToolEvents\"},{\"attributes\":{\"plot\":{\"id\":\"5d7ec9a7-aea5-48fb-88fd-b8479e328dc9\",\"subtype\":\"Figure\",\"type\":\"Plot\"}},\"id\":\"b173020e-1ffc-4032-b16c-0643e29aeaef\",\"type\":\"ResetTool\"},{\"attributes\":{\"callback\":null},\"id\":\"66ec2f04-fd5a-435a-b855-03d04070a704\",\"type\":\"DataRange1d\"},{\"attributes\":{\"callback\":null,\"column_names\":[\"y\",\"x\"],\"data\":{\"x\":[3.18256,1.60171,0.40836,-0.51753,-1.25184,-1.84497,-2.33156,-2.73633,-3.07733,-3.36759,-3.62022,-3.84478,-4.05163],\"y\":[0.014669999999999996,0.01353,0.012910000000000001,0.0126,0.01244,0.012389999999999998,0.012429999999999998,0.012569999999999998,0.012849999999999999,0.01325,0.0143,0.01634,0.02016]}},\"id\":\"ecc76741-556b-456e-8d73-1f8294bff2f2\",\"type\":\"ColumnDataSource\"},{\"attributes\":{\"plot\":{\"id\":\"5d7ec9a7-aea5-48fb-88fd-b8479e328dc9\",\"subtype\":\"Figure\",\"type\":\"Plot\"}},\"id\":\"c4316ed8-cfdf-4499-959d-901e6310522f\",\"type\":\"HelpTool\"},{\"attributes\":{\"plot\":{\"id\":\"5d7ec9a7-aea5-48fb-88fd-b8479e328dc9\",\"subtype\":\"Figure\",\"type\":\"Plot\"},\"ticker\":{\"id\":\"7fd75192-bf11-4a2e-a2c0-b575f4410e7c\",\"type\":\"BasicTicker\"}},\"id\":\"54155a70-db55-4e62-9d79-dd8ad5f773f0\",\"type\":\"Grid\"},{\"attributes\":{},\"id\":\"7fd75192-bf11-4a2e-a2c0-b575f4410e7c\",\"type\":\"BasicTicker\"},{\"attributes\":{\"below\":[{\"id\":\"307078fc-0efa-44c6-8bdb-de363a2cc475\",\"type\":\"LinearAxis\"}],\"left\":[{\"id\":\"5597be98-2434-40df-98df-a39b36b95655\",\"type\":\"LinearAxis\"}],\"plot_height\":350,\"plot_width\":900,\"renderers\":[{\"id\":\"307078fc-0efa-44c6-8bdb-de363a2cc475\",\"type\":\"LinearAxis\"},{\"id\":\"54155a70-db55-4e62-9d79-dd8ad5f773f0\",\"type\":\"Grid\"},{\"id\":\"5597be98-2434-40df-98df-a39b36b95655\",\"type\":\"LinearAxis\"},{\"id\":\"715618cd-cc54-465d-9861-1936291478c2\",\"type\":\"Grid\"},{\"id\":\"0e21003c-5892-4d2d-9662-5b75c435ae5b\",\"type\":\"BoxAnnotation\"},{\"id\":\"9ee7c985-2bad-41e0-bf97-6bb4ce2e75a1\",\"type\":\"GlyphRenderer\"}],\"title\":{\"id\":\"b55c2736-3d0e-4b09-a329-b7f3059cdde5\",\"type\":\"Title\"},\"tool_events\":{\"id\":\"2c92aa65-af8b-450e-af6e-ec042c8cebcb\",\"type\":\"ToolEvents\"},\"toolbar\":{\"id\":\"b5c4ac07-8314-4edc-85e8-6823b6b733af\",\"type\":\"Toolbar\"},\"toolbar_location\":\"above\",\"x_range\":{\"id\":\"5dcf2eb0-906b-4467-bb9a-e13bd5516fd8\",\"type\":\"DataRange1d\"},\"y_range\":{\"id\":\"66ec2f04-fd5a-435a-b855-03d04070a704\",\"type\":\"DataRange1d\"}},\"id\":\"5d7ec9a7-aea5-48fb-88fd-b8479e328dc9\",\"subtype\":\"Figure\",\"type\":\"Plot\"}],\"root_ids\":[\"5d7ec9a7-aea5-48fb-88fd-b8479e328dc9\"]},\"title\":\"Bokeh Application\",\"version\":\"0.12.1\"}};\n",
       "            var render_items = [{\"docid\":\"86b06842-6c58-405f-85a3-0b7da69e215c\",\"elementid\":\"6971ae23-466c-494d-80b6-1ff0206c9b7f\",\"modelid\":\"5d7ec9a7-aea5-48fb-88fd-b8479e328dc9\",\"notebook_comms_target\":\"a3079b23-b913-430f-bbbb-fc81f4160594\"}];\n",
       "            \n",
       "            Bokeh.embed.embed_items(docs_json, render_items);\n",
       "        });\n",
       "      },\n",
       "      function(Bokeh) {\n",
       "      }\n",
       "    ];\n",
       "  \n",
       "    function run_inline_js() {\n",
       "      for (var i = 0; i < inline_js.length; i++) {\n",
       "        inline_js[i](window.Bokeh);\n",
       "      }\n",
       "    }\n",
       "  \n",
       "    if (window._bokeh_is_loading === 0) {\n",
       "      console.log(\"Bokeh: BokehJS loaded, going straight to plotting\");\n",
       "      run_inline_js();\n",
       "    } else {\n",
       "      load_libs(js_urls, function() {\n",
       "        console.log(\"Bokeh: BokehJS plotting callback run at\", now());\n",
       "        run_inline_js();\n",
       "      });\n",
       "    }\n",
       "  }(this));\n",
       "</script>"
      ]
     },
     "metadata": {},
     "output_type": "display_data"
    },
    {
     "data": {
      "text/html": [
       "<p><code>&lt;Bokeh Notebook handle for <strong>In[16]</strong>&gt;</code></p>"
      ],
      "text/plain": [
       "<bokeh.io._CommsHandle at 0x7f6451750150>"
      ]
     },
     "execution_count": 16,
     "metadata": {},
     "output_type": "execute_result"
    }
   ],
   "source": [
    "show(p98)"
   ]
  },
  {
   "cell_type": "code",
   "execution_count": 17,
   "metadata": {
    "collapsed": false
   },
   "outputs": [
    {
     "name": "stdout",
     "output_type": "stream",
     "text": [
      "w_root_c: "
     ]
    },
    {
     "ename": "NameError",
     "evalue": "name 'W_ROOT_C' is not defined",
     "output_type": "error",
     "traceback": [
      "\u001b[0;31m--------------------------------------------------------------------------\u001b[0m",
      "\u001b[0;31mNameError\u001b[0m                                Traceback (most recent call last)",
      "\u001b[0;32m<ipython-input-17-ae3c06e4d921>\u001b[0m in \u001b[0;36m<module>\u001b[0;34m()\u001b[0m\n\u001b[0;32m----> 1\u001b[0;31m \u001b[0;32mprint\u001b[0m \u001b[0;34m'w_root_c: '\u001b[0m\u001b[0;34m,\u001b[0m \u001b[0mW_ROOT_C\u001b[0m\u001b[0;34m\u001b[0m\u001b[0m\n\u001b[0m\u001b[1;32m      2\u001b[0m \u001b[0;32mprint\u001b[0m \u001b[0;34m'c_root_c: '\u001b[0m\u001b[0;34m,\u001b[0m \u001b[0mC_ROOT_C\u001b[0m\u001b[0;34m\u001b[0m\u001b[0m\n\u001b[1;32m      3\u001b[0m \u001b[0;32mprint\u001b[0m \u001b[0;34m'cref: '\u001b[0m\u001b[0;34m,\u001b[0m \u001b[0mW_CMA\u001b[0m\u001b[0;34m\u001b[0m\u001b[0m\n\u001b[1;32m      4\u001b[0m \u001b[0;32mprint\u001b[0m \u001b[0;34m'w_root_t: '\u001b[0m\u001b[0;34m,\u001b[0m \u001b[0mW_ROOT_T\u001b[0m\u001b[0;34m\u001b[0m\u001b[0m\n\u001b[1;32m      5\u001b[0m \u001b[0;32mprint\u001b[0m \u001b[0;34m'strut_t: '\u001b[0m\u001b[0;34m,\u001b[0m \u001b[0mSTRUT_T\u001b[0m\u001b[0;34m\u001b[0m\u001b[0m\n",
      "\u001b[0;31mNameError\u001b[0m: name 'W_ROOT_C' is not defined"
     ]
    }
   ],
   "source": [
    "print 'w_root_c: ', W_ROOT_C\n",
    "print 'c_root_c: ', C_ROOT_C\n",
    "print 'cref: ', W_CMA\n",
    "print 'w_root_t: ', W_ROOT_T\n",
    "print 'strut_t: ', STRUT_T\n",
    "print 'strut_x: ', STRUT_X\n",
    "print 'ws_drag_factor: ', WS_DRAG_FACTOR\n",
    "print 'rudder_t: ', RUDDER_T\n",
    "print 'canard_t: ', CANARD_T\n",
    "print 'w_AR: ', W_A\n",
    "print 's_hull: ', S_HULL"
   ]
  },
  {
   "cell_type": "code",
   "execution_count": 18,
   "metadata": {
    "collapsed": false
   },
   "outputs": [
    {
     "name": "stdout",
     "output_type": "stream",
     "text": [
      "\n"
     ]
    }
   ],
   "source": [
    "# Drag build-up!\n",
    "\n",
    "# Method: Calculate Cd contributions for each speed always normalizing on Sref (wing area).\n",
    "#         Then sum them up and multiply by q(V)*Sref for each speed\n",
    "\n",
    "# Important dimensions/variables\n",
    "wing = dims['wing']\n",
    "cnrd = dims['canard']\n",
    "\n",
    "GRAV = 9.80665 # Gravity\n",
    "RHO_W = 1020   # Sea water density\n",
    "RHO_AIR = 1.225 # Air density\n",
    "\n",
    "W_ROOT_C = np.sqrt(wing['S']/wing['AR'])*2/(1+wing['lambda']) # Wing Root Chord\n",
    "C_ROOT_C = np.sqrt(cnrd['S']/cnrd['AR'])*2/(1+cnrd['lambda']) # Canard Root Chord\n",
    "W_CMA    = beq.cma_s(wing) # Wing Mean Aerod. Chord\n",
    "\n",
    "W_ROOT_T = 0.12*W_ROOT_C # Wing Root Thickness\n",
    "STRUT_T  = 0.03          # Main Strut Thickness\n",
    "STRUT_X  = 0.3*0.187     # Distance along strut chord with max thickness\n",
    "WS_DRAG_FACTOR = 0.5     # Factor to account for wing/main strut staggering\n",
    "\n",
    "RUDDER_T = 0.15*0.06     # Rudder Thickness\n",
    "CANARD_T = 0.11*C_ROOT_C # Canard Thickness\n",
    "\n",
    "W_A    = 17     # Wing aspect ratio\n",
    "S_REF  = 0.191  # Reference area (Wing Area)\n",
    "S_HULL = 0.054 # Hull cross sectional area\n",
    "\n",
    "# Total Hidrodynamic drag from AVL (based on Sref)\n",
    "Vs = avl_eq[:,0]\n",
    "Cd_avl = avl_eq[:,6]\n",
    "\n",
    "# Increasing induced drag from wing about 10% as Hoerner says... (XI-C, ~11-26)\n",
    "# \"A single strut in the center increases drag due to lift by some 10%\"\n",
    "Cdi_inc = 0.1*avl_eq[:,7]\n",
    "\n",
    "# Hydrofoil wave drag, based on Breslin, J. \"Hydrofoil Wave Drag Theory\"\n",
    "# Wing depth is supposed to be around a quarter of span ~1.8/4=0.45m\n",
    "F_c    = Vs/np.sqrt(GRAV*W_CMA)\n",
    "Cd_h_w = avl_eq[:,4]**2*(0.5/(np.pi*W_A) + 0.13/F_c**2)\n",
    "\n",
    "# Interference drag, based on Hoerner VIII-4 (8-10)\n",
    "# Cdt = Drag/(qt^2) = 17*(t/c)^2-0.05\n",
    "ws_t = (W_ROOT_T + STRUT_T)/2\n",
    "rc_t = (RUDDER_T + CANARD_T)/2\n",
    "\n",
    "Cd_int_ws = (17*(ws_t/W_ROOT_C)**2-0.05)*ws_t**2/S_REF*WS_DRAG_FACTOR*np.ones(Cd_avl.shape)\n",
    "Cd_int_rc = (17*(rc_t/C_ROOT_C)**2-0.05)*rc_t**2/S_REF*np.ones(Cd_avl.shape)\n",
    "\n",
    "# Spray drag, based on Hoerner X-C (10-13)\n",
    "# Cdx = Drag/(qx^2) = 0.24*(t/x)^2\n",
    "Cd_spray = 0.24*(STRUT_T/STRUT_X)**2*STRUT_X**2/S_REF*np.ones(Cd_avl.shape)\n",
    "\n",
    "# Air resistance (Rider + Hulls), based on Hoerner (3-13), Rider and\n",
    "# Hoerner XIII-1 (13-1) Hulls\n",
    "Cd_air = (0.54 + 0.1*2*S_HULL)/S_REF*np.ones(Cd_avl.shape)\n",
    "\n",
    "# Build-up\n",
    "Cd_total = Cd_avl + Cdi_inc + Cd_h_w + Cd_int_ws + Cd_int_rc + Cd_spray\n",
    "\n",
    "# Arbitrary safety factor for other drag sources such as:\n",
    "# - Air resistance of frame and interferences\n",
    "# - Drag from surface follower\n",
    "# - Spray drag from canard\n",
    "# - Propeller/Strut interaction\n",
    "Cd_total *= 1.1\n",
    "\n",
    "# ...aaaaand we're done!\n",
    "Drag_T = np.multiply(Cd_total,Vs**2)*0.5*RHO_W*S_REF\n",
    "Drag_T += np.multiply(Cd_air,Vs**2)*0.5*RHO_AIR*S_REF\n",
    "\n",
    "#mlt_data = np.loadtxt('drag.mlt')\n",
    "#Hull_Drag = mlt_data[:,1] + mlt_data[:,2]\n",
    "#Drag_T[:len(Hull_Drag)-1] += Hull_Drag[:-1]*1000"
   ]
  },
  {
   "cell_type": "code",
   "execution_count": 19,
   "metadata": {
    "collapsed": false
   },
   "outputs": [
    {
     "name": "stdout",
     "output_type": "stream",
     "text": [
      "3.3 64.5179641675\n",
      "3.6 60.0162155513\n",
      "3.9 58.2036473365\n",
      "4.2 58.2964085606\n",
      "4.5 59.7698400442\n",
      "4.8 62.3661785668\n",
      "5.1 65.9789186068\n",
      "5.4 70.6173110321\n",
      "5.7 76.4891388988\n",
      "6.0 83.5841169216\n",
      "6.3 94.3549794593\n",
      "6.6 111.269788547\n",
      "6.9 139.754996509\n"
     ]
    }
   ],
   "source": [
    "for i,D in enumerate(Drag_T):\n",
    "    print avl_eq[i,0],D"
   ]
  },
  {
   "cell_type": "code",
   "execution_count": 23,
   "metadata": {
    "collapsed": false
   },
   "outputs": [
    {
     "data": {
      "text/plain": [
       "4.787999999999999"
      ]
     },
     "execution_count": 23,
     "metadata": {},
     "output_type": "execute_result"
    }
   ],
   "source": [
    "3.6*3.8*0.5*0.7"
   ]
  },
  {
   "cell_type": "code",
   "execution_count": 21,
   "metadata": {
    "collapsed": false
   },
   "outputs": [
    {
     "data": {
      "text/html": [
       "\n",
       "\n",
       "    <div class=\"bk-root\">\n",
       "        <div class=\"plotdiv\" id=\"195a38b8-1302-4cee-92e3-9e2f9815cc73\"></div>\n",
       "    </div>\n",
       "<script type=\"text/javascript\">\n",
       "  \n",
       "  (function(global) {\n",
       "    function now() {\n",
       "      return new Date();\n",
       "    }\n",
       "  \n",
       "    var force = \"\";\n",
       "  \n",
       "    if (typeof (window._bokeh_onload_callbacks) === \"undefined\" || force !== \"\") {\n",
       "      window._bokeh_onload_callbacks = [];\n",
       "      window._bokeh_is_loading = undefined;\n",
       "    }\n",
       "  \n",
       "    function run_callbacks() {\n",
       "      window._bokeh_onload_callbacks.forEach(function(callback) { callback() });\n",
       "      delete window._bokeh_onload_callbacks\n",
       "      console.info(\"Bokeh: all callbacks have finished\");\n",
       "    }\n",
       "  \n",
       "    function load_libs(js_urls, callback) {\n",
       "      window._bokeh_onload_callbacks.push(callback);\n",
       "      if (window._bokeh_is_loading > 0) {\n",
       "        console.log(\"Bokeh: BokehJS is being loaded, scheduling callback at\", now());\n",
       "        return null;\n",
       "      }\n",
       "      if (js_urls == null || js_urls.length === 0) {\n",
       "        run_callbacks();\n",
       "        return null;\n",
       "      }\n",
       "      console.log(\"Bokeh: BokehJS not loaded, scheduling load and callback at\", now());\n",
       "      window._bokeh_is_loading = js_urls.length;\n",
       "      for (var i = 0; i < js_urls.length; i++) {\n",
       "        var url = js_urls[i];\n",
       "        var s = document.createElement('script');\n",
       "        s.src = url;\n",
       "        s.async = false;\n",
       "        s.onreadystatechange = s.onload = function() {\n",
       "          window._bokeh_is_loading--;\n",
       "          if (window._bokeh_is_loading === 0) {\n",
       "            console.log(\"Bokeh: all BokehJS libraries loaded\");\n",
       "            run_callbacks()\n",
       "          }\n",
       "        };\n",
       "        s.onerror = function() {\n",
       "          console.warn(\"failed to load library \" + url);\n",
       "        };\n",
       "        console.log(\"Bokeh: injecting script tag for BokehJS library: \", url);\n",
       "        document.getElementsByTagName(\"head\")[0].appendChild(s);\n",
       "      }\n",
       "    };var element = document.getElementById(\"195a38b8-1302-4cee-92e3-9e2f9815cc73\");\n",
       "    if (element == null) {\n",
       "      console.log(\"Bokeh: ERROR: autoload.js configured with elementid '195a38b8-1302-4cee-92e3-9e2f9815cc73' but no matching script tag was found. \")\n",
       "      return false;\n",
       "    }\n",
       "  \n",
       "    var js_urls = [];\n",
       "  \n",
       "    var inline_js = [\n",
       "      function(Bokeh) {\n",
       "        Bokeh.$(function() {\n",
       "            var docs_json = {\"7be58058-687e-485f-9f01-88b80d333d5f\":{\"roots\":{\"references\":[{\"attributes\":{\"line_alpha\":{\"value\":0.1},\"line_color\":{\"value\":\"#1f77b4\"},\"x\":{\"field\":\"x\"},\"y\":{\"field\":\"y\"}},\"id\":\"5422b741-6748-43d2-aa88-ad6be1939f58\",\"type\":\"Line\"},{\"attributes\":{},\"id\":\"6dfc37ff-30b0-45d0-a5c6-502385781bc5\",\"type\":\"ToolEvents\"},{\"attributes\":{\"angle\":-0.8190580846859103,\"plot\":{\"id\":\"7e712a84-3535-425f-ba39-f7b97378909a\",\"subtype\":\"Figure\",\"type\":\"Plot\"},\"text\":\"250W\",\"text_font_size\":{\"value\":\"10pt\"},\"x\":1.5757142857142858,\"y\":140},\"id\":\"2a82504d-a8f9-4fa5-8067-5d7054b72edf\",\"type\":\"Label\"},{\"attributes\":{\"data_source\":{\"id\":\"c28f2365-1090-425d-ac56-a0590bbc8b3b\",\"type\":\"ColumnDataSource\"},\"glyph\":{\"id\":\"dc8e66f9-15e8-4c50-a2c2-97c2a708400a\",\"type\":\"Line\"},\"hover_glyph\":null,\"nonselection_glyph\":{\"id\":\"bd2ca199-64c1-4ca0-9caa-1ff9ba2f48e3\",\"type\":\"Line\"},\"selection_glyph\":null},\"id\":\"6c60ab9b-de7f-442c-8f12-c8c0370c56bf\",\"type\":\"GlyphRenderer\"},{\"attributes\":{\"data_source\":{\"id\":\"66777537-156e-4e62-b817-a1207b414a8f\",\"type\":\"ColumnDataSource\"},\"glyph\":{\"id\":\"9273db12-a4fc-4d2c-bfc5-a1f945ee6493\",\"type\":\"Line\"},\"hover_glyph\":null,\"nonselection_glyph\":{\"id\":\"9f4716ad-ea06-4b2b-b1b9-a3de25fed589\",\"type\":\"Line\"},\"selection_glyph\":null},\"id\":\"0d66b772-99cb-497f-87fb-b956519e9534\",\"type\":\"GlyphRenderer\"},{\"attributes\":{\"line_color\":{\"value\":\"blue\"},\"line_dash\":[6],\"x\":{\"field\":\"x\"},\"y\":{\"field\":\"y\"}},\"id\":\"9273db12-a4fc-4d2c-bfc5-a1f945ee6493\",\"type\":\"Line\"},{\"attributes\":{\"axis_label\":\"Drag [N]\",\"formatter\":{\"id\":\"771e72c5-b2b3-479e-a1f1-a51977ebf12c\",\"type\":\"BasicTickFormatter\"},\"plot\":{\"id\":\"7e712a84-3535-425f-ba39-f7b97378909a\",\"subtype\":\"Figure\",\"type\":\"Plot\"},\"ticker\":{\"id\":\"f85f55d0-eb9c-48a4-898d-508e34d9d21f\",\"type\":\"BasicTicker\"}},\"id\":\"712284a2-2c05-4f94-8256-05f018b8ace5\",\"type\":\"LinearAxis\"},{\"attributes\":{\"angle\":-0.5834386356666759,\"plot\":{\"id\":\"7e712a84-3535-425f-ba39-f7b97378909a\",\"subtype\":\"Figure\",\"type\":\"Plot\"},\"text\":\"500W\",\"text_font_size\":{\"value\":\"10pt\"},\"x\":3.3614285714285717,\"y\":140},\"id\":\"93b54cec-a880-4538-b8ab-12175565665e\",\"type\":\"Label\"},{\"attributes\":{\"callback\":null,\"column_names\":[\"y\",\"x\"],\"data\":{\"x\":[1.0,1.1224489795918366,1.2448979591836735,1.3673469387755102,1.489795918367347,1.6122448979591837,1.7346938775510203,1.8571428571428572,1.9795918367346939,2.1020408163265305,2.2244897959183674,2.3469387755102042,2.4693877551020407,2.5918367346938775,2.7142857142857144,2.836734693877551,2.9591836734693877,3.0816326530612246,3.204081632653061,3.326530612244898,3.4489795918367347,3.571428571428571,3.693877551020408,3.816326530612245,3.9387755102040813,4.061224489795919,4.183673469387755,4.3061224489795915,4.428571428571429,4.551020408163265,4.673469387755102,4.795918367346939,4.918367346938775,5.040816326530612,5.163265306122449,5.285714285714286,5.408163265306122,5.530612244897959,5.653061224489796,5.775510204081632,5.8979591836734695,6.020408163265306,6.142857142857142,6.26530612244898,6.387755102040816,6.5102040816326525,6.63265306122449,6.755102040816326,6.877551020408163,7.0],\"y\":[500.0,445.4545454545455,401.6393442622951,365.6716417910448,335.61643835616434,310.126582278481,288.2352941176471,269.2307692307692,252.57731958762886,237.8640776699029,224.77064220183485,213.04347826086956,202.4793388429752,192.91338582677164,184.21052631578945,176.2589928057554,168.9655172413793,162.25165562913907,156.05095541401275,150.30674846625766,144.97041420118342,140.0,135.35911602209944,131.01604278074865,126.94300518134716,123.11557788944722,119.51219512195122,116.11374407582939,112.9032258064516,109.86547085201794,106.98689956331879,104.25531914893617,101.6597510373444,99.19028340080972,96.83794466403161,94.5945945945946,92.45283018867926,90.4059040590406,88.4476534296029,86.57243816254417,84.77508650519032,83.05084745762713,81.39534883720931,79.80456026058631,78.27476038338658,76.8025078369906,75.38461538461539,74.01812688821752,72.70029673590506,71.42857142857143]}},\"id\":\"66777537-156e-4e62-b817-a1207b414a8f\",\"type\":\"ColumnDataSource\"},{\"attributes\":{},\"id\":\"d8c55dfd-3698-4cf1-8469-a4741e81fad0\",\"type\":\"BasicTicker\"},{\"attributes\":{\"line_alpha\":{\"value\":0.1},\"line_color\":{\"value\":\"#1f77b4\"},\"line_dash\":[6],\"x\":{\"field\":\"x\"},\"y\":{\"field\":\"y\"}},\"id\":\"8f346324-a44a-4437-aca7-368e1c0f861b\",\"type\":\"Line\"},{\"attributes\":{\"line_color\":{\"value\":\"red\"},\"x\":{\"field\":\"x\"},\"y\":{\"field\":\"y\"}},\"id\":\"5eeb06d9-9df4-4bab-afcd-8cda3b6f24fa\",\"type\":\"Line\"},{\"attributes\":{\"line_alpha\":{\"value\":0.1},\"line_color\":{\"value\":\"#1f77b4\"},\"line_dash\":[6],\"x\":{\"field\":\"x\"},\"y\":{\"field\":\"y\"}},\"id\":\"9f4716ad-ea06-4b2b-b1b9-a3de25fed589\",\"type\":\"Line\"},{\"attributes\":{\"line_color\":{\"value\":\"blue\"},\"line_dash\":[6],\"x\":{\"field\":\"x\"},\"y\":{\"field\":\"y\"}},\"id\":\"16aa8678-bd20-40e4-8196-7b6acb81215f\",\"type\":\"Line\"},{\"attributes\":{\"plot\":{\"id\":\"7e712a84-3535-425f-ba39-f7b97378909a\",\"subtype\":\"Figure\",\"type\":\"Plot\"},\"ticker\":{\"id\":\"d8c55dfd-3698-4cf1-8469-a4741e81fad0\",\"type\":\"BasicTicker\"}},\"id\":\"1239071b-b79f-4124-b078-915431dc2579\",\"type\":\"Grid\"},{\"attributes\":{\"callback\":null,\"column_names\":[\"y\",\"x\"],\"data\":{\"x\":[3.3,3.5999999999999996,3.8999999999999995,4.199999999999999,4.499999999999999,4.799999999999999,5.099999999999999,5.399999999999999,5.699999999999998,5.999999999999998,6.299999999999998,6.599999999999998,6.899999999999998],\"y\":[64.51796416751645,60.01621555129896,58.203647336525904,58.29640856055292,59.76984004417607,62.36617856682316,65.9789186068432,70.61731103214613,76.48913889880119,83.58411692160205,94.3549794593493,111.26978854713859,139.75499650947012]}},\"id\":\"c28f2365-1090-425d-ac56-a0590bbc8b3b\",\"type\":\"ColumnDataSource\"},{\"attributes\":{\"line_color\":{\"value\":\"blue\"},\"line_dash\":[6],\"x\":{\"field\":\"x\"},\"y\":{\"field\":\"y\"}},\"id\":\"146fdcee-927f-45aa-bfc9-066fc58a7969\",\"type\":\"Line\"},{\"attributes\":{\"overlay\":{\"id\":\"f2942558-a03b-4690-a712-771658c5911f\",\"type\":\"BoxAnnotation\"},\"plot\":{\"id\":\"7e712a84-3535-425f-ba39-f7b97378909a\",\"subtype\":\"Figure\",\"type\":\"Plot\"}},\"id\":\"0304de2f-611a-48f2-a467-d5860328ecfb\",\"type\":\"BoxZoomTool\"},{\"attributes\":{\"below\":[{\"id\":\"0637cbac-dc8f-4bd8-a59a-81dc86d0a4c3\",\"type\":\"LinearAxis\"}],\"left\":[{\"id\":\"712284a2-2c05-4f94-8256-05f018b8ace5\",\"type\":\"LinearAxis\"}],\"plot_height\":350,\"plot_width\":900,\"renderers\":[{\"id\":\"0637cbac-dc8f-4bd8-a59a-81dc86d0a4c3\",\"type\":\"LinearAxis\"},{\"id\":\"1239071b-b79f-4124-b078-915431dc2579\",\"type\":\"Grid\"},{\"id\":\"712284a2-2c05-4f94-8256-05f018b8ace5\",\"type\":\"LinearAxis\"},{\"id\":\"c14d4c05-0c51-4024-ab0e-b8fc6686101e\",\"type\":\"Grid\"},{\"id\":\"f2942558-a03b-4690-a712-771658c5911f\",\"type\":\"BoxAnnotation\"},{\"id\":\"6d460b80-354d-4868-a6d4-f25556162a1a\",\"type\":\"Legend\"},{\"id\":\"6c60ab9b-de7f-442c-8f12-c8c0370c56bf\",\"type\":\"GlyphRenderer\"},{\"id\":\"9b1553db-17bd-4806-8502-fd5bd1c9eb0d\",\"type\":\"GlyphRenderer\"},{\"id\":\"47ac9330-a45a-4b63-9afd-ede537063d71\",\"type\":\"Label\"},{\"id\":\"4df9fac5-98b4-4cbb-8f30-277b26da670f\",\"type\":\"GlyphRenderer\"},{\"id\":\"2a82504d-a8f9-4fa5-8067-5d7054b72edf\",\"type\":\"Label\"},{\"id\":\"23988e2f-8c8f-4b7b-906c-c6438c99ae02\",\"type\":\"GlyphRenderer\"},{\"id\":\"0f78691d-1aa7-4b1f-972c-b05b9543798f\",\"type\":\"Label\"},{\"id\":\"678666b2-bcaf-4561-bf3d-5deee558d600\",\"type\":\"GlyphRenderer\"},{\"id\":\"637e8b7b-7d97-465d-ba9a-f74418fd4f2c\",\"type\":\"Label\"},{\"id\":\"0d66b772-99cb-497f-87fb-b956519e9534\",\"type\":\"GlyphRenderer\"},{\"id\":\"93b54cec-a880-4538-b8ab-12175565665e\",\"type\":\"Label\"},{\"id\":\"ab002686-dc52-42a1-bc87-c23df3ca6de0\",\"type\":\"GlyphRenderer\"},{\"id\":\"7988d42f-c38b-4041-820c-110da016f62f\",\"type\":\"Label\"},{\"id\":\"59da97b8-8762-46e3-9dde-3c5490d676d4\",\"type\":\"GlyphRenderer\"},{\"id\":\"b9ca0517-e486-41c6-8a87-a0b8af269d21\",\"type\":\"GlyphRenderer\"}],\"title\":{\"id\":\"0c701d5f-949c-44ca-a020-417d6f609cb5\",\"type\":\"Title\"},\"tool_events\":{\"id\":\"6dfc37ff-30b0-45d0-a5c6-502385781bc5\",\"type\":\"ToolEvents\"},\"toolbar\":{\"id\":\"adb11d63-e831-4412-bf3a-3016c1fdb5f4\",\"type\":\"Toolbar\"},\"x_range\":{\"id\":\"8e9e4674-afdf-42f0-b2bc-8d8270ec263c\",\"type\":\"Range1d\"},\"y_range\":{\"id\":\"89641a1b-fa1d-4e63-8f55-73729a573087\",\"type\":\"Range1d\"}},\"id\":\"7e712a84-3535-425f-ba39-f7b97378909a\",\"subtype\":\"Figure\",\"type\":\"Plot\"},{\"attributes\":{\"angle\":-0.8975979010256552,\"plot\":{\"id\":\"7e712a84-3535-425f-ba39-f7b97378909a\",\"subtype\":\"Figure\",\"type\":\"Plot\"},\"text\":\"200W\",\"text_font_size\":{\"value\":\"10pt\"},\"x\":1.2185714285714286,\"y\":140},\"id\":\"47ac9330-a45a-4b63-9afd-ede537063d71\",\"type\":\"Label\"},{\"attributes\":{\"plot\":{\"id\":\"7e712a84-3535-425f-ba39-f7b97378909a\",\"subtype\":\"Figure\",\"type\":\"Plot\"}},\"id\":\"da5165eb-867a-47ba-ae17-a727b8256814\",\"type\":\"WheelZoomTool\"},{\"attributes\":{\"callback\":null,\"column_names\":[\"y\",\"x\"],\"data\":{\"x\":[1.0,1.1224489795918366,1.2448979591836735,1.3673469387755102,1.489795918367347,1.6122448979591837,1.7346938775510203,1.8571428571428572,1.9795918367346939,2.1020408163265305,2.2244897959183674,2.3469387755102042,2.4693877551020407,2.5918367346938775,2.7142857142857144,2.836734693877551,2.9591836734693877,3.0816326530612246,3.204081632653061,3.326530612244898,3.4489795918367347,3.571428571428571,3.693877551020408,3.816326530612245,3.9387755102040813,4.061224489795919,4.183673469387755,4.3061224489795915,4.428571428571429,4.551020408163265,4.673469387755102,4.795918367346939,4.918367346938775,5.040816326530612,5.163265306122449,5.285714285714286,5.408163265306122,5.530612244897959,5.653061224489796,5.775510204081632,5.8979591836734695,6.020408163265306,6.142857142857142,6.26530612244898,6.387755102040816,6.5102040816326525,6.63265306122449,6.755102040816326,6.877551020408163,7.0],\"y\":[300.0,267.2727272727273,240.98360655737704,219.40298507462688,201.36986301369862,186.0759493670886,172.94117647058823,161.53846153846152,151.54639175257734,142.71844660194176,134.8623853211009,127.82608695652173,121.48760330578513,115.74803149606299,110.52631578947368,105.75539568345324,101.37931034482759,97.35099337748345,93.63057324840764,90.1840490797546,86.98224852071006,84.0,81.21546961325967,78.6096256684492,76.16580310880829,73.86934673366834,71.70731707317073,69.66824644549763,67.74193548387096,65.91928251121077,64.19213973799127,62.5531914893617,60.99585062240664,59.51417004048584,58.10276679841897,56.75675675675676,55.47169811320755,54.24354243542435,53.068592057761734,51.94346289752651,50.865051903114185,49.83050847457627,48.83720930232558,47.88273615635179,46.96485623003195,46.08150470219436,45.23076923076923,44.41087613293052,43.62017804154303,42.857142857142854]}},\"id\":\"413a5e75-0e3d-4081-b702-8bcdc3bd3655\",\"type\":\"ColumnDataSource\"},{\"attributes\":{\"data_source\":{\"id\":\"413a5e75-0e3d-4081-b702-8bcdc3bd3655\",\"type\":\"ColumnDataSource\"},\"glyph\":{\"id\":\"2af44ace-ab87-43e5-9142-42d1bf967669\",\"type\":\"Line\"},\"hover_glyph\":null,\"nonselection_glyph\":{\"id\":\"af080979-e3b5-479a-a363-05862872de6d\",\"type\":\"Line\"},\"selection_glyph\":null},\"id\":\"23988e2f-8c8f-4b7b-906c-c6438c99ae02\",\"type\":\"GlyphRenderer\"},{\"attributes\":{\"callback\":null,\"column_names\":[\"y\",\"x\"],\"data\":{\"x\":[0.5,1.0,1.5,2.0,2.5,3.0,3.5,4.0,4.5,5.0,5.5,6.0],\"y\":[94,97,103,113,125,135,135,131,125,117,109,88]}},\"id\":\"215542c9-4958-4e97-9ba7-c17af26bcec6\",\"type\":\"ColumnDataSource\"},{\"attributes\":{\"angle\":-0.7405182683461655,\"plot\":{\"id\":\"7e712a84-3535-425f-ba39-f7b97378909a\",\"subtype\":\"Figure\",\"type\":\"Plot\"},\"text\":\"300W\",\"text_font_size\":{\"value\":\"10pt\"},\"x\":1.9328571428571428,\"y\":140},\"id\":\"0f78691d-1aa7-4b1f-972c-b05b9543798f\",\"type\":\"Label\"},{\"attributes\":{\"plot\":{\"id\":\"7e712a84-3535-425f-ba39-f7b97378909a\",\"subtype\":\"Figure\",\"type\":\"Plot\"}},\"id\":\"6ec50ddd-e958-4fe1-9df5-735daa989178\",\"type\":\"PanTool\"},{\"attributes\":{\"line_color\":{\"value\":\"green\"},\"x\":{\"field\":\"x\"},\"y\":{\"field\":\"y\"}},\"id\":\"e2bbcd7c-3e67-4d8d-b323-d1dbf9ada737\",\"type\":\"Line\"},{\"attributes\":{\"data_source\":{\"id\":\"41aaba4f-5412-4028-9fcb-5edd12be5a1f\",\"type\":\"ColumnDataSource\"},\"glyph\":{\"id\":\"16aa8678-bd20-40e4-8196-7b6acb81215f\",\"type\":\"Line\"},\"hover_glyph\":null,\"nonselection_glyph\":{\"id\":\"887b9ab6-145c-4587-b3fd-f25058891a48\",\"type\":\"Line\"},\"selection_glyph\":null},\"id\":\"ab002686-dc52-42a1-bc87-c23df3ca6de0\",\"type\":\"GlyphRenderer\"},{\"attributes\":{\"plot\":null,\"text\":\"Drag and Available Thrust\"},\"id\":\"0c701d5f-949c-44ca-a020-417d6f609cb5\",\"type\":\"Title\"},{\"attributes\":{\"plot\":{\"id\":\"7e712a84-3535-425f-ba39-f7b97378909a\",\"subtype\":\"Figure\",\"type\":\"Plot\"}},\"id\":\"7f7bd97a-3ece-4095-aba1-b6b96657bbfe\",\"type\":\"ResetTool\"},{\"attributes\":{\"callback\":null,\"column_names\":[\"y\",\"x\"],\"data\":{\"x\":[1.0,1.1224489795918366,1.2448979591836735,1.3673469387755102,1.489795918367347,1.6122448979591837,1.7346938775510203,1.8571428571428572,1.9795918367346939,2.1020408163265305,2.2244897959183674,2.3469387755102042,2.4693877551020407,2.5918367346938775,2.7142857142857144,2.836734693877551,2.9591836734693877,3.0816326530612246,3.204081632653061,3.326530612244898,3.4489795918367347,3.571428571428571,3.693877551020408,3.816326530612245,3.9387755102040813,4.061224489795919,4.183673469387755,4.3061224489795915,4.428571428571429,4.551020408163265,4.673469387755102,4.795918367346939,4.918367346938775,5.040816326530612,5.163265306122449,5.285714285714286,5.408163265306122,5.530612244897959,5.653061224489796,5.775510204081632,5.8979591836734695,6.020408163265306,6.142857142857142,6.26530612244898,6.387755102040816,6.5102040816326525,6.63265306122449,6.755102040816326,6.877551020408163,7.0],\"y\":[250.0,222.72727272727275,200.81967213114754,182.8358208955224,167.80821917808217,155.0632911392405,144.11764705882354,134.6153846153846,126.28865979381443,118.93203883495146,112.38532110091742,106.52173913043478,101.2396694214876,96.45669291338582,92.10526315789473,88.1294964028777,84.48275862068965,81.12582781456953,78.02547770700637,75.15337423312883,72.48520710059171,70.0,67.67955801104972,65.50802139037432,63.47150259067358,61.55778894472361,59.75609756097561,58.056872037914694,56.4516129032258,54.93273542600897,53.49344978165939,52.12765957446808,50.8298755186722,49.59514170040486,48.418972332015805,47.2972972972973,46.22641509433963,45.2029520295203,44.22382671480145,43.28621908127209,42.38754325259516,41.525423728813564,40.697674418604656,39.90228013029316,39.13738019169329,38.4012539184953,37.69230769230769,37.00906344410876,36.35014836795253,35.714285714285715]}},\"id\":\"1e43f55f-9b09-41f1-86e7-b5c679c74d3a\",\"type\":\"ColumnDataSource\"},{\"attributes\":{},\"id\":\"78cca9b6-19d3-459a-b186-27a390aa03e0\",\"type\":\"BasicTickFormatter\"},{\"attributes\":{\"data_source\":{\"id\":\"215542c9-4958-4e97-9ba7-c17af26bcec6\",\"type\":\"ColumnDataSource\"},\"glyph\":{\"id\":\"5eeb06d9-9df4-4bab-afcd-8cda3b6f24fa\",\"type\":\"Line\"},\"hover_glyph\":null,\"nonselection_glyph\":{\"id\":\"c7124b7b-9d58-4721-aa29-8792702bf0d0\",\"type\":\"Line\"},\"selection_glyph\":null},\"id\":\"59da97b8-8762-46e3-9dde-3c5490d676d4\",\"type\":\"GlyphRenderer\"},{\"attributes\":{\"line_color\":{\"value\":\"blue\"},\"line_dash\":[6],\"x\":{\"field\":\"x\"},\"y\":{\"field\":\"y\"}},\"id\":\"388624ad-847a-4cda-b35c-f9c267832c66\",\"type\":\"Line\"},{\"attributes\":{\"callback\":null,\"column_names\":[\"y\",\"x\"],\"data\":{\"x\":[1.0,1.1224489795918366,1.2448979591836735,1.3673469387755102,1.489795918367347,1.6122448979591837,1.7346938775510203,1.8571428571428572,1.9795918367346939,2.1020408163265305,2.2244897959183674,2.3469387755102042,2.4693877551020407,2.5918367346938775,2.7142857142857144,2.836734693877551,2.9591836734693877,3.0816326530612246,3.204081632653061,3.326530612244898,3.4489795918367347,3.571428571428571,3.693877551020408,3.816326530612245,3.9387755102040813,4.061224489795919,4.183673469387755,4.3061224489795915,4.428571428571429,4.551020408163265,4.673469387755102,4.795918367346939,4.918367346938775,5.040816326530612,5.163265306122449,5.285714285714286,5.408163265306122,5.530612244897959,5.653061224489796,5.775510204081632,5.8979591836734695,6.020408163265306,6.142857142857142,6.26530612244898,6.387755102040816,6.5102040816326525,6.63265306122449,6.755102040816326,6.877551020408163,7.0],\"y\":[200.0,178.1818181818182,160.65573770491804,146.26865671641792,134.24657534246575,124.0506329113924,115.29411764705883,107.6923076923077,101.03092783505154,95.14563106796118,89.90825688073394,85.21739130434781,80.99173553719008,77.16535433070867,73.68421052631578,70.50359712230217,67.58620689655173,64.90066225165563,62.4203821656051,60.12269938650307,57.98816568047337,56.00000000000001,54.14364640883978,52.406417112299465,50.77720207253886,49.246231155778894,47.80487804878049,46.44549763033176,45.16129032258064,43.946188340807176,42.79475982532752,41.702127659574465,40.66390041493776,39.67611336032389,38.73517786561265,37.83783783783784,36.9811320754717,36.162361623616235,35.37906137184115,34.62897526501767,33.910034602076124,33.22033898305085,32.55813953488372,31.921824104234528,31.309904153354633,30.72100313479624,30.153846153846153,29.60725075528701,29.08011869436202,28.571428571428573]}},\"id\":\"0b8b22ad-e7ea-4c0f-8da8-ecb9e3aa47e2\",\"type\":\"ColumnDataSource\"},{\"attributes\":{\"active_drag\":\"auto\",\"active_scroll\":\"auto\",\"active_tap\":\"auto\",\"tools\":[{\"id\":\"6ec50ddd-e958-4fe1-9df5-735daa989178\",\"type\":\"PanTool\"},{\"id\":\"da5165eb-867a-47ba-ae17-a727b8256814\",\"type\":\"WheelZoomTool\"},{\"id\":\"0304de2f-611a-48f2-a467-d5860328ecfb\",\"type\":\"BoxZoomTool\"},{\"id\":\"8e8f9017-0101-4485-896e-69d3dc052b03\",\"type\":\"SaveTool\"},{\"id\":\"7f7bd97a-3ece-4095-aba1-b6b96657bbfe\",\"type\":\"ResetTool\"},{\"id\":\"03935b00-8813-4c97-a4d0-71518c1f5dd7\",\"type\":\"HelpTool\"}]},\"id\":\"adb11d63-e831-4412-bf3a-3016c1fdb5f4\",\"type\":\"Toolbar\"},{\"attributes\":{\"line_alpha\":{\"value\":0.1},\"line_color\":{\"value\":\"#1f77b4\"},\"line_dash\":[6],\"x\":{\"field\":\"x\"},\"y\":{\"field\":\"y\"}},\"id\":\"6fdae4b9-efb1-41b6-a5ae-0904cac8fc6c\",\"type\":\"Line\"},{\"attributes\":{\"legends\":[[\"Drag\",[{\"id\":\"6c60ab9b-de7f-442c-8f12-c8c0370c56bf\",\"type\":\"GlyphRenderer\"}]],[\"Max Thrust\",[{\"id\":\"59da97b8-8762-46e3-9dde-3c5490d676d4\",\"type\":\"GlyphRenderer\"}]],[\"250W Thrust\",[{\"id\":\"b9ca0517-e486-41c6-8a87-a0b8af269d21\",\"type\":\"GlyphRenderer\"}]]],\"plot\":{\"id\":\"7e712a84-3535-425f-ba39-f7b97378909a\",\"subtype\":\"Figure\",\"type\":\"Plot\"}},\"id\":\"6d460b80-354d-4868-a6d4-f25556162a1a\",\"type\":\"Legend\"},{\"attributes\":{\"plot\":{\"id\":\"7e712a84-3535-425f-ba39-f7b97378909a\",\"subtype\":\"Figure\",\"type\":\"Plot\"}},\"id\":\"8e8f9017-0101-4485-896e-69d3dc052b03\",\"type\":\"SaveTool\"},{\"attributes\":{\"line_alpha\":{\"value\":0.1},\"line_color\":{\"value\":\"#1f77b4\"},\"line_dash\":[6],\"x\":{\"field\":\"x\"},\"y\":{\"field\":\"y\"}},\"id\":\"af080979-e3b5-479a-a363-05862872de6d\",\"type\":\"Line\"},{\"attributes\":{\"line_alpha\":{\"value\":0.1},\"line_color\":{\"value\":\"#1f77b4\"},\"x\":{\"field\":\"x\"},\"y\":{\"field\":\"y\"}},\"id\":\"bd2ca199-64c1-4ca0-9caa-1ff9ba2f48e3\",\"type\":\"Line\"},{\"attributes\":{\"callback\":null,\"end\":7,\"start\":1},\"id\":\"8e9e4674-afdf-42f0-b2bc-8d8270ec263c\",\"type\":\"Range1d\"},{\"attributes\":{},\"id\":\"f85f55d0-eb9c-48a4-898d-508e34d9d21f\",\"type\":\"BasicTicker\"},{\"attributes\":{},\"id\":\"771e72c5-b2b3-479e-a1f1-a51977ebf12c\",\"type\":\"BasicTickFormatter\"},{\"attributes\":{\"data_source\":{\"id\":\"f7c61e1c-3a13-4411-979d-50e4af29a9ae\",\"type\":\"ColumnDataSource\"},\"glyph\":{\"id\":\"388624ad-847a-4cda-b35c-f9c267832c66\",\"type\":\"Line\"},\"hover_glyph\":null,\"nonselection_glyph\":{\"id\":\"6fdae4b9-efb1-41b6-a5ae-0904cac8fc6c\",\"type\":\"Line\"},\"selection_glyph\":null},\"id\":\"678666b2-bcaf-4561-bf3d-5deee558d600\",\"type\":\"GlyphRenderer\"},{\"attributes\":{\"angle\":-0.504898819326931,\"plot\":{\"id\":\"7e712a84-3535-425f-ba39-f7b97378909a\",\"subtype\":\"Figure\",\"type\":\"Plot\"},\"text\":\"700W\",\"text_font_size\":{\"value\":\"10pt\"},\"x\":4.66,\"y\":140},\"id\":\"7988d42f-c38b-4041-820c-110da016f62f\",\"type\":\"Label\"},{\"attributes\":{\"bottom_units\":\"screen\",\"fill_alpha\":{\"value\":0.5},\"fill_color\":{\"value\":\"lightgrey\"},\"left_units\":\"screen\",\"level\":\"overlay\",\"line_alpha\":{\"value\":1.0},\"line_color\":{\"value\":\"black\"},\"line_dash\":[4,4],\"line_width\":{\"value\":2},\"plot\":null,\"render_mode\":\"css\",\"right_units\":\"screen\",\"top_units\":\"screen\"},\"id\":\"f2942558-a03b-4690-a712-771658c5911f\",\"type\":\"BoxAnnotation\"},{\"attributes\":{\"data_source\":{\"id\":\"0b8b22ad-e7ea-4c0f-8da8-ecb9e3aa47e2\",\"type\":\"ColumnDataSource\"},\"glyph\":{\"id\":\"3bc9ef05-aef5-4bfa-9247-6b3cbd2a986f\",\"type\":\"Line\"},\"hover_glyph\":null,\"nonselection_glyph\":{\"id\":\"8f346324-a44a-4437-aca7-368e1c0f861b\",\"type\":\"Line\"},\"selection_glyph\":null},\"id\":\"9b1553db-17bd-4806-8502-fd5bd1c9eb0d\",\"type\":\"GlyphRenderer\"},{\"attributes\":{\"data_source\":{\"id\":\"1e43f55f-9b09-41f1-86e7-b5c679c74d3a\",\"type\":\"ColumnDataSource\"},\"glyph\":{\"id\":\"146fdcee-927f-45aa-bfc9-066fc58a7969\",\"type\":\"Line\"},\"hover_glyph\":null,\"nonselection_glyph\":{\"id\":\"f7781f0c-88d8-4039-ae08-396f14377f93\",\"type\":\"Line\"},\"selection_glyph\":null},\"id\":\"4df9fac5-98b4-4cbb-8f30-277b26da670f\",\"type\":\"GlyphRenderer\"},{\"attributes\":{\"dimension\":1,\"plot\":{\"id\":\"7e712a84-3535-425f-ba39-f7b97378909a\",\"subtype\":\"Figure\",\"type\":\"Plot\"},\"ticker\":{\"id\":\"f85f55d0-eb9c-48a4-898d-508e34d9d21f\",\"type\":\"BasicTicker\"}},\"id\":\"c14d4c05-0c51-4024-ab0e-b8fc6686101e\",\"type\":\"Grid\"},{\"attributes\":{\"axis_label\":\"Flight Speed [m/s]\",\"formatter\":{\"id\":\"78cca9b6-19d3-459a-b186-27a390aa03e0\",\"type\":\"BasicTickFormatter\"},\"plot\":{\"id\":\"7e712a84-3535-425f-ba39-f7b97378909a\",\"subtype\":\"Figure\",\"type\":\"Plot\"},\"ticker\":{\"id\":\"d8c55dfd-3698-4cf1-8469-a4741e81fad0\",\"type\":\"BasicTicker\"}},\"id\":\"0637cbac-dc8f-4bd8-a59a-81dc86d0a4c3\",\"type\":\"LinearAxis\"},{\"attributes\":{\"callback\":null,\"column_names\":[\"y\",\"x\"],\"data\":{\"x\":[1.0,1.1224489795918366,1.2448979591836735,1.3673469387755102,1.489795918367347,1.6122448979591837,1.7346938775510203,1.8571428571428572,1.9795918367346939,2.1020408163265305,2.2244897959183674,2.3469387755102042,2.4693877551020407,2.5918367346938775,2.7142857142857144,2.836734693877551,2.9591836734693877,3.0816326530612246,3.204081632653061,3.326530612244898,3.4489795918367347,3.571428571428571,3.693877551020408,3.816326530612245,3.9387755102040813,4.061224489795919,4.183673469387755,4.3061224489795915,4.428571428571429,4.551020408163265,4.673469387755102,4.795918367346939,4.918367346938775,5.040816326530612,5.163265306122449,5.285714285714286,5.408163265306122,5.530612244897959,5.653061224489796,5.775510204081632,5.8979591836734695,6.020408163265306,6.142857142857142,6.26530612244898,6.387755102040816,6.5102040816326525,6.63265306122449,6.755102040816326,6.877551020408163,7.0],\"y\":[350.0,311.81818181818187,281.1475409836065,255.97014925373136,234.93150684931504,217.08860759493672,201.76470588235296,188.46153846153845,176.8041237113402,166.50485436893206,157.3394495412844,149.1304347826087,141.73553719008265,135.03937007874015,128.94736842105263,123.38129496402878,118.27586206896552,113.57615894039735,109.23566878980893,105.21472392638037,101.4792899408284,98.0,94.75138121546962,91.71122994652406,88.86010362694302,86.18090452261306,83.65853658536585,81.27962085308057,79.03225806451613,76.90582959641256,74.89082969432314,72.97872340425532,71.16182572614107,69.43319838056681,67.78656126482213,66.21621621621622,64.71698113207547,63.284132841328415,61.91335740072202,60.60070671378092,59.34256055363322,58.13559322033898,56.97674418604652,55.86319218241042,54.79233226837061,53.761755485893424,52.76923076923077,51.81268882175227,50.890207715133535,50.0]}},\"id\":\"f7c61e1c-3a13-4411-979d-50e4af29a9ae\",\"type\":\"ColumnDataSource\"},{\"attributes\":{\"angle\":-0.6619784520064207,\"plot\":{\"id\":\"7e712a84-3535-425f-ba39-f7b97378909a\",\"subtype\":\"Figure\",\"type\":\"Plot\"},\"text\":\"350W\",\"text_font_size\":{\"value\":\"10pt\"},\"x\":2.29,\"y\":140},\"id\":\"637e8b7b-7d97-465d-ba9a-f74418fd4f2c\",\"type\":\"Label\"},{\"attributes\":{\"line_color\":{\"value\":\"blue\"},\"line_dash\":[6],\"x\":{\"field\":\"x\"},\"y\":{\"field\":\"y\"}},\"id\":\"2af44ace-ab87-43e5-9142-42d1bf967669\",\"type\":\"Line\"},{\"attributes\":{\"callback\":null,\"column_names\":[\"y\",\"x\"],\"data\":{\"x\":[0.5,1.0,1.5,2.0,2.5,3.0,3.5,4.0,4.5,5.0,5.5,6.0],\"y\":[51,56,62,67,68,65,69,53,48,43,38,33]}},\"id\":\"c18bbe0c-a387-4ebe-8a88-8bc595b0775a\",\"type\":\"ColumnDataSource\"},{\"attributes\":{\"data_source\":{\"id\":\"c18bbe0c-a387-4ebe-8a88-8bc595b0775a\",\"type\":\"ColumnDataSource\"},\"glyph\":{\"id\":\"e2bbcd7c-3e67-4d8d-b323-d1dbf9ada737\",\"type\":\"Line\"},\"hover_glyph\":null,\"nonselection_glyph\":{\"id\":\"5422b741-6748-43d2-aa88-ad6be1939f58\",\"type\":\"Line\"},\"selection_glyph\":null},\"id\":\"b9ca0517-e486-41c6-8a87-a0b8af269d21\",\"type\":\"GlyphRenderer\"},{\"attributes\":{\"line_alpha\":{\"value\":0.1},\"line_color\":{\"value\":\"#1f77b4\"},\"x\":{\"field\":\"x\"},\"y\":{\"field\":\"y\"}},\"id\":\"c7124b7b-9d58-4721-aa29-8792702bf0d0\",\"type\":\"Line\"},{\"attributes\":{\"x\":{\"field\":\"x\"},\"y\":{\"field\":\"y\"}},\"id\":\"dc8e66f9-15e8-4c50-a2c2-97c2a708400a\",\"type\":\"Line\"},{\"attributes\":{\"callback\":null,\"column_names\":[\"y\",\"x\"],\"data\":{\"x\":[1.0,1.1224489795918366,1.2448979591836735,1.3673469387755102,1.489795918367347,1.6122448979591837,1.7346938775510203,1.8571428571428572,1.9795918367346939,2.1020408163265305,2.2244897959183674,2.3469387755102042,2.4693877551020407,2.5918367346938775,2.7142857142857144,2.836734693877551,2.9591836734693877,3.0816326530612246,3.204081632653061,3.326530612244898,3.4489795918367347,3.571428571428571,3.693877551020408,3.816326530612245,3.9387755102040813,4.061224489795919,4.183673469387755,4.3061224489795915,4.428571428571429,4.551020408163265,4.673469387755102,4.795918367346939,4.918367346938775,5.040816326530612,5.163265306122449,5.285714285714286,5.408163265306122,5.530612244897959,5.653061224489796,5.775510204081632,5.8979591836734695,6.020408163265306,6.142857142857142,6.26530612244898,6.387755102040816,6.5102040816326525,6.63265306122449,6.755102040816326,6.877551020408163,7.0],\"y\":[700.0,623.6363636363637,562.295081967213,511.9402985074627,469.8630136986301,434.17721518987344,403.5294117647059,376.9230769230769,353.6082474226804,333.0097087378641,314.6788990825688,298.2608695652174,283.4710743801653,270.0787401574803,257.89473684210526,246.76258992805757,236.55172413793105,227.1523178807947,218.47133757961785,210.42944785276075,202.9585798816568,196.0,189.50276243093924,183.4224598930481,177.72020725388603,172.36180904522612,167.3170731707317,162.55924170616115,158.06451612903226,153.81165919282512,149.7816593886463,145.95744680851064,142.32365145228215,138.86639676113361,135.57312252964425,132.43243243243245,129.43396226415095,126.56826568265683,123.82671480144404,121.20141342756185,118.68512110726644,116.27118644067797,113.95348837209303,111.72638436482085,109.58466453674122,107.52351097178685,105.53846153846153,103.62537764350454,101.78041543026707,100.0]}},\"id\":\"41aaba4f-5412-4028-9fcb-5edd12be5a1f\",\"type\":\"ColumnDataSource\"},{\"attributes\":{\"line_alpha\":{\"value\":0.1},\"line_color\":{\"value\":\"#1f77b4\"},\"line_dash\":[6],\"x\":{\"field\":\"x\"},\"y\":{\"field\":\"y\"}},\"id\":\"887b9ab6-145c-4587-b3fd-f25058891a48\",\"type\":\"Line\"},{\"attributes\":{\"line_color\":{\"value\":\"blue\"},\"line_dash\":[6],\"x\":{\"field\":\"x\"},\"y\":{\"field\":\"y\"}},\"id\":\"3bc9ef05-aef5-4bfa-9247-6b3cbd2a986f\",\"type\":\"Line\"},{\"attributes\":{\"plot\":{\"id\":\"7e712a84-3535-425f-ba39-f7b97378909a\",\"subtype\":\"Figure\",\"type\":\"Plot\"}},\"id\":\"03935b00-8813-4c97-a4d0-71518c1f5dd7\",\"type\":\"HelpTool\"},{\"attributes\":{\"line_alpha\":{\"value\":0.1},\"line_color\":{\"value\":\"#1f77b4\"},\"line_dash\":[6],\"x\":{\"field\":\"x\"},\"y\":{\"field\":\"y\"}},\"id\":\"f7781f0c-88d8-4039-ae08-396f14377f93\",\"type\":\"Line\"},{\"attributes\":{\"callback\":null,\"end\":150},\"id\":\"89641a1b-fa1d-4e63-8f55-73729a573087\",\"type\":\"Range1d\"}],\"root_ids\":[\"7e712a84-3535-425f-ba39-f7b97378909a\"]},\"title\":\"Bokeh Application\",\"version\":\"0.12.1\"}};\n",
       "            var render_items = [{\"docid\":\"7be58058-687e-485f-9f01-88b80d333d5f\",\"elementid\":\"195a38b8-1302-4cee-92e3-9e2f9815cc73\",\"modelid\":\"7e712a84-3535-425f-ba39-f7b97378909a\",\"notebook_comms_target\":\"be309bd6-016b-4ef7-806f-163f8484e2a5\"}];\n",
       "            \n",
       "            Bokeh.embed.embed_items(docs_json, render_items);\n",
       "        });\n",
       "      },\n",
       "      function(Bokeh) {\n",
       "      }\n",
       "    ];\n",
       "  \n",
       "    function run_inline_js() {\n",
       "      for (var i = 0; i < inline_js.length; i++) {\n",
       "        inline_js[i](window.Bokeh);\n",
       "      }\n",
       "    }\n",
       "  \n",
       "    if (window._bokeh_is_loading === 0) {\n",
       "      console.log(\"Bokeh: BokehJS loaded, going straight to plotting\");\n",
       "      run_inline_js();\n",
       "    } else {\n",
       "      load_libs(js_urls, function() {\n",
       "        console.log(\"Bokeh: BokehJS plotting callback run at\", now());\n",
       "        run_inline_js();\n",
       "      });\n",
       "    }\n",
       "  }(this));\n",
       "</script>"
      ]
     },
     "metadata": {},
     "output_type": "display_data"
    },
    {
     "data": {
      "text/html": [
       "<p><code>&lt;Bokeh Notebook handle for <strong>In[21]</strong>&gt;</code></p>"
      ],
      "text/plain": [
       "<bokeh.io._CommsHandle at 0x7f64515ee6d0>"
      ]
     },
     "execution_count": 21,
     "metadata": {},
     "output_type": "execute_result"
    }
   ],
   "source": [
    "p3 = figure(title='Drag and Available Thrust',\n",
    "            x_axis_label='Flight Speed [m/s]',\n",
    "            x_range=[1,7],\n",
    "            y_axis_label='Drag [N]',\n",
    "            y_range=[0,150],\n",
    "            width=900, height=350)\n",
    "\n",
    "p3.line(avl_eq[:,0],Drag_T, line_color='black',legend='Drag')\n",
    "\n",
    "PWR_LVL = [200,250,300,350,500,700] # Power Level in Watts\n",
    "Vs = np.linspace(1,7)\n",
    "for i,pl in enumerate(PWR_LVL):\n",
    "    Thrust = np.divide(pl*np.ones(Vs.shape),Vs)\n",
    "    p3.line(Vs,Thrust, line_color='blue', line_dash='dashed')\n",
    "    p3.add_layout(Label(x=pl/140.-0.21-i/5*0.13, y=140, text_font_size='10pt',\n",
    "                        angle=-np.pi/3.5+i*np.pi/40, text='{}W'.format(pl)))\n",
    "    \n",
    "    \n",
    "V_prop = np.arange(0.5,6.1,0.5)\n",
    "T_prop_max = np.array([94,97,103,113,125,135,135,131,125,117,109,88])\n",
    "T_prop_250 = np.array([51,56,62,67,68,65,69,53,48,43,38,33])\n",
    "\n",
    "p3.line(V_prop,T_prop_max,color='red',legend='Max Thrust')\n",
    "p3.line(V_prop,T_prop_250,color='green',legend='250W Thrust')\n",
    "\n",
    "show(p3)"
   ]
  },
  {
   "cell_type": "code",
   "execution_count": null,
   "metadata": {
    "collapsed": true
   },
   "outputs": [],
   "source": [
    "#Plotting\n",
    "p2 = figure(title='Equilibrium conditions',\n",
    "           x_axis_label='Flight Speed [m/s]',\n",
    "           y_axis_label='AoA and d_p [deg]',\n",
    "           width=900, height=350)\n",
    "\n",
    "p2.line(eq_matrix[:,0],eq_matrix[:,-2], line_color='navy',legend='Xn')\n",
    "p2.line(eq_matrix[:,0],eq_matrix[:,-1], line_color='firebrick',legend='Xcg')\n",
    "\n",
    "p2.line(avl_eq[:,0],-1*avl_eq[:,-1]+0.25*W_ROOT_C, line_color='blue',legend='AVL_Xn')\n",
    "p2.line(avl_eq[:,0],-1*avl_eq[:,-2]+0.25*W_ROOT_C, line_color='red',legend='AVL_xcg')\n",
    "\n",
    "show(p2)"
   ]
  }
 ],
 "metadata": {
  "kernelspec": {
   "display_name": "Python 2",
   "language": "python",
   "name": "python2"
  },
  "language_info": {
   "codemirror_mode": {
    "name": "ipython",
    "version": 2
   },
   "file_extension": ".py",
   "mimetype": "text/x-python",
   "name": "python",
   "nbconvert_exporter": "python",
   "pygments_lexer": "ipython2",
   "version": "2.7.11"
  }
 },
 "nbformat": 4,
 "nbformat_minor": 0
}
