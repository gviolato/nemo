{
 "cells": [
  {
   "cell_type": "markdown",
   "metadata": {},
   "source": [
    "# Airfoil Explorer\n",
    "\n",
    "Notebook to quickly select and plot airfoils from the UIUC airfoil data base. It might do more stuff in the future\n",
    "\n",
    "Quick instructions:\n",
    "\n",
    "This file **must** be part of your nemo repository and thus is located at NEMO_ROOT/wings\n",
    "\n",
    "You **must** have placed a shortcut/symlink to the dropbox folder at your NEMO_ROOT called 'dbfiles'\n",
    "\n",
    "- Authors: Diego Montero, Fernando Valentini, Gustavo Violato\n",
    "- First release: Nov. 2015"
   ]
  },
  {
   "cell_type": "code",
   "execution_count": null,
   "metadata": {
    "collapsed": true
   },
   "outputs": [],
   "source": [
    "%load_ext autoreload\n",
    "%autoreload 2"
   ]
  },
  {
   "cell_type": "code",
   "execution_count": 38,
   "metadata": {
    "collapsed": false
   },
   "outputs": [],
   "source": [
    "%matplotlib inline\n",
    "import os\n",
    "import os.path as pth\n",
    "import airfoil_tools as at\n",
    "import matplotlib.pyplot as plt\n",
    "from IPython.display import display\n",
    "from IPython.html import widgets\n",
    "from glob import glob"
   ]
  },
  {
   "cell_type": "code",
   "execution_count": 20,
   "metadata": {
    "collapsed": true
   },
   "outputs": [],
   "source": [
    "# User defines variables\n",
    "\n",
    "root = os.environ['NEMO_ROOT']\n",
    "airfoil_db_path = root+'/dbfiles/airfoils/uiuc/coordinates'"
   ]
  },
  {
   "cell_type": "code",
   "execution_count": 47,
   "metadata": {
    "collapsed": false
   },
   "outputs": [],
   "source": [
    "foilfiles = glob(airfoil_db_path+'/*.dat')\n",
    "foilnames = [pth.basename(foil)[:-4] for foil in foilfiles]\n",
    "foilnames.sort()"
   ]
  },
  {
   "cell_type": "code",
   "execution_count": 46,
   "metadata": {
    "collapsed": false
   },
   "outputs": [
    {
     "name": "stdout",
     "output_type": "stream",
     "text": [
      "t/c: 0.100\n",
      "h/c: 0.019\n"
     ]
    },
    {
     "data": {
      "image/png": "[encoded data removed]",
      "text/plain": [
       "<matplotlib.figure.Figure at 0x7fd13c2580d0>"
      ]
     },
     "metadata": {},
     "output_type": "display_data"
    }
   ],
   "source": [
    "def plotchosenfoil(foilname):\n",
    "    match = [fpth for fpth in foilfiles if foilname[0] in fpth]\n",
    "    airfoil = at.ReadAirfoil(match[0])\n",
    "    props = at.GetFoilProps(airfoil)\n",
    "    for k in props.keys():\n",
    "        print k + ': {:.3f}'.format(props[k])\n",
    "    plt.plot(airfoil['coords'][:,0],airfoil['coords'][:,1])\n",
    "    plt.plot([0,1],[0,0],'k')\n",
    "    camberl = at.GetFoilCamberline(airfoil)\n",
    "    plt.plot(camberl[:,0],camberl[:,1],'k--')\n",
    "    plt.axis('equal')\n",
    "    plt.axis('off')\n",
    "\n",
    "widgets.interact(plotchosenfoil,\n",
    "                 foilname=widgets.SelectMultiple(\n",
    "        description=\"airfoils\",\n",
    "        options=foilnames))"
   ]
  }
 ],
 "metadata": {
  "kernelspec": {
   "display_name": "Python 2",
   "language": "python",
   "name": "python2"
  },
  "language_info": {
   "codemirror_mode": {
    "name": "ipython",
    "version": 2
   },
   "file_extension": ".py",
   "mimetype": "text/x-python",
   "name": "python",
   "nbconvert_exporter": "python",
   "pygments_lexer": "ipython2",
   "version": "2.7.10"
  }
 },
 "nbformat": 4,
 "nbformat_minor": 0
}
