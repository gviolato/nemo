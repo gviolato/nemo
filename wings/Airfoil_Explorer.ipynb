{
 "cells": [
  {
   "cell_type": "markdown",
   "metadata": {},
   "source": [
    "# Airfoil Explorer\n",
    "\n",
    "Notebook to quickly select and plot airfoils from the UIUC airfoil data base. It might do more stuff in the future\n",
    "\n",
    "Quick instructions:\n",
    "\n",
    "This file **must** be part of your nemo repository and thus is located at NEMO_ROOT/wings\n",
    "\n",
    "You **must** have placed a shortcut/symlink to the dropbox folder at your NEMO_ROOT called 'dbfiles'\n",
    "\n",
    "- Authors: Diego Montero, Fernando Valentini, Gustavo Violato\n",
    "- First release: Nov. 2015"
   ]
  },
  {
   "cell_type": "code",
   "execution_count": 1,
   "metadata": {
    "collapsed": false
   },
   "outputs": [],
   "source": [
    "%load_ext autoreload\n",
    "%autoreload 2"
   ]
  },
  {
   "cell_type": "code",
   "execution_count": 2,
   "metadata": {
    "collapsed": false
   },
   "outputs": [],
   "source": [
    "%matplotlib inline\n",
    "import os\n",
    "import os.path as pth\n",
    "import airfoil_tools as at\n",
    "import numpy as np\n",
    "import matplotlib.pyplot as plt\n",
    "import ipywidgets as wd\n",
    "from glob import glob"
   ]
  },
  {
   "cell_type": "code",
   "execution_count": 4,
   "metadata": {
    "collapsed": true
   },
   "outputs": [],
   "source": [
    "# User defines variables\n",
    "root = os.environ['NEMO_ROOT']\n",
    "airfoil_db_path = root+'/dbfiles/subsistemas/airfoils/uiuc/coordinates'\n",
    "polar_db_path = root+'/dbfiles/subsistemas/airfoils/uiuc/results'"
   ]
  },
  {
   "cell_type": "code",
   "execution_count": 4,
   "metadata": {
    "collapsed": false
   },
   "outputs": [],
   "source": [
    "foilfiles = glob(airfoil_db_path+'/*.dat')\n",
    "foilnames = [pth.basename(foil)[:-4] for foil in foilfiles]\n",
    "foilnames.sort()"
   ]
  },
  {
   "cell_type": "code",
   "execution_count": 5,
   "metadata": {
    "collapsed": false
   },
   "outputs": [
    {
     "data": {
      "text/plain": [
       "(0, 1)"
      ]
     },
     "execution_count": 5,
     "metadata": {},
     "output_type": "execute_result"
    },
    {
     "data": {
      "image/png": "[encoded data removed]",
      "text/plain": [
       "<matplotlib.figure.Figure at 0x7fba60b4a910>"
      ]
     },
     "metadata": {},
     "output_type": "display_data"
    }
   ],
   "source": [
    "foilname = ['mrc-16']\n",
    "match = [fpth for fpth in foilfiles if foilname[0] in fpth]\n",
    "airfoil = at.ReadAirfoil(match[0])\n",
    "tck     = at.GetFoilThickness(airfoil)\n",
    "camberl = at.GetFoilCamberline(airfoil)\n",
    "props   = at.GetFoilProps(airfoil)\n",
    "mod_tck = 0.12/props['t/c']*tck[:,1:]\n",
    "mod_cbr = 0.035/props['h/c']*camberl[:,1:]\n",
    "mod_up  = mod_cbr + mod_tck/2\n",
    "mod_lo  = mod_cbr - mod_tck/2\n",
    "mod_c_up = np.hstack((tck[::-1,0:1],mod_up[::-1,0:]))\n",
    "mod_c_lo = np.hstack((tck[1:,0:1],mod_lo[1:,0:]))\n",
    "mod_coords = np.vstack((mod_c_up,mod_c_lo))\n",
    "fig, ax = plt.subplots()\n",
    "plt.plot(airfoil['coords'][:,0],airfoil['coords'][:,1],'k')\n",
    "plt.plot(mod_coords[:,0],mod_coords[:,1],'r')\n",
    "plt.axis('equal')\n",
    "plt.axis('off')\n",
    "ax.set_xlim([0, 1])\n",
    "#print mod_coords"
   ]
  },
  {
   "cell_type": "code",
   "execution_count": 6,
   "metadata": {
    "collapsed": false
   },
   "outputs": [],
   "source": [
    "mod_airfoil={'name':'GV08','coords':mod_coords}\n",
    "at.WriteAirfoil('./gv08.dat',mod_airfoil)"
   ]
  },
  {
   "cell_type": "code",
   "execution_count": 5,
   "metadata": {
    "collapsed": false
   },
   "outputs": [],
   "source": [
    "airfoil = at.ReadAirfoil(airfoil_db_path + '/gv03.dat')"
   ]
  },
  {
   "cell_type": "code",
   "execution_count": 10,
   "metadata": {
    "collapsed": false
   },
   "outputs": [],
   "source": [
    "np.savetxt('gv03.txt', airfoil['coords']*140, fmt='%.2f', delimiter='\\t', newline='\\n')"
   ]
  },
  {
   "cell_type": "code",
   "execution_count": 7,
   "metadata": {
    "collapsed": false
   },
   "outputs": [
    {
     "data": {
      "text/plain": [
       "[<matplotlib.lines.Line2D at 0x7fba5e16ce10>]"
      ]
     },
     "execution_count": 7,
     "metadata": {},
     "output_type": "execute_result"
    },
    {
     "data": {
      "image/png": "[encoded data removed]",
      "text/plain": [
       "<matplotlib.figure.Figure at 0x7fba60b4ac10>"
      ]
     },
     "metadata": {},
     "output_type": "display_data"
    }
   ],
   "source": [
    "t = at.GetFoilThickness(airfoil)\n",
    "plt.plot(t[:,0],t[:,1])"
   ]
  },
  {
   "cell_type": "code",
   "execution_count": 8,
   "metadata": {
    "collapsed": false
   },
   "outputs": [
    {
     "data": {
      "text/plain": [
       "array([[  0.00000000e+00,   0.00000000e+00],\n",
       "       [  5.18163177e-04,   5.61666625e-03],\n",
       "       [  2.07157873e-03,   1.19592800e-02],\n",
       "       [  4.65702698e-03,   1.82220469e-02],\n",
       "       [  8.26914918e-03,   2.45052030e-02],\n",
       "       [  1.29004587e-02,   3.08065136e-02],\n",
       "       [  1.85413563e-02,   3.71233406e-02],\n",
       "       [  2.51801505e-02,   4.34691239e-02],\n",
       "       [  3.28030814e-02,   4.97440579e-02],\n",
       "       [  4.13943492e-02,   5.58502184e-02],\n",
       "       [  5.09361473e-02,   6.18180834e-02],\n",
       "       [  6.14086988e-02,   6.77438296e-02],\n",
       "       [  7.27902977e-02,   7.33601299e-02],\n",
       "       [  8.50573540e-02,   7.87131395e-02],\n",
       "       [  9.81844423e-02,   8.38861561e-02],\n",
       "       [  1.12144355e-01,   8.88121103e-02],\n",
       "       [  1.26908157e-01,   9.34030433e-02],\n",
       "       [  1.42445249e-01,   9.76830601e-02],\n",
       "       [  1.58723428e-01,   1.01606090e-01],\n",
       "       [  1.75708955e-01,   1.05178991e-01],\n",
       "       [  1.93366625e-01,   1.08391932e-01],\n",
       "       [  2.11659839e-01,   1.11235975e-01],\n",
       "       [  2.30550682e-01,   1.13698959e-01],\n",
       "       [  2.50000000e-01,   1.15770000e-01],\n",
       "       [  2.69967481e-01,   1.17441029e-01],\n",
       "       [  2.90411740e-01,   1.18686984e-01],\n",
       "       [  3.11290402e-01,   1.19525008e-01],\n",
       "       [  3.32560194e-01,   1.19962000e-01],\n",
       "       [  3.54177030e-01,   1.20000000e-01],\n",
       "       [  3.76096107e-01,   1.19645996e-01],\n",
       "       [  3.98271993e-01,   1.18910000e-01],\n",
       "       [  4.20658727e-01,   1.17801014e-01],\n",
       "       [  4.43209907e-01,   1.16317006e-01],\n",
       "       [  4.65878793e-01,   1.14466017e-01],\n",
       "       [  4.88618401e-01,   1.12285956e-01],\n",
       "       [  5.11381599e-01,   1.09794044e-01],\n",
       "       [  5.34121207e-01,   1.07002972e-01],\n",
       "       [  5.56790093e-01,   1.03930986e-01],\n",
       "       [  5.79341273e-01,   1.00572956e-01],\n",
       "       [  6.01728007e-01,   9.69739989e-02],\n",
       "       [  6.23903893e-01,   9.31570184e-02],\n",
       "       [  6.45822970e-01,   8.91430055e-02],\n",
       "       [  6.67439806e-01,   8.49630375e-02],\n",
       "       [  6.88709598e-01,   8.06400817e-02],\n",
       "       [  7.09588260e-01,   7.62009424e-02],\n",
       "       [  7.30032519e-01,   7.16761065e-02],\n",
       "       [  7.50000000e-01,   6.70910000e-02],\n",
       "       [  7.69449318e-01,   6.24779224e-02],\n",
       "       [  7.88340161e-01,   5.78689597e-02],\n",
       "       [  8.06633375e-01,   5.32899040e-02],\n",
       "       [  8.24291045e-01,   4.87709883e-02],\n",
       "       [  8.41276572e-01,   4.43381118e-02],\n",
       "       [  8.57554751e-01,   4.00150662e-02],\n",
       "       [  8.73091843e-01,   3.58340423e-02],\n",
       "       [  8.87855645e-01,   3.18250963e-02],\n",
       "       [  9.01815558e-01,   2.80011211e-02],\n",
       "       [  9.14942646e-01,   2.43820976e-02],\n",
       "       [  9.27209702e-01,   2.09890823e-02],\n",
       "       [  9.38591301e-01,   1.78319163e-02],\n",
       "       [  9.49063853e-01,   1.49210409e-02],\n",
       "       [  9.58605651e-01,   1.22640972e-02],\n",
       "       [  9.67196919e-01,   9.86602273e-03],\n",
       "       [  9.74819849e-01,   7.73404211e-03],\n",
       "       [  9.81458644e-01,   5.87209994e-03],\n",
       "       [  9.87099541e-01,   4.28612896e-03],\n",
       "       [  9.91730851e-01,   2.98304197e-03],\n",
       "       [  9.95342973e-01,   1.96100763e-03],\n",
       "       [  9.97928421e-01,   1.22888072e-03],\n",
       "       [  9.99481837e-01,   7.89046202e-04],\n",
       "       [  1.00000000e+00,   6.43000000e-04]])"
      ]
     },
     "execution_count": 8,
     "metadata": {},
     "output_type": "execute_result"
    }
   ],
   "source": [
    "t"
   ]
  },
  {
   "cell_type": "code",
   "execution_count": 11,
   "metadata": {
    "collapsed": false
   },
   "outputs": [
    {
     "name": "stdout",
     "output_type": "stream",
     "text": [
      "Considerando a corda entre 27 e 42% - espessura relativa entre 11.75% e 12%\n",
      "Largura Raiz: 0.022\n",
      "Altura Raiz: 0.017\n",
      "Largura Ponta: 0.010\n",
      "Altura Ponta: 0.008\n"
     ]
    }
   ],
   "source": [
    "print \"Considerando a corda entre 27 e 42% - espessura relativa entre 11.75% e 12%\"\n",
    "print \"Largura Raiz: {:.3f}\".format(0.146*(0.42-0.27))\n",
    "print \"Altura Raiz: {:.3f}\".format(0.146*0.1175)\n",
    "print \"Largura Ponta: {:.3f}\".format(0.066*(0.42-0.27))\n",
    "print \"Altura Ponta: {:.3f}\".format(0.066*0.1175)"
   ]
  },
  {
   "cell_type": "code",
   "execution_count": 10,
   "metadata": {
    "collapsed": false
   },
   "outputs": [
    {
     "name": "stdout",
     "output_type": "stream",
     "text": [
      "Considerando a corda entre 25 e 44% - espessura relativa entre 11.6% e 12%\n",
      "Largura Raiz: 0.028\n",
      "Altura Raiz: 0.017\n",
      "Largura Ponta: 0.013\n",
      "Altura Ponta: 0.008\n"
     ]
    }
   ],
   "source": [
    "print \"Considerando a corda entre 25 e 44% - espessura relativa entre 11.6% e 12%\"\n",
    "print \"Largura Raiz: {:.3f}\".format(0.146*(0.44-0.25))\n",
    "print \"Altura Raiz: {:.3f}\".format(0.146*0.116)\n",
    "print \"Largura Ponta: {:.3f}\".format(0.066*(0.44-0.25))\n",
    "print \"Altura Ponta: {:.3f}\".format(0.066*0.116)"
   ]
  },
  {
   "cell_type": "code",
   "execution_count": 9,
   "metadata": {
    "collapsed": false
   },
   "outputs": [
    {
     "name": "stdout",
     "output_type": "stream",
     "text": [
      "t/c: 0.109\n",
      "h/c: 0.042\n"
     ]
    },
    {
     "data": {
      "image/png": "[encoded data removed]",
      "text/plain": [
       "<matplotlib.figure.Figure at 0x7f90fb452990>"
      ]
     },
     "metadata": {},
     "output_type": "display_data"
    }
   ],
   "source": [
    "def plotchosenfoil(foilname):\n",
    "    match = [fpth for fpth in foilfiles if foilname[0] in fpth]\n",
    "    airfoil = at.ReadAirfoil(match[0])\n",
    "    props = at.GetFoilProps(airfoil)\n",
    "    for k in props.keys():\n",
    "        print k + ': {:.3f}'.format(props[k])\n",
    "    plt.plot(airfoil['coords'][:,0],airfoil['coords'][:,1])\n",
    "    plt.plot([0,1],[0,0],'k')\n",
    "    camberl = at.GetFoilCamberline(airfoil)\n",
    "    plt.plot(camberl[:,0],camberl[:,1],'k--')\n",
    "    plt.axis('equal')\n",
    "    plt.axis('off')\n",
    "\n",
    "wd.interact(plotchosenfoil,\n",
    "                 foilname=wd.SelectMultiple(\n",
    "        description=\"airfoils\",\n",
    "        options=foilnames))"
   ]
  },
  {
   "cell_type": "code",
   "execution_count": 11,
   "metadata": {
    "collapsed": true
   },
   "outputs": [],
   "source": [
    "polarfiles = glob(polar_db_path+'/*.pol')\n",
    "pol_foilnames = [pth.basename(foil)[:-4] for foil in polarfiles]\n",
    "pol_foilnames.sort()"
   ]
  },
  {
   "cell_type": "code",
   "execution_count": 12,
   "metadata": {
    "collapsed": false
   },
   "outputs": [
    {
     "data": {
      "image/png": "[encoded data removed]",
      "text/plain": [
       "<matplotlib.figure.Figure at 0x7f90fb452210>"
      ]
     },
     "metadata": {},
     "output_type": "display_data"
    }
   ],
   "source": [
    "def plotpolar(foilname):\n",
    "    fig = plt.figure(figsize=(12,6))\n",
    "    plt.subplot(1,2,1)\n",
    "    plt.xlabel('Cd * 10^4')\n",
    "    plt.ylabel('Cl')\n",
    "    plt.grid(True)\n",
    "    plt.subplot(1,2,2)\n",
    "    plt.xlabel('Alpha [deg]')\n",
    "    plt.ylabel('Cl')\n",
    "    plt.grid(True)\n",
    "    for foil in foilname:\n",
    "        match = [fpth for fpth in polarfiles if foil in fpth]\n",
    "        polar = np.loadtxt(match[0],skiprows=12)\n",
    "        ax1 = plt.subplot(1,2,1)\n",
    "        plt.plot(polar[:,2]*1e4,polar[:,1],label=foil)\n",
    "        ax2 = plt.subplot(1,2,2)\n",
    "        plt.plot(polar[:,0],polar[:,1],label=foil)\n",
    "    ax1.legend()\n",
    "    ax2.legend()\n",
    " \n",
    "wd.interact(plotpolar,\n",
    "            foilname=wd.SelectMultiple(\n",
    "            description=\"airfoils\",\n",
    "            options=pol_foilnames))"
   ]
  },
  {
   "cell_type": "code",
   "execution_count": 14,
   "metadata": {
    "collapsed": false
   },
   "outputs": [],
   "source": [
    "foil='n0015'\n",
    "match = [fpth for fpth in polarfiles if foil in fpth]\n",
    "polar = np.loadtxt(match[0],skiprows=12)"
   ]
  },
  {
   "cell_type": "code",
   "execution_count": 16,
   "metadata": {
    "collapsed": true
   },
   "outputs": [],
   "source": [
    "from scipy.stats import linregress"
   ]
  },
  {
   "cell_type": "code",
   "execution_count": 21,
   "metadata": {
    "collapsed": false
   },
   "outputs": [
    {
     "data": {
      "text/plain": [
       "array([[ -5.00000000e+00,  -5.34500000e-01,   9.23000000e-03,\n",
       "          2.00000000e-03,  -8.20000000e-03],\n",
       "       [ -4.00000000e+00,  -4.24800000e-01,   8.27000000e-03,\n",
       "          1.60000000e-03,  -7.40000000e-03],\n",
       "       [ -3.00000000e+00,  -3.19800000e-01,   7.58000000e-03,\n",
       "          1.29000000e-03,  -5.30000000e-03],\n",
       "       [ -2.00000000e+00,  -2.13500000e-01,   7.15000000e-03,\n",
       "          1.08000000e-03,  -3.40000000e-03],\n",
       "       [ -1.00000000e+00,  -1.06700000e-01,   6.92000000e-03,\n",
       "          9.50000000e-04,  -1.70000000e-03],\n",
       "       [  0.00000000e+00,   0.00000000e+00,   6.85000000e-03,\n",
       "          9.10000000e-04,  -0.00000000e+00],\n",
       "       [  1.00000000e+00,   1.06700000e-01,   6.92000000e-03,\n",
       "          9.50000000e-04,   1.70000000e-03],\n",
       "       [  2.00000000e+00,   2.13500000e-01,   7.15000000e-03,\n",
       "          1.08000000e-03,   3.40000000e-03],\n",
       "       [  3.00000000e+00,   3.19800000e-01,   7.58000000e-03,\n",
       "          1.29000000e-03,   5.30000000e-03],\n",
       "       [  4.00000000e+00,   4.24900000e-01,   8.27000000e-03,\n",
       "          1.60000000e-03,   7.40000000e-03],\n",
       "       [  5.00000000e+00,   5.34500000e-01,   9.23000000e-03,\n",
       "          2.00000000e-03,   8.20000000e-03],\n",
       "       [  6.00000000e+00,   6.65800000e-01,   1.04600000e-02,\n",
       "          2.54000000e-03,   3.80000000e-03],\n",
       "       [  7.00000000e+00,   8.06500000e-01,   1.19000000e-02,\n",
       "          3.23000000e-03,  -3.10000000e-03],\n",
       "       [  8.00000000e+00,   9.48000000e-01,   1.33500000e-02,\n",
       "          3.99000000e-03,  -1.05000000e-02],\n",
       "       [  9.00000000e+00,   1.02470000e+00,   1.46800000e-02,\n",
       "          4.64000000e-03,  -4.60000000e-03],\n",
       "       [  1.00000000e+01,   1.08450000e+00,   1.61700000e-02,\n",
       "          5.38000000e-03,   4.60000000e-03],\n",
       "       [  1.10000000e+01,   1.14650000e+00,   1.78800000e-02,\n",
       "          6.26000000e-03,   1.30000000e-02],\n",
       "       [  1.20000000e+01,   1.20200000e+00,   2.00500000e-02,\n",
       "          7.43000000e-03,   2.13000000e-02],\n",
       "       [  1.30000000e+01,   1.25140000e+00,   2.31200000e-02,\n",
       "          9.24000000e-03,   2.85000000e-02],\n",
       "       [  1.40000000e+01,   1.29030000e+00,   2.76900000e-02,\n",
       "          1.21500000e-02,   3.38000000e-02],\n",
       "       [  1.50000000e+01,   1.30900000e+00,   3.51700000e-02,\n",
       "          1.72800000e-02,   3.64000000e-02]])"
      ]
     },
     "execution_count": 21,
     "metadata": {},
     "output_type": "execute_result"
    }
   ],
   "source": [
    "polar[:,:5]"
   ]
  },
  {
   "cell_type": "code",
   "execution_count": 18,
   "metadata": {
    "collapsed": false
   },
   "outputs": [
    {
     "name": "stdout",
     "output_type": "stream",
     "text": [
      "Cla: 6.264\n",
      "Cl0: 0.0\n"
     ]
    },
    {
     "data": {
      "text/plain": [
       "[<matplotlib.lines.Line2D at 0x7fa78f4e6090>]"
      ]
     },
     "execution_count": 18,
     "metadata": {},
     "output_type": "execute_result"
    },
    {
     "data": {
      "image/png": "[encoded data removed]",
      "text/plain": [
       "<matplotlib.figure.Figure at 0x7fa788c5aad0>"
      ]
     },
     "metadata": {},
     "output_type": "display_data"
    }
   ],
   "source": [
    "lp = linregress(polar[:-4,0]*np.pi/180,polar[:-4,1])\n",
    "a = np.linspace(-2,7,10)\n",
    "cl = a*lp.slope*np.pi/180 + lp.intercept\n",
    "print \"Cla: {:.3f}\".format(lp.slope)\n",
    "print \"Cl0: {:.1f}\".format(lp.intercept)\n",
    "plt.plot(polar[:,0],polar[:,1],'-.r')\n",
    "plt.plot(a,cl,'b')"
   ]
  },
  {
   "cell_type": "code",
   "execution_count": 19,
   "metadata": {
    "collapsed": false
   },
   "outputs": [
    {
     "data": {
      "text/plain": [
       "0.99692892620509155"
      ]
     },
     "execution_count": 19,
     "metadata": {},
     "output_type": "execute_result"
    }
   ],
   "source": [
    "lp.slope/(2*np.pi)"
   ]
  },
  {
   "cell_type": "code",
   "execution_count": 22,
   "metadata": {
    "collapsed": false
   },
   "outputs": [
    {
     "data": {
      "text/plain": [
       "[<matplotlib.lines.Line2D at 0x7fa788a1ce10>]"
      ]
     },
     "execution_count": 22,
     "metadata": {},
     "output_type": "execute_result"
    },
    {
     "data": {
      "image/png": "[encoded data removed]",
      "text/plain": [
       "<matplotlib.figure.Figure at 0x7fa788c067d0>"
      ]
     },
     "metadata": {},
     "output_type": "display_data"
    }
   ],
   "source": [
    "NU = 6\n",
    "clu = 1.0\n",
    "cdu = 0.01468\n",
    "cll = -1.0\n",
    "cdl = 0.01468\n",
    "clmin = 0.\n",
    "cdmin = 0.00685\n",
    "# Lower\n",
    "al = (cdl-cdmin)/(cll-clmin)**2\n",
    "bl = -2*al*clmin\n",
    "cl = cdmin + al*clmin**2\n",
    "clls = np.linspace(cll,clmin,20)\n",
    "cdls = al*clls**2 + bl*clls + cl\n",
    "# Upper\n",
    "au = (cdu-cdmin)/(clu-clmin)**2\n",
    "bu = -2*au*clmin\n",
    "cu = cdmin + au*clmin**2\n",
    "clus = np.linspace(clmin,clu,20)\n",
    "cdus = au*clus**2 + bu*clus + cu\n",
    "# Plots\n",
    "plt.plot(polar[NU:,2],polar[NU:,1],'.-r')\n",
    "plt.plot(polar[:NU,2],polar[:NU,1],'.-r')\n",
    "plt.plot(cdus,clus,'b')\n",
    "plt.plot(cdls,clls,'k')"
   ]
  },
  {
   "cell_type": "code",
   "execution_count": null,
   "metadata": {
    "collapsed": true
   },
   "outputs": [],
   "source": []
  }
 ],
 "metadata": {
  "kernelspec": {
   "display_name": "Python 2",
   "language": "python",
   "name": "python2"
  },
  "language_info": {
   "codemirror_mode": {
    "name": "ipython",
    "version": 2
   },
   "file_extension": ".py",
   "mimetype": "text/x-python",
   "name": "python",
   "nbconvert_exporter": "python",
   "pygments_lexer": "ipython2",
   "version": "2.7.11"
  }
 },
 "nbformat": 4,
 "nbformat_minor": 0
}
