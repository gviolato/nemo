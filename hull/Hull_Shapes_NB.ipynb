{
 "cells": [
  {
   "cell_type": "markdown",
   "metadata": {},
   "source": [
    "# Nemo parametric hull shapes\n",
    "\n",
    "----\n",
    "Diego Montero, Fernando Valentini, Gustavo Violato <br>\n",
    "First Release: Jul. 2016"
   ]
  },
  {
   "cell_type": "code",
   "execution_count": 1,
   "metadata": {
    "collapsed": false
   },
   "outputs": [],
   "source": [
    "%load_ext autoreload\n",
    "%autoreload 2"
   ]
  },
  {
   "cell_type": "code",
   "execution_count": 2,
   "metadata": {
    "collapsed": false
   },
   "outputs": [],
   "source": [
    "import numpy as np\n",
    "import scipy.interpolate as interpolate\n",
    "from mayavi import mlab\n",
    "\n",
    "%gui qt\n",
    "\n",
    "import hull_geom as geo\n",
    "import hull_dynamics as dyn"
   ]
  },
  {
   "cell_type": "code",
   "execution_count": 3,
   "metadata": {
    "collapsed": true
   },
   "outputs": [],
   "source": [
    "from bokeh.plotting import figure, output_notebook, show\n",
    "from bokeh.models import Range1d"
   ]
  },
  {
   "cell_type": "code",
   "execution_count": 4,
   "metadata": {
    "collapsed": false
   },
   "outputs": [
    {
     "data": {
      "text/html": [
       "\n",
       "    <div class=\"bk-root\">\n",
       "        <a href=\"http://bokeh.pydata.org\" target=\"_blank\" class=\"bk-logo bk-logo-small bk-logo-notebook\"></a>\n",
       "        <span id=\"479822ba-b688-44b8-bb59-5a23495786b7\">Loading BokehJS ...</span>\n",
       "    </div>"
      ]
     },
     "metadata": {},
     "output_type": "display_data"
    },
    {
     "data": {
      "application/javascript": [
       "\n",
       "(function(global) {\n",
       "  function now() {\n",
       "    return new Date();\n",
       "  }\n",
       "\n",
       "  var force = \"1\";\n",
       "\n",
       "  if (typeof (window._bokeh_onload_callbacks) === \"undefined\" || force !== \"\") {\n",
       "    window._bokeh_onload_callbacks = [];\n",
       "    window._bokeh_is_loading = undefined;\n",
       "  }\n",
       "\n",
       "  function run_callbacks() {\n",
       "    window._bokeh_onload_callbacks.forEach(function(callback) { callback() });\n",
       "    delete window._bokeh_onload_callbacks\n",
       "    console.info(\"Bokeh: all callbacks have finished\");\n",
       "  }\n",
       "\n",
       "  function load_libs(js_urls, callback) {\n",
       "    window._bokeh_onload_callbacks.push(callback);\n",
       "    if (window._bokeh_is_loading > 0) {\n",
       "      console.log(\"Bokeh: BokehJS is being loaded, scheduling callback at\", now());\n",
       "      return null;\n",
       "    }\n",
       "    if (js_urls == null || js_urls.length === 0) {\n",
       "      run_callbacks();\n",
       "      return null;\n",
       "    }\n",
       "    console.log(\"Bokeh: BokehJS not loaded, scheduling load and callback at\", now());\n",
       "    window._bokeh_is_loading = js_urls.length;\n",
       "    for (var i = 0; i < js_urls.length; i++) {\n",
       "      var url = js_urls[i];\n",
       "      var s = document.createElement('script');\n",
       "      s.src = url;\n",
       "      s.async = false;\n",
       "      s.onreadystatechange = s.onload = function() {\n",
       "        window._bokeh_is_loading--;\n",
       "        if (window._bokeh_is_loading === 0) {\n",
       "          console.log(\"Bokeh: all BokehJS libraries loaded\");\n",
       "          run_callbacks()\n",
       "        }\n",
       "      };\n",
       "      s.onerror = function() {\n",
       "        console.warn(\"failed to load library \" + url);\n",
       "      };\n",
       "      console.log(\"Bokeh: injecting script tag for BokehJS library: \", url);\n",
       "      document.getElementsByTagName(\"head\")[0].appendChild(s);\n",
       "    }\n",
       "  };\n",
       "\n",
       "  var js_urls = ['https://cdn.pydata.org/bokeh/release/bokeh-0.12.1.min.js', 'https://cdn.pydata.org/bokeh/release/bokeh-widgets-0.12.1.min.js', 'https://cdn.pydata.org/bokeh/release/bokeh-compiler-0.12.1.min.js'];\n",
       "\n",
       "  var inline_js = [\n",
       "    function(Bokeh) {\n",
       "      Bokeh.set_log_level(\"info\");\n",
       "    },\n",
       "    \n",
       "    function(Bokeh) {\n",
       "      \n",
       "      Bokeh.$(\"#479822ba-b688-44b8-bb59-5a23495786b7\").text(\"BokehJS successfully loaded\");\n",
       "      var kernel = Jupyter.notebook.kernel\n",
       "      if (kernel.execute !== undefined) {\n",
       "          kernel.execute(\"import bokeh.io; bokeh.io._nb_loaded = True\");\n",
       "      }\n",
       "    },\n",
       "    function(Bokeh) {\n",
       "      console.log(\"Bokeh: injecting CSS: https://cdn.pydata.org/bokeh/release/bokeh-0.12.1.min.css\");\n",
       "      Bokeh.embed.inject_css(\"https://cdn.pydata.org/bokeh/release/bokeh-0.12.1.min.css\");\n",
       "      console.log(\"Bokeh: injecting CSS: https://cdn.pydata.org/bokeh/release/bokeh-widgets-0.12.1.min.css\");\n",
       "      Bokeh.embed.inject_css(\"https://cdn.pydata.org/bokeh/release/bokeh-widgets-0.12.1.min.css\");\n",
       "    }\n",
       "  ];\n",
       "\n",
       "  function run_inline_js() {\n",
       "    for (var i = 0; i < inline_js.length; i++) {\n",
       "      inline_js[i](window.Bokeh);\n",
       "    }\n",
       "  }\n",
       "\n",
       "  if (window._bokeh_is_loading === 0) {\n",
       "    console.log(\"Bokeh: BokehJS loaded, going straight to plotting\");\n",
       "    run_inline_js();\n",
       "  } else {\n",
       "    load_libs(js_urls, function() {\n",
       "      console.log(\"Bokeh: BokehJS plotting callback run at\", now());\n",
       "      run_inline_js();\n",
       "    });\n",
       "  }\n",
       "}(this));"
      ]
     },
     "metadata": {},
     "output_type": "display_data"
    }
   ],
   "source": [
    "output_notebook()"
   ]
  },
  {
   "cell_type": "code",
   "execution_count": 5,
   "metadata": {
    "collapsed": false
   },
   "outputs": [],
   "source": [
    "# user defined variables\n",
    "L      = 2.30;       # hull length (LOA) in m\n",
    "alt    = 0.05;       # Height of top\n",
    "pontal = 0.18;       # Draft\n",
    "mboca  = 0.29/2      # Half-beam\n",
    "w      = 1.35        # Separation\n",
    "\n",
    "# Speeds for take-off draft study\n",
    "V_TO = [1.0,1.25,1.5,1.75,2.0,2.25,2.5,2.75,3.0,3.25]\n",
    "\n",
    "# Define the total mass and CG position\n",
    "mass = 87+14.\n",
    "cgZ = np.array([0.075, 0., 0.2])"
   ]
  },
  {
   "cell_type": "code",
   "execution_count": 6,
   "metadata": {
    "collapsed": false
   },
   "outputs": [
    {
     "data": {
      "text/html": [
       "\n",
       "\n",
       "    <div class=\"bk-root\">\n",
       "        <div class=\"plotdiv\" id=\"d0cad168-54d5-48c2-9ad5-2611d837aa13\"></div>\n",
       "    </div>\n",
       "<script type=\"text/javascript\">\n",
       "  \n",
       "  (function(global) {\n",
       "    function now() {\n",
       "      return new Date();\n",
       "    }\n",
       "  \n",
       "    var force = \"\";\n",
       "  \n",
       "    if (typeof (window._bokeh_onload_callbacks) === \"undefined\" || force !== \"\") {\n",
       "      window._bokeh_onload_callbacks = [];\n",
       "      window._bokeh_is_loading = undefined;\n",
       "    }\n",
       "  \n",
       "    function run_callbacks() {\n",
       "      window._bokeh_onload_callbacks.forEach(function(callback) { callback() });\n",
       "      delete window._bokeh_onload_callbacks\n",
       "      console.info(\"Bokeh: all callbacks have finished\");\n",
       "    }\n",
       "  \n",
       "    function load_libs(js_urls, callback) {\n",
       "      window._bokeh_onload_callbacks.push(callback);\n",
       "      if (window._bokeh_is_loading > 0) {\n",
       "        console.log(\"Bokeh: BokehJS is being loaded, scheduling callback at\", now());\n",
       "        return null;\n",
       "      }\n",
       "      if (js_urls == null || js_urls.length === 0) {\n",
       "        run_callbacks();\n",
       "        return null;\n",
       "      }\n",
       "      console.log(\"Bokeh: BokehJS not loaded, scheduling load and callback at\", now());\n",
       "      window._bokeh_is_loading = js_urls.length;\n",
       "      for (var i = 0; i < js_urls.length; i++) {\n",
       "        var url = js_urls[i];\n",
       "        var s = document.createElement('script');\n",
       "        s.src = url;\n",
       "        s.async = false;\n",
       "        s.onreadystatechange = s.onload = function() {\n",
       "          window._bokeh_is_loading--;\n",
       "          if (window._bokeh_is_loading === 0) {\n",
       "            console.log(\"Bokeh: all BokehJS libraries loaded\");\n",
       "            run_callbacks()\n",
       "          }\n",
       "        };\n",
       "        s.onerror = function() {\n",
       "          console.warn(\"failed to load library \" + url);\n",
       "        };\n",
       "        console.log(\"Bokeh: injecting script tag for BokehJS library: \", url);\n",
       "        document.getElementsByTagName(\"head\")[0].appendChild(s);\n",
       "      }\n",
       "    };var element = document.getElementById(\"d0cad168-54d5-48c2-9ad5-2611d837aa13\");\n",
       "    if (element == null) {\n",
       "      console.log(\"Bokeh: ERROR: autoload.js configured with elementid 'd0cad168-54d5-48c2-9ad5-2611d837aa13' but no matching script tag was found. \")\n",
       "      return false;\n",
       "    }\n",
       "  \n",
       "    var js_urls = [];\n",
       "  \n",
       "    var inline_js = [\n",
       "      function(Bokeh) {\n",
       "        Bokeh.$(function() {\n",
       "            var docs_json = {\"f1c17f0a-f82c-43b9-b79f-9a8780bebfc2\":{\"roots\":{\"references\":[{\"attributes\":{\"line_alpha\":{\"value\":0.1},\"line_color\":{\"value\":\"#1f77b4\"},\"x\":{\"field\":\"x\"},\"y\":{\"field\":\"y\"}},\"id\":\"d7acdda5-4189-4e4a-8d5c-536e6fdf276e\",\"type\":\"Line\"},{\"attributes\":{\"active_drag\":\"auto\",\"active_scroll\":\"auto\",\"active_tap\":\"auto\",\"tools\":[{\"id\":\"5eae5114-9b2b-4de3-9329-39c7c0134399\",\"type\":\"PanTool\"},{\"id\":\"0a99a193-c0ef-4a42-975d-f9b208a22cab\",\"type\":\"WheelZoomTool\"},{\"id\":\"efeb705c-2701-4e76-ab53-bdb6e9b5c5b6\",\"type\":\"BoxZoomTool\"},{\"id\":\"08d1865d-859f-4009-b96d-dcd2a602e738\",\"type\":\"SaveTool\"},{\"id\":\"ffb854a5-57c5-4150-864c-57a25dc84966\",\"type\":\"ResetTool\"},{\"id\":\"0c5a5d89-fa58-4ed1-a619-f19e647bd559\",\"type\":\"HelpTool\"}]},\"id\":\"3f434a0a-fdde-46c4-bfdc-b5b8db232a14\",\"type\":\"Toolbar\"},{\"attributes\":{},\"id\":\"76ceb5a4-ea3e-495c-867c-68522684ff56\",\"type\":\"ToolEvents\"},{\"attributes\":{\"line_color\":{\"value\":\"#1f77b4\"},\"x\":{\"field\":\"x\"},\"y\":{\"field\":\"y\"}},\"id\":\"d3594098-8481-4e87-87d7-95db3c4e6070\",\"type\":\"Line\"},{\"attributes\":{\"plot\":{\"id\":\"41bcc758-3670-43f6-935f-d0616ac5cb32\",\"subtype\":\"Figure\",\"type\":\"Plot\"}},\"id\":\"0a99a193-c0ef-4a42-975d-f9b208a22cab\",\"type\":\"WheelZoomTool\"},{\"attributes\":{\"callback\":null,\"end\":0.4,\"start\":-0.6},\"id\":\"7d499e81-4c83-4eaf-a08b-84694acc4029\",\"type\":\"Range1d\"},{\"attributes\":{\"data_source\":{\"id\":\"93b5d329-1498-4880-984d-f7b5c7a2ef3a\",\"type\":\"ColumnDataSource\"},\"glyph\":{\"id\":\"d3594098-8481-4e87-87d7-95db3c4e6070\",\"type\":\"Line\"},\"hover_glyph\":null,\"nonselection_glyph\":{\"id\":\"ebe91eb5-91ab-4373-9c7c-f9ae036a6aef\",\"type\":\"Line\"},\"selection_glyph\":null},\"id\":\"ee199d7c-8e6d-4aff-85a7-255f3c0e2710\",\"type\":\"GlyphRenderer\"},{\"attributes\":{\"formatter\":{\"id\":\"ab753475-e543-43a3-b299-79b8f02d2767\",\"type\":\"BasicTickFormatter\"},\"plot\":{\"id\":\"41bcc758-3670-43f6-935f-d0616ac5cb32\",\"subtype\":\"Figure\",\"type\":\"Plot\"},\"ticker\":{\"id\":\"55f3bf19-0d81-4454-8dc1-d226d068e953\",\"type\":\"BasicTicker\"}},\"id\":\"3166d500-407a-46c7-8562-458403f5af81\",\"type\":\"LinearAxis\"},{\"attributes\":{\"plot\":{\"id\":\"41bcc758-3670-43f6-935f-d0616ac5cb32\",\"subtype\":\"Figure\",\"type\":\"Plot\"}},\"id\":\"08d1865d-859f-4009-b96d-dcd2a602e738\",\"type\":\"SaveTool\"},{\"attributes\":{\"dimension\":1,\"plot\":{\"id\":\"41bcc758-3670-43f6-935f-d0616ac5cb32\",\"subtype\":\"Figure\",\"type\":\"Plot\"},\"ticker\":{\"id\":\"50e6b7e2-6dd1-46d0-9e8e-7dfb3d0ee4b7\",\"type\":\"BasicTicker\"}},\"id\":\"195e5577-7f70-48dc-99c2-7f3cef9aaad7\",\"type\":\"Grid\"},{\"attributes\":{},\"id\":\"55f3bf19-0d81-4454-8dc1-d226d068e953\",\"type\":\"BasicTicker\"},{\"attributes\":{},\"id\":\"ab753475-e543-43a3-b299-79b8f02d2767\",\"type\":\"BasicTickFormatter\"},{\"attributes\":{\"line_alpha\":{\"value\":0.1},\"line_color\":{\"value\":\"#1f77b4\"},\"x\":{\"field\":\"x\"},\"y\":{\"field\":\"y\"}},\"id\":\"ebe91eb5-91ab-4373-9c7c-f9ae036a6aef\",\"type\":\"Line\"},{\"attributes\":{\"plot\":{\"id\":\"41bcc758-3670-43f6-935f-d0616ac5cb32\",\"subtype\":\"Figure\",\"type\":\"Plot\"}},\"id\":\"0c5a5d89-fa58-4ed1-a619-f19e647bd559\",\"type\":\"HelpTool\"},{\"attributes\":{\"data_source\":{\"id\":\"98c50aed-6d72-4400-aaa8-cea3d851991c\",\"type\":\"ColumnDataSource\"},\"glyph\":{\"id\":\"3ecd206e-442c-4f89-8ca6-3290ac592c6b\",\"type\":\"Line\"},\"hover_glyph\":null,\"nonselection_glyph\":{\"id\":\"d7acdda5-4189-4e4a-8d5c-536e6fdf276e\",\"type\":\"Line\"},\"selection_glyph\":null},\"id\":\"ce0ebf6a-9242-4d51-9b44-6672509f531c\",\"type\":\"GlyphRenderer\"},{\"attributes\":{\"overlay\":{\"id\":\"eb2d943c-8cb6-4087-a12e-3ea3722590b1\",\"type\":\"BoxAnnotation\"},\"plot\":{\"id\":\"41bcc758-3670-43f6-935f-d0616ac5cb32\",\"subtype\":\"Figure\",\"type\":\"Plot\"}},\"id\":\"efeb705c-2701-4e76-ab53-bdb6e9b5c5b6\",\"type\":\"BoxZoomTool\"},{\"attributes\":{\"callback\":null,\"column_names\":[\"y\",\"x\"],\"data\":{\"x\":[-1.15,-1.1267676767676766,-1.1035353535353534,-1.0803030303030303,-1.057070707070707,-1.0338383838383838,-1.0106060606060605,-0.9873737373737372,-0.9641414141414141,-0.9409090909090909,-0.9176767676767676,-0.8944444444444444,-0.8712121212121211,-0.847979797979798,-0.8247474747474747,-0.8015151515151515,-0.7782828282828282,-0.755050505050505,-0.7318181818181818,-0.7085858585858585,-0.6853535353535354,-0.6621212121212121,-0.6388888888888888,-0.6156565656565657,-0.5924242424242424,-0.5691919191919191,-0.545959595959596,-0.5227272727272727,-0.49949494949494944,-0.4762626262626263,-0.453030303030303,-0.42979797979797985,-0.4065656565656566,-0.3833333333333333,-0.36010101010101014,-0.3368686868686869,-0.3136363636363637,-0.29040404040404044,-0.26717171717171717,-0.243939393939394,-0.22070707070707074,-0.19747474747474747,-0.1742424242424243,-0.15101010101010104,-0.12777777777777777,-0.1045454545454545,-0.08131313131313145,-0.05808080808080818,-0.034848484848484906,-0.011616161616161635,0.011616161616161635,0.034848484848484684,0.058080808080807955,0.08131313131313123,0.1045454545454545,0.12777777777777777,0.15101010101010104,0.1742424242424241,0.19747474747474736,0.22070707070707063,0.2439393939393939,0.26717171717171717,0.2904040404040402,0.3136363636363635,0.33686868686868676,0.36010101010101003,0.3833333333333333,0.40656565656565635,0.4297979797979796,0.4530303030303029,0.47626262626262617,0.49949494949494944,0.5227272727272725,0.5459595959595958,0.569191919191919,0.5924242424242423,0.6156565656565656,0.6388888888888888,0.6621212121212119,0.6853535353535352,0.7085858585858584,0.7318181818181817,0.755050505050505,0.778282828282828,0.8015151515151513,0.8247474747474746,0.8479797979797978,0.8712121212121211,0.8944444444444444,0.9176767676767676,0.9409090909090909,0.9641414141414137,0.987373737373737,1.0106060606060603,1.0338383838383836,1.0570707070707068,1.08030303030303,1.1035353535353534,1.1267676767676766,1.15],\"y\":[-0.0,0.007531949835615238,0.014051788360573164,0.01967840546555687,0.024518817043608275,0.028669133350353895,0.032215466882353876,0.03523478234637805,0.037795691236483304,0.039959193479835335,0.041779368556287756,0.04330401844080064,0.044575264661850474,0.04563010171305257,0.046500908999286564,0.04721592344268539,0.04779967481791703,0.048273385830258406,0.04865533889402978,0.048961211513027805,0.04920438210866467,0.049396208085590323,0.04954627786864417,0.0496626385890522,0.04975200104185495,0.04981992348062102,0.04987097575957062,0.04990888527730279,0.04993666612038963,0.049956732749170285,0.04997099951214675,0.04998096721945338,0.04998779794994096,0.0499923792104862,0.049995378510206606,0.04999728935633019,0.049998469622539225,0.0499991731846764,0.049999575662771335,0.049999795052414885,0.0499999079725782,0.04999996220104281,0.04999998611267754,0.04999999557986773,0.049999998838471345,0.049999999766746316,0.04999999996876276,0.049999999997883356,0.049999999999964455,0.049999999999999996,0.049999999999999996,0.049999999999964455,0.049999999997883356,0.04999999996876276,0.049999999766746316,0.049999998838471345,0.04999999557986773,0.04999998611267754,0.04999996220104281,0.0499999079725782,0.049999795052414885,0.049999575662771335,0.0499991731846764,0.049998469622539225,0.04999728935633019,0.049995378510206606,0.0499923792104862,0.04998779794994096,0.04998096721945338,0.04997099951214675,0.049956732749170285,0.04993666612038963,0.04990888527730279,0.04987097575957062,0.04981992348062102,0.04975200104185495,0.0496626385890522,0.04954627786864417,0.049396208085590323,0.04920438210866467,0.048961211513027805,0.04865533889402978,0.048273385830258406,0.04779967481791704,0.047215923442685395,0.04650090899928657,0.04563010171305257,0.044575264661850474,0.04330401844080064,0.041779368556287756,0.039959193479835335,0.03779569123648333,0.035234782346378085,0.03221546688235391,0.028669133350353936,0.024518817043608324,0.019678405465556898,0.014051788360573164,0.007531949835615238,-0.0]}},\"id\":\"98c50aed-6d72-4400-aaa8-cea3d851991c\",\"type\":\"ColumnDataSource\"},{\"attributes\":{\"plot\":{\"id\":\"41bcc758-3670-43f6-935f-d0616ac5cb32\",\"subtype\":\"Figure\",\"type\":\"Plot\"}},\"id\":\"5eae5114-9b2b-4de3-9329-39c7c0134399\",\"type\":\"PanTool\"},{\"attributes\":{\"below\":[{\"id\":\"3166d500-407a-46c7-8562-458403f5af81\",\"type\":\"LinearAxis\"}],\"left\":[{\"id\":\"36a3f415-a7e0-40f4-b584-ae30377fb189\",\"type\":\"LinearAxis\"}],\"plot_height\":300,\"plot_width\":900,\"renderers\":[{\"id\":\"3166d500-407a-46c7-8562-458403f5af81\",\"type\":\"LinearAxis\"},{\"id\":\"8ea9417e-df57-49fb-b0db-993fbc312f6b\",\"type\":\"Grid\"},{\"id\":\"36a3f415-a7e0-40f4-b584-ae30377fb189\",\"type\":\"LinearAxis\"},{\"id\":\"195e5577-7f70-48dc-99c2-7f3cef9aaad7\",\"type\":\"Grid\"},{\"id\":\"eb2d943c-8cb6-4087-a12e-3ea3722590b1\",\"type\":\"BoxAnnotation\"},{\"id\":\"ce0ebf6a-9242-4d51-9b44-6672509f531c\",\"type\":\"GlyphRenderer\"},{\"id\":\"ee199d7c-8e6d-4aff-85a7-255f3c0e2710\",\"type\":\"GlyphRenderer\"}],\"title\":{\"id\":\"eed8f18f-42e2-426f-b5b6-3bb71b853184\",\"type\":\"Title\"},\"tool_events\":{\"id\":\"76ceb5a4-ea3e-495c-867c-68522684ff56\",\"type\":\"ToolEvents\"},\"toolbar\":{\"id\":\"3f434a0a-fdde-46c4-bfdc-b5b8db232a14\",\"type\":\"Toolbar\"},\"toolbar_location\":\"above\",\"x_range\":{\"id\":\"f1e52a5d-04dd-4818-ae36-15facdb42793\",\"type\":\"Range1d\"},\"y_range\":{\"id\":\"7d499e81-4c83-4eaf-a08b-84694acc4029\",\"type\":\"Range1d\"}},\"id\":\"41bcc758-3670-43f6-935f-d0616ac5cb32\",\"subtype\":\"Figure\",\"type\":\"Plot\"},{\"attributes\":{\"plot\":null,\"text\":null},\"id\":\"eed8f18f-42e2-426f-b5b6-3bb71b853184\",\"type\":\"Title\"},{\"attributes\":{\"line_color\":{\"value\":\"#1f77b4\"},\"x\":{\"field\":\"x\"},\"y\":{\"field\":\"y\"}},\"id\":\"3ecd206e-442c-4f89-8ca6-3290ac592c6b\",\"type\":\"Line\"},{\"attributes\":{\"callback\":null,\"end\":1.5,\"start\":-1.5},\"id\":\"f1e52a5d-04dd-4818-ae36-15facdb42793\",\"type\":\"Range1d\"},{\"attributes\":{},\"id\":\"7e1aaecf-0401-4b89-a59b-917bdfd9aa08\",\"type\":\"BasicTickFormatter\"},{\"attributes\":{\"bottom_units\":\"screen\",\"fill_alpha\":{\"value\":0.5},\"fill_color\":{\"value\":\"lightgrey\"},\"left_units\":\"screen\",\"level\":\"overlay\",\"line_alpha\":{\"value\":1.0},\"line_color\":{\"value\":\"black\"},\"line_dash\":[4,4],\"line_width\":{\"value\":2},\"plot\":null,\"render_mode\":\"css\",\"right_units\":\"screen\",\"top_units\":\"screen\"},\"id\":\"eb2d943c-8cb6-4087-a12e-3ea3722590b1\",\"type\":\"BoxAnnotation\"},{\"attributes\":{\"formatter\":{\"id\":\"7e1aaecf-0401-4b89-a59b-917bdfd9aa08\",\"type\":\"BasicTickFormatter\"},\"plot\":{\"id\":\"41bcc758-3670-43f6-935f-d0616ac5cb32\",\"subtype\":\"Figure\",\"type\":\"Plot\"},\"ticker\":{\"id\":\"50e6b7e2-6dd1-46d0-9e8e-7dfb3d0ee4b7\",\"type\":\"BasicTicker\"}},\"id\":\"36a3f415-a7e0-40f4-b584-ae30377fb189\",\"type\":\"LinearAxis\"},{\"attributes\":{},\"id\":\"50e6b7e2-6dd1-46d0-9e8e-7dfb3d0ee4b7\",\"type\":\"BasicTicker\"},{\"attributes\":{\"plot\":{\"id\":\"41bcc758-3670-43f6-935f-d0616ac5cb32\",\"subtype\":\"Figure\",\"type\":\"Plot\"}},\"id\":\"ffb854a5-57c5-4150-864c-57a25dc84966\",\"type\":\"ResetTool\"},{\"attributes\":{\"callback\":null,\"column_names\":[\"y\",\"x\"],\"data\":{\"x\":[-1.15,-1.1267676767676766,-1.1035353535353534,-1.0803030303030303,-1.057070707070707,-1.0338383838383838,-1.0106060606060605,-0.9873737373737372,-0.9641414141414141,-0.9409090909090909,-0.9176767676767676,-0.8944444444444444,-0.8712121212121211,-0.847979797979798,-0.8247474747474747,-0.8015151515151515,-0.7782828282828282,-0.755050505050505,-0.7318181818181818,-0.7085858585858585,-0.6853535353535354,-0.6621212121212121,-0.6388888888888888,-0.6156565656565657,-0.5924242424242424,-0.5691919191919191,-0.545959595959596,-0.5227272727272727,-0.49949494949494944,-0.4762626262626263,-0.453030303030303,-0.42979797979797985,-0.4065656565656566,-0.3833333333333333,-0.36010101010101014,-0.3368686868686869,-0.3136363636363637,-0.29040404040404044,-0.26717171717171717,-0.243939393939394,-0.22070707070707074,-0.19747474747474747,-0.1742424242424243,-0.15101010101010104,-0.12777777777777777,-0.1045454545454545,-0.08131313131313145,-0.05808080808080818,-0.034848484848484906,-0.011616161616161635,0.011616161616161635,0.034848484848484684,0.058080808080807955,0.08131313131313123,0.1045454545454545,0.12777777777777777,0.15101010101010104,0.1742424242424241,0.19747474747474736,0.22070707070707063,0.2439393939393939,0.26717171717171717,0.2904040404040402,0.3136363636363635,0.33686868686868676,0.36010101010101003,0.3833333333333333,0.40656565656565635,0.4297979797979796,0.4530303030303029,0.47626262626262617,0.49949494949494944,0.5227272727272725,0.5459595959595958,0.569191919191919,0.5924242424242423,0.6156565656565656,0.6388888888888888,0.6621212121212119,0.6853535353535352,0.7085858585858584,0.7318181818181817,0.755050505050505,0.778282828282828,0.8015151515151513,0.8247474747474746,0.8479797979797978,0.8712121212121211,0.8944444444444444,0.9176767676767676,0.9409090909090909,0.9641414141414137,0.987373737373737,1.0106060606060603,1.0338383838383836,1.0570707070707068,1.08030303030303,1.1035353535353534,1.1267676767676766,1.15],\"y\":[0.0,-0.09090909090909093,-0.18,-0.18,-0.18,-0.18,-0.18,-0.18,-0.18,-0.18,-0.18,-0.18,-0.18,-0.18,-0.18,-0.18,-0.18,-0.18,-0.18,-0.18,-0.18,-0.18,-0.18,-0.18,-0.18,-0.18,-0.18,-0.18,-0.18,-0.18,-0.18,-0.18,-0.18,-0.18,-0.18,-0.18,-0.18,-0.18,-0.18,-0.18,-0.18,-0.18,-0.18,-0.18,-0.18,-0.18,-0.18,-0.18,-0.18,-0.18,-0.18,-0.18,-0.18,-0.18,-0.18,-0.18,-0.18,-0.18,-0.18,-0.18,-0.18,-0.18,-0.18,-0.18,-0.18,-0.18,-0.18,-0.18,-0.18,-0.18,-0.18,-0.18,-0.18,-0.18,-0.18,-0.18,-0.18,-0.18,-0.18,-0.18,-0.18,-0.18,-0.18,-0.18,-0.18,-0.18,-0.18,-0.18,-0.18,-0.18,-0.18,-0.18,-0.18,-0.18,-0.18,-0.18,-0.18,-0.18,-0.09090909090909093,0.0]}},\"id\":\"93b5d329-1498-4880-984d-f7b5c7a2ef3a\",\"type\":\"ColumnDataSource\"},{\"attributes\":{\"plot\":{\"id\":\"41bcc758-3670-43f6-935f-d0616ac5cb32\",\"subtype\":\"Figure\",\"type\":\"Plot\"},\"ticker\":{\"id\":\"55f3bf19-0d81-4454-8dc1-d226d068e953\",\"type\":\"BasicTicker\"}},\"id\":\"8ea9417e-df57-49fb-b0db-993fbc312f6b\",\"type\":\"Grid\"}],\"root_ids\":[\"41bcc758-3670-43f6-935f-d0616ac5cb32\"]},\"title\":\"Bokeh Application\",\"version\":\"0.12.1\"}};\n",
       "            var render_items = [{\"docid\":\"f1c17f0a-f82c-43b9-b79f-9a8780bebfc2\",\"elementid\":\"d0cad168-54d5-48c2-9ad5-2611d837aa13\",\"modelid\":\"41bcc758-3670-43f6-935f-d0616ac5cb32\",\"notebook_comms_target\":\"52e73d3f-3391-403a-9ba1-88616c62a09a\"}];\n",
       "            \n",
       "            Bokeh.embed.embed_items(docs_json, render_items);\n",
       "        });\n",
       "      },\n",
       "      function(Bokeh) {\n",
       "      }\n",
       "    ];\n",
       "  \n",
       "    function run_inline_js() {\n",
       "      for (var i = 0; i < inline_js.length; i++) {\n",
       "        inline_js[i](window.Bokeh);\n",
       "      }\n",
       "    }\n",
       "  \n",
       "    if (window._bokeh_is_loading === 0) {\n",
       "      console.log(\"Bokeh: BokehJS loaded, going straight to plotting\");\n",
       "      run_inline_js();\n",
       "    } else {\n",
       "      load_libs(js_urls, function() {\n",
       "        console.log(\"Bokeh: BokehJS plotting callback run at\", now());\n",
       "        run_inline_js();\n",
       "      });\n",
       "    }\n",
       "  }(this));\n",
       "</script>"
      ]
     },
     "metadata": {},
     "output_type": "display_data"
    },
    {
     "data": {
      "text/html": [
       "<p><code>&lt;Bokeh Notebook handle for <strong>In[6]</strong>&gt;</code></p>"
      ],
      "text/plain": [
       "<bokeh.io._CommsHandle at 0x7f33af3d5b10>"
      ]
     },
     "execution_count": 6,
     "metadata": {},
     "output_type": "execute_result"
    }
   ],
   "source": [
    "cap = lambda x: -1*geo.normal_pol(x,alt/L,8)\n",
    "kee = lambda x: geo.trapz(x,pontal/L,perc=0.96)\n",
    "stt = np.linspace(-L/2,L/2,100)\n",
    "top_cl = []\n",
    "bot_cl = []\n",
    "for s in stt:\n",
    "    top_cl.append(cap(2*s/L)*L)\n",
    "    bot_cl.append(kee(2*s/L)*L)\n",
    "\n",
    "p = figure(width=900,height=300,toolbar_location='above')\n",
    "p.y_range = Range1d(-0.6,0.4)\n",
    "p.x_range = Range1d(-1.5,1.5)\n",
    "p.line(stt,top_cl)\n",
    "p.line(stt,bot_cl)\n",
    "show(p)"
   ]
  },
  {
   "cell_type": "code",
   "execution_count": 7,
   "metadata": {
    "collapsed": false
   },
   "outputs": [],
   "source": [
    "class BuoyShape():\n",
    "    def __init__(self,length,depth,width,height):\n",
    "        self.length = length\n",
    "        self.keel   = lambda x: geo.trapz(x,depth/length,perc=0.96)\n",
    "        self.waterline   = lambda x: -geo.normal_pol(x,width/length,4)+0.01*np.sin(np.pi*x)\n",
    "        self.bottom   = lambda x: geo.wigley_cross(x)\n",
    "        self.cap    = lambda x: -1*geo.normal_pol(x,height/length,8)\n",
    "        self.top   = lambda x: geo.oval(x,6,2)\n",
    "        \n",
    "shape = BuoyShape(L,pontal,mboca,alt)"
   ]
  },
  {
   "cell_type": "code",
   "execution_count": 143,
   "metadata": {
    "collapsed": false
   },
   "outputs": [
    {
     "name": "stdout",
     "output_type": "stream",
     "text": [
      "Solution: [  5.51763908e-08   4.89614290e-02   2.53864933e-02]\n",
      "Residual: [  1.52146997e-01  -4.26081675e-06   7.07721581e-03]\n",
      "Solution: [ -5.99439529e-12   4.90939473e-02   2.54015842e-02]\n",
      "Residual: [  1.19661377e-06   4.62989647e-10   5.30760879e-08]\n",
      "Found equilibirum position. Equilibrium variables are:\n",
      "Phi=-0.0deg\n",
      "Theta=0.0deg\n",
      "Dz=25mm\n"
     ]
    }
   ],
   "source": [
    "# Equilibrium calculation\n",
    "\n",
    "(phi, theta, dz) = dyn.equilibrium(mass,cgZ,shape,w,verbose=1)\n",
    "print \"Found equilibirum position. Equilibrium variables are:\"\n",
    "print \"Phi={:.1f}\".format(phi)+\"deg\"\n",
    "print \"Theta={:.1f}\".format(theta)+\"deg\"\n",
    "print \"Dz={:.0f}\".format(dz*1000)+\"mm\""
   ]
  },
  {
   "cell_type": "code",
   "execution_count": 144,
   "metadata": {
    "collapsed": false
   },
   "outputs": [],
   "source": [
    "def plot_scene(shape,w,angles,position,cgPos_e):\n",
    "    # Calculate buoy shape coordinates in its intrinsic coordinate\n",
    "    # system\n",
    "    csB_coords_b = geo.getShapePoints(shape,'bottom',80, 60)\n",
    "    csT_coords_b = geo.getShapePoints(shape,'top',80, 60)\n",
    "\n",
    "    # Calculate rotated and translated coordinates for left and right\n",
    "    # buoys\n",
    "    bl_pos = np.array([0.,\n",
    "                       -w/2*np.cos(np.radians(angles[0])),\n",
    "                       -w/2*np.sin(np.radians(angles[0]))])\n",
    "    csLB_e = dyn.buoy_to_earth(csB_coords_b,angles,position+bl_pos)\n",
    "    csRB_e = dyn.buoy_to_earth(csB_coords_b,angles,position-bl_pos)\n",
    "    csLT_e = dyn.buoy_to_earth(csT_coords_b,angles,position+bl_pos)\n",
    "    csRT_e = dyn.buoy_to_earth(csT_coords_b,angles,position-bl_pos)\n",
    "    \n",
    "    xlb = csLB_e[0,:].reshape((80,119))\n",
    "    ylb = csLB_e[1,:].reshape((80,119))\n",
    "    zlb = csLB_e[2,:].reshape((80,119))\n",
    "\n",
    "    xrb = csRB_e[0,:].reshape((80,119))\n",
    "    yrb = csRB_e[1,:].reshape((80,119))\n",
    "    zrb = csRB_e[2,:].reshape((80,119))\n",
    "\n",
    "    xlt = csLT_e[0,:].reshape((80,119))\n",
    "    ylt = csLT_e[1,:].reshape((80,119))\n",
    "    zlt = csLT_e[2,:].reshape((80,119))\n",
    "\n",
    "    xrt = csRT_e[0,:].reshape((80,119))\n",
    "    yrt = csRT_e[1,:].reshape((80,119))\n",
    "    zrt = csRT_e[2,:].reshape((80,119))\n",
    "\n",
    "    slb = mlab.mesh(xlb,ylb,zlb, color=(139./255.,139./255.,0))\n",
    "    srb = mlab.mesh(xrb,yrb,zrb, color=(139./255.,139./255.,0))\n",
    "    slt = mlab.mesh(xlt,ylt,zlt, color=(139./255.,139./255.,0))\n",
    "    srt = mlab.mesh(xrt,yrt,zrt, color=(139./255.,139./255.,0))\n",
    "\n",
    "    wtp = mlab.surf(np.array([-2.,2.]),np.array([-2.,2.]),\n",
    "                    np.zeros((2,2)),color=(0,0,1),opacity=0.3)\n",
    "    \n",
    "    mlab.points3d(cgPos_e[0],cgPos_e[1],cgPos_e[2],color=(1,0,0),\n",
    "                 scale_factor=0.075)\n",
    "\n",
    "    mlab.show()"
   ]
  },
  {
   "cell_type": "code",
   "execution_count": null,
   "metadata": {
    "collapsed": false,
    "scrolled": false
   },
   "outputs": [
    {
     "name": "stdout",
     "output_type": "stream",
     "text": [
      "Warning: the range of your scalar values differs by more than a factor 100 than the range of the grid values and you did not specify a warp_scale. You could try warp_scale=\"auto\".\n"
     ]
    }
   ],
   "source": [
    "angles = np.array([phi,theta,0])\n",
    "position = np.array([0.,0.,dz])\n",
    "cgPos_e = cgZ+position\n",
    "plot_scene(shape,w,angles,position,cgPos_e)"
   ]
  },
  {
   "cell_type": "code",
   "execution_count": 8,
   "metadata": {
    "collapsed": true
   },
   "outputs": [],
   "source": [
    "HULL_NAME = 'nemohull_a_trap2.txt' # nemohull_wig.txt\n",
    "mlt_pnts = geo.geom_to_mlt(shape, 0, 81, 61)\n",
    "np.savetxt(HULL_NAME,-1*mlt_pnts,fmt='%.6f',delimiter=',')"
   ]
  },
  {
   "cell_type": "code",
   "execution_count": 51,
   "metadata": {
    "collapsed": false
   },
   "outputs": [
    {
     "name": "stdout",
     "output_type": "stream",
     "text": [
      "1-Hull Volume: 0.06366 m^3\n"
     ]
    }
   ],
   "source": [
    "print '1-Hull Volume: {:.5f} m^3'.format(-1*geo.volume(shape.length,\n",
    "                                                           shape.keel,\n",
    "                                                           shape.waterline,\n",
    "                                                           shape.bottom))"
   ]
  },
  {
   "cell_type": "code",
   "execution_count": 8,
   "metadata": {
    "collapsed": false
   },
   "outputs": [
    {
     "data": {
      "text/html": [
       "\n",
       "\n",
       "    <div class=\"bk-root\">\n",
       "        <div class=\"plotdiv\" id=\"e3bcd9f0-e39e-4066-9eb5-fbe37e1f11f4\"></div>\n",
       "    </div>\n",
       "<script type=\"text/javascript\">\n",
       "  \n",
       "  (function(global) {\n",
       "    function now() {\n",
       "      return new Date();\n",
       "    }\n",
       "  \n",
       "    var force = \"\";\n",
       "  \n",
       "    if (typeof (window._bokeh_onload_callbacks) === \"undefined\" || force !== \"\") {\n",
       "      window._bokeh_onload_callbacks = [];\n",
       "      window._bokeh_is_loading = undefined;\n",
       "    }\n",
       "  \n",
       "    function run_callbacks() {\n",
       "      window._bokeh_onload_callbacks.forEach(function(callback) { callback() });\n",
       "      delete window._bokeh_onload_callbacks\n",
       "      console.info(\"Bokeh: all callbacks have finished\");\n",
       "    }\n",
       "  \n",
       "    function load_libs(js_urls, callback) {\n",
       "      window._bokeh_onload_callbacks.push(callback);\n",
       "      if (window._bokeh_is_loading > 0) {\n",
       "        console.log(\"Bokeh: BokehJS is being loaded, scheduling callback at\", now());\n",
       "        return null;\n",
       "      }\n",
       "      if (js_urls == null || js_urls.length === 0) {\n",
       "        run_callbacks();\n",
       "        return null;\n",
       "      }\n",
       "      console.log(\"Bokeh: BokehJS not loaded, scheduling load and callback at\", now());\n",
       "      window._bokeh_is_loading = js_urls.length;\n",
       "      for (var i = 0; i < js_urls.length; i++) {\n",
       "        var url = js_urls[i];\n",
       "        var s = document.createElement('script');\n",
       "        s.src = url;\n",
       "        s.async = false;\n",
       "        s.onreadystatechange = s.onload = function() {\n",
       "          window._bokeh_is_loading--;\n",
       "          if (window._bokeh_is_loading === 0) {\n",
       "            console.log(\"Bokeh: all BokehJS libraries loaded\");\n",
       "            run_callbacks()\n",
       "          }\n",
       "        };\n",
       "        s.onerror = function() {\n",
       "          console.warn(\"failed to load library \" + url);\n",
       "        };\n",
       "        console.log(\"Bokeh: injecting script tag for BokehJS library: \", url);\n",
       "        document.getElementsByTagName(\"head\")[0].appendChild(s);\n",
       "      }\n",
       "    };var element = document.getElementById(\"e3bcd9f0-e39e-4066-9eb5-fbe37e1f11f4\");\n",
       "    if (element == null) {\n",
       "      console.log(\"Bokeh: ERROR: autoload.js configured with elementid 'e3bcd9f0-e39e-4066-9eb5-fbe37e1f11f4' but no matching script tag was found. \")\n",
       "      return false;\n",
       "    }\n",
       "  \n",
       "    var js_urls = [];\n",
       "  \n",
       "    var inline_js = [\n",
       "      function(Bokeh) {\n",
       "        Bokeh.$(function() {\n",
       "            var docs_json = {\"981e6dca-10bc-4174-9bfc-34f72f94afa0\":{\"roots\":{\"references\":[{\"attributes\":{\"line_color\":{\"value\":\"#1f77b4\"},\"x\":{\"field\":\"x\"},\"y\":{\"field\":\"y\"}},\"id\":\"788301cd-50b9-4420-9309-fc3d207183c4\",\"type\":\"Line\"},{\"attributes\":{\"formatter\":{\"id\":\"3cfbff99-1c8a-475f-ac6f-1775eecf6caa\",\"type\":\"BasicTickFormatter\"},\"plot\":{\"id\":\"5731d636-0a78-4847-aed0-e33dc72795d0\",\"subtype\":\"Figure\",\"type\":\"Plot\"},\"ticker\":{\"id\":\"faef7aa9-e4c3-483c-b491-f6448dfe172a\",\"type\":\"BasicTicker\"}},\"id\":\"073d08c9-0708-415d-9bad-d155d94517d5\",\"type\":\"LinearAxis\"},{\"attributes\":{\"data_source\":{\"id\":\"9672ef26-6c6c-4436-bc82-3fa8a818fcf0\",\"type\":\"ColumnDataSource\"},\"glyph\":{\"id\":\"788301cd-50b9-4420-9309-fc3d207183c4\",\"type\":\"Line\"},\"hover_glyph\":null,\"nonselection_glyph\":{\"id\":\"1d216480-0789-465e-a355-dc9bf07c5061\",\"type\":\"Line\"},\"selection_glyph\":null},\"id\":\"ee8f7a93-73c1-4433-a9b9-4299c39b14db\",\"type\":\"GlyphRenderer\"},{\"attributes\":{\"line_alpha\":{\"value\":0.1},\"line_color\":{\"value\":\"#1f77b4\"},\"x\":{\"field\":\"x\"},\"y\":{\"field\":\"y\"}},\"id\":\"1d216480-0789-465e-a355-dc9bf07c5061\",\"type\":\"Line\"},{\"attributes\":{\"plot\":{\"id\":\"5731d636-0a78-4847-aed0-e33dc72795d0\",\"subtype\":\"Figure\",\"type\":\"Plot\"}},\"id\":\"648bfc9c-3154-44c7-8c61-e39183b688eb\",\"type\":\"WheelZoomTool\"},{\"attributes\":{\"plot\":{\"id\":\"5731d636-0a78-4847-aed0-e33dc72795d0\",\"subtype\":\"Figure\",\"type\":\"Plot\"},\"ticker\":{\"id\":\"faef7aa9-e4c3-483c-b491-f6448dfe172a\",\"type\":\"BasicTicker\"}},\"id\":\"3e1f8a64-215d-4edb-8679-4a0de4f7420a\",\"type\":\"Grid\"},{\"attributes\":{\"formatter\":{\"id\":\"165dd1c9-128f-4f21-bf72-e8ca6fdade11\",\"type\":\"BasicTickFormatter\"},\"plot\":{\"id\":\"5731d636-0a78-4847-aed0-e33dc72795d0\",\"subtype\":\"Figure\",\"type\":\"Plot\"},\"ticker\":{\"id\":\"d06af2a0-a44f-4d26-8c8d-95edf592de4e\",\"type\":\"BasicTicker\"}},\"id\":\"4675b769-3ea8-4a53-a690-05e77585709b\",\"type\":\"LinearAxis\"},{\"attributes\":{\"active_drag\":\"auto\",\"active_scroll\":\"auto\",\"active_tap\":\"auto\",\"tools\":[{\"id\":\"b549c494-d751-4ffa-bdea-46a245da8fbc\",\"type\":\"PanTool\"},{\"id\":\"648bfc9c-3154-44c7-8c61-e39183b688eb\",\"type\":\"WheelZoomTool\"},{\"id\":\"3ded0572-093a-400d-b4cf-c00c9de1adde\",\"type\":\"BoxZoomTool\"},{\"id\":\"cf4015ed-6386-44cc-ac39-2ad4a6e96a5b\",\"type\":\"SaveTool\"},{\"id\":\"004b0213-6f7a-421d-a29b-65807ecd0b6e\",\"type\":\"ResetTool\"},{\"id\":\"ac1b795c-64d0-46cf-aa1e-ff0ce958276d\",\"type\":\"HelpTool\"}]},\"id\":\"3a72e82b-8455-450e-9466-3c60e0f56ab1\",\"type\":\"Toolbar\"},{\"attributes\":{\"bottom_units\":\"screen\",\"fill_alpha\":{\"value\":0.5},\"fill_color\":{\"value\":\"lightgrey\"},\"left_units\":\"screen\",\"level\":\"overlay\",\"line_alpha\":{\"value\":1.0},\"line_color\":{\"value\":\"black\"},\"line_dash\":[4,4],\"line_width\":{\"value\":2},\"plot\":null,\"render_mode\":\"css\",\"right_units\":\"screen\",\"top_units\":\"screen\"},\"id\":\"f09efe5d-f20e-480c-b13d-34d4cb8ed5ca\",\"type\":\"BoxAnnotation\"},{\"attributes\":{\"line_color\":{\"value\":\"#1f77b4\"},\"x\":{\"field\":\"x\"},\"y\":{\"field\":\"y\"}},\"id\":\"2d068a63-274b-4a93-bd29-00fa90738099\",\"type\":\"Line\"},{\"attributes\":{},\"id\":\"d06af2a0-a44f-4d26-8c8d-95edf592de4e\",\"type\":\"BasicTicker\"},{\"attributes\":{\"plot\":{\"id\":\"5731d636-0a78-4847-aed0-e33dc72795d0\",\"subtype\":\"Figure\",\"type\":\"Plot\"}},\"id\":\"004b0213-6f7a-421d-a29b-65807ecd0b6e\",\"type\":\"ResetTool\"},{\"attributes\":{},\"id\":\"f0af6693-4f9d-4b32-ba19-26423a6d8237\",\"type\":\"ToolEvents\"},{\"attributes\":{\"line_alpha\":{\"value\":0.1},\"line_color\":{\"value\":\"#1f77b4\"},\"x\":{\"field\":\"x\"},\"y\":{\"field\":\"y\"}},\"id\":\"ee8dcd55-cdc2-4ec9-af3d-8c5e8f182e09\",\"type\":\"Line\"},{\"attributes\":{\"plot\":{\"id\":\"5731d636-0a78-4847-aed0-e33dc72795d0\",\"subtype\":\"Figure\",\"type\":\"Plot\"}},\"id\":\"ac1b795c-64d0-46cf-aa1e-ff0ce958276d\",\"type\":\"HelpTool\"},{\"attributes\":{\"callback\":null,\"column_names\":[\"y\",\"x\"],\"data\":{\"x\":[-1.15,-1.1267676767676766,-1.1035353535353534,-1.0803030303030303,-1.057070707070707,-1.0338383838383838,-1.0106060606060605,-0.9873737373737372,-0.9641414141414141,-0.9409090909090909,-0.9176767676767676,-0.8944444444444444,-0.8712121212121211,-0.847979797979798,-0.8247474747474747,-0.8015151515151515,-0.7782828282828282,-0.755050505050505,-0.7318181818181818,-0.7085858585858585,-0.6853535353535354,-0.6621212121212121,-0.6388888888888888,-0.6156565656565657,-0.5924242424242424,-0.5691919191919191,-0.545959595959596,-0.5227272727272727,-0.49949494949494944,-0.4762626262626263,-0.453030303030303,-0.42979797979797985,-0.4065656565656566,-0.3833333333333333,-0.36010101010101014,-0.3368686868686869,-0.3136363636363637,-0.29040404040404044,-0.26717171717171717,-0.243939393939394,-0.22070707070707074,-0.19747474747474747,-0.1742424242424243,-0.15101010101010104,-0.12777777777777777,-0.1045454545454545,-0.08131313131313145,-0.05808080808080818,-0.034848484848484906,-0.011616161616161635,0.011616161616161635,0.034848484848484684,0.058080808080807955,0.08131313131313123,0.1045454545454545,0.12777777777777777,0.15101010101010104,0.1742424242424241,0.19747474747474736,0.22070707070707063,0.2439393939393939,0.26717171717171717,0.2904040404040402,0.3136363636363635,0.33686868686868676,0.36010101010101003,0.3833333333333333,0.40656565656565635,0.4297979797979796,0.4530303030303029,0.47626262626262617,0.49949494949494944,0.5227272727272725,0.5459595959595958,0.569191919191919,0.5924242424242423,0.6156565656565656,0.6388888888888888,0.6621212121212119,0.6853535353535352,0.7085858585858584,0.7318181818181817,0.755050505050505,0.778282828282828,0.8015151515151513,0.8247474747474746,0.8479797979797978,0.8712121212121211,0.8944444444444444,0.9176767676767676,0.9409090909090909,0.9641414141414137,0.987373737373737,1.0106060606060603,1.0338383838383836,1.0570707070707068,1.08030303030303,1.1035353535353534,1.1267676767676766,1.15],\"y\":[2.8166876380389123e-18,-0.009908113634893101,-0.019140323585793127,-0.02773030279913055,-0.03571109737242135,-0.04311510318758879,-0.04997404282846792,-0.05631894287543765,-0.062180111668606604,-0.06758711762909293,-0.07256876822569067,-0.07715308967161591,-0.08136730743308769,-0.0852378276282277,-0.08879021939117966,-0.09204919827246147,-0.09503861074239117,-0.09778141985998563,-0.10029969216503881,-0.10261458584616014,-0.10474634023241634,-0.10671426665088994,-0.10853674068696824,-0.11023119587852735,-0.11181411886940293,-0.11330104604166286,-0.11470656164024225,-0.11604429739749259,-0.11732693365915646,-0.11856620200723428,-0.1197728893691813,-0.12095684359688913,-0.12212698049298658,-0.12329129225616778,-0.12445685731154121,-0.12562985148641623,-0.12681556048652576,-0.1280183936224488,-0.1292418987309601,-0.13048877823122473,-0.13176090625118506,-0.13305934675517722,-0.13438437259978503,-0.1357354854411987,-0.1371114364139196,-0.13851024749754431,-0.13992923348559222,-0.1413650244679156,-0.14281358873616298,-0.1442702560200649,-0.145729740960976,-0.1471861667281554,-0.14863308868268968,-0.1500635179937731,-0.15146994511225007,-0.15284436300690038,-0.15417829006990297,-0.1554627925992459,-0.15668850676755391,-0.15784565998887248,-0.15892409159737256,-0.1599132727547095,-0.16080232550587648,-0.16158004090682165,-0.16223489615083447,-0.1627550706247407,-0.16312846083025195,-0.16334269411038804,-0.16338514112569985,-0.16324292703005602,-0.1629029413009916,-0.16235184618503629,-0.1615760837240155,-0.16056188133403157,-0.15929525591466112,-0.1577620164718213,-0.15594776524374504,-0.1538378973255298,-0.1514175987937729,-0.14867184333884376,-0.14558538741835506,-0.14214276395134667,-0.13832827457857438,-0.1341259805200689,-0.129519692066777,-0.12449295674860049,-0.11902904622647424,-0.11311094196126485,-0.10672131971719673,-0.09984253296220412,-0.09245659523205041,-0.08454516152922825,-0.07608950883153966,-0.0670705157888431,-0.05746864168971931,-0.0472639047827511,-0.03643586003970948,-0.0249635764501856,-0.012825613939095083,-2.8166876380389123e-18]}},\"id\":\"9672ef26-6c6c-4436-bc82-3fa8a818fcf0\",\"type\":\"ColumnDataSource\"},{\"attributes\":{\"plot\":null,\"text\":null},\"id\":\"793bcaa0-0fba-4c8d-b957-56c1f9c850d9\",\"type\":\"Title\"},{\"attributes\":{},\"id\":\"3cfbff99-1c8a-475f-ac6f-1775eecf6caa\",\"type\":\"BasicTickFormatter\"},{\"attributes\":{\"below\":[{\"id\":\"073d08c9-0708-415d-9bad-d155d94517d5\",\"type\":\"LinearAxis\"}],\"left\":[{\"id\":\"4675b769-3ea8-4a53-a690-05e77585709b\",\"type\":\"LinearAxis\"}],\"plot_height\":200,\"plot_width\":900,\"renderers\":[{\"id\":\"073d08c9-0708-415d-9bad-d155d94517d5\",\"type\":\"LinearAxis\"},{\"id\":\"3e1f8a64-215d-4edb-8679-4a0de4f7420a\",\"type\":\"Grid\"},{\"id\":\"4675b769-3ea8-4a53-a690-05e77585709b\",\"type\":\"LinearAxis\"},{\"id\":\"e003b2da-4843-4c38-9791-4d89a1947166\",\"type\":\"Grid\"},{\"id\":\"f09efe5d-f20e-480c-b13d-34d4cb8ed5ca\",\"type\":\"BoxAnnotation\"},{\"id\":\"b0d37e72-d689-4b83-b32c-6804c867c760\",\"type\":\"GlyphRenderer\"},{\"id\":\"ee8f7a93-73c1-4433-a9b9-4299c39b14db\",\"type\":\"GlyphRenderer\"}],\"title\":{\"id\":\"793bcaa0-0fba-4c8d-b957-56c1f9c850d9\",\"type\":\"Title\"},\"tool_events\":{\"id\":\"f0af6693-4f9d-4b32-ba19-26423a6d8237\",\"type\":\"ToolEvents\"},\"toolbar\":{\"id\":\"3a72e82b-8455-450e-9466-3c60e0f56ab1\",\"type\":\"Toolbar\"},\"toolbar_location\":\"above\",\"x_range\":{\"id\":\"a8ce6e91-5c6c-4e34-a7a7-164fea2be274\",\"type\":\"Range1d\"},\"y_range\":{\"id\":\"b97814a3-b052-4df6-937d-47694f7c8932\",\"type\":\"Range1d\"}},\"id\":\"5731d636-0a78-4847-aed0-e33dc72795d0\",\"subtype\":\"Figure\",\"type\":\"Plot\"},{\"attributes\":{\"callback\":null,\"column_names\":[\"y\",\"x\"],\"data\":{\"x\":[-1.15,-1.1267676767676766,-1.1035353535353534,-1.0803030303030303,-1.057070707070707,-1.0338383838383838,-1.0106060606060605,-0.9873737373737372,-0.9641414141414141,-0.9409090909090909,-0.9176767676767676,-0.8944444444444444,-0.8712121212121211,-0.847979797979798,-0.8247474747474747,-0.8015151515151515,-0.7782828282828282,-0.755050505050505,-0.7318181818181818,-0.7085858585858585,-0.6853535353535354,-0.6621212121212121,-0.6388888888888888,-0.6156565656565657,-0.5924242424242424,-0.5691919191919191,-0.545959595959596,-0.5227272727272727,-0.49949494949494944,-0.4762626262626263,-0.453030303030303,-0.42979797979797985,-0.4065656565656566,-0.3833333333333333,-0.36010101010101014,-0.3368686868686869,-0.3136363636363637,-0.29040404040404044,-0.26717171717171717,-0.243939393939394,-0.22070707070707074,-0.19747474747474747,-0.1742424242424243,-0.15101010101010104,-0.12777777777777777,-0.1045454545454545,-0.08131313131313145,-0.05808080808080818,-0.034848484848484906,-0.011616161616161635,0.011616161616161635,0.034848484848484684,0.058080808080807955,0.08131313131313123,0.1045454545454545,0.12777777777777777,0.15101010101010104,0.1742424242424241,0.19747474747474736,0.22070707070707063,0.2439393939393939,0.26717171717171717,0.2904040404040402,0.3136363636363635,0.33686868686868676,0.36010101010101003,0.3833333333333333,0.40656565656565635,0.4297979797979796,0.4530303030303029,0.47626262626262617,0.49949494949494944,0.5227272727272725,0.5459595959595958,0.569191919191919,0.5924242424242423,0.6156565656565656,0.6388888888888888,0.6621212121212119,0.6853535353535352,0.7085858585858584,0.7318181818181817,0.755050505050505,0.778282828282828,0.8015151515151513,0.8247474747474746,0.8479797979797978,0.8712121212121211,0.8944444444444444,0.9176767676767676,0.9409090909090909,0.9641414141414137,0.987373737373737,1.0106060606060603,1.0338383838383836,1.0570707070707068,1.08030303030303,1.1035353535353534,1.1267676767676766,1.15],\"y\":[-2.8166876380389123e-18,0.009908113634893101,0.019140323585793127,0.02773030279913055,0.03571109737242135,0.04311510318758879,0.04997404282846792,0.05631894287543765,0.062180111668606604,0.06758711762909293,0.07256876822569067,0.07715308967161591,0.08136730743308769,0.0852378276282277,0.08879021939117966,0.09204919827246147,0.09503861074239117,0.09778141985998563,0.10029969216503881,0.10261458584616014,0.10474634023241634,0.10671426665088994,0.10853674068696824,0.11023119587852735,0.11181411886940293,0.11330104604166286,0.11470656164024225,0.11604429739749259,0.11732693365915646,0.11856620200723428,0.1197728893691813,0.12095684359688913,0.12212698049298658,0.12329129225616778,0.12445685731154121,0.12562985148641623,0.12681556048652576,0.1280183936224488,0.1292418987309601,0.13048877823122473,0.13176090625118506,0.13305934675517722,0.13438437259978503,0.1357354854411987,0.1371114364139196,0.13851024749754431,0.13992923348559222,0.1413650244679156,0.14281358873616298,0.1442702560200649,0.145729740960976,0.1471861667281554,0.14863308868268968,0.1500635179937731,0.15146994511225007,0.15284436300690038,0.15417829006990297,0.1554627925992459,0.15668850676755391,0.15784565998887248,0.15892409159737256,0.1599132727547095,0.16080232550587648,0.16158004090682165,0.16223489615083447,0.1627550706247407,0.16312846083025195,0.16334269411038804,0.16338514112569985,0.16324292703005602,0.1629029413009916,0.16235184618503629,0.1615760837240155,0.16056188133403157,0.15929525591466112,0.1577620164718213,0.15594776524374504,0.1538378973255298,0.1514175987937729,0.14867184333884376,0.14558538741835506,0.14214276395134667,0.13832827457857438,0.1341259805200689,0.129519692066777,0.12449295674860049,0.11902904622647424,0.11311094196126485,0.10672131971719673,0.09984253296220412,0.09245659523205041,0.08454516152922825,0.07608950883153966,0.0670705157888431,0.05746864168971931,0.0472639047827511,0.03643586003970948,0.0249635764501856,0.012825613939095083,2.8166876380389123e-18]}},\"id\":\"a27ce804-3209-4861-8db5-998a2011c6fb\",\"type\":\"ColumnDataSource\"},{\"attributes\":{\"callback\":null,\"end\":0.3,\"start\":-0.3},\"id\":\"b97814a3-b052-4df6-937d-47694f7c8932\",\"type\":\"Range1d\"},{\"attributes\":{\"dimension\":1,\"plot\":{\"id\":\"5731d636-0a78-4847-aed0-e33dc72795d0\",\"subtype\":\"Figure\",\"type\":\"Plot\"},\"ticker\":{\"id\":\"d06af2a0-a44f-4d26-8c8d-95edf592de4e\",\"type\":\"BasicTicker\"}},\"id\":\"e003b2da-4843-4c38-9791-4d89a1947166\",\"type\":\"Grid\"},{\"attributes\":{},\"id\":\"faef7aa9-e4c3-483c-b491-f6448dfe172a\",\"type\":\"BasicTicker\"},{\"attributes\":{\"plot\":{\"id\":\"5731d636-0a78-4847-aed0-e33dc72795d0\",\"subtype\":\"Figure\",\"type\":\"Plot\"}},\"id\":\"cf4015ed-6386-44cc-ac39-2ad4a6e96a5b\",\"type\":\"SaveTool\"},{\"attributes\":{\"callback\":null,\"end\":1.5,\"start\":-1.5},\"id\":\"a8ce6e91-5c6c-4e34-a7a7-164fea2be274\",\"type\":\"Range1d\"},{\"attributes\":{},\"id\":\"165dd1c9-128f-4f21-bf72-e8ca6fdade11\",\"type\":\"BasicTickFormatter\"},{\"attributes\":{\"overlay\":{\"id\":\"f09efe5d-f20e-480c-b13d-34d4cb8ed5ca\",\"type\":\"BoxAnnotation\"},\"plot\":{\"id\":\"5731d636-0a78-4847-aed0-e33dc72795d0\",\"subtype\":\"Figure\",\"type\":\"Plot\"}},\"id\":\"3ded0572-093a-400d-b4cf-c00c9de1adde\",\"type\":\"BoxZoomTool\"},{\"attributes\":{\"plot\":{\"id\":\"5731d636-0a78-4847-aed0-e33dc72795d0\",\"subtype\":\"Figure\",\"type\":\"Plot\"}},\"id\":\"b549c494-d751-4ffa-bdea-46a245da8fbc\",\"type\":\"PanTool\"},{\"attributes\":{\"data_source\":{\"id\":\"a27ce804-3209-4861-8db5-998a2011c6fb\",\"type\":\"ColumnDataSource\"},\"glyph\":{\"id\":\"2d068a63-274b-4a93-bd29-00fa90738099\",\"type\":\"Line\"},\"hover_glyph\":null,\"nonselection_glyph\":{\"id\":\"ee8dcd55-cdc2-4ec9-af3d-8c5e8f182e09\",\"type\":\"Line\"},\"selection_glyph\":null},\"id\":\"b0d37e72-d689-4b83-b32c-6804c867c760\",\"type\":\"GlyphRenderer\"}],\"root_ids\":[\"5731d636-0a78-4847-aed0-e33dc72795d0\"]},\"title\":\"Bokeh Application\",\"version\":\"0.12.1\"}};\n",
       "            var render_items = [{\"docid\":\"981e6dca-10bc-4174-9bfc-34f72f94afa0\",\"elementid\":\"e3bcd9f0-e39e-4066-9eb5-fbe37e1f11f4\",\"modelid\":\"5731d636-0a78-4847-aed0-e33dc72795d0\",\"notebook_comms_target\":\"288dcb3d-d75b-4fa0-aaa1-7a8f91abaaf7\"}];\n",
       "            \n",
       "            Bokeh.embed.embed_items(docs_json, render_items);\n",
       "        });\n",
       "      },\n",
       "      function(Bokeh) {\n",
       "      }\n",
       "    ];\n",
       "  \n",
       "    function run_inline_js() {\n",
       "      for (var i = 0; i < inline_js.length; i++) {\n",
       "        inline_js[i](window.Bokeh);\n",
       "      }\n",
       "    }\n",
       "  \n",
       "    if (window._bokeh_is_loading === 0) {\n",
       "      console.log(\"Bokeh: BokehJS loaded, going straight to plotting\");\n",
       "      run_inline_js();\n",
       "    } else {\n",
       "      load_libs(js_urls, function() {\n",
       "        console.log(\"Bokeh: BokehJS plotting callback run at\", now());\n",
       "        run_inline_js();\n",
       "      });\n",
       "    }\n",
       "  }(this));\n",
       "</script>"
      ]
     },
     "metadata": {},
     "output_type": "display_data"
    },
    {
     "data": {
      "text/html": [
       "<p><code>&lt;Bokeh Notebook handle for <strong>In[8]</strong>&gt;</code></p>"
      ],
      "text/plain": [
       "<bokeh.io._CommsHandle at 0x7f33af3c02d0>"
      ]
     },
     "execution_count": 8,
     "metadata": {},
     "output_type": "execute_result"
    }
   ],
   "source": [
    "wl  = lambda x: -geo.normal_pol(x,mboca/L,4)+0.01*np.sin(np.pi*x)\n",
    "stt = np.linspace(-L/2,L/2,100)\n",
    "wl_cl = []\n",
    "for s in stt:\n",
    "    wl_cl.append(wl(2*s/L)*L)\n",
    "\n",
    "p = figure(width=900,height=200,toolbar_location='above')\n",
    "p.y_range = Range1d(-0.3,0.3)\n",
    "p.x_range = Range1d(-1.5,1.5)\n",
    "p.line(stt,wl_cl)\n",
    "p.line(stt,-1*np.array(wl_cl))\n",
    "show(p)"
   ]
  },
  {
   "cell_type": "code",
   "execution_count": 9,
   "metadata": {
    "collapsed": true
   },
   "outputs": [],
   "source": [
    "from scipy.optimize import fsolve\n",
    "\n",
    "def d_wl(x):\n",
    "    return -4*mboca/L*x**3 + 0.01*np.pi*np.cos(np.pi*x)\n",
    "\n",
    "def func_dx1(dx1, *args):\n",
    "    x0 = args[0]\n",
    "    t  = args[1]\n",
    "    return wl(x0+dx1) - (wl(x0)+t) - dx1*d_wl(x0+dx1)\n",
    "\n",
    "def func_dx2(dx2, *args):\n",
    "    x0  = args[0]\n",
    "    t   = args[1]\n",
    "    dx1 = args[2]\n",
    "    return wl(x0+dx1+dx2)+tol-wl(x0+dx1)-dx2*d_wl(x0+dx1)\n",
    "\n",
    "def linepntsfromsol(sol_l, tol):\n",
    "    xt = np.array([sol_l[0], np.sum(sol_l)])*L/2\n",
    "    yt = np.array([wl(sol_l[0])+tol, wl(np.sum(sol_l))+tol])*L\n",
    "    return xt, yt"
   ]
  },
  {
   "cell_type": "code",
   "execution_count": 10,
   "metadata": {
    "collapsed": false
   },
   "outputs": [],
   "source": [
    "e = 0.003*2/L\n",
    "stt_start = 2*(-L/2+0.02*L+e)/L\n",
    "dx_guess = 0.1*2/L\n",
    "tol = 0.004/L\n",
    "\n",
    "sol1 = []\n",
    "stt_c = stt_start\n",
    "for _ in xrange(2):\n",
    "    dx1, infodict1, ier1, mesg1 = fsolve(func_dx1, dx_guess, args=(stt_c,tol), full_output=1)\n",
    "    if ier1==1:\n",
    "        dx2, infodict2, ier2, mesg2 = fsolve(func_dx2, dx_guess, args=(stt_c,tol,dx1), full_output=1)\n",
    "    else:\n",
    "        print \"dx1 not found\"\n",
    "    if ier2!=1:\n",
    "        print \"dx2 not found\"\n",
    "    sol1.append([stt_c, dx1, dx2])\n",
    "    stt_c = stt_c+dx1+dx2+e\n",
    "\n",
    "sol2 = []\n",
    "stt_start = 0\n",
    "stt_c = stt_start\n",
    "for _ in xrange(4):\n",
    "    dx1, infodict1, ier1, mesg1 = fsolve(func_dx1, dx_guess, args=(stt_c,tol), full_output=1)\n",
    "    if ier1==1:\n",
    "        dx2, infodict2, ier2, mesg2 = fsolve(func_dx2, dx_guess, args=(stt_c,tol,dx1), full_output=1)\n",
    "    else:\n",
    "        print \"dx1 not found\"\n",
    "    if ier2!=1:\n",
    "        print \"dx2 not found\"\n",
    "    sol2.append([stt_c, dx1, dx2])\n",
    "    stt_c = stt_c+dx1+dx2+e\n",
    "    \n",
    "mdl_start = np.sum(sol1[-1])+e\n",
    "mdl_dx1 = 0\n",
    "mdl_dx2 = sol2[0][0]-e-mdl_start\n",
    "m_stt = [[mdl_start, mdl_dx1, mdl_dx2]]    \n",
    "\n",
    "stt_end = 2*(L/2-0.02*L-e)/L\n",
    "if np.sum(sol2[-1])>stt_end:\n",
    "    print \"End reached\"\n",
    "    dx2_end = stt_end - sol2[-1][0]\n",
    "    sol2[-1] = [sol2[-1][0], 0, dx2_end]\n",
    "\n",
    "sol = np.array(sol1 + m_stt + sol2)"
   ]
  },
  {
   "cell_type": "code",
   "execution_count": 11,
   "metadata": {
    "collapsed": false
   },
   "outputs": [
    {
     "data": {
      "text/plain": [
       "(array([-1.1013913, -0.9181925]), array([ 0.02395946,  0.0764626 ]))"
      ]
     },
     "execution_count": 11,
     "metadata": {},
     "output_type": "execute_result"
    }
   ],
   "source": [
    "linepntsfromsol(sol[0,:],tol=tol)"
   ]
  },
  {
   "cell_type": "code",
   "execution_count": 12,
   "metadata": {
    "collapsed": false,
    "scrolled": true
   },
   "outputs": [
    {
     "data": {
      "text/html": [
       "\n",
       "\n",
       "    <div class=\"bk-root\">\n",
       "        <div class=\"plotdiv\" id=\"dc8a5e7f-bd4a-43d1-9168-87f2840e7297\"></div>\n",
       "    </div>\n",
       "<script type=\"text/javascript\">\n",
       "  \n",
       "  (function(global) {\n",
       "    function now() {\n",
       "      return new Date();\n",
       "    }\n",
       "  \n",
       "    var force = \"\";\n",
       "  \n",
       "    if (typeof (window._bokeh_onload_callbacks) === \"undefined\" || force !== \"\") {\n",
       "      window._bokeh_onload_callbacks = [];\n",
       "      window._bokeh_is_loading = undefined;\n",
       "    }\n",
       "  \n",
       "    function run_callbacks() {\n",
       "      window._bokeh_onload_callbacks.forEach(function(callback) { callback() });\n",
       "      delete window._bokeh_onload_callbacks\n",
       "      console.info(\"Bokeh: all callbacks have finished\");\n",
       "    }\n",
       "  \n",
       "    function load_libs(js_urls, callback) {\n",
       "      window._bokeh_onload_callbacks.push(callback);\n",
       "      if (window._bokeh_is_loading > 0) {\n",
       "        console.log(\"Bokeh: BokehJS is being loaded, scheduling callback at\", now());\n",
       "        return null;\n",
       "      }\n",
       "      if (js_urls == null || js_urls.length === 0) {\n",
       "        run_callbacks();\n",
       "        return null;\n",
       "      }\n",
       "      console.log(\"Bokeh: BokehJS not loaded, scheduling load and callback at\", now());\n",
       "      window._bokeh_is_loading = js_urls.length;\n",
       "      for (var i = 0; i < js_urls.length; i++) {\n",
       "        var url = js_urls[i];\n",
       "        var s = document.createElement('script');\n",
       "        s.src = url;\n",
       "        s.async = false;\n",
       "        s.onreadystatechange = s.onload = function() {\n",
       "          window._bokeh_is_loading--;\n",
       "          if (window._bokeh_is_loading === 0) {\n",
       "            console.log(\"Bokeh: all BokehJS libraries loaded\");\n",
       "            run_callbacks()\n",
       "          }\n",
       "        };\n",
       "        s.onerror = function() {\n",
       "          console.warn(\"failed to load library \" + url);\n",
       "        };\n",
       "        console.log(\"Bokeh: injecting script tag for BokehJS library: \", url);\n",
       "        document.getElementsByTagName(\"head\")[0].appendChild(s);\n",
       "      }\n",
       "    };var element = document.getElementById(\"dc8a5e7f-bd4a-43d1-9168-87f2840e7297\");\n",
       "    if (element == null) {\n",
       "      console.log(\"Bokeh: ERROR: autoload.js configured with elementid 'dc8a5e7f-bd4a-43d1-9168-87f2840e7297' but no matching script tag was found. \")\n",
       "      return false;\n",
       "    }\n",
       "  \n",
       "    var js_urls = [];\n",
       "  \n",
       "    var inline_js = [\n",
       "      function(Bokeh) {\n",
       "        Bokeh.$(function() {\n",
       "            var docs_json = {\"cb9ad04a-9694-4b51-a82f-f2d2757cec9f\":{\"roots\":{\"references\":[{\"attributes\":{\"active_drag\":\"auto\",\"active_scroll\":\"auto\",\"active_tap\":\"auto\",\"tools\":[{\"id\":\"be751f77-0b22-4c73-b18b-e3852c8ccdde\",\"type\":\"PanTool\"},{\"id\":\"71dee7b6-8b6e-443f-865b-4d57b148152d\",\"type\":\"WheelZoomTool\"},{\"id\":\"1a75d51f-6893-410c-a53e-288edf89bff8\",\"type\":\"BoxZoomTool\"},{\"id\":\"016d2c29-2d9d-4f09-9de7-ff2d62bb107a\",\"type\":\"SaveTool\"},{\"id\":\"cb259fd9-e35e-4620-adaf-fd38eeb1ca87\",\"type\":\"ResetTool\"},{\"id\":\"69c0fa87-9fbb-4117-86ba-66d6fc8a5050\",\"type\":\"HelpTool\"}]},\"id\":\"51759afa-3ac5-4c80-ac03-03623af833be\",\"type\":\"Toolbar\"},{\"attributes\":{\"line_alpha\":{\"value\":0.1},\"line_color\":{\"value\":\"#1f77b4\"},\"x\":{\"field\":\"x\"},\"y\":{\"field\":\"y\"}},\"id\":\"fab879db-4fa7-4ec4-8ae1-e47668c4a744\",\"type\":\"Line\"},{\"attributes\":{\"line_alpha\":{\"value\":0.1},\"line_color\":{\"value\":\"#1f77b4\"},\"x\":{\"field\":\"x\"},\"y\":{\"field\":\"y\"}},\"id\":\"63b0ff0a-eaa7-4beb-bcbe-998c5a4c8467\",\"type\":\"Line\"},{\"attributes\":{\"callback\":null,\"column_names\":[\"y\",\"x\"],\"data\":{\"x\":[-1.15,-1.1267676767676766,-1.1035353535353534,-1.0803030303030303,-1.057070707070707,-1.0338383838383838,-1.0106060606060605,-0.9873737373737372,-0.9641414141414141,-0.9409090909090909,-0.9176767676767676,-0.8944444444444444,-0.8712121212121211,-0.847979797979798,-0.8247474747474747,-0.8015151515151515,-0.7782828282828282,-0.755050505050505,-0.7318181818181818,-0.7085858585858585,-0.6853535353535354,-0.6621212121212121,-0.6388888888888888,-0.6156565656565657,-0.5924242424242424,-0.5691919191919191,-0.545959595959596,-0.5227272727272727,-0.49949494949494944,-0.4762626262626263,-0.453030303030303,-0.42979797979797985,-0.4065656565656566,-0.3833333333333333,-0.36010101010101014,-0.3368686868686869,-0.3136363636363637,-0.29040404040404044,-0.26717171717171717,-0.243939393939394,-0.22070707070707074,-0.19747474747474747,-0.1742424242424243,-0.15101010101010104,-0.12777777777777777,-0.1045454545454545,-0.08131313131313145,-0.05808080808080818,-0.034848484848484906,-0.011616161616161635,0.011616161616161635,0.034848484848484684,0.058080808080807955,0.08131313131313123,0.1045454545454545,0.12777777777777777,0.15101010101010104,0.1742424242424241,0.19747474747474736,0.22070707070707063,0.2439393939393939,0.26717171717171717,0.2904040404040402,0.3136363636363635,0.33686868686868676,0.36010101010101003,0.3833333333333333,0.40656565656565635,0.4297979797979796,0.4530303030303029,0.47626262626262617,0.49949494949494944,0.5227272727272725,0.5459595959595958,0.569191919191919,0.5924242424242423,0.6156565656565656,0.6388888888888888,0.6621212121212119,0.6853535353535352,0.7085858585858584,0.7318181818181817,0.755050505050505,0.778282828282828,0.8015151515151513,0.8247474747474746,0.8479797979797978,0.8712121212121211,0.8944444444444444,0.9176767676767676,0.9409090909090909,0.9641414141414137,0.987373737373737,1.0106060606060603,1.0338383838383836,1.0570707070707068,1.08030303030303,1.1035353535353534,1.1267676767676766,1.15],\"y\":[-2.8166876380389123e-18,0.009908113634893101,0.019140323585793127,0.02773030279913055,0.03571109737242135,0.04311510318758879,0.04997404282846792,0.05631894287543765,0.062180111668606604,0.06758711762909293,0.07256876822569067,0.07715308967161591,0.08136730743308769,0.0852378276282277,0.08879021939117966,0.09204919827246147,0.09503861074239117,0.09778141985998563,0.10029969216503881,0.10261458584616014,0.10474634023241634,0.10671426665088994,0.10853674068696824,0.11023119587852735,0.11181411886940293,0.11330104604166286,0.11470656164024225,0.11604429739749259,0.11732693365915646,0.11856620200723428,0.1197728893691813,0.12095684359688913,0.12212698049298658,0.12329129225616778,0.12445685731154121,0.12562985148641623,0.12681556048652576,0.1280183936224488,0.1292418987309601,0.13048877823122473,0.13176090625118506,0.13305934675517722,0.13438437259978503,0.1357354854411987,0.1371114364139196,0.13851024749754431,0.13992923348559222,0.1413650244679156,0.14281358873616298,0.1442702560200649,0.145729740960976,0.1471861667281554,0.14863308868268968,0.1500635179937731,0.15146994511225007,0.15284436300690038,0.15417829006990297,0.1554627925992459,0.15668850676755391,0.15784565998887248,0.15892409159737256,0.1599132727547095,0.16080232550587648,0.16158004090682165,0.16223489615083447,0.1627550706247407,0.16312846083025195,0.16334269411038804,0.16338514112569985,0.16324292703005602,0.1629029413009916,0.16235184618503629,0.1615760837240155,0.16056188133403157,0.15929525591466112,0.1577620164718213,0.15594776524374504,0.1538378973255298,0.1514175987937729,0.14867184333884376,0.14558538741835506,0.14214276395134667,0.13832827457857438,0.1341259805200689,0.129519692066777,0.12449295674860049,0.11902904622647424,0.11311094196126485,0.10672131971719673,0.09984253296220412,0.09245659523205041,0.08454516152922825,0.07608950883153966,0.0670705157888431,0.05746864168971931,0.0472639047827511,0.03643586003970948,0.0249635764501856,0.012825613939095083,2.8166876380389123e-18]}},\"id\":\"36efa49a-0adf-4e4f-aa30-f4932e64336f\",\"type\":\"ColumnDataSource\"},{\"attributes\":{\"plot\":{\"id\":\"2f68f354-4db8-4fcc-838d-e743a2a77caa\",\"subtype\":\"Figure\",\"type\":\"Plot\"},\"ticker\":{\"id\":\"6af69cdf-0bee-4598-a0ee-5a020a62bf54\",\"type\":\"BasicTicker\"}},\"id\":\"313a5d08-d03f-4268-8b04-506a616d99b7\",\"type\":\"Grid\"},{\"attributes\":{\"callback\":null,\"column_names\":[\"y\",\"x\"],\"data\":{\"x\":[-1.101391304347826,-0.9181924971819597],\"y\":[-0.02395946123787013,-0.0764625960061013]}},\"id\":\"e13e89a3-0c37-4c2b-bc09-02d3b4d90af6\",\"type\":\"ColumnDataSource\"},{\"attributes\":{\"callback\":null,\"column_names\":[\"y\",\"x\"],\"data\":{\"x\":[-0.6534079966412256,-0.003000000000000008],\"y\":[0.11141386924785365,0.1488115065441302]}},\"id\":\"894d5bb4-a6c5-44ab-8953-1dd4598aa2e0\",\"type\":\"ColumnDataSource\"},{\"attributes\":{\"data_source\":{\"id\":\"3e86aeb8-9237-4e5c-92f7-706f58391987\",\"type\":\"ColumnDataSource\"},\"glyph\":{\"id\":\"18e37ded-aa13-4b35-b843-1fe8314f2930\",\"type\":\"Line\"},\"hover_glyph\":null,\"nonselection_glyph\":{\"id\":\"106ae1bf-cff6-4672-b008-1c18ef7a36cc\",\"type\":\"Line\"},\"selection_glyph\":null},\"id\":\"f7a66868-a1cb-4d89-b649-315de6a06ade\",\"type\":\"GlyphRenderer\"},{\"attributes\":{\"line_alpha\":{\"value\":0.1},\"line_color\":{\"value\":\"#1f77b4\"},\"x\":{\"field\":\"x\"},\"y\":{\"field\":\"y\"}},\"id\":\"4892d0eb-8d87-4a16-914a-2e9d0429d4bf\",\"type\":\"Line\"},{\"attributes\":{\"line_alpha\":{\"value\":0.1},\"line_color\":{\"value\":\"#1f77b4\"},\"x\":{\"field\":\"x\"},\"y\":{\"field\":\"y\"}},\"id\":\"92d4355b-7ed1-4e2c-9212-e038849f8e8a\",\"type\":\"Line\"},{\"attributes\":{\"line_color\":{\"value\":\"#1f77b4\"},\"x\":{\"field\":\"x\"},\"y\":{\"field\":\"y\"}},\"id\":\"a78b4cd4-7c20-47e4-a9a0-0f86e36ca70a\",\"type\":\"Line\"},{\"attributes\":{\"callback\":null,\"column_names\":[\"y\",\"x\"],\"data\":{\"x\":[-1.15,-1.1267676767676766,-1.1035353535353534,-1.0803030303030303,-1.057070707070707,-1.0338383838383838,-1.0106060606060605,-0.9873737373737372,-0.9641414141414141,-0.9409090909090909,-0.9176767676767676,-0.8944444444444444,-0.8712121212121211,-0.847979797979798,-0.8247474747474747,-0.8015151515151515,-0.7782828282828282,-0.755050505050505,-0.7318181818181818,-0.7085858585858585,-0.6853535353535354,-0.6621212121212121,-0.6388888888888888,-0.6156565656565657,-0.5924242424242424,-0.5691919191919191,-0.545959595959596,-0.5227272727272727,-0.49949494949494944,-0.4762626262626263,-0.453030303030303,-0.42979797979797985,-0.4065656565656566,-0.3833333333333333,-0.36010101010101014,-0.3368686868686869,-0.3136363636363637,-0.29040404040404044,-0.26717171717171717,-0.243939393939394,-0.22070707070707074,-0.19747474747474747,-0.1742424242424243,-0.15101010101010104,-0.12777777777777777,-0.1045454545454545,-0.08131313131313145,-0.05808080808080818,-0.034848484848484906,-0.011616161616161635,0.011616161616161635,0.034848484848484684,0.058080808080807955,0.08131313131313123,0.1045454545454545,0.12777777777777777,0.15101010101010104,0.1742424242424241,0.19747474747474736,0.22070707070707063,0.2439393939393939,0.26717171717171717,0.2904040404040402,0.3136363636363635,0.33686868686868676,0.36010101010101003,0.3833333333333333,0.40656565656565635,0.4297979797979796,0.4530303030303029,0.47626262626262617,0.49949494949494944,0.5227272727272725,0.5459595959595958,0.569191919191919,0.5924242424242423,0.6156565656565656,0.6388888888888888,0.6621212121212119,0.6853535353535352,0.7085858585858584,0.7318181818181817,0.755050505050505,0.778282828282828,0.8015151515151513,0.8247474747474746,0.8479797979797978,0.8712121212121211,0.8944444444444444,0.9176767676767676,0.9409090909090909,0.9641414141414137,0.987373737373737,1.0106060606060603,1.0338383838383836,1.0570707070707068,1.08030303030303,1.1035353535353534,1.1267676767676766,1.15],\"y\":[2.8166876380389123e-18,-0.009908113634893101,-0.019140323585793127,-0.02773030279913055,-0.03571109737242135,-0.04311510318758879,-0.04997404282846792,-0.05631894287543765,-0.062180111668606604,-0.06758711762909293,-0.07256876822569067,-0.07715308967161591,-0.08136730743308769,-0.0852378276282277,-0.08879021939117966,-0.09204919827246147,-0.09503861074239117,-0.09778141985998563,-0.10029969216503881,-0.10261458584616014,-0.10474634023241634,-0.10671426665088994,-0.10853674068696824,-0.11023119587852735,-0.11181411886940293,-0.11330104604166286,-0.11470656164024225,-0.11604429739749259,-0.11732693365915646,-0.11856620200723428,-0.1197728893691813,-0.12095684359688913,-0.12212698049298658,-0.12329129225616778,-0.12445685731154121,-0.12562985148641623,-0.12681556048652576,-0.1280183936224488,-0.1292418987309601,-0.13048877823122473,-0.13176090625118506,-0.13305934675517722,-0.13438437259978503,-0.1357354854411987,-0.1371114364139196,-0.13851024749754431,-0.13992923348559222,-0.1413650244679156,-0.14281358873616298,-0.1442702560200649,-0.145729740960976,-0.1471861667281554,-0.14863308868268968,-0.1500635179937731,-0.15146994511225007,-0.15284436300690038,-0.15417829006990297,-0.1554627925992459,-0.15668850676755391,-0.15784565998887248,-0.15892409159737256,-0.1599132727547095,-0.16080232550587648,-0.16158004090682165,-0.16223489615083447,-0.1627550706247407,-0.16312846083025195,-0.16334269411038804,-0.16338514112569985,-0.16324292703005602,-0.1629029413009916,-0.16235184618503629,-0.1615760837240155,-0.16056188133403157,-0.15929525591466112,-0.1577620164718213,-0.15594776524374504,-0.1538378973255298,-0.1514175987937729,-0.14867184333884376,-0.14558538741835506,-0.14214276395134667,-0.13832827457857438,-0.1341259805200689,-0.129519692066777,-0.12449295674860049,-0.11902904622647424,-0.11311094196126485,-0.10672131971719673,-0.09984253296220412,-0.09245659523205041,-0.08454516152922825,-0.07608950883153966,-0.0670705157888431,-0.05746864168971931,-0.0472639047827511,-0.03643586003970948,-0.0249635764501856,-0.012825613939095083,-2.8166876380389123e-18]}},\"id\":\"83a0b551-111d-451e-ba74-16d5de64a8e7\",\"type\":\"ColumnDataSource\"},{\"attributes\":{\"line_color\":{\"value\":\"red\"},\"x\":{\"field\":\"x\"},\"y\":{\"field\":\"y\"}},\"id\":\"18e37ded-aa13-4b35-b843-1fe8314f2930\",\"type\":\"Line\"},{\"attributes\":{\"data_source\":{\"id\":\"5332731f-ad4b-4722-8699-546e05374630\",\"type\":\"ColumnDataSource\"},\"glyph\":{\"id\":\"2dfd5169-3fea-48d0-bda1-d46066fb9f39\",\"type\":\"Line\"},\"hover_glyph\":null,\"nonselection_glyph\":{\"id\":\"5d4ecd9b-a8cb-44ae-a372-77d1e009f112\",\"type\":\"Line\"},\"selection_glyph\":null},\"id\":\"c5c29bfd-bbfc-461a-90bf-51677637a5dd\",\"type\":\"GlyphRenderer\"},{\"attributes\":{},\"id\":\"07611b01-8048-44fb-94a6-a9d86fec4c35\",\"type\":\"BasicTickFormatter\"},{\"attributes\":{\"line_color\":{\"value\":\"#1f77b4\"},\"x\":{\"field\":\"x\"},\"y\":{\"field\":\"y\"}},\"id\":\"5af99de1-a4a9-490a-b2ae-f36e196114e6\",\"type\":\"Line\"},{\"attributes\":{\"line_alpha\":{\"value\":0.1},\"line_color\":{\"value\":\"#1f77b4\"},\"x\":{\"field\":\"x\"},\"y\":{\"field\":\"y\"}},\"id\":\"c1047f98-c502-4337-9912-4313f21d0ced\",\"type\":\"Line\"},{\"attributes\":{\"data_source\":{\"id\":\"894d5bb4-a6c5-44ab-8953-1dd4598aa2e0\",\"type\":\"ColumnDataSource\"},\"glyph\":{\"id\":\"3fc5ae19-cf10-454b-85d5-9ce953be9652\",\"type\":\"Line\"},\"hover_glyph\":null,\"nonselection_glyph\":{\"id\":\"c1047f98-c502-4337-9912-4313f21d0ced\",\"type\":\"Line\"},\"selection_glyph\":null},\"id\":\"ab5ac955-384c-40a6-a520-f0822ebe7863\",\"type\":\"GlyphRenderer\"},{\"attributes\":{\"line_color\":{\"value\":\"red\"},\"x\":{\"field\":\"x\"},\"y\":{\"field\":\"y\"}},\"id\":\"e26dc69b-4a26-4281-91f5-a7f85b6a9a67\",\"type\":\"Line\"},{\"attributes\":{\"line_color\":{\"value\":\"red\"},\"x\":{\"field\":\"x\"},\"y\":{\"field\":\"y\"}},\"id\":\"a5e50ed9-2ac6-4bac-ba6e-a3c1a3be846c\",\"type\":\"Line\"},{\"attributes\":{\"line_color\":{\"value\":\"red\"},\"x\":{\"field\":\"x\"},\"y\":{\"field\":\"y\"}},\"id\":\"2dfd5169-3fea-48d0-bda1-d46066fb9f39\",\"type\":\"Line\"},{\"attributes\":{\"formatter\":{\"id\":\"4c024553-87c9-4274-827a-b6327bc28cc8\",\"type\":\"BasicTickFormatter\"},\"plot\":{\"id\":\"2f68f354-4db8-4fcc-838d-e743a2a77caa\",\"subtype\":\"Figure\",\"type\":\"Plot\"},\"ticker\":{\"id\":\"eaadc205-04fe-4206-aea9-3f2d669b7c62\",\"type\":\"BasicTicker\"}},\"id\":\"9208b5f4-0fd5-4bc1-9923-0ed0ae1950b1\",\"type\":\"LinearAxis\"},{\"attributes\":{\"overlay\":{\"id\":\"49ca2108-6521-4b94-a753-41fe27fa55cc\",\"type\":\"BoxAnnotation\"},\"plot\":{\"id\":\"2f68f354-4db8-4fcc-838d-e743a2a77caa\",\"subtype\":\"Figure\",\"type\":\"Plot\"}},\"id\":\"1a75d51f-6893-410c-a53e-288edf89bff8\",\"type\":\"BoxZoomTool\"},{\"attributes\":{\"bottom_units\":\"screen\",\"fill_alpha\":{\"value\":0.5},\"fill_color\":{\"value\":\"lightgrey\"},\"left_units\":\"screen\",\"level\":\"overlay\",\"line_alpha\":{\"value\":1.0},\"line_color\":{\"value\":\"black\"},\"line_dash\":[4,4],\"line_width\":{\"value\":2},\"plot\":null,\"render_mode\":\"css\",\"right_units\":\"screen\",\"top_units\":\"screen\"},\"id\":\"49ca2108-6521-4b94-a753-41fe27fa55cc\",\"type\":\"BoxAnnotation\"},{\"attributes\":{\"callback\":null,\"column_names\":[\"y\",\"x\"],\"data\":{\"x\":[0.0,0.4477940866102621],\"y\":[-0.14899999999999997,-0.16729177296861644]}},\"id\":\"b91de236-8540-401c-9cb5-63ab16955bfd\",\"type\":\"ColumnDataSource\"},{\"attributes\":{\"line_color\":{\"value\":\"red\"},\"x\":{\"field\":\"x\"},\"y\":{\"field\":\"y\"}},\"id\":\"8888bb54-a239-4a34-94bc-f176e12c8e8a\",\"type\":\"Line\"},{\"attributes\":{\"data_source\":{\"id\":\"a8edac13-ef61-47df-9b3e-7df8013845c8\",\"type\":\"ColumnDataSource\"},\"glyph\":{\"id\":\"8888bb54-a239-4a34-94bc-f176e12c8e8a\",\"type\":\"Line\"},\"hover_glyph\":null,\"nonselection_glyph\":{\"id\":\"535d31ba-6d4c-47ca-9519-bf59245a37ea\",\"type\":\"Line\"},\"selection_glyph\":null},\"id\":\"6039c4db-7303-474d-af2f-7f2a532e8bbc\",\"type\":\"GlyphRenderer\"},{\"attributes\":{\"line_color\":{\"value\":\"red\"},\"x\":{\"field\":\"x\"},\"y\":{\"field\":\"y\"}},\"id\":\"020145b1-8890-4411-a9f6-14cfa11c0277\",\"type\":\"Line\"},{\"attributes\":{\"below\":[{\"id\":\"edce4969-0ffd-44fc-a684-7569a6e8aba2\",\"type\":\"LinearAxis\"}],\"left\":[{\"id\":\"9208b5f4-0fd5-4bc1-9923-0ed0ae1950b1\",\"type\":\"LinearAxis\"}],\"plot_height\":400,\"plot_width\":900,\"renderers\":[{\"id\":\"edce4969-0ffd-44fc-a684-7569a6e8aba2\",\"type\":\"LinearAxis\"},{\"id\":\"313a5d08-d03f-4268-8b04-506a616d99b7\",\"type\":\"Grid\"},{\"id\":\"9208b5f4-0fd5-4bc1-9923-0ed0ae1950b1\",\"type\":\"LinearAxis\"},{\"id\":\"410a760c-5efa-499b-a1e0-b53ae1cf3fbf\",\"type\":\"Grid\"},{\"id\":\"49ca2108-6521-4b94-a753-41fe27fa55cc\",\"type\":\"BoxAnnotation\"},{\"id\":\"19166140-778e-46f8-95e3-d0e3d500ae88\",\"type\":\"GlyphRenderer\"},{\"id\":\"71714722-3d0f-47b2-aa57-62b5b65fb88c\",\"type\":\"GlyphRenderer\"},{\"id\":\"92599675-9706-40fe-a3c9-46dcb5f4d3fb\",\"type\":\"GlyphRenderer\"},{\"id\":\"4e6c2fc3-e9bc-4fef-8177-0f4c2b9f6db6\",\"type\":\"GlyphRenderer\"},{\"id\":\"a3d79652-2822-457d-bb95-01e230627e8b\",\"type\":\"GlyphRenderer\"},{\"id\":\"4faba47f-e582-4533-b8ed-5ae1985608f8\",\"type\":\"GlyphRenderer\"},{\"id\":\"ab5ac955-384c-40a6-a520-f0822ebe7863\",\"type\":\"GlyphRenderer\"},{\"id\":\"c123c406-285f-44ff-8231-ca5e3fe4ba8b\",\"type\":\"GlyphRenderer\"},{\"id\":\"f7a66868-a1cb-4d89-b649-315de6a06ade\",\"type\":\"GlyphRenderer\"},{\"id\":\"e6350be1-69f1-484e-b6ef-b5eac42309e0\",\"type\":\"GlyphRenderer\"},{\"id\":\"37c93efe-5223-4e6f-8446-aa70c3bcddd1\",\"type\":\"GlyphRenderer\"},{\"id\":\"6039c4db-7303-474d-af2f-7f2a532e8bbc\",\"type\":\"GlyphRenderer\"},{\"id\":\"9b71c78b-4600-4bb1-806a-33ee9bbbc182\",\"type\":\"GlyphRenderer\"},{\"id\":\"93c673c7-4c5a-4678-98cb-59eb5c8aecae\",\"type\":\"GlyphRenderer\"},{\"id\":\"84ae8569-c918-43f8-8d2f-e9426d86dbf9\",\"type\":\"GlyphRenderer\"},{\"id\":\"c5c29bfd-bbfc-461a-90bf-51677637a5dd\",\"type\":\"GlyphRenderer\"}],\"title\":{\"id\":\"a9c92967-b8f2-49f0-9f87-6c6768f4cdac\",\"type\":\"Title\"},\"tool_events\":{\"id\":\"29f3acec-d67c-412e-bc35-30939165ba01\",\"type\":\"ToolEvents\"},\"toolbar\":{\"id\":\"51759afa-3ac5-4c80-ac03-03623af833be\",\"type\":\"Toolbar\"},\"toolbar_location\":\"above\",\"x_range\":{\"id\":\"befe0ea6-ddc1-475c-a3ad-7fca7788d79e\",\"type\":\"Range1d\"},\"y_range\":{\"id\":\"b70633d9-d01f-4223-98af-4446a52622a0\",\"type\":\"Range1d\"}},\"id\":\"2f68f354-4db8-4fcc-838d-e743a2a77caa\",\"subtype\":\"Figure\",\"type\":\"Plot\"},{\"attributes\":{\"line_color\":{\"value\":\"red\"},\"x\":{\"field\":\"x\"},\"y\":{\"field\":\"y\"}},\"id\":\"9f108151-ea02-44c6-a299-c33d487f0215\",\"type\":\"Line\"},{\"attributes\":{\"line_alpha\":{\"value\":0.1},\"line_color\":{\"value\":\"#1f77b4\"},\"x\":{\"field\":\"x\"},\"y\":{\"field\":\"y\"}},\"id\":\"7bd43530-8dbe-485a-b27c-075d690fc5b1\",\"type\":\"Line\"},{\"attributes\":{\"line_color\":{\"value\":\"red\"},\"x\":{\"field\":\"x\"},\"y\":{\"field\":\"y\"}},\"id\":\"31525fa0-c396-48a0-9aaf-f5c7a9035b90\",\"type\":\"Line\"},{\"attributes\":{\"plot\":{\"id\":\"2f68f354-4db8-4fcc-838d-e743a2a77caa\",\"subtype\":\"Figure\",\"type\":\"Plot\"}},\"id\":\"be751f77-0b22-4c73-b18b-e3852c8ccdde\",\"type\":\"PanTool\"},{\"attributes\":{},\"id\":\"4c024553-87c9-4274-827a-b6327bc28cc8\",\"type\":\"BasicTickFormatter\"},{\"attributes\":{},\"id\":\"29f3acec-d67c-412e-bc35-30939165ba01\",\"type\":\"ToolEvents\"},{\"attributes\":{\"callback\":null,\"column_names\":[\"y\",\"x\"],\"data\":{\"x\":[0.4507940866102621,0.7026184808946343],\"y\":[0.16726500769942598,0.1504115347271688]}},\"id\":\"4523873d-a05d-4940-9e98-11a7078684cf\",\"type\":\"ColumnDataSource\"},{\"attributes\":{\"plot\":{\"id\":\"2f68f354-4db8-4fcc-838d-e743a2a77caa\",\"subtype\":\"Figure\",\"type\":\"Plot\"}},\"id\":\"69c0fa87-9fbb-4117-86ba-66d6fc8a5050\",\"type\":\"HelpTool\"},{\"attributes\":{\"callback\":null,\"column_names\":[\"y\",\"x\"],\"data\":{\"x\":[0.7056184808946343,0.9072741926489056],\"y\":[0.1499991234776617,0.1069842199296125]}},\"id\":\"e5583be5-ca6f-4308-86e2-4bc38d1ff335\",\"type\":\"ColumnDataSource\"},{\"attributes\":{\"callback\":null,\"column_names\":[\"y\",\"x\"],\"data\":{\"x\":[0.4507940866102621,0.7026184808946343],\"y\":[-0.16726500769942598,-0.1504115347271688]}},\"id\":\"a8edac13-ef61-47df-9b3e-7df8013845c8\",\"type\":\"ColumnDataSource\"},{\"attributes\":{},\"id\":\"6af69cdf-0bee-4598-a0ee-5a020a62bf54\",\"type\":\"BasicTicker\"},{\"attributes\":{\"line_color\":{\"value\":\"red\"},\"x\":{\"field\":\"x\"},\"y\":{\"field\":\"y\"}},\"id\":\"d01a9b94-e572-40c8-bd4b-521badcaa139\",\"type\":\"Line\"},{\"attributes\":{\"data_source\":{\"id\":\"83a0b551-111d-451e-ba74-16d5de64a8e7\",\"type\":\"ColumnDataSource\"},\"glyph\":{\"id\":\"a78b4cd4-7c20-47e4-a9a0-0f86e36ca70a\",\"type\":\"Line\"},\"hover_glyph\":null,\"nonselection_glyph\":{\"id\":\"92d4355b-7ed1-4e2c-9212-e038849f8e8a\",\"type\":\"Line\"},\"selection_glyph\":null},\"id\":\"71714722-3d0f-47b2-aa57-62b5b65fb88c\",\"type\":\"GlyphRenderer\"},{\"attributes\":{\"line_alpha\":{\"value\":0.1},\"line_color\":{\"value\":\"#1f77b4\"},\"x\":{\"field\":\"x\"},\"y\":{\"field\":\"y\"}},\"id\":\"c89076d9-4256-4a41-b6d1-7d4106af1c97\",\"type\":\"Line\"},{\"attributes\":{\"data_source\":{\"id\":\"f98aff94-f21a-44f3-af64-4aa494a03bb8\",\"type\":\"ColumnDataSource\"},\"glyph\":{\"id\":\"47e54507-dfff-4228-8315-762df2bd7b4a\",\"type\":\"Line\"},\"hover_glyph\":null,\"nonselection_glyph\":{\"id\":\"4892d0eb-8d87-4a16-914a-2e9d0429d4bf\",\"type\":\"Line\"},\"selection_glyph\":null},\"id\":\"a3d79652-2822-457d-bb95-01e230627e8b\",\"type\":\"GlyphRenderer\"},{\"attributes\":{\"data_source\":{\"id\":\"092a6267-a017-409c-9fc7-8556f492c5b9\",\"type\":\"ColumnDataSource\"},\"glyph\":{\"id\":\"d01a9b94-e572-40c8-bd4b-521badcaa139\",\"type\":\"Line\"},\"hover_glyph\":null,\"nonselection_glyph\":{\"id\":\"0208f081-86fe-4441-9125-4d52d59c5e07\",\"type\":\"Line\"},\"selection_glyph\":null},\"id\":\"93c673c7-4c5a-4678-98cb-59eb5c8aecae\",\"type\":\"GlyphRenderer\"},{\"attributes\":{\"callback\":null,\"column_names\":[\"y\",\"x\"],\"data\":{\"x\":[0.9102741926489056,1.0840078633082806],\"y\":[-0.1060885260216837,-0.03865011319357791]}},\"id\":\"5332731f-ad4b-4722-8699-546e05374630\",\"type\":\"ColumnDataSource\"},{\"attributes\":{\"dimension\":1,\"plot\":{\"id\":\"2f68f354-4db8-4fcc-838d-e743a2a77caa\",\"subtype\":\"Figure\",\"type\":\"Plot\"},\"ticker\":{\"id\":\"eaadc205-04fe-4206-aea9-3f2d669b7c62\",\"type\":\"BasicTicker\"}},\"id\":\"410a760c-5efa-499b-a1e0-b53ae1cf3fbf\",\"type\":\"Grid\"},{\"attributes\":{\"callback\":null,\"end\":1.5,\"start\":-1.5},\"id\":\"befe0ea6-ddc1-475c-a3ad-7fca7788d79e\",\"type\":\"Range1d\"},{\"attributes\":{\"data_source\":{\"id\":\"e13e89a3-0c37-4c2b-bc09-02d3b4d90af6\",\"type\":\"ColumnDataSource\"},\"glyph\":{\"id\":\"83c539d5-1c42-4e80-96cb-08f7d732fd3c\",\"type\":\"Line\"},\"hover_glyph\":null,\"nonselection_glyph\":{\"id\":\"63b0ff0a-eaa7-4beb-bcbe-998c5a4c8467\",\"type\":\"Line\"},\"selection_glyph\":null},\"id\":\"4e6c2fc3-e9bc-4fef-8177-0f4c2b9f6db6\",\"type\":\"GlyphRenderer\"},{\"attributes\":{\"callback\":null,\"column_names\":[\"y\",\"x\"],\"data\":{\"x\":[0.0,0.4477940866102621],\"y\":[0.14899999999999997,0.16729177296861644]}},\"id\":\"3e86aeb8-9237-4e5c-92f7-706f58391987\",\"type\":\"ColumnDataSource\"},{\"attributes\":{\"callback\":null,\"column_names\":[\"y\",\"x\"],\"data\":{\"x\":[-0.9151924971819597,-0.6564079966412256],\"y\":[0.07707746276787636,0.11117524258473155]}},\"id\":\"f98aff94-f21a-44f3-af64-4aa494a03bb8\",\"type\":\"ColumnDataSource\"},{\"attributes\":{},\"id\":\"eaadc205-04fe-4206-aea9-3f2d669b7c62\",\"type\":\"BasicTicker\"},{\"attributes\":{\"data_source\":{\"id\":\"2120644e-991c-40b4-960e-df165dc85cd8\",\"type\":\"ColumnDataSource\"},\"glyph\":{\"id\":\"f0e5112f-2ee5-442c-a7df-b2af4f156609\",\"type\":\"Line\"},\"hover_glyph\":null,\"nonselection_glyph\":{\"id\":\"c89076d9-4256-4a41-b6d1-7d4106af1c97\",\"type\":\"Line\"},\"selection_glyph\":null},\"id\":\"4faba47f-e582-4533-b8ed-5ae1985608f8\",\"type\":\"GlyphRenderer\"},{\"attributes\":{\"plot\":null,\"text\":null},\"id\":\"a9c92967-b8f2-49f0-9f87-6c6768f4cdac\",\"type\":\"Title\"},{\"attributes\":{\"line_alpha\":{\"value\":0.1},\"line_color\":{\"value\":\"#1f77b4\"},\"x\":{\"field\":\"x\"},\"y\":{\"field\":\"y\"}},\"id\":\"7a294bcc-82b5-44e8-805c-a85979b96e0a\",\"type\":\"Line\"},{\"attributes\":{\"data_source\":{\"id\":\"e5583be5-ca6f-4308-86e2-4bc38d1ff335\",\"type\":\"ColumnDataSource\"},\"glyph\":{\"id\":\"9f108151-ea02-44c6-a299-c33d487f0215\",\"type\":\"Line\"},\"hover_glyph\":null,\"nonselection_glyph\":{\"id\":\"2a34e45a-163d-4113-8dbb-10f78510de87\",\"type\":\"Line\"},\"selection_glyph\":null},\"id\":\"9b71c78b-4600-4bb1-806a-33ee9bbbc182\",\"type\":\"GlyphRenderer\"},{\"attributes\":{\"data_source\":{\"id\":\"796da172-3196-49a6-b7f5-f16a4d5b5f68\",\"type\":\"ColumnDataSource\"},\"glyph\":{\"id\":\"a5e50ed9-2ac6-4bac-ba6e-a3c1a3be846c\",\"type\":\"Line\"},\"hover_glyph\":null,\"nonselection_glyph\":{\"id\":\"7bd43530-8dbe-485a-b27c-075d690fc5b1\",\"type\":\"Line\"},\"selection_glyph\":null},\"id\":\"84ae8569-c918-43f8-8d2f-e9426d86dbf9\",\"type\":\"GlyphRenderer\"},{\"attributes\":{\"line_color\":{\"value\":\"red\"},\"x\":{\"field\":\"x\"},\"y\":{\"field\":\"y\"}},\"id\":\"47e54507-dfff-4228-8315-762df2bd7b4a\",\"type\":\"Line\"},{\"attributes\":{\"callback\":null,\"column_names\":[\"y\",\"x\"],\"data\":{\"x\":[-0.6534079966412256,-0.003000000000000008],\"y\":[-0.11141386924785365,-0.1488115065441302]}},\"id\":\"5795f5e3-9178-4975-b893-afd611e62377\",\"type\":\"ColumnDataSource\"},{\"attributes\":{\"data_source\":{\"id\":\"36efa49a-0adf-4e4f-aa30-f4932e64336f\",\"type\":\"ColumnDataSource\"},\"glyph\":{\"id\":\"5af99de1-a4a9-490a-b2ae-f36e196114e6\",\"type\":\"Line\"},\"hover_glyph\":null,\"nonselection_glyph\":{\"id\":\"fab879db-4fa7-4ec4-8ae1-e47668c4a744\",\"type\":\"Line\"},\"selection_glyph\":null},\"id\":\"19166140-778e-46f8-95e3-d0e3d500ae88\",\"type\":\"GlyphRenderer\"},{\"attributes\":{\"plot\":{\"id\":\"2f68f354-4db8-4fcc-838d-e743a2a77caa\",\"subtype\":\"Figure\",\"type\":\"Plot\"}},\"id\":\"cb259fd9-e35e-4620-adaf-fd38eeb1ca87\",\"type\":\"ResetTool\"},{\"attributes\":{\"data_source\":{\"id\":\"5795f5e3-9178-4975-b893-afd611e62377\",\"type\":\"ColumnDataSource\"},\"glyph\":{\"id\":\"e26dc69b-4a26-4281-91f5-a7f85b6a9a67\",\"type\":\"Line\"},\"hover_glyph\":null,\"nonselection_glyph\":{\"id\":\"7a294bcc-82b5-44e8-805c-a85979b96e0a\",\"type\":\"Line\"},\"selection_glyph\":null},\"id\":\"c123c406-285f-44ff-8231-ca5e3fe4ba8b\",\"type\":\"GlyphRenderer\"},{\"attributes\":{\"line_alpha\":{\"value\":0.1},\"line_color\":{\"value\":\"#1f77b4\"},\"x\":{\"field\":\"x\"},\"y\":{\"field\":\"y\"}},\"id\":\"5d4ecd9b-a8cb-44ae-a372-77d1e009f112\",\"type\":\"Line\"},{\"attributes\":{\"line_alpha\":{\"value\":0.1},\"line_color\":{\"value\":\"#1f77b4\"},\"x\":{\"field\":\"x\"},\"y\":{\"field\":\"y\"}},\"id\":\"0208f081-86fe-4441-9125-4d52d59c5e07\",\"type\":\"Line\"},{\"attributes\":{\"line_alpha\":{\"value\":0.1},\"line_color\":{\"value\":\"#1f77b4\"},\"x\":{\"field\":\"x\"},\"y\":{\"field\":\"y\"}},\"id\":\"9209bca0-1da2-4ce3-ba39-74bf5f3b3a18\",\"type\":\"Line\"},{\"attributes\":{\"line_alpha\":{\"value\":0.1},\"line_color\":{\"value\":\"#1f77b4\"},\"x\":{\"field\":\"x\"},\"y\":{\"field\":\"y\"}},\"id\":\"106ae1bf-cff6-4672-b008-1c18ef7a36cc\",\"type\":\"Line\"},{\"attributes\":{\"callback\":null,\"column_names\":[\"y\",\"x\"],\"data\":{\"x\":[0.9102741926489056,1.0840078633082806],\"y\":[0.1060885260216837,0.03865011319357791]}},\"id\":\"796da172-3196-49a6-b7f5-f16a4d5b5f68\",\"type\":\"ColumnDataSource\"},{\"attributes\":{\"line_color\":{\"value\":\"red\"},\"x\":{\"field\":\"x\"},\"y\":{\"field\":\"y\"}},\"id\":\"3fc5ae19-cf10-454b-85d5-9ce953be9652\",\"type\":\"Line\"},{\"attributes\":{\"data_source\":{\"id\":\"4523873d-a05d-4940-9e98-11a7078684cf\",\"type\":\"ColumnDataSource\"},\"glyph\":{\"id\":\"020145b1-8890-4411-a9f6-14cfa11c0277\",\"type\":\"Line\"},\"hover_glyph\":null,\"nonselection_glyph\":{\"id\":\"fe356bd8-e415-465e-be39-3f046e22ca78\",\"type\":\"Line\"},\"selection_glyph\":null},\"id\":\"37c93efe-5223-4e6f-8446-aa70c3bcddd1\",\"type\":\"GlyphRenderer\"},{\"attributes\":{\"line_alpha\":{\"value\":0.1},\"line_color\":{\"value\":\"#1f77b4\"},\"x\":{\"field\":\"x\"},\"y\":{\"field\":\"y\"}},\"id\":\"fe356bd8-e415-465e-be39-3f046e22ca78\",\"type\":\"Line\"},{\"attributes\":{\"line_color\":{\"value\":\"red\"},\"x\":{\"field\":\"x\"},\"y\":{\"field\":\"y\"}},\"id\":\"f0e5112f-2ee5-442c-a7df-b2af4f156609\",\"type\":\"Line\"},{\"attributes\":{\"line_color\":{\"value\":\"red\"},\"x\":{\"field\":\"x\"},\"y\":{\"field\":\"y\"}},\"id\":\"bd5b617c-a032-42e0-a87e-1380d524b6b9\",\"type\":\"Line\"},{\"attributes\":{\"formatter\":{\"id\":\"07611b01-8048-44fb-94a6-a9d86fec4c35\",\"type\":\"BasicTickFormatter\"},\"plot\":{\"id\":\"2f68f354-4db8-4fcc-838d-e743a2a77caa\",\"subtype\":\"Figure\",\"type\":\"Plot\"},\"ticker\":{\"id\":\"6af69cdf-0bee-4598-a0ee-5a020a62bf54\",\"type\":\"BasicTicker\"}},\"id\":\"edce4969-0ffd-44fc-a684-7569a6e8aba2\",\"type\":\"LinearAxis\"},{\"attributes\":{\"line_alpha\":{\"value\":0.1},\"line_color\":{\"value\":\"#1f77b4\"},\"x\":{\"field\":\"x\"},\"y\":{\"field\":\"y\"}},\"id\":\"84be2f76-370d-4812-8445-d8752b04202d\",\"type\":\"Line\"},{\"attributes\":{\"line_alpha\":{\"value\":0.1},\"line_color\":{\"value\":\"#1f77b4\"},\"x\":{\"field\":\"x\"},\"y\":{\"field\":\"y\"}},\"id\":\"2a34e45a-163d-4113-8dbb-10f78510de87\",\"type\":\"Line\"},{\"attributes\":{\"line_color\":{\"value\":\"red\"},\"x\":{\"field\":\"x\"},\"y\":{\"field\":\"y\"}},\"id\":\"83c539d5-1c42-4e80-96cb-08f7d732fd3c\",\"type\":\"Line\"},{\"attributes\":{\"line_alpha\":{\"value\":0.1},\"line_color\":{\"value\":\"#1f77b4\"},\"x\":{\"field\":\"x\"},\"y\":{\"field\":\"y\"}},\"id\":\"535d31ba-6d4c-47ca-9519-bf59245a37ea\",\"type\":\"Line\"},{\"attributes\":{\"callback\":null,\"column_names\":[\"y\",\"x\"],\"data\":{\"x\":[0.7056184808946343,0.9072741926489056],\"y\":[-0.1499991234776617,-0.1069842199296125]}},\"id\":\"092a6267-a017-409c-9fc7-8556f492c5b9\",\"type\":\"ColumnDataSource\"},{\"attributes\":{\"data_source\":{\"id\":\"b91de236-8540-401c-9cb5-63ab16955bfd\",\"type\":\"ColumnDataSource\"},\"glyph\":{\"id\":\"bd5b617c-a032-42e0-a87e-1380d524b6b9\",\"type\":\"Line\"},\"hover_glyph\":null,\"nonselection_glyph\":{\"id\":\"9209bca0-1da2-4ce3-ba39-74bf5f3b3a18\",\"type\":\"Line\"},\"selection_glyph\":null},\"id\":\"e6350be1-69f1-484e-b6ef-b5eac42309e0\",\"type\":\"GlyphRenderer\"},{\"attributes\":{\"plot\":{\"id\":\"2f68f354-4db8-4fcc-838d-e743a2a77caa\",\"subtype\":\"Figure\",\"type\":\"Plot\"}},\"id\":\"016d2c29-2d9d-4f09-9de7-ff2d62bb107a\",\"type\":\"SaveTool\"},{\"attributes\":{\"callback\":null,\"column_names\":[\"y\",\"x\"],\"data\":{\"x\":[-0.9151924971819597,-0.6564079966412256],\"y\":[-0.07707746276787636,-0.11117524258473155]}},\"id\":\"2120644e-991c-40b4-960e-df165dc85cd8\",\"type\":\"ColumnDataSource\"},{\"attributes\":{\"data_source\":{\"id\":\"0a4f4681-f089-4cc1-b012-15f1146c83d1\",\"type\":\"ColumnDataSource\"},\"glyph\":{\"id\":\"31525fa0-c396-48a0-9aaf-f5c7a9035b90\",\"type\":\"Line\"},\"hover_glyph\":null,\"nonselection_glyph\":{\"id\":\"84be2f76-370d-4812-8445-d8752b04202d\",\"type\":\"Line\"},\"selection_glyph\":null},\"id\":\"92599675-9706-40fe-a3c9-46dcb5f4d3fb\",\"type\":\"GlyphRenderer\"},{\"attributes\":{\"callback\":null,\"end\":0.3,\"start\":-0.3},\"id\":\"b70633d9-d01f-4223-98af-4446a52622a0\",\"type\":\"Range1d\"},{\"attributes\":{\"callback\":null,\"column_names\":[\"y\",\"x\"],\"data\":{\"x\":[-1.101391304347826,-0.9181924971819597],\"y\":[0.02395946123787013,0.0764625960061013]}},\"id\":\"0a4f4681-f089-4cc1-b012-15f1146c83d1\",\"type\":\"ColumnDataSource\"},{\"attributes\":{\"plot\":{\"id\":\"2f68f354-4db8-4fcc-838d-e743a2a77caa\",\"subtype\":\"Figure\",\"type\":\"Plot\"}},\"id\":\"71dee7b6-8b6e-443f-865b-4d57b148152d\",\"type\":\"WheelZoomTool\"}],\"root_ids\":[\"2f68f354-4db8-4fcc-838d-e743a2a77caa\"]},\"title\":\"Bokeh Application\",\"version\":\"0.12.1\"}};\n",
       "            var render_items = [{\"docid\":\"cb9ad04a-9694-4b51-a82f-f2d2757cec9f\",\"elementid\":\"dc8a5e7f-bd4a-43d1-9168-87f2840e7297\",\"modelid\":\"2f68f354-4db8-4fcc-838d-e743a2a77caa\",\"notebook_comms_target\":\"2e428bd1-6333-4cc5-9c0b-47ea467b9386\"}];\n",
       "            \n",
       "            Bokeh.embed.embed_items(docs_json, render_items);\n",
       "        });\n",
       "      },\n",
       "      function(Bokeh) {\n",
       "      }\n",
       "    ];\n",
       "  \n",
       "    function run_inline_js() {\n",
       "      for (var i = 0; i < inline_js.length; i++) {\n",
       "        inline_js[i](window.Bokeh);\n",
       "      }\n",
       "    }\n",
       "  \n",
       "    if (window._bokeh_is_loading === 0) {\n",
       "      console.log(\"Bokeh: BokehJS loaded, going straight to plotting\");\n",
       "      run_inline_js();\n",
       "    } else {\n",
       "      load_libs(js_urls, function() {\n",
       "        console.log(\"Bokeh: BokehJS plotting callback run at\", now());\n",
       "        run_inline_js();\n",
       "      });\n",
       "    }\n",
       "  }(this));\n",
       "</script>"
      ]
     },
     "metadata": {},
     "output_type": "display_data"
    },
    {
     "data": {
      "text/html": [
       "<p><code>&lt;Bokeh Notebook handle for <strong>In[12]</strong>&gt;</code></p>"
      ],
      "text/plain": [
       "<bokeh.io._CommsHandle at 0x7f33af366750>"
      ]
     },
     "execution_count": 12,
     "metadata": {},
     "output_type": "execute_result"
    }
   ],
   "source": [
    "p = figure(width=900,height=400,toolbar_location='above')\n",
    "p.y_range = Range1d(-0.3,0.3)\n",
    "p.x_range = Range1d(-1.5,1.5)\n",
    "p.line(stt,wl_cl)\n",
    "p.line(stt,-1*np.array(wl_cl))\n",
    "for i,l in enumerate(sol):\n",
    "    if i==2:\n",
    "        xt, yt = linepntsfromsol(l,tol=0.004/L)\n",
    "    else:\n",
    "        xt, yt = linepntsfromsol(l,tol=tol)\n",
    "    p.line(xt,yt,color='red')\n",
    "    p.line(xt,-1*np.array(yt),color='red')\n",
    "\n",
    "show(p)"
   ]
  },
  {
   "cell_type": "code",
   "execution_count": 34,
   "metadata": {
    "collapsed": false
   },
   "outputs": [
    {
     "data": {
      "text/plain": [
       "array([[ -0.00000000e+000,  -1.80906807e-002,  -2.55840860e-002,\n",
       "         -3.13339781e-002,  -3.61813613e-002,  -4.04519917e-002,\n",
       "         -4.43129368e-002,  -4.78634421e-002,  -5.11681719e-002,\n",
       "         -5.42720420e-002,  -5.72077554e-002,  -6.00000000e-002,\n",
       "         -6.26679561e-002,  -6.52268768e-002,  -6.76891290e-002,\n",
       "         -7.00649050e-002,  -7.23627227e-002,  -7.45897873e-002,\n",
       "         -7.67522579e-002,  -7.88554489e-002,  -8.09039835e-002,\n",
       "         -8.29019136e-002,  -8.48528137e-002,  -8.67598567e-002,\n",
       "         -8.86258735e-002,  -9.04534034e-002,  -9.22447338e-002,\n",
       "         -9.40019342e-002,  -9.57268842e-002,  -9.74212969e-002,\n",
       "         -9.90867389e-002,  -1.00724647e-001,  -1.02336344e-001,\n",
       "         -1.03923048e-001,  -1.05485889e-001,  -1.07025910e-001,\n",
       "         -1.08544084e-001,  -1.10041315e-001,  -1.11518445e-001,\n",
       "         -1.12976265e-001,  -1.14415511e-001,  -1.15836876e-001,\n",
       "         -1.17241011e-001,  -1.18628526e-001,  -1.20000000e-001,\n",
       "         -1.21355975e-001,  -1.22696966e-001,  -1.24023458e-001,\n",
       "         -1.25335912e-001,  -1.26634765e-001,  -1.27920430e-001,\n",
       "         -1.29193301e-001,  -1.30453754e-001,  -1.31702143e-001,\n",
       "         -1.32938810e-001,  -1.34164079e-001,  -1.35378258e-001,\n",
       "         -1.36581644e-001,  -1.37774519e-001,  -1.38957155e-001,\n",
       "         -1.40129810e-001,  -1.41292733e-001,  -1.42446162e-001,\n",
       "         -1.43590326e-001,  -1.44725445e-001,  -1.45851730e-001,\n",
       "         -1.46969385e-001,  -1.48078603e-001,  -1.49179575e-001,\n",
       "         -1.50272480e-001,  -1.51357494e-001,  -1.52434785e-001,\n",
       "         -1.53504516e-001,  -1.54566843e-001,  -1.55621919e-001,\n",
       "         -1.56669890e-001,  -1.57710898e-001,  -1.58745079e-001,\n",
       "         -1.59772566e-001,  -1.60793487e-001,  -1.61807967e-001,\n",
       "         -1.62816126e-001,  -1.63818081e-001,  -1.64813945e-001,\n",
       "         -1.65803827e-001,  -1.66787835e-001,  -1.67766071e-001,\n",
       "         -1.68738636e-001,  -1.69705627e-001,  -1.70667140e-001,\n",
       "         -1.71623266e-001,  -1.72574095e-001,  -1.73519713e-001,\n",
       "         -1.74460206e-001,  -1.75395657e-001,  -1.76326144e-001,\n",
       "         -1.77251747e-001,  -1.78172542e-001,  -1.79088602e-001,\n",
       "         -1.80000000e-001,   0.00000000e+000,   0.00000000e+000,\n",
       "          0.00000000e+000,   0.00000000e+000,   0.00000000e+000,\n",
       "          0.00000000e+000,   0.00000000e+000,   0.00000000e+000,\n",
       "          0.00000000e+000,   0.00000000e+000,   0.00000000e+000,\n",
       "          0.00000000e+000,   0.00000000e+000,   0.00000000e+000,\n",
       "          0.00000000e+000,   0.00000000e+000,   0.00000000e+000,\n",
       "          0.00000000e+000,   0.00000000e+000,   0.00000000e+000,\n",
       "          1.13188881e+060,   6.91245854e-310,   1.34111629e-316,\n",
       "          0.00000000e+000,   0.00000000e+000,   0.00000000e+000,\n",
       "          0.00000000e+000,   0.00000000e+000,   0.00000000e+000,\n",
       "          0.00000000e+000,   0.00000000e+000,   0.00000000e+000,\n",
       "          3.09034034e-115,   6.91245856e-310,   1.34109969e-316,\n",
       "          0.00000000e+000,   0.00000000e+000,   0.00000000e+000,\n",
       "          0.00000000e+000,   0.00000000e+000,   0.00000000e+000,\n",
       "          0.00000000e+000,   0.00000000e+000,   0.00000000e+000,\n",
       "          2.25107004e-241,   6.91245854e-310,   1.34110681e-316,\n",
       "          0.00000000e+000,   0.00000000e+000,   0.00000000e+000,\n",
       "          0.00000000e+000,   0.00000000e+000,   0.00000000e+000,\n",
       "          1.01650318e+279,   6.91245854e-310,   1.34109495e-316,\n",
       "          0.00000000e+000,   0.00000000e+000,   0.00000000e+000,\n",
       "          0.00000000e+000,   0.00000000e+000,   0.00000000e+000,\n",
       "          0.00000000e+000,   0.00000000e+000,   0.00000000e+000,\n",
       "          0.00000000e+000,   0.00000000e+000,   0.00000000e+000,\n",
       "          0.00000000e+000,   0.00000000e+000,   0.00000000e+000,\n",
       "          0.00000000e+000,   0.00000000e+000,   0.00000000e+000,\n",
       "          0.00000000e+000,   0.00000000e+000,   0.00000000e+000,\n",
       "         -1.19670528e+158,   6.91245856e-310,   1.34111274e-316,\n",
       "          0.00000000e+000,   0.00000000e+000,   0.00000000e+000,\n",
       "          1.46448923e+022,   6.91245854e-310,   1.34110207e-316,\n",
       "          0.00000000e+000,   0.00000000e+000,   0.00000000e+000,\n",
       "         -4.63479392e+242,   6.91245854e-310,   1.34110918e-316,\n",
       "          0.00000000e+000,   0.00000000e+000,   0.00000000e+000,\n",
       "          0.00000000e+000,   0.00000000e+000,   0.00000000e+000,\n",
       "          0.00000000e+000,   0.00000000e+000],\n",
       "       [  2.39594612e-002,   2.37174465e-002,   2.34754317e-002,\n",
       "          2.32334170e-002,   2.29914022e-002,   2.27493874e-002,\n",
       "          2.25073727e-002,   2.22653579e-002,   2.20233432e-002,\n",
       "          2.17813284e-002,   2.15393136e-002,   2.12972989e-002,\n",
       "          2.10552841e-002,   2.08132694e-002,   2.05712546e-002,\n",
       "          2.03292398e-002,   2.00872251e-002,   1.98452103e-002,\n",
       "          1.96031956e-002,   1.93611808e-002,   1.91191660e-002,\n",
       "          1.88771513e-002,   1.86351365e-002,   1.83931218e-002,\n",
       "          1.81511070e-002,   1.79090922e-002,   1.76670775e-002,\n",
       "          1.74250627e-002,   1.71830480e-002,   1.69410332e-002,\n",
       "          1.66990184e-002,   1.64570037e-002,   1.62149889e-002,\n",
       "          1.59729742e-002,   1.57309594e-002,   1.54889446e-002,\n",
       "          1.52469299e-002,   1.50049151e-002,   1.47629004e-002,\n",
       "          1.45208856e-002,   1.42788708e-002,   1.40368561e-002,\n",
       "          1.37948413e-002,   1.35528266e-002,   1.33108118e-002,\n",
       "          1.30687970e-002,   1.28267823e-002,   1.25847675e-002,\n",
       "          1.23427528e-002,   1.21007380e-002,   1.18587232e-002,\n",
       "          1.16167085e-002,   1.13746937e-002,   1.11326790e-002,\n",
       "          1.08906642e-002,   1.06486494e-002,   1.04066347e-002,\n",
       "          1.01646199e-002,   9.92260516e-003,   9.68059040e-003,\n",
       "          9.43857564e-003,   9.19656088e-003,   8.95454612e-003,\n",
       "          8.71253136e-003,   8.47051660e-003,   8.22850184e-003,\n",
       "          7.98648708e-003,   7.74447232e-003,   7.50245756e-003,\n",
       "          7.26044280e-003,   7.01842804e-003,   6.77641328e-003,\n",
       "          6.53439852e-003,   6.29238376e-003,   6.05036900e-003,\n",
       "          5.80835424e-003,   5.56633948e-003,   5.32432472e-003,\n",
       "          5.08230996e-003,   4.84029520e-003,   4.59828044e-003,\n",
       "          4.35626568e-003,   4.11425092e-003,   3.87223616e-003,\n",
       "          3.63022140e-003,   3.38820664e-003,   3.14619188e-003,\n",
       "          2.90417712e-003,   2.66216236e-003,   2.42014760e-003,\n",
       "          2.17813284e-003,   1.93611808e-003,   1.69410332e-003,\n",
       "          1.45208856e-003,   1.21007380e-003,   9.68059040e-004,\n",
       "          7.26044280e-004,   4.84029520e-004,   2.42014760e-004,\n",
       "          0.00000000e+000,   0.00000000e+000,   0.00000000e+000,\n",
       "          0.00000000e+000,   0.00000000e+000,   0.00000000e+000,\n",
       "          0.00000000e+000,   0.00000000e+000,   0.00000000e+000,\n",
       "          0.00000000e+000,   0.00000000e+000,   0.00000000e+000,\n",
       "          0.00000000e+000,   0.00000000e+000,   0.00000000e+000,\n",
       "          0.00000000e+000,   0.00000000e+000,   0.00000000e+000,\n",
       "          0.00000000e+000,   0.00000000e+000,   0.00000000e+000,\n",
       "          0.00000000e+000,   0.00000000e+000,   0.00000000e+000,\n",
       "          0.00000000e+000,   0.00000000e+000,   0.00000000e+000,\n",
       "          0.00000000e+000,   0.00000000e+000,   0.00000000e+000,\n",
       "          0.00000000e+000,   0.00000000e+000,   0.00000000e+000,\n",
       "          0.00000000e+000,   7.90396019e+020,   6.91245854e-310,\n",
       "          1.34110088e-316,   0.00000000e+000,   0.00000000e+000,\n",
       "          0.00000000e+000,   0.00000000e+000,   0.00000000e+000,\n",
       "          0.00000000e+000,  -1.35284537e+052,   6.91245854e-310,\n",
       "          1.34110799e-316,   0.00000000e+000,   0.00000000e+000,\n",
       "          0.00000000e+000,   0.00000000e+000,   0.00000000e+000,\n",
       "          0.00000000e+000,  -2.08541351e-253,   6.91245856e-310,\n",
       "          1.34112104e-316,   0.00000000e+000,   0.00000000e+000,\n",
       "          0.00000000e+000,   3.13092272e-307,   6.91245854e-310,\n",
       "          1.34110325e-316,   1.76793239e-243,   6.91245854e-310,\n",
       "          1.34111985e-316,   0.00000000e+000,   0.00000000e+000,\n",
       "          0.00000000e+000,   0.00000000e+000,   0.00000000e+000,\n",
       "          0.00000000e+000,  -5.54496514e+019,   6.91245856e-310,\n",
       "          1.34111867e-316,   0.00000000e+000,   0.00000000e+000,\n",
       "          0.00000000e+000,   0.00000000e+000,   0.00000000e+000,\n",
       "          0.00000000e+000,  -4.61770383e+125,   6.91245856e-310,\n",
       "          1.34111037e-316,   0.00000000e+000,   0.00000000e+000,\n",
       "          0.00000000e+000,   2.07955588e-312,   9.01669804e-321,\n",
       "          6.91253870e-310,   6.91253870e-310,   5.18571776e-316,\n",
       "          5.18571776e-316,   9.97338022e-313,   2.44029516e-312,\n",
       "          2.07955588e-312,   1.01855798e-312,   9.54898106e-313,\n",
       "          1.97345609e-312,   2.10077583e-312,   2.01589600e-312,\n",
       "          1.06099790e-312,   1.29441743e-312]])"
      ]
     },
     "execution_count": 34,
     "metadata": {},
     "output_type": "execute_result"
    }
   ],
   "source": [
    "cs_b_f"
   ]
  },
  {
   "cell_type": "code",
   "execution_count": 35,
   "metadata": {
    "collapsed": false
   },
   "outputs": [
    {
     "data": {
      "text/plain": [
       "array([ -0.00000000e+000,  -1.80906807e-002,  -2.55840860e-002,\n",
       "        -3.13339781e-002,  -3.61813613e-002,  -4.04519917e-002,\n",
       "        -4.43129368e-002,  -4.78634421e-002,  -5.11681719e-002,\n",
       "        -5.42720420e-002,  -5.72077554e-002,  -6.00000000e-002,\n",
       "        -6.26679561e-002,  -6.52268768e-002,  -6.76891290e-002,\n",
       "        -7.00649050e-002,  -7.23627227e-002,  -7.45897873e-002,\n",
       "        -7.67522579e-002,  -7.88554489e-002,  -8.09039835e-002,\n",
       "        -8.29019136e-002,  -8.48528137e-002,  -8.67598567e-002,\n",
       "        -8.86258735e-002,  -9.04534034e-002,  -9.22447338e-002,\n",
       "        -9.40019342e-002,  -9.57268842e-002,  -9.74212969e-002,\n",
       "        -9.90867389e-002,  -1.00724647e-001,  -1.02336344e-001,\n",
       "        -1.03923048e-001,  -1.05485889e-001,  -1.07025910e-001,\n",
       "        -1.08544084e-001,  -1.10041315e-001,  -1.11518445e-001,\n",
       "        -1.12976265e-001,  -1.14415511e-001,  -1.15836876e-001,\n",
       "        -1.17241011e-001,  -1.18628526e-001,  -1.20000000e-001,\n",
       "        -1.21355975e-001,  -1.22696966e-001,  -1.24023458e-001,\n",
       "        -1.25335912e-001,  -1.26634765e-001,  -1.27920430e-001,\n",
       "        -1.29193301e-001,  -1.30453754e-001,  -1.31702143e-001,\n",
       "        -1.32938810e-001,  -1.34164079e-001,  -1.35378258e-001,\n",
       "        -1.36581644e-001,  -1.37774519e-001,  -1.38957155e-001,\n",
       "        -1.40129810e-001,  -1.41292733e-001,  -1.42446162e-001,\n",
       "        -1.43590326e-001,  -1.44725445e-001,  -1.45851730e-001,\n",
       "        -1.46969385e-001,  -1.48078603e-001,  -1.49179575e-001,\n",
       "        -1.50272480e-001,  -1.51357494e-001,  -1.52434785e-001,\n",
       "        -1.53504516e-001,  -1.54566843e-001,  -1.55621919e-001,\n",
       "        -1.56669890e-001,  -1.57710898e-001,  -1.58745079e-001,\n",
       "        -1.59772566e-001,  -1.60793487e-001,  -1.61807967e-001,\n",
       "        -1.62816126e-001,  -1.63818081e-001,  -1.64813945e-001,\n",
       "        -1.65803827e-001,  -1.66787835e-001,  -1.67766071e-001,\n",
       "        -1.68738636e-001,  -1.69705627e-001,  -1.70667140e-001,\n",
       "        -1.71623266e-001,  -1.72574095e-001,  -1.73519713e-001,\n",
       "        -1.74460206e-001,  -1.75395657e-001,  -1.76326144e-001,\n",
       "        -1.77251747e-001,  -1.78172542e-001,  -1.79088602e-001,\n",
       "        -1.80000000e-001,   0.00000000e+000,   0.00000000e+000,\n",
       "         0.00000000e+000,   0.00000000e+000,   0.00000000e+000,\n",
       "         0.00000000e+000,   0.00000000e+000,   0.00000000e+000,\n",
       "         0.00000000e+000,   0.00000000e+000,   0.00000000e+000,\n",
       "         0.00000000e+000,   0.00000000e+000,   0.00000000e+000,\n",
       "         0.00000000e+000,   0.00000000e+000,   0.00000000e+000,\n",
       "         0.00000000e+000,   0.00000000e+000,   0.00000000e+000,\n",
       "         1.13188881e+060,   6.91245854e-310,   1.34111629e-316,\n",
       "         0.00000000e+000,   0.00000000e+000,   0.00000000e+000,\n",
       "         0.00000000e+000,   0.00000000e+000,   0.00000000e+000,\n",
       "         0.00000000e+000,   0.00000000e+000,   0.00000000e+000,\n",
       "         3.09034034e-115,   6.91245856e-310,   1.34109969e-316,\n",
       "         0.00000000e+000,   0.00000000e+000,   0.00000000e+000,\n",
       "         0.00000000e+000,   0.00000000e+000,   0.00000000e+000,\n",
       "         0.00000000e+000,   0.00000000e+000,   0.00000000e+000,\n",
       "         2.25107004e-241,   6.91245854e-310,   1.34110681e-316,\n",
       "         0.00000000e+000,   0.00000000e+000,   0.00000000e+000,\n",
       "         0.00000000e+000,   0.00000000e+000,   0.00000000e+000,\n",
       "         1.01650318e+279,   6.91245854e-310,   1.34109495e-316,\n",
       "         0.00000000e+000,   0.00000000e+000,   0.00000000e+000,\n",
       "         0.00000000e+000,   0.00000000e+000,   0.00000000e+000,\n",
       "         0.00000000e+000,   0.00000000e+000,   0.00000000e+000,\n",
       "         0.00000000e+000,   0.00000000e+000,   0.00000000e+000,\n",
       "         0.00000000e+000,   0.00000000e+000,   0.00000000e+000,\n",
       "         0.00000000e+000,   0.00000000e+000,   0.00000000e+000,\n",
       "         0.00000000e+000,   0.00000000e+000,   0.00000000e+000,\n",
       "        -1.19670528e+158,   6.91245856e-310,   1.34111274e-316,\n",
       "         0.00000000e+000,   0.00000000e+000,   0.00000000e+000,\n",
       "         1.46448923e+022,   6.91245854e-310,   1.34110207e-316,\n",
       "         0.00000000e+000,   0.00000000e+000,   0.00000000e+000,\n",
       "        -4.63479392e+242,   6.91245854e-310,   1.34110918e-316,\n",
       "         0.00000000e+000,   0.00000000e+000,   0.00000000e+000,\n",
       "         0.00000000e+000,   0.00000000e+000,   0.00000000e+000,\n",
       "         0.00000000e+000,   0.00000000e+000])"
      ]
     },
     "execution_count": 35,
     "metadata": {},
     "output_type": "execute_result"
    }
   ],
   "source": [
    "cs_b_f[0,:]"
   ]
  },
  {
   "cell_type": "code",
   "execution_count": 15,
   "metadata": {
    "collapsed": false
   },
   "outputs": [
    {
     "data": {
      "text/plain": [
       "0.18319880716586634"
      ]
     },
     "execution_count": 15,
     "metadata": {},
     "output_type": "execute_result"
    }
   ],
   "source": [
    "xt[1]-xt[0]"
   ]
  },
  {
   "cell_type": "code",
   "execution_count": 13,
   "metadata": {
    "collapsed": false
   },
   "outputs": [
    {
     "data": {
      "text/html": [
       "\n",
       "\n",
       "    <div class=\"bk-root\">\n",
       "        <div class=\"plotdiv\" id=\"1254a616-7e7a-4e02-b1c7-0bb21009322d\"></div>\n",
       "    </div>\n",
       "<script type=\"text/javascript\">\n",
       "  \n",
       "  (function(global) {\n",
       "    function now() {\n",
       "      return new Date();\n",
       "    }\n",
       "  \n",
       "    var force = \"\";\n",
       "  \n",
       "    if (typeof (window._bokeh_onload_callbacks) === \"undefined\" || force !== \"\") {\n",
       "      window._bokeh_onload_callbacks = [];\n",
       "      window._bokeh_is_loading = undefined;\n",
       "    }\n",
       "  \n",
       "    function run_callbacks() {\n",
       "      window._bokeh_onload_callbacks.forEach(function(callback) { callback() });\n",
       "      delete window._bokeh_onload_callbacks\n",
       "      console.info(\"Bokeh: all callbacks have finished\");\n",
       "    }\n",
       "  \n",
       "    function load_libs(js_urls, callback) {\n",
       "      window._bokeh_onload_callbacks.push(callback);\n",
       "      if (window._bokeh_is_loading > 0) {\n",
       "        console.log(\"Bokeh: BokehJS is being loaded, scheduling callback at\", now());\n",
       "        return null;\n",
       "      }\n",
       "      if (js_urls == null || js_urls.length === 0) {\n",
       "        run_callbacks();\n",
       "        return null;\n",
       "      }\n",
       "      console.log(\"Bokeh: BokehJS not loaded, scheduling load and callback at\", now());\n",
       "      window._bokeh_is_loading = js_urls.length;\n",
       "      for (var i = 0; i < js_urls.length; i++) {\n",
       "        var url = js_urls[i];\n",
       "        var s = document.createElement('script');\n",
       "        s.src = url;\n",
       "        s.async = false;\n",
       "        s.onreadystatechange = s.onload = function() {\n",
       "          window._bokeh_is_loading--;\n",
       "          if (window._bokeh_is_loading === 0) {\n",
       "            console.log(\"Bokeh: all BokehJS libraries loaded\");\n",
       "            run_callbacks()\n",
       "          }\n",
       "        };\n",
       "        s.onerror = function() {\n",
       "          console.warn(\"failed to load library \" + url);\n",
       "        };\n",
       "        console.log(\"Bokeh: injecting script tag for BokehJS library: \", url);\n",
       "        document.getElementsByTagName(\"head\")[0].appendChild(s);\n",
       "      }\n",
       "    };var element = document.getElementById(\"1254a616-7e7a-4e02-b1c7-0bb21009322d\");\n",
       "    if (element == null) {\n",
       "      console.log(\"Bokeh: ERROR: autoload.js configured with elementid '1254a616-7e7a-4e02-b1c7-0bb21009322d' but no matching script tag was found. \")\n",
       "      return false;\n",
       "    }\n",
       "  \n",
       "    var js_urls = [];\n",
       "  \n",
       "    var inline_js = [\n",
       "      function(Bokeh) {\n",
       "        Bokeh.$(function() {\n",
       "            var docs_json = {\"9e297f13-9296-4a97-b460-a8ed3e2ab051\":{\"roots\":{\"references\":[{\"attributes\":{\"formatter\":{\"id\":\"6f912993-9233-4b52-99ef-09c97faa4ddc\",\"type\":\"BasicTickFormatter\"},\"plot\":{\"id\":\"8c768865-d836-4f09-bd67-ae80024b1a37\",\"subtype\":\"Figure\",\"type\":\"Plot\"},\"ticker\":{\"id\":\"47cc219c-aa0c-4e6b-baa5-4942c567d42d\",\"type\":\"BasicTicker\"}},\"id\":\"54b14750-1ec4-4b8a-aa4c-b6cdb81ae0e0\",\"type\":\"LinearAxis\"},{\"attributes\":{},\"id\":\"dcf12b5e-c17d-4253-90d6-1c782251e218\",\"type\":\"BasicTickFormatter\"},{\"attributes\":{\"data_source\":{\"id\":\"51e44661-c954-430e-bd2c-465c0201c0be\",\"type\":\"ColumnDataSource\"},\"glyph\":{\"id\":\"41c2273d-a9a9-4fb3-9fa9-162d95c9d137\",\"type\":\"Line\"},\"hover_glyph\":null,\"nonselection_glyph\":{\"id\":\"463528d0-f3e3-4abe-a21a-4044fc922177\",\"type\":\"Line\"},\"selection_glyph\":null},\"id\":\"add0371d-d064-4980-9b05-7c0c0be118c1\",\"type\":\"GlyphRenderer\"},{\"attributes\":{\"plot\":{\"id\":\"8c768865-d836-4f09-bd67-ae80024b1a37\",\"subtype\":\"Figure\",\"type\":\"Plot\"}},\"id\":\"dd0c691f-65e1-40ad-883a-88d8f48c05c8\",\"type\":\"PanTool\"},{\"attributes\":{\"plot\":{\"id\":\"8c768865-d836-4f09-bd67-ae80024b1a37\",\"subtype\":\"Figure\",\"type\":\"Plot\"}},\"id\":\"809a07c8-6bcd-40e4-9313-b68cc1886039\",\"type\":\"WheelZoomTool\"},{\"attributes\":{},\"id\":\"af14c900-3c07-41b4-8abf-d3ef2e4ca0e7\",\"type\":\"BasicTicker\"},{\"attributes\":{\"line_color\":{\"value\":\"#1f77b4\"},\"x\":{\"field\":\"x\"},\"y\":{\"field\":\"y\"}},\"id\":\"41c2273d-a9a9-4fb3-9fa9-162d95c9d137\",\"type\":\"Line\"},{\"attributes\":{\"line_color\":{\"value\":\"red\"},\"x\":{\"field\":\"x\"},\"y\":{\"field\":\"y\"}},\"id\":\"8cd5bde6-64fa-4318-a6a2-e7e17dfce014\",\"type\":\"Line\"},{\"attributes\":{\"data_source\":{\"id\":\"b5fa9415-5095-4450-8884-8497dfd38b65\",\"type\":\"ColumnDataSource\"},\"glyph\":{\"id\":\"8cd5bde6-64fa-4318-a6a2-e7e17dfce014\",\"type\":\"Line\"},\"hover_glyph\":null,\"nonselection_glyph\":{\"id\":\"b47420d3-2575-4078-a84b-ea95d2296870\",\"type\":\"Line\"},\"selection_glyph\":null},\"id\":\"a9c0c9f0-ea21-4ed9-88c5-7610f9c40deb\",\"type\":\"GlyphRenderer\"},{\"attributes\":{\"dimension\":1,\"plot\":{\"id\":\"8c768865-d836-4f09-bd67-ae80024b1a37\",\"subtype\":\"Figure\",\"type\":\"Plot\"},\"ticker\":{\"id\":\"af14c900-3c07-41b4-8abf-d3ef2e4ca0e7\",\"type\":\"BasicTicker\"}},\"id\":\"a2a1a999-0451-4ef4-ba84-03b8aff61d53\",\"type\":\"Grid\"},{\"attributes\":{\"bottom_units\":\"screen\",\"fill_alpha\":{\"value\":0.5},\"fill_color\":{\"value\":\"lightgrey\"},\"left_units\":\"screen\",\"level\":\"overlay\",\"line_alpha\":{\"value\":1.0},\"line_color\":{\"value\":\"black\"},\"line_dash\":[4,4],\"line_width\":{\"value\":2},\"plot\":null,\"render_mode\":\"css\",\"right_units\":\"screen\",\"top_units\":\"screen\"},\"id\":\"1e10ce98-c3dc-4c0b-b804-efe8518c29b9\",\"type\":\"BoxAnnotation\"},{\"attributes\":{\"overlay\":{\"id\":\"1e10ce98-c3dc-4c0b-b804-efe8518c29b9\",\"type\":\"BoxAnnotation\"},\"plot\":{\"id\":\"8c768865-d836-4f09-bd67-ae80024b1a37\",\"subtype\":\"Figure\",\"type\":\"Plot\"}},\"id\":\"eeefef36-ffa8-4e9b-beb4-b1b4792f1d9b\",\"type\":\"BoxZoomTool\"},{\"attributes\":{},\"id\":\"6f912993-9233-4b52-99ef-09c97faa4ddc\",\"type\":\"BasicTickFormatter\"},{\"attributes\":{\"line_alpha\":{\"value\":0.1},\"line_color\":{\"value\":\"#1f77b4\"},\"x\":{\"field\":\"x\"},\"y\":{\"field\":\"y\"}},\"id\":\"b47420d3-2575-4078-a84b-ea95d2296870\",\"type\":\"Line\"},{\"attributes\":{\"below\":[{\"id\":\"54b14750-1ec4-4b8a-aa4c-b6cdb81ae0e0\",\"type\":\"LinearAxis\"}],\"left\":[{\"id\":\"1926f707-c296-44ae-ba6a-569aba98ac01\",\"type\":\"LinearAxis\"}],\"plot_height\":500,\"plot_width\":520,\"renderers\":[{\"id\":\"54b14750-1ec4-4b8a-aa4c-b6cdb81ae0e0\",\"type\":\"LinearAxis\"},{\"id\":\"a18dfb1f-5adc-4188-9cfa-931a1a1c40f6\",\"type\":\"Grid\"},{\"id\":\"1926f707-c296-44ae-ba6a-569aba98ac01\",\"type\":\"LinearAxis\"},{\"id\":\"a2a1a999-0451-4ef4-ba84-03b8aff61d53\",\"type\":\"Grid\"},{\"id\":\"1e10ce98-c3dc-4c0b-b804-efe8518c29b9\",\"type\":\"BoxAnnotation\"},{\"id\":\"add0371d-d064-4980-9b05-7c0c0be118c1\",\"type\":\"GlyphRenderer\"},{\"id\":\"a9c0c9f0-ea21-4ed9-88c5-7610f9c40deb\",\"type\":\"GlyphRenderer\"}],\"title\":{\"id\":\"8dff8bb2-027b-48c2-858a-6f90de72281c\",\"type\":\"Title\"},\"tool_events\":{\"id\":\"7e956a99-1536-4fe1-b732-bd1fa6b5df30\",\"type\":\"ToolEvents\"},\"toolbar\":{\"id\":\"48e76ec3-8bb9-40f1-93ca-406da72df7f9\",\"type\":\"Toolbar\"},\"x_range\":{\"id\":\"4d410d6f-4218-4e3e-9672-9f6ab7546192\",\"type\":\"Range1d\"},\"y_range\":{\"id\":\"f55375a3-4399-4872-8511-0ef669e26d15\",\"type\":\"Range1d\"}},\"id\":\"8c768865-d836-4f09-bd67-ae80024b1a37\",\"subtype\":\"Figure\",\"type\":\"Plot\"},{\"attributes\":{\"line_alpha\":{\"value\":0.1},\"line_color\":{\"value\":\"#1f77b4\"},\"x\":{\"field\":\"x\"},\"y\":{\"field\":\"y\"}},\"id\":\"463528d0-f3e3-4abe-a21a-4044fc922177\",\"type\":\"Line\"},{\"attributes\":{\"plot\":{\"id\":\"8c768865-d836-4f09-bd67-ae80024b1a37\",\"subtype\":\"Figure\",\"type\":\"Plot\"}},\"id\":\"54e73ed1-f275-4ce5-a910-3611205a0efb\",\"type\":\"HelpTool\"},{\"attributes\":{\"active_drag\":\"auto\",\"active_scroll\":\"auto\",\"active_tap\":\"auto\",\"tools\":[{\"id\":\"dd0c691f-65e1-40ad-883a-88d8f48c05c8\",\"type\":\"PanTool\"},{\"id\":\"809a07c8-6bcd-40e4-9313-b68cc1886039\",\"type\":\"WheelZoomTool\"},{\"id\":\"eeefef36-ffa8-4e9b-beb4-b1b4792f1d9b\",\"type\":\"BoxZoomTool\"},{\"id\":\"ae064a84-3e5a-4b79-b598-7ba3afde6298\",\"type\":\"SaveTool\"},{\"id\":\"5e37728e-2f69-4017-adc4-2387accac63c\",\"type\":\"ResetTool\"},{\"id\":\"54e73ed1-f275-4ce5-a910-3611205a0efb\",\"type\":\"HelpTool\"}]},\"id\":\"48e76ec3-8bb9-40f1-93ca-406da72df7f9\",\"type\":\"Toolbar\"},{\"attributes\":{\"callback\":null,\"column_names\":[\"y\",\"x\"],\"data\":{\"x\":[23.95946123787013,23.71744647789164,23.47543171791316,23.233416957934676,22.991402197956187,22.749387437977706,22.507372677999218,22.26535791802073,22.023343158042245,21.781328398063756,21.53931363808527,21.297298878106783,21.0552841181283,20.81326935814981,20.571254598171326,20.329239838192837,20.087225078214356,19.845210318235868,19.60319555825738,19.361180798278898,19.11916603830041,18.87715127832192,18.635136518343433,18.393121758364952,18.151106998386467,17.90909223840798,17.667077478429494,17.425062718451006,17.18304795847252,16.941033198494036,16.699018438515548,16.45700367853706,16.21498891855857,15.97297415858009,15.730959398601602,15.488944638623115,15.246929878644632,15.004915118666144,14.76290035868766,14.520885598709171,14.278870838730688,14.0368560787522,13.794841318773713,13.552826558795227,13.31081179881674,13.068797038838253,12.826782278859769,12.584767518881282,12.342752758902796,12.10073799892431,11.85872323894582,11.616708478967338,11.374693718988853,11.132678959010365,10.890664199031878,10.648649439053392,10.406634679074905,10.164619919096419,9.922605159117934,9.680590399139449,9.43857563916096,9.196560879182476,8.95454611920399,8.712531359225503,8.470516599247018,8.22850183926853,7.986487079290045,7.744472319311558,7.502457559333072,7.2604427993545855,7.0184280393761,6.776413279397613,6.534398519419127,6.292383759440641,6.050368999462155,5.808354239483669,5.566339479505182,5.324324719526696,5.082309959548209,4.8402951995697245,4.598280439591238,4.3562656796127515,4.114250919634265,3.872236159655779,3.6302213996772927,3.3882066396988066,3.1461918797203206,2.9041771197418345,2.662162359763348,2.4201475997848623,2.1781328398063757,1.9361180798278894,1.6941033198494033,1.4520885598709172,1.2100737998924311,0.9680590399139447,0.7260442799354586,0.48402951995697235,0.24201475997848618,0.0,-0.0,-0.24201475997848618,-0.48402951995697235,-0.7260442799354586,-0.9680590399139447,-1.2100737998924311,-1.4520885598709172,-1.6941033198494033,-1.9361180798278894,-2.1781328398063757,-2.4201475997848623,-2.662162359763348,-2.9041771197418345,-3.1461918797203206,-3.3882066396988066,-3.6302213996772927,-3.872236159655779,-4.114250919634265,-4.3562656796127515,-4.598280439591238,-4.8402951995697245,-5.082309959548209,-5.324324719526696,-5.566339479505182,-5.808354239483669,-6.050368999462155,-6.292383759440641,-6.534398519419127,-6.776413279397613,-7.0184280393761,-7.2604427993545855,-7.502457559333072,-7.744472319311558,-7.986487079290045,-8.22850183926853,-8.470516599247018,-8.712531359225503,-8.95454611920399,-9.196560879182476,-9.43857563916096,-9.680590399139449,-9.922605159117934,-10.164619919096419,-10.406634679074905,-10.648649439053392,-10.890664199031878,-11.132678959010365,-11.374693718988853,-11.616708478967338,-11.85872323894582,-12.10073799892431,-12.342752758902796,-12.584767518881282,-12.826782278859769,-13.068797038838253,-13.31081179881674,-13.552826558795227,-13.794841318773713,-14.0368560787522,-14.278870838730688,-14.520885598709171,-14.76290035868766,-15.004915118666144,-15.246929878644632,-15.488944638623115,-15.730959398601602,-15.97297415858009,-16.21498891855857,-16.45700367853706,-16.699018438515548,-16.941033198494036,-17.18304795847252,-17.425062718451006,-17.667077478429494,-17.90909223840798,-18.151106998386467,-18.393121758364952,-18.635136518343433,-18.87715127832192,-19.11916603830041,-19.361180798278898,-19.60319555825738,-19.845210318235868,-20.087225078214356,-20.329239838192837,-20.571254598171326,-20.81326935814981,-21.0552841181283,-21.297298878106783,-21.53931363808527,-21.781328398063756,-22.023343158042245,-22.26535791802073,-22.507372677999218,-22.749387437977706,-22.991402197956187,-23.233416957934676,-23.47543171791316,-23.71744647789164,-23.95946123787013],\"y\":[-0.0,-18.090680674665776,-25.584085962673193,-31.333978072025598,-36.1813613493316,-40.45199174779448,-44.312936752559764,-47.8634421130479,-51.168171925346485,-54.27204202399742,-57.207755354735504,-59.999999999999986,-62.667956144051196,-65.22687678055307,-67.68912897813192,-70.06490497453706,-72.36272269866325,-74.58978726096731,-76.75225788801974,-78.8554488807325,-80.90398349558905,-82.90191356493088,-84.85281374238569,-86.75985665774652,-88.62587350511956,-90.4534033733291,-92.24473377429688,-94.00193421607683,-95.72688422609586,-97.42129690631862,-99.08673886137245,-100.7246471597421,-102.336343850693,-103.92304845413263,-105.48588875898392,-107.02591020190134,-108.54408404799489,-110.04131455544734,-111.51844527415018,-112.97626460295261,-114.41551070947106,-115.83687589961073,-117.24101051020733,-118.62852638689931,-120.0,-121.35597524338357,-122.69696595493083,-124.02345819165896,-125.33591228810242,-126.63476472266072,-127.92042981336627,-129.1933012617492,-130.45375356110617,-131.70214328345057,-132.93881025767934,-134.1640786499874,-135.37825795626387,-136.58164391507907,-137.77451934889189,-138.95715494025814,-140.12980994907412,-141.29273287623948,-142.44616207855196,-143.59032633914381,-144.72544539732655,-145.8517304413193,-146.9693845669907,-148.0786032054352,-149.17957452193465,-150.27247978860993,-151.3574937328539,-152.4347848634413,-153.5045157760395,-154.5668434396882,-155.62191946567754,-156.66989036012805,-157.71089776146502,-158.74507866387543,-159.77256562774699,-160.79348697800373,-161.8079669911781,-162.81612607199236,-163.81808092015862,-164.8139446880523,-165.8038271298618,-166.7878347427708,-167.76607090068762,-168.73863598099655,-169.70562748477138,-170.66714015085836,-171.6232660642066,-172.5740947587968,-173.51971331549308,-174.46020645512155,-175.39565662705664,-176.3261440935776,-177.25174701023914,-178.17254150248442,-179.08860173871278,-180.0,-180.0,-179.08860173871278,-178.17254150248442,-177.25174701023914,-176.3261440935776,-175.39565662705664,-174.46020645512155,-173.51971331549308,-172.5740947587968,-171.6232660642066,-170.66714015085836,-169.70562748477138,-168.73863598099655,-167.76607090068762,-166.7878347427708,-165.8038271298618,-164.8139446880523,-163.81808092015862,-162.81612607199236,-161.8079669911781,-160.79348697800373,-159.77256562774699,-158.74507866387543,-157.71089776146502,-156.66989036012805,-155.62191946567754,-154.5668434396882,-153.5045157760395,-152.4347848634413,-151.3574937328539,-150.27247978860993,-149.17957452193465,-148.0786032054352,-146.9693845669907,-145.8517304413193,-144.72544539732655,-143.59032633914381,-142.44616207855196,-141.29273287623948,-140.12980994907412,-138.95715494025814,-137.77451934889189,-136.58164391507907,-135.37825795626387,-134.1640786499874,-132.93881025767934,-131.70214328345057,-130.45375356110617,-129.1933012617492,-127.92042981336627,-126.63476472266072,-125.33591228810242,-124.02345819165896,-122.69696595493083,-121.35597524338357,-120.0,-118.62852638689931,-117.24101051020733,-115.83687589961073,-114.41551070947106,-112.97626460295261,-111.51844527415018,-110.04131455544734,-108.54408404799489,-107.02591020190134,-105.48588875898392,-103.92304845413263,-102.336343850693,-100.7246471597421,-99.08673886137245,-97.42129690631862,-95.72688422609586,-94.00193421607683,-92.24473377429688,-90.4534033733291,-88.62587350511956,-86.75985665774652,-84.85281374238569,-82.90191356493088,-80.90398349558905,-78.8554488807325,-76.75225788801974,-74.58978726096731,-72.36272269866325,-70.06490497453706,-67.68912897813192,-65.22687678055307,-62.667956144051196,-59.999999999999986,-57.207755354735504,-54.27204202399742,-51.168171925346485,-47.8634421130479,-44.312936752559764,-40.45199174779448,-36.1813613493316,-31.333978072025598,-25.584085962673193,-18.090680674665776,-0.0]}},\"id\":\"51e44661-c954-430e-bd2c-465c0201c0be\",\"type\":\"ColumnDataSource\"},{\"attributes\":{\"plot\":{\"id\":\"8c768865-d836-4f09-bd67-ae80024b1a37\",\"subtype\":\"Figure\",\"type\":\"Plot\"},\"ticker\":{\"id\":\"47cc219c-aa0c-4e6b-baa5-4942c567d42d\",\"type\":\"BasicTicker\"}},\"id\":\"a18dfb1f-5adc-4188-9cfa-931a1a1c40f6\",\"type\":\"Grid\"},{\"attributes\":{\"callback\":null,\"column_names\":[\"y\",\"x\"],\"data\":{\"x\":[76.4625960061013,75.6902465514942,74.91789709688713,74.14554764228004,73.37319818767295,72.60084873306589,71.8284992784588,71.05614982385173,70.28380036924463,69.51145091463754,68.73910146003047,67.96675200542337,67.19440255081629,66.4220530962092,65.64970364160212,64.87735418699505,64.10500473238797,63.33265527778087,62.56030582317379,61.78795636856671,61.01560691395962,60.24325745935254,59.470908004745446,58.69855855013838,57.92620909553129,57.153859640924196,56.38151018631712,55.609160731710034,54.83681127710296,54.064461822495865,53.292112367888784,52.5197629132817,51.747413458674615,50.97506400406754,50.202714549460445,49.430365094853364,48.65801564024629,47.885666185639195,47.11331673103212,46.340967276425026,45.56861782181795,44.79626836721085,44.02391891260378,43.2515694579967,42.47922000338961,41.706870548782526,40.93452109417544,40.16217163956836,39.38982218496128,38.617472730354194,37.8451232757471,37.07277382114002,36.300424366532944,35.52807491192586,34.75572545731877,33.98337600271169,33.2110265481046,32.438677093497525,31.666327638890436,30.893978184283355,30.12162872967627,29.34927927506919,28.576929820462098,27.804580365855017,27.032230911247932,26.25988145664085,25.48753200203377,24.715182547426682,23.942833092819598,23.170483638212513,22.398134183605425,21.62578472899835,20.853435274391263,20.08108581978418,19.308736365177097,18.53638691057001,17.76403745596293,16.991688001355843,16.219338546748762,15.446989092141678,14.674639637534595,13.902290182927509,13.129940728320426,12.357591273713341,11.585241819106257,10.812892364499175,10.04054290989209,9.268193455285004,8.495844000677922,7.723494546070839,6.951145091463754,6.1787956368566705,5.406446182249588,4.634096727642502,3.8617472730354194,3.0893978184283353,2.317048363821251,1.5446989092141676,0.7723494546070838,0.0,-0.0,-0.7723494546070838,-1.5446989092141676,-2.317048363821251,-3.0893978184283353,-3.8617472730354194,-4.634096727642502,-5.406446182249588,-6.1787956368566705,-6.951145091463754,-7.723494546070839,-8.495844000677922,-9.268193455285004,-10.04054290989209,-10.812892364499175,-11.585241819106257,-12.357591273713341,-13.129940728320426,-13.902290182927509,-14.674639637534595,-15.446989092141678,-16.219338546748762,-16.991688001355843,-17.76403745596293,-18.53638691057001,-19.308736365177097,-20.08108581978418,-20.853435274391263,-21.62578472899835,-22.398134183605425,-23.170483638212513,-23.942833092819598,-24.715182547426682,-25.48753200203377,-26.25988145664085,-27.032230911247932,-27.804580365855017,-28.576929820462098,-29.34927927506919,-30.12162872967627,-30.893978184283355,-31.666327638890436,-32.438677093497525,-33.2110265481046,-33.98337600271169,-34.75572545731877,-35.52807491192586,-36.300424366532944,-37.07277382114002,-37.8451232757471,-38.617472730354194,-39.38982218496128,-40.16217163956836,-40.93452109417544,-41.706870548782526,-42.47922000338961,-43.2515694579967,-44.02391891260378,-44.79626836721085,-45.56861782181795,-46.340967276425026,-47.11331673103212,-47.885666185639195,-48.65801564024629,-49.430365094853364,-50.202714549460445,-50.97506400406754,-51.747413458674615,-52.5197629132817,-53.292112367888784,-54.064461822495865,-54.83681127710296,-55.609160731710034,-56.38151018631712,-57.153859640924196,-57.92620909553129,-58.69855855013838,-59.470908004745446,-60.24325745935254,-61.01560691395962,-61.78795636856671,-62.56030582317379,-63.33265527778087,-64.10500473238797,-64.87735418699505,-65.64970364160212,-66.4220530962092,-67.19440255081629,-67.96675200542337,-68.73910146003047,-69.51145091463754,-70.28380036924463,-71.05614982385173,-71.8284992784588,-72.60084873306589,-73.37319818767295,-74.14554764228004,-74.91789709688713,-75.6902465514942,-76.4625960061013],\"y\":[-0.0,-18.090680674665776,-25.584085962673193,-31.333978072025598,-36.1813613493316,-40.45199174779448,-44.312936752559764,-47.8634421130479,-51.168171925346485,-54.27204202399742,-57.207755354735504,-59.999999999999986,-62.667956144051196,-65.22687678055307,-67.68912897813192,-70.06490497453706,-72.36272269866325,-74.58978726096731,-76.75225788801974,-78.8554488807325,-80.90398349558905,-82.90191356493088,-84.85281374238569,-86.75985665774652,-88.62587350511956,-90.4534033733291,-92.24473377429688,-94.00193421607683,-95.72688422609586,-97.42129690631862,-99.08673886137245,-100.7246471597421,-102.336343850693,-103.92304845413263,-105.48588875898392,-107.02591020190134,-108.54408404799489,-110.04131455544734,-111.51844527415018,-112.97626460295261,-114.41551070947106,-115.83687589961073,-117.24101051020733,-118.62852638689931,-120.0,-121.35597524338357,-122.69696595493083,-124.02345819165896,-125.33591228810242,-126.63476472266072,-127.92042981336627,-129.1933012617492,-130.45375356110617,-131.70214328345057,-132.93881025767934,-134.1640786499874,-135.37825795626387,-136.58164391507907,-137.77451934889189,-138.95715494025814,-140.12980994907412,-141.29273287623948,-142.44616207855196,-143.59032633914381,-144.72544539732655,-145.8517304413193,-146.9693845669907,-148.0786032054352,-149.17957452193465,-150.27247978860993,-151.3574937328539,-152.4347848634413,-153.5045157760395,-154.5668434396882,-155.62191946567754,-156.66989036012805,-157.71089776146502,-158.74507866387543,-159.77256562774699,-160.79348697800373,-161.8079669911781,-162.81612607199236,-163.81808092015862,-164.8139446880523,-165.8038271298618,-166.7878347427708,-167.76607090068762,-168.73863598099655,-169.70562748477138,-170.66714015085836,-171.6232660642066,-172.5740947587968,-173.51971331549308,-174.46020645512155,-175.39565662705664,-176.3261440935776,-177.25174701023914,-178.17254150248442,-179.08860173871278,-180.0,-180.0,-179.08860173871278,-178.17254150248442,-177.25174701023914,-176.3261440935776,-175.39565662705664,-174.46020645512155,-173.51971331549308,-172.5740947587968,-171.6232660642066,-170.66714015085836,-169.70562748477138,-168.73863598099655,-167.76607090068762,-166.7878347427708,-165.8038271298618,-164.8139446880523,-163.81808092015862,-162.81612607199236,-161.8079669911781,-160.79348697800373,-159.77256562774699,-158.74507866387543,-157.71089776146502,-156.66989036012805,-155.62191946567754,-154.5668434396882,-153.5045157760395,-152.4347848634413,-151.3574937328539,-150.27247978860993,-149.17957452193465,-148.0786032054352,-146.9693845669907,-145.8517304413193,-144.72544539732655,-143.59032633914381,-142.44616207855196,-141.29273287623948,-140.12980994907412,-138.95715494025814,-137.77451934889189,-136.58164391507907,-135.37825795626387,-134.1640786499874,-132.93881025767934,-131.70214328345057,-130.45375356110617,-129.1933012617492,-127.92042981336627,-126.63476472266072,-125.33591228810242,-124.02345819165896,-122.69696595493083,-121.35597524338357,-120.0,-118.62852638689931,-117.24101051020733,-115.83687589961073,-114.41551070947106,-112.97626460295261,-111.51844527415018,-110.04131455544734,-108.54408404799489,-107.02591020190134,-105.48588875898392,-103.92304845413263,-102.336343850693,-100.7246471597421,-99.08673886137245,-97.42129690631862,-95.72688422609586,-94.00193421607683,-92.24473377429688,-90.4534033733291,-88.62587350511956,-86.75985665774652,-84.85281374238569,-82.90191356493088,-80.90398349558905,-78.8554488807325,-76.75225788801974,-74.58978726096731,-72.36272269866325,-70.06490497453706,-67.68912897813192,-65.22687678055307,-62.667956144051196,-59.999999999999986,-57.207755354735504,-54.27204202399742,-51.168171925346485,-47.8634421130479,-44.312936752559764,-40.45199174779448,-36.1813613493316,-31.333978072025598,-25.584085962673193,-18.090680674665776,-0.0]}},\"id\":\"b5fa9415-5095-4450-8884-8497dfd38b65\",\"type\":\"ColumnDataSource\"},{\"attributes\":{\"plot\":null,\"text\":null},\"id\":\"8dff8bb2-027b-48c2-858a-6f90de72281c\",\"type\":\"Title\"},{\"attributes\":{\"plot\":{\"id\":\"8c768865-d836-4f09-bd67-ae80024b1a37\",\"subtype\":\"Figure\",\"type\":\"Plot\"}},\"id\":\"5e37728e-2f69-4017-adc4-2387accac63c\",\"type\":\"ResetTool\"},{\"attributes\":{\"callback\":null,\"end\":125,\"start\":-125},\"id\":\"4d410d6f-4218-4e3e-9672-9f6ab7546192\",\"type\":\"Range1d\"},{\"attributes\":{\"callback\":null,\"end\":50,\"start\":-200},\"id\":\"f55375a3-4399-4872-8511-0ef669e26d15\",\"type\":\"Range1d\"},{\"attributes\":{},\"id\":\"7e956a99-1536-4fe1-b732-bd1fa6b5df30\",\"type\":\"ToolEvents\"},{\"attributes\":{\"plot\":{\"id\":\"8c768865-d836-4f09-bd67-ae80024b1a37\",\"subtype\":\"Figure\",\"type\":\"Plot\"}},\"id\":\"ae064a84-3e5a-4b79-b598-7ba3afde6298\",\"type\":\"SaveTool\"},{\"attributes\":{},\"id\":\"47cc219c-aa0c-4e6b-baa5-4942c567d42d\",\"type\":\"BasicTicker\"},{\"attributes\":{\"formatter\":{\"id\":\"dcf12b5e-c17d-4253-90d6-1c782251e218\",\"type\":\"BasicTickFormatter\"},\"plot\":{\"id\":\"8c768865-d836-4f09-bd67-ae80024b1a37\",\"subtype\":\"Figure\",\"type\":\"Plot\"},\"ticker\":{\"id\":\"af14c900-3c07-41b4-8abf-d3ef2e4ca0e7\",\"type\":\"BasicTicker\"}},\"id\":\"1926f707-c296-44ae-ba6a-569aba98ac01\",\"type\":\"LinearAxis\"}],\"root_ids\":[\"8c768865-d836-4f09-bd67-ae80024b1a37\"]},\"title\":\"Bokeh Application\",\"version\":\"0.12.1\"}};\n",
       "            var render_items = [{\"docid\":\"9e297f13-9296-4a97-b460-a8ed3e2ab051\",\"elementid\":\"1254a616-7e7a-4e02-b1c7-0bb21009322d\",\"modelid\":\"8c768865-d836-4f09-bd67-ae80024b1a37\",\"notebook_comms_target\":\"4e2d1675-4bdb-4150-b133-f886eefb9f0c\"}];\n",
       "            \n",
       "            Bokeh.embed.embed_items(docs_json, render_items);\n",
       "        });\n",
       "      },\n",
       "      function(Bokeh) {\n",
       "      }\n",
       "    ];\n",
       "  \n",
       "    function run_inline_js() {\n",
       "      for (var i = 0; i < inline_js.length; i++) {\n",
       "        inline_js[i](window.Bokeh);\n",
       "      }\n",
       "    }\n",
       "  \n",
       "    if (window._bokeh_is_loading === 0) {\n",
       "      console.log(\"Bokeh: BokehJS loaded, going straight to plotting\");\n",
       "      run_inline_js();\n",
       "    } else {\n",
       "      load_libs(js_urls, function() {\n",
       "        console.log(\"Bokeh: BokehJS plotting callback run at\", now());\n",
       "        run_inline_js();\n",
       "      });\n",
       "    }\n",
       "  }(this));\n",
       "</script>"
      ]
     },
     "metadata": {},
     "output_type": "display_data"
    },
    {
     "data": {
      "text/html": [
       "<p><code>&lt;Bokeh Notebook handle for <strong>In[13]</strong>&gt;</code></p>"
      ],
      "text/plain": [
       "<bokeh.io._CommsHandle at 0x7f33af3468d0>"
      ]
     },
     "execution_count": 13,
     "metadata": {},
     "output_type": "execute_result"
    }
   ],
   "source": [
    "xt,yt = linepntsfromsol(sol[0,:],tol=tol)\n",
    "cs_b = geo.cross_section(xt[0]+shape.length/2,shape.length,shape.keel,shape.waterline,shape.bottom,100)\n",
    "cs_b[0,:] = cs_b[0,:]*yt[0]/cs_b[0,-1]\n",
    "cs_b2 = geo.cross_section(xt[1]+shape.length/2,shape.length,shape.keel,shape.waterline,shape.bottom,100)\n",
    "cs_b2[0,:] = cs_b2[0,:]*yt[1]/cs_b2[0,-1]\n",
    "cs_b_f = np.empty((cs_b.shape[0],cs_b.shape[1]*2))\n",
    "cs_b_f[:,:cs_b.shape[1]] = cs_b[:,::-1]\n",
    "cs_b_f[:,cs_b.shape[1]:] = cs_b\n",
    "cs_b_f[0,cs_b.shape[1]:] *= -1\n",
    "\n",
    "cs_b_f2 = np.empty((cs_b2.shape[0],cs_b2.shape[1]*2))\n",
    "cs_b_f2[:,:cs_b2.shape[1]] = cs_b2[:,::-1]\n",
    "cs_b_f2[:,cs_b2.shape[1]:] = cs_b2\n",
    "cs_b_f2[0,cs_b2.shape[1]:] *= -1\n",
    "\n",
    "p = figure(width=520, height=500)\n",
    "p.y_range = Range1d(-200,50)\n",
    "p.x_range = Range1d(-125,125)\n",
    "p.line(cs_b_f[0,:]*1000,cs_b_f[1,:]*1000)\n",
    "p.line(cs_b_f2[0,:]*1000,cs_b_f2[1,:]*1000,color='red')\n",
    "show(p)"
   ]
  },
  {
   "cell_type": "code",
   "execution_count": 43,
   "metadata": {
    "collapsed": true
   },
   "outputs": [],
   "source": [
    "np.savetxt('front_section.txt', cs_b_f.T*1000, fmt='%.2f', delimiter='\\t', newline='\\n')\n",
    "np.savetxt('back_section.txt', cs_b_f2.T*1000, fmt='%.2f', delimiter='\\t', newline='\\n')"
   ]
  }
 ],
 "metadata": {
  "kernelspec": {
   "display_name": "Python 2",
   "language": "python",
   "name": "python2"
  },
  "language_info": {
   "codemirror_mode": {
    "name": "ipython",
    "version": 2
   },
   "file_extension": ".py",
   "mimetype": "text/x-python",
   "name": "python",
   "nbconvert_exporter": "python",
   "pygments_lexer": "ipython2",
   "version": "2.7.11"
  }
 },
 "nbformat": 4,
 "nbformat_minor": 0
}
