{
 "cells": [
  {
   "cell_type": "markdown",
   "metadata": {},
   "source": [
    "# Nemo parametric hull shapes\n",
    "\n",
    "----\n",
    "Diego Montero, Fernando Valentini, Gustavo Violato <br>\n",
    "First Release: Jul. 2016"
   ]
  },
  {
   "cell_type": "code",
   "execution_count": 1,
   "metadata": {
    "collapsed": false
   },
   "outputs": [],
   "source": [
    "%load_ext autoreload\n",
    "%autoreload 2"
   ]
  },
  {
   "cell_type": "code",
   "execution_count": 2,
   "metadata": {
    "collapsed": false
   },
   "outputs": [],
   "source": [
    "import numpy as np\n",
    "import scipy.interpolate as interpolate\n",
    "from mayavi import mlab\n",
    "\n",
    "%gui qt\n",
    "\n",
    "import hull_geom as geo\n",
    "import hull_dynamics as dyn"
   ]
  },
  {
   "cell_type": "code",
   "execution_count": 3,
   "metadata": {
    "collapsed": true
   },
   "outputs": [],
   "source": [
    "from bokeh.plotting import figure, output_notebook, show\n",
    "from bokeh.models import Range1d"
   ]
  },
  {
   "cell_type": "code",
   "execution_count": 4,
   "metadata": {
    "collapsed": false
   },
   "outputs": [
    {
     "data": {
      "text/html": [
       "\n",
       "    <div class=\"bk-root\">\n",
       "        <a href=\"http://bokeh.pydata.org\" target=\"_blank\" class=\"bk-logo bk-logo-small bk-logo-notebook\"></a>\n",
       "        <span id=\"26595363-235e-4acc-8aeb-d99d7f6e4ecf\">Loading BokehJS ...</span>\n",
       "    </div>"
      ]
     },
     "metadata": {},
     "output_type": "display_data"
    },
    {
     "data": {
      "application/javascript": [
       "\n",
       "(function(global) {\n",
       "  function now() {\n",
       "    return new Date();\n",
       "  }\n",
       "\n",
       "  var force = \"1\";\n",
       "\n",
       "  if (typeof (window._bokeh_onload_callbacks) === \"undefined\" || force !== \"\") {\n",
       "    window._bokeh_onload_callbacks = [];\n",
       "    window._bokeh_is_loading = undefined;\n",
       "  }\n",
       "\n",
       "  function run_callbacks() {\n",
       "    window._bokeh_onload_callbacks.forEach(function(callback) { callback() });\n",
       "    delete window._bokeh_onload_callbacks\n",
       "    console.info(\"Bokeh: all callbacks have finished\");\n",
       "  }\n",
       "\n",
       "  function load_libs(js_urls, callback) {\n",
       "    window._bokeh_onload_callbacks.push(callback);\n",
       "    if (window._bokeh_is_loading > 0) {\n",
       "      console.log(\"Bokeh: BokehJS is being loaded, scheduling callback at\", now());\n",
       "      return null;\n",
       "    }\n",
       "    if (js_urls == null || js_urls.length === 0) {\n",
       "      run_callbacks();\n",
       "      return null;\n",
       "    }\n",
       "    console.log(\"Bokeh: BokehJS not loaded, scheduling load and callback at\", now());\n",
       "    window._bokeh_is_loading = js_urls.length;\n",
       "    for (var i = 0; i < js_urls.length; i++) {\n",
       "      var url = js_urls[i];\n",
       "      var s = document.createElement('script');\n",
       "      s.src = url;\n",
       "      s.async = false;\n",
       "      s.onreadystatechange = s.onload = function() {\n",
       "        window._bokeh_is_loading--;\n",
       "        if (window._bokeh_is_loading === 0) {\n",
       "          console.log(\"Bokeh: all BokehJS libraries loaded\");\n",
       "          run_callbacks()\n",
       "        }\n",
       "      };\n",
       "      s.onerror = function() {\n",
       "        console.warn(\"failed to load library \" + url);\n",
       "      };\n",
       "      console.log(\"Bokeh: injecting script tag for BokehJS library: \", url);\n",
       "      document.getElementsByTagName(\"head\")[0].appendChild(s);\n",
       "    }\n",
       "  };\n",
       "\n",
       "  var js_urls = ['https://cdn.pydata.org/bokeh/release/bokeh-0.12.1.min.js', 'https://cdn.pydata.org/bokeh/release/bokeh-widgets-0.12.1.min.js', 'https://cdn.pydata.org/bokeh/release/bokeh-compiler-0.12.1.min.js'];\n",
       "\n",
       "  var inline_js = [\n",
       "    function(Bokeh) {\n",
       "      Bokeh.set_log_level(\"info\");\n",
       "    },\n",
       "    \n",
       "    function(Bokeh) {\n",
       "      \n",
       "      Bokeh.$(\"#26595363-235e-4acc-8aeb-d99d7f6e4ecf\").text(\"BokehJS successfully loaded\");\n",
       "      var kernel = Jupyter.notebook.kernel\n",
       "      if (kernel.execute !== undefined) {\n",
       "          kernel.execute(\"import bokeh.io; bokeh.io._nb_loaded = True\");\n",
       "      }\n",
       "    },\n",
       "    function(Bokeh) {\n",
       "      console.log(\"Bokeh: injecting CSS: https://cdn.pydata.org/bokeh/release/bokeh-0.12.1.min.css\");\n",
       "      Bokeh.embed.inject_css(\"https://cdn.pydata.org/bokeh/release/bokeh-0.12.1.min.css\");\n",
       "      console.log(\"Bokeh: injecting CSS: https://cdn.pydata.org/bokeh/release/bokeh-widgets-0.12.1.min.css\");\n",
       "      Bokeh.embed.inject_css(\"https://cdn.pydata.org/bokeh/release/bokeh-widgets-0.12.1.min.css\");\n",
       "    }\n",
       "  ];\n",
       "\n",
       "  function run_inline_js() {\n",
       "    for (var i = 0; i < inline_js.length; i++) {\n",
       "      inline_js[i](window.Bokeh);\n",
       "    }\n",
       "  }\n",
       "\n",
       "  if (window._bokeh_is_loading === 0) {\n",
       "    console.log(\"Bokeh: BokehJS loaded, going straight to plotting\");\n",
       "    run_inline_js();\n",
       "  } else {\n",
       "    load_libs(js_urls, function() {\n",
       "      console.log(\"Bokeh: BokehJS plotting callback run at\", now());\n",
       "      run_inline_js();\n",
       "    });\n",
       "  }\n",
       "}(this));"
      ]
     },
     "metadata": {},
     "output_type": "display_data"
    }
   ],
   "source": [
    "output_notebook()"
   ]
  },
  {
   "cell_type": "code",
   "execution_count": 5,
   "metadata": {
    "collapsed": false
   },
   "outputs": [],
   "source": [
    "# user defined variables\n",
    "L      = 2.30;       # hull length (LOA) in m\n",
    "alt    = 0.005;       # Height of top\n",
    "pontal = 0.23;       # Draft\n",
    "mboca  = 0.29/2      # Half-beam\n",
    "w      = 1.35        # Separation\n",
    "\n",
    "# Speeds for take-off draft study\n",
    "V_TO = [1.0,1.25,1.5,1.75,2.0,2.25,2.5,2.75,3.0,3.25]\n",
    "\n",
    "# Define the total mass and CG position\n",
    "mass = 87+14.\n",
    "cgZ = np.array([0.075, 0., 0.2])"
   ]
  },
  {
   "cell_type": "code",
   "execution_count": 5,
   "metadata": {
    "collapsed": false
   },
   "outputs": [
    {
     "data": {
      "text/html": [
       "\n",
       "\n",
       "    <div class=\"bk-root\">\n",
       "        <div class=\"plotdiv\" id=\"d9da361c-15a8-4810-8275-3c619bb7813c\"></div>\n",
       "    </div>\n",
       "<script type=\"text/javascript\">\n",
       "  \n",
       "  (function(global) {\n",
       "    function now() {\n",
       "      return new Date();\n",
       "    }\n",
       "  \n",
       "    var force = \"\";\n",
       "  \n",
       "    if (typeof (window._bokeh_onload_callbacks) === \"undefined\" || force !== \"\") {\n",
       "      window._bokeh_onload_callbacks = [];\n",
       "      window._bokeh_is_loading = undefined;\n",
       "    }\n",
       "  \n",
       "    function run_callbacks() {\n",
       "      window._bokeh_onload_callbacks.forEach(function(callback) { callback() });\n",
       "      delete window._bokeh_onload_callbacks\n",
       "      console.info(\"Bokeh: all callbacks have finished\");\n",
       "    }\n",
       "  \n",
       "    function load_libs(js_urls, callback) {\n",
       "      window._bokeh_onload_callbacks.push(callback);\n",
       "      if (window._bokeh_is_loading > 0) {\n",
       "        console.log(\"Bokeh: BokehJS is being loaded, scheduling callback at\", now());\n",
       "        return null;\n",
       "      }\n",
       "      if (js_urls == null || js_urls.length === 0) {\n",
       "        run_callbacks();\n",
       "        return null;\n",
       "      }\n",
       "      console.log(\"Bokeh: BokehJS not loaded, scheduling load and callback at\", now());\n",
       "      window._bokeh_is_loading = js_urls.length;\n",
       "      for (var i = 0; i < js_urls.length; i++) {\n",
       "        var url = js_urls[i];\n",
       "        var s = document.createElement('script');\n",
       "        s.src = url;\n",
       "        s.async = false;\n",
       "        s.onreadystatechange = s.onload = function() {\n",
       "          window._bokeh_is_loading--;\n",
       "          if (window._bokeh_is_loading === 0) {\n",
       "            console.log(\"Bokeh: all BokehJS libraries loaded\");\n",
       "            run_callbacks()\n",
       "          }\n",
       "        };\n",
       "        s.onerror = function() {\n",
       "          console.warn(\"failed to load library \" + url);\n",
       "        };\n",
       "        console.log(\"Bokeh: injecting script tag for BokehJS library: \", url);\n",
       "        document.getElementsByTagName(\"head\")[0].appendChild(s);\n",
       "      }\n",
       "    };var element = document.getElementById(\"d9da361c-15a8-4810-8275-3c619bb7813c\");\n",
       "    if (element == null) {\n",
       "      console.log(\"Bokeh: ERROR: autoload.js configured with elementid 'd9da361c-15a8-4810-8275-3c619bb7813c' but no matching script tag was found. \")\n",
       "      return false;\n",
       "    }\n",
       "  \n",
       "    var js_urls = [];\n",
       "  \n",
       "    var inline_js = [\n",
       "      function(Bokeh) {\n",
       "        Bokeh.$(function() {\n",
       "            var docs_json = {\"8441b84b-dfc1-4055-bf72-076b44d7d06c\":{\"roots\":{\"references\":[{\"attributes\":{\"formatter\":{\"id\":\"464b6877-e2b3-49f2-b78c-aa12f8ba093b\",\"type\":\"BasicTickFormatter\"},\"plot\":{\"id\":\"57d57925-5858-4373-9dae-c17c5171654c\",\"subtype\":\"Figure\",\"type\":\"Plot\"},\"ticker\":{\"id\":\"bfc15d7e-a862-4713-89e4-f306c75dc9c6\",\"type\":\"BasicTicker\"}},\"id\":\"47fe4aff-b6a2-481b-9ff5-36afcb1788a4\",\"type\":\"LinearAxis\"},{\"attributes\":{},\"id\":\"83ed60d4-1a68-428a-b2a6-f95631791aec\",\"type\":\"BasicTickFormatter\"},{\"attributes\":{\"line_alpha\":{\"value\":0.1},\"line_color\":{\"value\":\"#1f77b4\"},\"x\":{\"field\":\"x\"},\"y\":{\"field\":\"y\"}},\"id\":\"9139fc58-927b-4d49-af31-d31b4ce894f4\",\"type\":\"Line\"},{\"attributes\":{\"plot\":{\"id\":\"57d57925-5858-4373-9dae-c17c5171654c\",\"subtype\":\"Figure\",\"type\":\"Plot\"}},\"id\":\"375b608b-ad95-44a9-859e-a178c2e67788\",\"type\":\"WheelZoomTool\"},{\"attributes\":{\"plot\":{\"id\":\"57d57925-5858-4373-9dae-c17c5171654c\",\"subtype\":\"Figure\",\"type\":\"Plot\"}},\"id\":\"fc182b51-a601-4021-85a4-c04f56218ffb\",\"type\":\"PanTool\"},{\"attributes\":{},\"id\":\"464b6877-e2b3-49f2-b78c-aa12f8ba093b\",\"type\":\"BasicTickFormatter\"},{\"attributes\":{\"plot\":{\"id\":\"57d57925-5858-4373-9dae-c17c5171654c\",\"subtype\":\"Figure\",\"type\":\"Plot\"}},\"id\":\"dcd1ea29-3164-4932-bd43-b0d9bc93a9d9\",\"type\":\"ResetTool\"},{\"attributes\":{\"line_color\":{\"value\":\"#1f77b4\"},\"x\":{\"field\":\"x\"},\"y\":{\"field\":\"y\"}},\"id\":\"a8e2822b-4e1f-4da3-b0c3-1f3e7536d5c1\",\"type\":\"Line\"},{\"attributes\":{\"callback\":null,\"column_names\":[\"y\",\"x\"],\"data\":{\"x\":[-1.15,-1.1267676767676766,-1.1035353535353534,-1.0803030303030303,-1.057070707070707,-1.0338383838383838,-1.0106060606060605,-0.9873737373737372,-0.9641414141414141,-0.9409090909090909,-0.9176767676767676,-0.8944444444444444,-0.8712121212121211,-0.847979797979798,-0.8247474747474747,-0.8015151515151515,-0.7782828282828282,-0.755050505050505,-0.7318181818181818,-0.7085858585858585,-0.6853535353535354,-0.6621212121212121,-0.6388888888888888,-0.6156565656565657,-0.5924242424242424,-0.5691919191919191,-0.545959595959596,-0.5227272727272727,-0.49949494949494944,-0.4762626262626263,-0.453030303030303,-0.42979797979797985,-0.4065656565656566,-0.3833333333333333,-0.36010101010101014,-0.3368686868686869,-0.3136363636363637,-0.29040404040404044,-0.26717171717171717,-0.243939393939394,-0.22070707070707074,-0.19747474747474747,-0.1742424242424243,-0.15101010101010104,-0.12777777777777777,-0.1045454545454545,-0.08131313131313145,-0.05808080808080818,-0.034848484848484906,-0.011616161616161635,0.011616161616161635,0.034848484848484684,0.058080808080807955,0.08131313131313123,0.1045454545454545,0.12777777777777777,0.15101010101010104,0.1742424242424241,0.19747474747474736,0.22070707070707063,0.2439393939393939,0.26717171717171717,0.2904040404040402,0.3136363636363635,0.33686868686868676,0.36010101010101003,0.3833333333333333,0.40656565656565635,0.4297979797979796,0.4530303030303029,0.47626262626262617,0.49949494949494944,0.5227272727272725,0.5459595959595958,0.569191919191919,0.5924242424242423,0.6156565656565656,0.6388888888888888,0.6621212121212119,0.6853535353535352,0.7085858585858584,0.7318181818181817,0.755050505050505,0.778282828282828,0.8015151515151513,0.8247474747474746,0.8479797979797978,0.8712121212121211,0.8944444444444444,0.9176767676767676,0.9409090909090909,0.9641414141414137,0.987373737373737,1.0106060606060603,1.0338383838383836,1.0570707070707068,1.08030303030303,1.1035353535353534,1.1267676767676766,1.15],\"y\":[0.0,-0.11616161616161616,-0.22999999999999998,-0.22999999999999998,-0.22999999999999998,-0.22999999999999998,-0.22999999999999998,-0.22999999999999998,-0.22999999999999998,-0.22999999999999998,-0.22999999999999998,-0.22999999999999998,-0.22999999999999998,-0.22999999999999998,-0.22999999999999998,-0.22999999999999998,-0.22999999999999998,-0.22999999999999998,-0.22999999999999998,-0.22999999999999998,-0.22999999999999998,-0.22999999999999998,-0.22999999999999998,-0.22999999999999998,-0.22999999999999998,-0.22999999999999998,-0.22999999999999998,-0.22999999999999998,-0.22999999999999998,-0.22999999999999998,-0.22999999999999998,-0.22999999999999998,-0.22999999999999998,-0.22999999999999998,-0.22999999999999998,-0.22999999999999998,-0.22999999999999998,-0.22999999999999998,-0.22999999999999998,-0.22999999999999998,-0.22999999999999998,-0.22999999999999998,-0.22999999999999998,-0.22999999999999998,-0.22999999999999998,-0.22999999999999998,-0.22999999999999998,-0.22999999999999998,-0.22999999999999998,-0.22999999999999998,-0.22999999999999998,-0.22999999999999998,-0.22999999999999998,-0.22999999999999998,-0.22999999999999998,-0.22999999999999998,-0.22999999999999998,-0.22999999999999998,-0.22999999999999998,-0.22999999999999998,-0.22999999999999998,-0.22999999999999998,-0.22999999999999998,-0.22999999999999998,-0.22999999999999998,-0.22999999999999998,-0.22999999999999998,-0.22999999999999998,-0.22999999999999998,-0.22999999999999998,-0.22999999999999998,-0.22999999999999998,-0.22999999999999998,-0.22999999999999998,-0.22999999999999998,-0.22999999999999998,-0.22999999999999998,-0.22999999999999998,-0.22999999999999998,-0.22999999999999998,-0.22999999999999998,-0.22999999999999998,-0.22999999999999998,-0.22999999999999998,-0.22999999999999998,-0.22999999999999998,-0.22999999999999998,-0.22999999999999998,-0.22999999999999998,-0.22999999999999998,-0.22999999999999998,-0.22999999999999998,-0.22999999999999998,-0.22999999999999998,-0.22999999999999998,-0.22999999999999998,-0.22999999999999998,-0.22999999999999998,-0.11616161616161616,0.0]}},\"id\":\"5fc9dfef-6625-4698-8959-60ef9e04f4a7\",\"type\":\"ColumnDataSource\"},{\"attributes\":{\"plot\":{\"id\":\"57d57925-5858-4373-9dae-c17c5171654c\",\"subtype\":\"Figure\",\"type\":\"Plot\"}},\"id\":\"004e471d-5714-431a-8ffc-07ee1c1d150a\",\"type\":\"HelpTool\"},{\"attributes\":{\"plot\":{\"id\":\"57d57925-5858-4373-9dae-c17c5171654c\",\"subtype\":\"Figure\",\"type\":\"Plot\"}},\"id\":\"e0efc950-051a-422b-84fb-0efbdf86ab56\",\"type\":\"SaveTool\"},{\"attributes\":{\"formatter\":{\"id\":\"83ed60d4-1a68-428a-b2a6-f95631791aec\",\"type\":\"BasicTickFormatter\"},\"plot\":{\"id\":\"57d57925-5858-4373-9dae-c17c5171654c\",\"subtype\":\"Figure\",\"type\":\"Plot\"},\"ticker\":{\"id\":\"f5016475-e28b-4e0c-a1bd-1158cf229723\",\"type\":\"BasicTicker\"}},\"id\":\"b4c18b40-648d-4a9a-befa-893e350596ba\",\"type\":\"LinearAxis\"},{\"attributes\":{\"line_alpha\":{\"value\":0.1},\"line_color\":{\"value\":\"#1f77b4\"},\"x\":{\"field\":\"x\"},\"y\":{\"field\":\"y\"}},\"id\":\"3f542484-d387-4fcf-a100-580f4ab07dab\",\"type\":\"Line\"},{\"attributes\":{\"active_drag\":\"auto\",\"active_scroll\":\"auto\",\"active_tap\":\"auto\",\"tools\":[{\"id\":\"fc182b51-a601-4021-85a4-c04f56218ffb\",\"type\":\"PanTool\"},{\"id\":\"375b608b-ad95-44a9-859e-a178c2e67788\",\"type\":\"WheelZoomTool\"},{\"id\":\"8584c196-b198-4031-970d-a3ebe66ef8d2\",\"type\":\"BoxZoomTool\"},{\"id\":\"e0efc950-051a-422b-84fb-0efbdf86ab56\",\"type\":\"SaveTool\"},{\"id\":\"dcd1ea29-3164-4932-bd43-b0d9bc93a9d9\",\"type\":\"ResetTool\"},{\"id\":\"004e471d-5714-431a-8ffc-07ee1c1d150a\",\"type\":\"HelpTool\"}]},\"id\":\"1fa529dc-cc46-4013-a2f9-bf39d6c45a83\",\"type\":\"Toolbar\"},{\"attributes\":{\"callback\":null,\"end\":0.4,\"start\":-0.6},\"id\":\"43b17809-4fa0-4d43-ab82-77c35325fccd\",\"type\":\"Range1d\"},{\"attributes\":{\"dimension\":1,\"plot\":{\"id\":\"57d57925-5858-4373-9dae-c17c5171654c\",\"subtype\":\"Figure\",\"type\":\"Plot\"},\"ticker\":{\"id\":\"f5016475-e28b-4e0c-a1bd-1158cf229723\",\"type\":\"BasicTicker\"}},\"id\":\"dbc7408e-aa91-4abf-89f5-ace96f02493a\",\"type\":\"Grid\"},{\"attributes\":{\"line_color\":{\"value\":\"#1f77b4\"},\"x\":{\"field\":\"x\"},\"y\":{\"field\":\"y\"}},\"id\":\"05cee245-4f15-453f-91d8-a0886e94a07d\",\"type\":\"Line\"},{\"attributes\":{},\"id\":\"cdc00f00-8b14-4a97-b61f-ff05dfe9f9c5\",\"type\":\"ToolEvents\"},{\"attributes\":{\"data_source\":{\"id\":\"5fc9dfef-6625-4698-8959-60ef9e04f4a7\",\"type\":\"ColumnDataSource\"},\"glyph\":{\"id\":\"05cee245-4f15-453f-91d8-a0886e94a07d\",\"type\":\"Line\"},\"hover_glyph\":null,\"nonselection_glyph\":{\"id\":\"3f542484-d387-4fcf-a100-580f4ab07dab\",\"type\":\"Line\"},\"selection_glyph\":null},\"id\":\"4dee5662-edf2-420d-87bd-57baff781356\",\"type\":\"GlyphRenderer\"},{\"attributes\":{\"plot\":{\"id\":\"57d57925-5858-4373-9dae-c17c5171654c\",\"subtype\":\"Figure\",\"type\":\"Plot\"},\"ticker\":{\"id\":\"bfc15d7e-a862-4713-89e4-f306c75dc9c6\",\"type\":\"BasicTicker\"}},\"id\":\"2cd5b264-d9a5-4174-a993-bed5f855c152\",\"type\":\"Grid\"},{\"attributes\":{},\"id\":\"bfc15d7e-a862-4713-89e4-f306c75dc9c6\",\"type\":\"BasicTicker\"},{\"attributes\":{\"callback\":null,\"end\":1.5,\"start\":-1.5},\"id\":\"6523ec8a-d00e-46df-8088-48886cebbcc7\",\"type\":\"Range1d\"},{\"attributes\":{\"overlay\":{\"id\":\"d07f3849-6b06-4e80-a300-4495448632d5\",\"type\":\"BoxAnnotation\"},\"plot\":{\"id\":\"57d57925-5858-4373-9dae-c17c5171654c\",\"subtype\":\"Figure\",\"type\":\"Plot\"}},\"id\":\"8584c196-b198-4031-970d-a3ebe66ef8d2\",\"type\":\"BoxZoomTool\"},{\"attributes\":{},\"id\":\"f5016475-e28b-4e0c-a1bd-1158cf229723\",\"type\":\"BasicTicker\"},{\"attributes\":{\"data_source\":{\"id\":\"caf79161-b352-4894-891e-c1984a206bf9\",\"type\":\"ColumnDataSource\"},\"glyph\":{\"id\":\"a8e2822b-4e1f-4da3-b0c3-1f3e7536d5c1\",\"type\":\"Line\"},\"hover_glyph\":null,\"nonselection_glyph\":{\"id\":\"9139fc58-927b-4d49-af31-d31b4ce894f4\",\"type\":\"Line\"},\"selection_glyph\":null},\"id\":\"5149f20f-698d-4299-98b0-8028ab2d6a63\",\"type\":\"GlyphRenderer\"},{\"attributes\":{\"below\":[{\"id\":\"47fe4aff-b6a2-481b-9ff5-36afcb1788a4\",\"type\":\"LinearAxis\"}],\"left\":[{\"id\":\"b4c18b40-648d-4a9a-befa-893e350596ba\",\"type\":\"LinearAxis\"}],\"plot_height\":300,\"plot_width\":900,\"renderers\":[{\"id\":\"47fe4aff-b6a2-481b-9ff5-36afcb1788a4\",\"type\":\"LinearAxis\"},{\"id\":\"2cd5b264-d9a5-4174-a993-bed5f855c152\",\"type\":\"Grid\"},{\"id\":\"b4c18b40-648d-4a9a-befa-893e350596ba\",\"type\":\"LinearAxis\"},{\"id\":\"dbc7408e-aa91-4abf-89f5-ace96f02493a\",\"type\":\"Grid\"},{\"id\":\"d07f3849-6b06-4e80-a300-4495448632d5\",\"type\":\"BoxAnnotation\"},{\"id\":\"5149f20f-698d-4299-98b0-8028ab2d6a63\",\"type\":\"GlyphRenderer\"},{\"id\":\"4dee5662-edf2-420d-87bd-57baff781356\",\"type\":\"GlyphRenderer\"}],\"title\":{\"id\":\"c242c503-49f6-4497-a255-a87f1b86028e\",\"type\":\"Title\"},\"tool_events\":{\"id\":\"cdc00f00-8b14-4a97-b61f-ff05dfe9f9c5\",\"type\":\"ToolEvents\"},\"toolbar\":{\"id\":\"1fa529dc-cc46-4013-a2f9-bf39d6c45a83\",\"type\":\"Toolbar\"},\"toolbar_location\":\"above\",\"x_range\":{\"id\":\"6523ec8a-d00e-46df-8088-48886cebbcc7\",\"type\":\"Range1d\"},\"y_range\":{\"id\":\"43b17809-4fa0-4d43-ab82-77c35325fccd\",\"type\":\"Range1d\"}},\"id\":\"57d57925-5858-4373-9dae-c17c5171654c\",\"subtype\":\"Figure\",\"type\":\"Plot\"},{\"attributes\":{\"bottom_units\":\"screen\",\"fill_alpha\":{\"value\":0.5},\"fill_color\":{\"value\":\"lightgrey\"},\"left_units\":\"screen\",\"level\":\"overlay\",\"line_alpha\":{\"value\":1.0},\"line_color\":{\"value\":\"black\"},\"line_dash\":[4,4],\"line_width\":{\"value\":2},\"plot\":null,\"render_mode\":\"css\",\"right_units\":\"screen\",\"top_units\":\"screen\"},\"id\":\"d07f3849-6b06-4e80-a300-4495448632d5\",\"type\":\"BoxAnnotation\"},{\"attributes\":{\"plot\":null,\"text\":null},\"id\":\"c242c503-49f6-4497-a255-a87f1b86028e\",\"type\":\"Title\"},{\"attributes\":{\"callback\":null,\"column_names\":[\"y\",\"x\"],\"data\":{\"x\":[-1.15,-1.1267676767676766,-1.1035353535353534,-1.0803030303030303,-1.057070707070707,-1.0338383838383838,-1.0106060606060605,-0.9873737373737372,-0.9641414141414141,-0.9409090909090909,-0.9176767676767676,-0.8944444444444444,-0.8712121212121211,-0.847979797979798,-0.8247474747474747,-0.8015151515151515,-0.7782828282828282,-0.755050505050505,-0.7318181818181818,-0.7085858585858585,-0.6853535353535354,-0.6621212121212121,-0.6388888888888888,-0.6156565656565657,-0.5924242424242424,-0.5691919191919191,-0.545959595959596,-0.5227272727272727,-0.49949494949494944,-0.4762626262626263,-0.453030303030303,-0.42979797979797985,-0.4065656565656566,-0.3833333333333333,-0.36010101010101014,-0.3368686868686869,-0.3136363636363637,-0.29040404040404044,-0.26717171717171717,-0.243939393939394,-0.22070707070707074,-0.19747474747474747,-0.1742424242424243,-0.15101010101010104,-0.12777777777777777,-0.1045454545454545,-0.08131313131313145,-0.05808080808080818,-0.034848484848484906,-0.011616161616161635,0.011616161616161635,0.034848484848484684,0.058080808080807955,0.08131313131313123,0.1045454545454545,0.12777777777777777,0.15101010101010104,0.1742424242424241,0.19747474747474736,0.22070707070707063,0.2439393939393939,0.26717171717171717,0.2904040404040402,0.3136363636363635,0.33686868686868676,0.36010101010101003,0.3833333333333333,0.40656565656565635,0.4297979797979796,0.4530303030303029,0.47626262626262617,0.49949494949494944,0.5227272727272725,0.5459595959595958,0.569191919191919,0.5924242424242423,0.6156565656565656,0.6388888888888888,0.6621212121212119,0.6853535353535352,0.7085858585858584,0.7318181818181817,0.755050505050505,0.778282828282828,0.8015151515151513,0.8247474747474746,0.8479797979797978,0.8712121212121211,0.8944444444444444,0.9176767676767676,0.9409090909090909,0.9641414141414137,0.987373737373737,1.0106060606060603,1.0338383838383836,1.0570707070707068,1.08030303030303,1.1035353535353534,1.1267676767676766,1.15],\"y\":[-0.0,0.005,0.005,0.005,0.005,0.005,0.005,0.005,0.005,0.005,0.005,0.005,0.005,0.005,0.005,0.005,0.005,0.005,0.005,0.005,0.005,0.005,0.005,0.005,0.005,0.005,0.005,0.005,0.005,0.005,0.005,0.005,0.005,0.005,0.005,0.005,0.005,0.005,0.005,0.005,0.005,0.005,0.005,0.005,0.005,0.005,0.005,0.005,0.005,0.005,0.005,0.005,0.005,0.005,0.005,0.005,0.005,0.005,0.005,0.005,0.005,0.005,0.005,0.005,0.005,0.005,0.005,0.005,0.005,0.005,0.005,0.005,0.005,0.005,0.005,0.005,0.005,0.005,0.005,0.005,0.005,0.005,0.005,0.005,0.005,0.005,0.005,0.005,0.005,0.005,0.005,0.005,0.005,0.005,0.005,0.005,0.005,0.005,0.005,-0.0]}},\"id\":\"caf79161-b352-4894-891e-c1984a206bf9\",\"type\":\"ColumnDataSource\"}],\"root_ids\":[\"57d57925-5858-4373-9dae-c17c5171654c\"]},\"title\":\"Bokeh Application\",\"version\":\"0.12.1\"}};\n",
       "            var render_items = [{\"docid\":\"8441b84b-dfc1-4055-bf72-076b44d7d06c\",\"elementid\":\"d9da361c-15a8-4810-8275-3c619bb7813c\",\"modelid\":\"57d57925-5858-4373-9dae-c17c5171654c\",\"notebook_comms_target\":\"70b7d593-39c6-4f2c-bb42-43bafbfa0f2e\"}];\n",
       "            \n",
       "            Bokeh.embed.embed_items(docs_json, render_items);\n",
       "        });\n",
       "      },\n",
       "      function(Bokeh) {\n",
       "      }\n",
       "    ];\n",
       "  \n",
       "    function run_inline_js() {\n",
       "      for (var i = 0; i < inline_js.length; i++) {\n",
       "        inline_js[i](window.Bokeh);\n",
       "      }\n",
       "    }\n",
       "  \n",
       "    if (window._bokeh_is_loading === 0) {\n",
       "      console.log(\"Bokeh: BokehJS loaded, going straight to plotting\");\n",
       "      run_inline_js();\n",
       "    } else {\n",
       "      load_libs(js_urls, function() {\n",
       "        console.log(\"Bokeh: BokehJS plotting callback run at\", now());\n",
       "        run_inline_js();\n",
       "      });\n",
       "    }\n",
       "  }(this));\n",
       "</script>"
      ]
     },
     "metadata": {},
     "output_type": "display_data"
    },
    {
     "data": {
      "text/html": [
       "<p><code>&lt;Bokeh Notebook handle for <strong>In[5]</strong>&gt;</code></p>"
      ],
      "text/plain": [
       "<bokeh.io._CommsHandle at 0x7f9e79b31310>"
      ]
     },
     "execution_count": 5,
     "metadata": {},
     "output_type": "execute_result"
    }
   ],
   "source": [
    "cap = lambda x: -1*geo.trapz(x,alt/L,perc=0.99)\n",
    "kee = lambda x: geo.trapz(x,pontal/L,perc=0.96)\n",
    "stt = np.linspace(-L/2,L/2,100)\n",
    "top_cl = []\n",
    "bot_cl = []\n",
    "for s in stt:\n",
    "    top_cl.append(cap(2*s/L)*L)\n",
    "    bot_cl.append(kee(2*s/L)*L)\n",
    "\n",
    "p = figure(width=900,height=300,toolbar_location='above')\n",
    "p.y_range = Range1d(-0.6,0.4)\n",
    "p.x_range = Range1d(-1.5,1.5)\n",
    "p.line(stt,top_cl)\n",
    "p.line(stt,bot_cl)\n",
    "show(p)"
   ]
  },
  {
   "cell_type": "code",
   "execution_count": 6,
   "metadata": {
    "collapsed": false
   },
   "outputs": [],
   "source": [
    "class BuoyShape():\n",
    "    def __init__(self,length,depth,width,height):\n",
    "        self.length = length\n",
    "        self.keel   = lambda x: geo.trapz(x,depth/length,perc=0.96)\n",
    "        self.waterline   = lambda x: -geo.normal_pol(x,width/length,4)+0.01*np.sin(np.pi*x)\n",
    "        self.bottom   = lambda x,b,c: geo.wigley1_cross_R(x,b,c,rb=0.04)\n",
    "        self.cap    = lambda x: -geo.trapz(x,height/length,perc=0.99)\n",
    "        self.top   = lambda x,b,c: -geo.trapz(x,height,perc=0.99)\n",
    "        \n",
    "shape = BuoyShape(L,pontal,mboca,alt)"
   ]
  },
  {
   "cell_type": "code",
   "execution_count": 7,
   "metadata": {
    "collapsed": false
   },
   "outputs": [
    {
     "name": "stdout",
     "output_type": "stream",
     "text": [
      "Solution: [  5.24406382e-07   5.06388266e-02   5.90633374e-02]\n",
      "Residual: [  8.08302675e+00  -3.82878598e-05   7.59764481e-02]\n",
      "Solution: [  3.35596996e-10   5.18776672e-02   5.98921675e-02]\n",
      "Residual: [  7.80005384e-03  -2.44615990e-08  -5.62499375e-03]\n",
      "Solution: [ -1.06063871e-11   5.17608001e-02   5.98928183e-02]\n",
      "Residual: [  1.02522790e-08   7.73070497e-10  -6.07114782e-09]\n",
      "Found equilibirum position. Equilibrium variables are:\n",
      "Phi=-0.0deg\n",
      "Theta=0.1deg\n",
      "Dz=60mm\n"
     ]
    }
   ],
   "source": [
    "# Equilibrium calculation\n",
    "\n",
    "(phi, theta, dz) = dyn.equilibrium(mass,cgZ,shape,w,verbose=1)\n",
    "print \"Found equilibirum position. Equilibrium variables are:\"\n",
    "print \"Phi={:.1f}\".format(phi)+\"deg\"\n",
    "print \"Theta={:.1f}\".format(theta)+\"deg\"\n",
    "print \"Dz={:.0f}\".format(dz*1000)+\"mm\""
   ]
  },
  {
   "cell_type": "code",
   "execution_count": 8,
   "metadata": {
    "collapsed": false
   },
   "outputs": [],
   "source": [
    "def plot_scene(shape,w,angles,position,cgPos_e):\n",
    "    # Calculate buoy shape coordinates in its intrinsic coordinate\n",
    "    # system\n",
    "    csB_coords_b = geo.getShapePoints(shape,'bottom',80, 60)\n",
    "    csT_coords_b = geo.getShapePoints(shape,'top',80, 60)\n",
    "\n",
    "    # Calculate rotated and translated coordinates for left and right\n",
    "    # buoys\n",
    "    bl_pos = np.array([0.,\n",
    "                       -w/2*np.cos(np.radians(angles[0])),\n",
    "                       -w/2*np.sin(np.radians(angles[0]))])\n",
    "    csLB_e = dyn.buoy_to_earth(csB_coords_b,angles,position+bl_pos)\n",
    "    csRB_e = dyn.buoy_to_earth(csB_coords_b,angles,position-bl_pos)\n",
    "    csLT_e = dyn.buoy_to_earth(csT_coords_b,angles,position+bl_pos)\n",
    "    csRT_e = dyn.buoy_to_earth(csT_coords_b,angles,position-bl_pos)\n",
    "    \n",
    "    xlb = csLB_e[0,:].reshape((80,119))\n",
    "    ylb = csLB_e[1,:].reshape((80,119))\n",
    "    zlb = csLB_e[2,:].reshape((80,119))\n",
    "\n",
    "    xrb = csRB_e[0,:].reshape((80,119))\n",
    "    yrb = csRB_e[1,:].reshape((80,119))\n",
    "    zrb = csRB_e[2,:].reshape((80,119))\n",
    "\n",
    "    xlt = csLT_e[0,:].reshape((80,119))\n",
    "    ylt = csLT_e[1,:].reshape((80,119))\n",
    "    zlt = csLT_e[2,:].reshape((80,119))\n",
    "\n",
    "    xrt = csRT_e[0,:].reshape((80,119))\n",
    "    yrt = csRT_e[1,:].reshape((80,119))\n",
    "    zrt = csRT_e[2,:].reshape((80,119))\n",
    "\n",
    "    slb = mlab.mesh(xlb,ylb,zlb, color=(139./255.,139./255.,0))\n",
    "    srb = mlab.mesh(xrb,yrb,zrb, color=(139./255.,139./255.,0))\n",
    "    slt = mlab.mesh(xlt,ylt,zlt, color=(139./255.,139./255.,0))\n",
    "    srt = mlab.mesh(xrt,yrt,zrt, color=(139./255.,139./255.,0))\n",
    "\n",
    "    wtp = mlab.surf(np.array([-2.,2.]),np.array([-2.,2.]),\n",
    "                    np.zeros((2,2)),color=(0,0,1),opacity=0.3)\n",
    "    \n",
    "    mlab.points3d(cgPos_e[0],cgPos_e[1],cgPos_e[2],color=(1,0,0),\n",
    "                 scale_factor=0.075)\n",
    "\n",
    "    mlab.show()"
   ]
  },
  {
   "cell_type": "code",
   "execution_count": null,
   "metadata": {
    "collapsed": false,
    "scrolled": false
   },
   "outputs": [
    {
     "name": "stdout",
     "output_type": "stream",
     "text": [
      "Warning: the range of your scalar values differs by more than a factor 100 than the range of the grid values and you did not specify a warp_scale. You could try warp_scale=\"auto\".\n"
     ]
    }
   ],
   "source": [
    "angles = np.array([phi,theta,0])\n",
    "position = np.array([0.,0.,dz])\n",
    "cgPos_e = cgZ+position\n",
    "plot_scene(shape,w,angles,position,cgPos_e)"
   ]
  },
  {
   "cell_type": "code",
   "execution_count": 9,
   "metadata": {
    "collapsed": true
   },
   "outputs": [],
   "source": [
    "HULL_NAME = 'nemohull_a_trap2.txt' # nemohull_wig.txt\n",
    "mlt_pnts = geo.geom_to_mlt(shape, 0, 81, 61)\n",
    "np.savetxt(HULL_NAME,-1*mlt_pnts,fmt='%.6f',delimiter=',')"
   ]
  },
  {
   "cell_type": "code",
   "execution_count": 10,
   "metadata": {
    "collapsed": false
   },
   "outputs": [
    {
     "ename": "TypeError",
     "evalue": "<lambda>() takes exactly 3 arguments (1 given)",
     "output_type": "error",
     "traceback": [
      "\u001b[0;31m--------------------------------------------------------------------------\u001b[0m",
      "\u001b[0;31mTypeError\u001b[0m                                Traceback (most recent call last)",
      "\u001b[0;32m<ipython-input-10-dfc200cbb0bd>\u001b[0m in \u001b[0;36m<module>\u001b[0;34m()\u001b[0m\n\u001b[1;32m      2\u001b[0m                                                            \u001b[0mshape\u001b[0m\u001b[0;34m.\u001b[0m\u001b[0mkeel\u001b[0m\u001b[0;34m,\u001b[0m\u001b[0;34m\u001b[0m\u001b[0m\n\u001b[1;32m      3\u001b[0m                                                            \u001b[0mshape\u001b[0m\u001b[0;34m.\u001b[0m\u001b[0mwaterline\u001b[0m\u001b[0;34m,\u001b[0m\u001b[0;34m\u001b[0m\u001b[0m\n\u001b[0;32m----> 4\u001b[0;31m                                                            shape.bottom))\n\u001b[0m",
      "\u001b[0;32m/home/gustavo/prjs/hph/nemo/hull/hull_geom.pyc\u001b[0m in \u001b[0;36mvolume\u001b[0;34m(l, nf_c, nf_b, nf_cross)\u001b[0m\n\u001b[1;32m    137\u001b[0m     \u001b[0mb\u001b[0m \u001b[0;34m=\u001b[0m \u001b[0mline_coord\u001b[0m\u001b[0;34m(\u001b[0m\u001b[0ms\u001b[0m\u001b[0;34m,\u001b[0m \u001b[0ml\u001b[0m\u001b[0;34m,\u001b[0m \u001b[0mnf_b\u001b[0m\u001b[0;34m)\u001b[0m\u001b[0;34m\u001b[0m\u001b[0m\n\u001b[1;32m    138\u001b[0m     \u001b[0mc\u001b[0m \u001b[0;34m=\u001b[0m \u001b[0mline_coord\u001b[0m\u001b[0;34m(\u001b[0m\u001b[0ms\u001b[0m\u001b[0;34m,\u001b[0m \u001b[0ml\u001b[0m\u001b[0;34m,\u001b[0m \u001b[0mnf_c\u001b[0m\u001b[0;34m)\u001b[0m\u001b[0;34m\u001b[0m\u001b[0m\n\u001b[0;32m--> 139\u001b[0;31m     \u001b[0ma\u001b[0m \u001b[0;34m=\u001b[0m \u001b[0marea_fun\u001b[0m\u001b[0;34m(\u001b[0m\u001b[0mb\u001b[0m\u001b[0;34m,\u001b[0m \u001b[0mc\u001b[0m\u001b[0;34m,\u001b[0m \u001b[0mnf_cross\u001b[0m\u001b[0;34m)\u001b[0m\u001b[0;34m\u001b[0m\u001b[0m\n\u001b[0m\u001b[1;32m    140\u001b[0m     \u001b[0;32mreturn\u001b[0m \u001b[0mintegrate\u001b[0m\u001b[0;34m.\u001b[0m\u001b[0msimps\u001b[0m\u001b[0;34m(\u001b[0m\u001b[0ma\u001b[0m\u001b[0;34m,\u001b[0m\u001b[0ms\u001b[0m\u001b[0;34m)\u001b[0m\u001b[0;34m\u001b[0m\u001b[0m\n\u001b[1;32m    141\u001b[0m \u001b[0;34m\u001b[0m\u001b[0m\n",
      "\u001b[0;32m/home/gustavo/prjs/hph/nemo/hull/hull_geom.pyc\u001b[0m in \u001b[0;36marea_fun\u001b[0;34m(wl_dist, keel_dist, cross_fun)\u001b[0m\n\u001b[1;32m    128\u001b[0m     \u001b[0mlatN\u001b[0m \u001b[0;34m=\u001b[0m \u001b[0mnp\u001b[0m\u001b[0;34m.\u001b[0m\u001b[0mlinspace\u001b[0m\u001b[0;34m(\u001b[0m\u001b[0;36m0\u001b[0m\u001b[0;34m,\u001b[0m\u001b[0;36m1\u001b[0m\u001b[0;34m,\u001b[0m\u001b[0mNC\u001b[0m\u001b[0;34m+\u001b[0m\u001b[0;36m1\u001b[0m\u001b[0;34m)\u001b[0m\u001b[0;34m\u001b[0m\u001b[0m\n\u001b[1;32m    129\u001b[0m     \u001b[0;32mfor\u001b[0m \u001b[0;34m(\u001b[0m\u001b[0mb\u001b[0m\u001b[0;34m,\u001b[0m\u001b[0mc\u001b[0m\u001b[0;34m)\u001b[0m \u001b[0;32min\u001b[0m \u001b[0mzip\u001b[0m\u001b[0;34m(\u001b[0m\u001b[0mwl_dist\u001b[0m\u001b[0;34m[\u001b[0m\u001b[0;36m1\u001b[0m\u001b[0;34m:\u001b[0m\u001b[0;34m-\u001b[0m\u001b[0;36m1\u001b[0m\u001b[0;34m]\u001b[0m\u001b[0;34m,\u001b[0m\u001b[0mkeel_dist\u001b[0m\u001b[0;34m[\u001b[0m\u001b[0;36m1\u001b[0m\u001b[0;34m:\u001b[0m\u001b[0;34m-\u001b[0m\u001b[0;36m1\u001b[0m\u001b[0;34m]\u001b[0m\u001b[0;34m)\u001b[0m\u001b[0;34m:\u001b[0m\u001b[0;34m\u001b[0m\u001b[0m\n\u001b[0;32m--> 130\u001b[0;31m         \u001b[0mprof\u001b[0m \u001b[0;34m=\u001b[0m \u001b[0mc\u001b[0m\u001b[0;34m*\u001b[0m\u001b[0mcross_fun\u001b[0m\u001b[0;34m(\u001b[0m\u001b[0mlatN\u001b[0m\u001b[0;34m)\u001b[0m\u001b[0;34m\u001b[0m\u001b[0m\n\u001b[0m\u001b[1;32m    131\u001b[0m         \u001b[0mlat\u001b[0m \u001b[0;34m=\u001b[0m \u001b[0mb\u001b[0m\u001b[0;34m*\u001b[0m\u001b[0mlatN\u001b[0m\u001b[0;34m\u001b[0m\u001b[0m\n\u001b[1;32m    132\u001b[0m         \u001b[0marea_vec\u001b[0m \u001b[0;34m=\u001b[0m \u001b[0mnp\u001b[0m\u001b[0;34m.\u001b[0m\u001b[0mappend\u001b[0m\u001b[0;34m(\u001b[0m\u001b[0marea_vec\u001b[0m\u001b[0;34m,\u001b[0m\u001b[0;36m2\u001b[0m\u001b[0;34m*\u001b[0m\u001b[0mintegrate\u001b[0m\u001b[0;34m.\u001b[0m\u001b[0msimps\u001b[0m\u001b[0;34m(\u001b[0m\u001b[0mprof\u001b[0m\u001b[0;34m,\u001b[0m\u001b[0mlat\u001b[0m\u001b[0;34m)\u001b[0m\u001b[0;34m)\u001b[0m\u001b[0;34m\u001b[0m\u001b[0m\n",
      "\u001b[0;31mTypeError\u001b[0m: <lambda>() takes exactly 3 arguments (1 given)"
     ]
    }
   ],
   "source": [
    "print '1-Hull Volume: {:.5f} m^3'.format(-1*geo.volume(shape.length,\n",
    "                                                           shape.keel,\n",
    "                                                           shape.waterline,\n",
    "                                                           shape.bottom))"
   ]
  },
  {
   "cell_type": "code",
   "execution_count": 11,
   "metadata": {
    "collapsed": false
   },
   "outputs": [
    {
     "data": {
      "text/html": [
       "\n",
       "\n",
       "    <div class=\"bk-root\">\n",
       "        <div class=\"plotdiv\" id=\"86d9981c-e166-4e99-b32d-34d3e2e18eda\"></div>\n",
       "    </div>\n",
       "<script type=\"text/javascript\">\n",
       "  \n",
       "  (function(global) {\n",
       "    function now() {\n",
       "      return new Date();\n",
       "    }\n",
       "  \n",
       "    var force = \"\";\n",
       "  \n",
       "    if (typeof (window._bokeh_onload_callbacks) === \"undefined\" || force !== \"\") {\n",
       "      window._bokeh_onload_callbacks = [];\n",
       "      window._bokeh_is_loading = undefined;\n",
       "    }\n",
       "  \n",
       "    function run_callbacks() {\n",
       "      window._bokeh_onload_callbacks.forEach(function(callback) { callback() });\n",
       "      delete window._bokeh_onload_callbacks\n",
       "      console.info(\"Bokeh: all callbacks have finished\");\n",
       "    }\n",
       "  \n",
       "    function load_libs(js_urls, callback) {\n",
       "      window._bokeh_onload_callbacks.push(callback);\n",
       "      if (window._bokeh_is_loading > 0) {\n",
       "        console.log(\"Bokeh: BokehJS is being loaded, scheduling callback at\", now());\n",
       "        return null;\n",
       "      }\n",
       "      if (js_urls == null || js_urls.length === 0) {\n",
       "        run_callbacks();\n",
       "        return null;\n",
       "      }\n",
       "      console.log(\"Bokeh: BokehJS not loaded, scheduling load and callback at\", now());\n",
       "      window._bokeh_is_loading = js_urls.length;\n",
       "      for (var i = 0; i < js_urls.length; i++) {\n",
       "        var url = js_urls[i];\n",
       "        var s = document.createElement('script');\n",
       "        s.src = url;\n",
       "        s.async = false;\n",
       "        s.onreadystatechange = s.onload = function() {\n",
       "          window._bokeh_is_loading--;\n",
       "          if (window._bokeh_is_loading === 0) {\n",
       "            console.log(\"Bokeh: all BokehJS libraries loaded\");\n",
       "            run_callbacks()\n",
       "          }\n",
       "        };\n",
       "        s.onerror = function() {\n",
       "          console.warn(\"failed to load library \" + url);\n",
       "        };\n",
       "        console.log(\"Bokeh: injecting script tag for BokehJS library: \", url);\n",
       "        document.getElementsByTagName(\"head\")[0].appendChild(s);\n",
       "      }\n",
       "    };var element = document.getElementById(\"86d9981c-e166-4e99-b32d-34d3e2e18eda\");\n",
       "    if (element == null) {\n",
       "      console.log(\"Bokeh: ERROR: autoload.js configured with elementid '86d9981c-e166-4e99-b32d-34d3e2e18eda' but no matching script tag was found. \")\n",
       "      return false;\n",
       "    }\n",
       "  \n",
       "    var js_urls = [];\n",
       "  \n",
       "    var inline_js = [\n",
       "      function(Bokeh) {\n",
       "        Bokeh.$(function() {\n",
       "            var docs_json = {\"92f878a0-38ec-4711-823d-0201bb096edd\":{\"roots\":{\"references\":[{\"attributes\":{\"bottom_units\":\"screen\",\"fill_alpha\":{\"value\":0.5},\"fill_color\":{\"value\":\"lightgrey\"},\"left_units\":\"screen\",\"level\":\"overlay\",\"line_alpha\":{\"value\":1.0},\"line_color\":{\"value\":\"black\"},\"line_dash\":[4,4],\"line_width\":{\"value\":2},\"plot\":null,\"render_mode\":\"css\",\"right_units\":\"screen\",\"top_units\":\"screen\"},\"id\":\"de8b3ca9-d334-4112-91e0-7a6add386576\",\"type\":\"BoxAnnotation\"},{\"attributes\":{\"callback\":null,\"end\":0.3,\"start\":-0.3},\"id\":\"14ac22e1-5c1e-4ff8-b763-8439ffc7c55d\",\"type\":\"Range1d\"},{\"attributes\":{\"active_drag\":\"auto\",\"active_scroll\":\"auto\",\"active_tap\":\"auto\",\"tools\":[{\"id\":\"164c25b1-7e17-4912-ba01-86216329d27c\",\"type\":\"PanTool\"},{\"id\":\"899f67b9-90f4-4830-80d8-caa28ca30bb1\",\"type\":\"WheelZoomTool\"},{\"id\":\"4edb5e18-cdfb-4ee1-9002-1369181aae0a\",\"type\":\"BoxZoomTool\"},{\"id\":\"5d3088f4-a994-4518-a254-c98fc5c3f28a\",\"type\":\"SaveTool\"},{\"id\":\"6525bf64-0295-456f-a6c0-19ce43c65756\",\"type\":\"ResetTool\"},{\"id\":\"1c7575a1-4516-46af-9205-c57efd94c3b4\",\"type\":\"HelpTool\"}]},\"id\":\"bfb8f2d0-8998-4daa-9e35-d2d6cfd899e6\",\"type\":\"Toolbar\"},{\"attributes\":{\"dimension\":1,\"plot\":{\"id\":\"81519940-60af-464f-8d3f-4aae735ffddc\",\"subtype\":\"Figure\",\"type\":\"Plot\"},\"ticker\":{\"id\":\"edd8099c-a031-4873-b46e-b10f108420a4\",\"type\":\"BasicTicker\"}},\"id\":\"4cd00d12-8c5b-4e1c-94e7-ff3e82a96999\",\"type\":\"Grid\"},{\"attributes\":{\"plot\":{\"id\":\"81519940-60af-464f-8d3f-4aae735ffddc\",\"subtype\":\"Figure\",\"type\":\"Plot\"}},\"id\":\"1c7575a1-4516-46af-9205-c57efd94c3b4\",\"type\":\"HelpTool\"},{\"attributes\":{},\"id\":\"a75f50f0-da09-43e4-bfc4-48e757d1118a\",\"type\":\"BasicTickFormatter\"},{\"attributes\":{\"line_color\":{\"value\":\"#1f77b4\"},\"x\":{\"field\":\"x\"},\"y\":{\"field\":\"y\"}},\"id\":\"ced65072-d0cb-49f6-92c4-57772b2afa15\",\"type\":\"Line\"},{\"attributes\":{\"plot\":{\"id\":\"81519940-60af-464f-8d3f-4aae735ffddc\",\"subtype\":\"Figure\",\"type\":\"Plot\"}},\"id\":\"164c25b1-7e17-4912-ba01-86216329d27c\",\"type\":\"PanTool\"},{\"attributes\":{\"line_alpha\":{\"value\":0.1},\"line_color\":{\"value\":\"#1f77b4\"},\"x\":{\"field\":\"x\"},\"y\":{\"field\":\"y\"}},\"id\":\"71608bde-7104-44bf-9ec9-77796b4621b8\",\"type\":\"Line\"},{\"attributes\":{\"formatter\":{\"id\":\"a7c52b34-0a91-45a2-8c68-92db02b9cd1c\",\"type\":\"BasicTickFormatter\"},\"plot\":{\"id\":\"81519940-60af-464f-8d3f-4aae735ffddc\",\"subtype\":\"Figure\",\"type\":\"Plot\"},\"ticker\":{\"id\":\"edd8099c-a031-4873-b46e-b10f108420a4\",\"type\":\"BasicTicker\"}},\"id\":\"5d32672e-03dc-46c4-9668-7a9ce33a48a4\",\"type\":\"LinearAxis\"},{\"attributes\":{\"data_source\":{\"id\":\"3bce4777-1955-4b89-aa12-5cd329be6ac9\",\"type\":\"ColumnDataSource\"},\"glyph\":{\"id\":\"ced65072-d0cb-49f6-92c4-57772b2afa15\",\"type\":\"Line\"},\"hover_glyph\":null,\"nonselection_glyph\":{\"id\":\"90b306f6-107e-428b-919b-87382043c4a3\",\"type\":\"Line\"},\"selection_glyph\":null},\"id\":\"02012d73-fea1-4ab6-bdb6-dce8f6dee6da\",\"type\":\"GlyphRenderer\"},{\"attributes\":{\"line_color\":{\"value\":\"#1f77b4\"},\"x\":{\"field\":\"x\"},\"y\":{\"field\":\"y\"}},\"id\":\"1f8e0f40-d084-4665-b18c-aa4682efa73b\",\"type\":\"Line\"},{\"attributes\":{\"plot\":{\"id\":\"81519940-60af-464f-8d3f-4aae735ffddc\",\"subtype\":\"Figure\",\"type\":\"Plot\"}},\"id\":\"6525bf64-0295-456f-a6c0-19ce43c65756\",\"type\":\"ResetTool\"},{\"attributes\":{},\"id\":\"edd8099c-a031-4873-b46e-b10f108420a4\",\"type\":\"BasicTicker\"},{\"attributes\":{\"plot\":{\"id\":\"81519940-60af-464f-8d3f-4aae735ffddc\",\"subtype\":\"Figure\",\"type\":\"Plot\"}},\"id\":\"5d3088f4-a994-4518-a254-c98fc5c3f28a\",\"type\":\"SaveTool\"},{\"attributes\":{},\"id\":\"8dc57c11-e0c1-40bd-a75d-a2431202378a\",\"type\":\"BasicTicker\"},{\"attributes\":{\"plot\":null,\"text\":null},\"id\":\"13fed633-632f-4504-80a4-1db92816966b\",\"type\":\"Title\"},{\"attributes\":{\"line_alpha\":{\"value\":0.1},\"line_color\":{\"value\":\"#1f77b4\"},\"x\":{\"field\":\"x\"},\"y\":{\"field\":\"y\"}},\"id\":\"90b306f6-107e-428b-919b-87382043c4a3\",\"type\":\"Line\"},{\"attributes\":{\"below\":[{\"id\":\"6ed69cbb-2416-4290-9120-3c84c22cddc4\",\"type\":\"LinearAxis\"}],\"left\":[{\"id\":\"5d32672e-03dc-46c4-9668-7a9ce33a48a4\",\"type\":\"LinearAxis\"}],\"plot_height\":200,\"plot_width\":900,\"renderers\":[{\"id\":\"6ed69cbb-2416-4290-9120-3c84c22cddc4\",\"type\":\"LinearAxis\"},{\"id\":\"5c39a5ee-a999-4418-8f22-44a64c9d8bcf\",\"type\":\"Grid\"},{\"id\":\"5d32672e-03dc-46c4-9668-7a9ce33a48a4\",\"type\":\"LinearAxis\"},{\"id\":\"4cd00d12-8c5b-4e1c-94e7-ff3e82a96999\",\"type\":\"Grid\"},{\"id\":\"de8b3ca9-d334-4112-91e0-7a6add386576\",\"type\":\"BoxAnnotation\"},{\"id\":\"02012d73-fea1-4ab6-bdb6-dce8f6dee6da\",\"type\":\"GlyphRenderer\"},{\"id\":\"18d886e8-d88b-4cf7-85ab-33caaeb3e928\",\"type\":\"GlyphRenderer\"}],\"title\":{\"id\":\"13fed633-632f-4504-80a4-1db92816966b\",\"type\":\"Title\"},\"tool_events\":{\"id\":\"092df018-1abe-4dd9-acf2-8170671160e0\",\"type\":\"ToolEvents\"},\"toolbar\":{\"id\":\"bfb8f2d0-8998-4daa-9e35-d2d6cfd899e6\",\"type\":\"Toolbar\"},\"toolbar_location\":\"above\",\"x_range\":{\"id\":\"0aa348f4-1f3d-4fa2-be9e-e2c923637375\",\"type\":\"Range1d\"},\"y_range\":{\"id\":\"14ac22e1-5c1e-4ff8-b763-8439ffc7c55d\",\"type\":\"Range1d\"}},\"id\":\"81519940-60af-464f-8d3f-4aae735ffddc\",\"subtype\":\"Figure\",\"type\":\"Plot\"},{\"attributes\":{\"callback\":null,\"column_names\":[\"y\",\"x\"],\"data\":{\"x\":[-1.15,-1.1267676767676766,-1.1035353535353534,-1.0803030303030303,-1.057070707070707,-1.0338383838383838,-1.0106060606060605,-0.9873737373737372,-0.9641414141414141,-0.9409090909090909,-0.9176767676767676,-0.8944444444444444,-0.8712121212121211,-0.847979797979798,-0.8247474747474747,-0.8015151515151515,-0.7782828282828282,-0.755050505050505,-0.7318181818181818,-0.7085858585858585,-0.6853535353535354,-0.6621212121212121,-0.6388888888888888,-0.6156565656565657,-0.5924242424242424,-0.5691919191919191,-0.545959595959596,-0.5227272727272727,-0.49949494949494944,-0.4762626262626263,-0.453030303030303,-0.42979797979797985,-0.4065656565656566,-0.3833333333333333,-0.36010101010101014,-0.3368686868686869,-0.3136363636363637,-0.29040404040404044,-0.26717171717171717,-0.243939393939394,-0.22070707070707074,-0.19747474747474747,-0.1742424242424243,-0.15101010101010104,-0.12777777777777777,-0.1045454545454545,-0.08131313131313145,-0.05808080808080818,-0.034848484848484906,-0.011616161616161635,0.011616161616161635,0.034848484848484684,0.058080808080807955,0.08131313131313123,0.1045454545454545,0.12777777777777777,0.15101010101010104,0.1742424242424241,0.19747474747474736,0.22070707070707063,0.2439393939393939,0.26717171717171717,0.2904040404040402,0.3136363636363635,0.33686868686868676,0.36010101010101003,0.3833333333333333,0.40656565656565635,0.4297979797979796,0.4530303030303029,0.47626262626262617,0.49949494949494944,0.5227272727272725,0.5459595959595958,0.569191919191919,0.5924242424242423,0.6156565656565656,0.6388888888888888,0.6621212121212119,0.6853535353535352,0.7085858585858584,0.7318181818181817,0.755050505050505,0.778282828282828,0.8015151515151513,0.8247474747474746,0.8479797979797978,0.8712121212121211,0.8944444444444444,0.9176767676767676,0.9409090909090909,0.9641414141414137,0.987373737373737,1.0106060606060603,1.0338383838383836,1.0570707070707068,1.08030303030303,1.1035353535353534,1.1267676767676766,1.15],\"y\":[2.8166876380389123e-18,-0.009908113634893101,-0.019140323585793127,-0.02773030279913055,-0.03571109737242135,-0.04311510318758879,-0.04997404282846792,-0.05631894287543765,-0.062180111668606604,-0.06758711762909293,-0.07256876822569067,-0.07715308967161591,-0.08136730743308769,-0.0852378276282277,-0.08879021939117966,-0.09204919827246147,-0.09503861074239117,-0.09778141985998563,-0.10029969216503881,-0.10261458584616014,-0.10474634023241634,-0.10671426665088994,-0.10853674068696824,-0.11023119587852735,-0.11181411886940293,-0.11330104604166286,-0.11470656164024225,-0.11604429739749259,-0.11732693365915646,-0.11856620200723428,-0.1197728893691813,-0.12095684359688913,-0.12212698049298658,-0.12329129225616778,-0.12445685731154121,-0.12562985148641623,-0.12681556048652576,-0.1280183936224488,-0.1292418987309601,-0.13048877823122473,-0.13176090625118506,-0.13305934675517722,-0.13438437259978503,-0.1357354854411987,-0.1371114364139196,-0.13851024749754431,-0.13992923348559222,-0.1413650244679156,-0.14281358873616298,-0.1442702560200649,-0.145729740960976,-0.1471861667281554,-0.14863308868268968,-0.1500635179937731,-0.15146994511225007,-0.15284436300690038,-0.15417829006990297,-0.1554627925992459,-0.15668850676755391,-0.15784565998887248,-0.15892409159737256,-0.1599132727547095,-0.16080232550587648,-0.16158004090682165,-0.16223489615083447,-0.1627550706247407,-0.16312846083025195,-0.16334269411038804,-0.16338514112569985,-0.16324292703005602,-0.1629029413009916,-0.16235184618503629,-0.1615760837240155,-0.16056188133403157,-0.15929525591466112,-0.1577620164718213,-0.15594776524374504,-0.1538378973255298,-0.1514175987937729,-0.14867184333884376,-0.14558538741835506,-0.14214276395134667,-0.13832827457857438,-0.1341259805200689,-0.129519692066777,-0.12449295674860049,-0.11902904622647424,-0.11311094196126485,-0.10672131971719673,-0.09984253296220412,-0.09245659523205041,-0.08454516152922825,-0.07608950883153966,-0.0670705157888431,-0.05746864168971931,-0.0472639047827511,-0.03643586003970948,-0.0249635764501856,-0.012825613939095083,-2.8166876380389123e-18]}},\"id\":\"e874b1d5-0c60-4378-bcba-8a410636efe3\",\"type\":\"ColumnDataSource\"},{\"attributes\":{\"plot\":{\"id\":\"81519940-60af-464f-8d3f-4aae735ffddc\",\"subtype\":\"Figure\",\"type\":\"Plot\"}},\"id\":\"899f67b9-90f4-4830-80d8-caa28ca30bb1\",\"type\":\"WheelZoomTool\"},{\"attributes\":{\"callback\":null,\"column_names\":[\"y\",\"x\"],\"data\":{\"x\":[-1.15,-1.1267676767676766,-1.1035353535353534,-1.0803030303030303,-1.057070707070707,-1.0338383838383838,-1.0106060606060605,-0.9873737373737372,-0.9641414141414141,-0.9409090909090909,-0.9176767676767676,-0.8944444444444444,-0.8712121212121211,-0.847979797979798,-0.8247474747474747,-0.8015151515151515,-0.7782828282828282,-0.755050505050505,-0.7318181818181818,-0.7085858585858585,-0.6853535353535354,-0.6621212121212121,-0.6388888888888888,-0.6156565656565657,-0.5924242424242424,-0.5691919191919191,-0.545959595959596,-0.5227272727272727,-0.49949494949494944,-0.4762626262626263,-0.453030303030303,-0.42979797979797985,-0.4065656565656566,-0.3833333333333333,-0.36010101010101014,-0.3368686868686869,-0.3136363636363637,-0.29040404040404044,-0.26717171717171717,-0.243939393939394,-0.22070707070707074,-0.19747474747474747,-0.1742424242424243,-0.15101010101010104,-0.12777777777777777,-0.1045454545454545,-0.08131313131313145,-0.05808080808080818,-0.034848484848484906,-0.011616161616161635,0.011616161616161635,0.034848484848484684,0.058080808080807955,0.08131313131313123,0.1045454545454545,0.12777777777777777,0.15101010101010104,0.1742424242424241,0.19747474747474736,0.22070707070707063,0.2439393939393939,0.26717171717171717,0.2904040404040402,0.3136363636363635,0.33686868686868676,0.36010101010101003,0.3833333333333333,0.40656565656565635,0.4297979797979796,0.4530303030303029,0.47626262626262617,0.49949494949494944,0.5227272727272725,0.5459595959595958,0.569191919191919,0.5924242424242423,0.6156565656565656,0.6388888888888888,0.6621212121212119,0.6853535353535352,0.7085858585858584,0.7318181818181817,0.755050505050505,0.778282828282828,0.8015151515151513,0.8247474747474746,0.8479797979797978,0.8712121212121211,0.8944444444444444,0.9176767676767676,0.9409090909090909,0.9641414141414137,0.987373737373737,1.0106060606060603,1.0338383838383836,1.0570707070707068,1.08030303030303,1.1035353535353534,1.1267676767676766,1.15],\"y\":[-2.8166876380389123e-18,0.009908113634893101,0.019140323585793127,0.02773030279913055,0.03571109737242135,0.04311510318758879,0.04997404282846792,0.05631894287543765,0.062180111668606604,0.06758711762909293,0.07256876822569067,0.07715308967161591,0.08136730743308769,0.0852378276282277,0.08879021939117966,0.09204919827246147,0.09503861074239117,0.09778141985998563,0.10029969216503881,0.10261458584616014,0.10474634023241634,0.10671426665088994,0.10853674068696824,0.11023119587852735,0.11181411886940293,0.11330104604166286,0.11470656164024225,0.11604429739749259,0.11732693365915646,0.11856620200723428,0.1197728893691813,0.12095684359688913,0.12212698049298658,0.12329129225616778,0.12445685731154121,0.12562985148641623,0.12681556048652576,0.1280183936224488,0.1292418987309601,0.13048877823122473,0.13176090625118506,0.13305934675517722,0.13438437259978503,0.1357354854411987,0.1371114364139196,0.13851024749754431,0.13992923348559222,0.1413650244679156,0.14281358873616298,0.1442702560200649,0.145729740960976,0.1471861667281554,0.14863308868268968,0.1500635179937731,0.15146994511225007,0.15284436300690038,0.15417829006990297,0.1554627925992459,0.15668850676755391,0.15784565998887248,0.15892409159737256,0.1599132727547095,0.16080232550587648,0.16158004090682165,0.16223489615083447,0.1627550706247407,0.16312846083025195,0.16334269411038804,0.16338514112569985,0.16324292703005602,0.1629029413009916,0.16235184618503629,0.1615760837240155,0.16056188133403157,0.15929525591466112,0.1577620164718213,0.15594776524374504,0.1538378973255298,0.1514175987937729,0.14867184333884376,0.14558538741835506,0.14214276395134667,0.13832827457857438,0.1341259805200689,0.129519692066777,0.12449295674860049,0.11902904622647424,0.11311094196126485,0.10672131971719673,0.09984253296220412,0.09245659523205041,0.08454516152922825,0.07608950883153966,0.0670705157888431,0.05746864168971931,0.0472639047827511,0.03643586003970948,0.0249635764501856,0.012825613939095083,2.8166876380389123e-18]}},\"id\":\"3bce4777-1955-4b89-aa12-5cd329be6ac9\",\"type\":\"ColumnDataSource\"},{\"attributes\":{\"plot\":{\"id\":\"81519940-60af-464f-8d3f-4aae735ffddc\",\"subtype\":\"Figure\",\"type\":\"Plot\"},\"ticker\":{\"id\":\"8dc57c11-e0c1-40bd-a75d-a2431202378a\",\"type\":\"BasicTicker\"}},\"id\":\"5c39a5ee-a999-4418-8f22-44a64c9d8bcf\",\"type\":\"Grid\"},{\"attributes\":{\"callback\":null,\"end\":1.5,\"start\":-1.5},\"id\":\"0aa348f4-1f3d-4fa2-be9e-e2c923637375\",\"type\":\"Range1d\"},{\"attributes\":{},\"id\":\"a7c52b34-0a91-45a2-8c68-92db02b9cd1c\",\"type\":\"BasicTickFormatter\"},{\"attributes\":{\"formatter\":{\"id\":\"a75f50f0-da09-43e4-bfc4-48e757d1118a\",\"type\":\"BasicTickFormatter\"},\"plot\":{\"id\":\"81519940-60af-464f-8d3f-4aae735ffddc\",\"subtype\":\"Figure\",\"type\":\"Plot\"},\"ticker\":{\"id\":\"8dc57c11-e0c1-40bd-a75d-a2431202378a\",\"type\":\"BasicTicker\"}},\"id\":\"6ed69cbb-2416-4290-9120-3c84c22cddc4\",\"type\":\"LinearAxis\"},{\"attributes\":{\"overlay\":{\"id\":\"de8b3ca9-d334-4112-91e0-7a6add386576\",\"type\":\"BoxAnnotation\"},\"plot\":{\"id\":\"81519940-60af-464f-8d3f-4aae735ffddc\",\"subtype\":\"Figure\",\"type\":\"Plot\"}},\"id\":\"4edb5e18-cdfb-4ee1-9002-1369181aae0a\",\"type\":\"BoxZoomTool\"},{\"attributes\":{},\"id\":\"092df018-1abe-4dd9-acf2-8170671160e0\",\"type\":\"ToolEvents\"},{\"attributes\":{\"data_source\":{\"id\":\"e874b1d5-0c60-4378-bcba-8a410636efe3\",\"type\":\"ColumnDataSource\"},\"glyph\":{\"id\":\"1f8e0f40-d084-4665-b18c-aa4682efa73b\",\"type\":\"Line\"},\"hover_glyph\":null,\"nonselection_glyph\":{\"id\":\"71608bde-7104-44bf-9ec9-77796b4621b8\",\"type\":\"Line\"},\"selection_glyph\":null},\"id\":\"18d886e8-d88b-4cf7-85ab-33caaeb3e928\",\"type\":\"GlyphRenderer\"}],\"root_ids\":[\"81519940-60af-464f-8d3f-4aae735ffddc\"]},\"title\":\"Bokeh Application\",\"version\":\"0.12.1\"}};\n",
       "            var render_items = [{\"docid\":\"92f878a0-38ec-4711-823d-0201bb096edd\",\"elementid\":\"86d9981c-e166-4e99-b32d-34d3e2e18eda\",\"modelid\":\"81519940-60af-464f-8d3f-4aae735ffddc\",\"notebook_comms_target\":\"904d227e-5636-41f6-9d4a-561d764e7d54\"}];\n",
       "            \n",
       "            Bokeh.embed.embed_items(docs_json, render_items);\n",
       "        });\n",
       "      },\n",
       "      function(Bokeh) {\n",
       "      }\n",
       "    ];\n",
       "  \n",
       "    function run_inline_js() {\n",
       "      for (var i = 0; i < inline_js.length; i++) {\n",
       "        inline_js[i](window.Bokeh);\n",
       "      }\n",
       "    }\n",
       "  \n",
       "    if (window._bokeh_is_loading === 0) {\n",
       "      console.log(\"Bokeh: BokehJS loaded, going straight to plotting\");\n",
       "      run_inline_js();\n",
       "    } else {\n",
       "      load_libs(js_urls, function() {\n",
       "        console.log(\"Bokeh: BokehJS plotting callback run at\", now());\n",
       "        run_inline_js();\n",
       "      });\n",
       "    }\n",
       "  }(this));\n",
       "</script>"
      ]
     },
     "metadata": {},
     "output_type": "display_data"
    },
    {
     "data": {
      "text/html": [
       "<p><code>&lt;Bokeh Notebook handle for <strong>In[11]</strong>&gt;</code></p>"
      ],
      "text/plain": [
       "<bokeh.io._CommsHandle at 0x7f9e77376e90>"
      ]
     },
     "execution_count": 11,
     "metadata": {},
     "output_type": "execute_result"
    }
   ],
   "source": [
    "wl  = lambda x: -geo.normal_pol(x,mboca/L,4)+0.01*np.sin(np.pi*x)\n",
    "stt = np.linspace(-L/2,L/2,100)\n",
    "wl_cl = []\n",
    "for s in stt:\n",
    "    wl_cl.append(wl(2*s/L)*L)\n",
    "\n",
    "p = figure(width=900,height=200,toolbar_location='above')\n",
    "p.y_range = Range1d(-0.3,0.3)\n",
    "p.x_range = Range1d(-1.5,1.5)\n",
    "p.line(stt,wl_cl)\n",
    "p.line(stt,-1*np.array(wl_cl))\n",
    "show(p)"
   ]
  },
  {
   "cell_type": "code",
   "execution_count": 12,
   "metadata": {
    "collapsed": true
   },
   "outputs": [],
   "source": [
    "from scipy.optimize import fsolve\n",
    "\n",
    "def d_wl(x):\n",
    "    return -4*mboca/L*x**3 + 0.01*np.pi*np.cos(np.pi*x)\n",
    "\n",
    "def func_dx1(dx1, *args):\n",
    "    x0 = args[0]\n",
    "    t  = args[1]\n",
    "    return wl(x0+dx1) - (wl(x0)+t) - dx1*d_wl(x0+dx1)\n",
    "\n",
    "def func_dx2(dx2, *args):\n",
    "    x0  = args[0]\n",
    "    t   = args[1]\n",
    "    dx1 = args[2]\n",
    "    return wl(x0+dx1+dx2)+tol-wl(x0+dx1)-dx2*d_wl(x0+dx1)\n",
    "\n",
    "def linepntsfromsol(sol_l, tol):\n",
    "    xt = np.array([sol_l[0], np.sum(sol_l)])*L/2\n",
    "    yt = np.array([wl(sol_l[0])+tol, wl(np.sum(sol_l))+tol])*L\n",
    "    return xt, yt"
   ]
  },
  {
   "cell_type": "code",
   "execution_count": 13,
   "metadata": {
    "collapsed": false
   },
   "outputs": [],
   "source": [
    "e = 0.003*2/L\n",
    "stt_start = 2*(-L/2+0.02*L+e)/L\n",
    "dx_guess = 0.1*2/L\n",
    "tol = 0.004/L\n",
    "\n",
    "sol1 = []\n",
    "stt_c = stt_start\n",
    "for _ in xrange(2):\n",
    "    dx1, infodict1, ier1, mesg1 = fsolve(func_dx1, dx_guess, args=(stt_c,tol), full_output=1)\n",
    "    if ier1==1:\n",
    "        dx2, infodict2, ier2, mesg2 = fsolve(func_dx2, dx_guess, args=(stt_c,tol,dx1), full_output=1)\n",
    "    else:\n",
    "        print \"dx1 not found\"\n",
    "    if ier2!=1:\n",
    "        print \"dx2 not found\"\n",
    "    sol1.append([stt_c, dx1, dx2])\n",
    "    stt_c = stt_c+dx1+dx2+e\n",
    "\n",
    "sol2 = []\n",
    "stt_start = 0\n",
    "stt_c = stt_start\n",
    "for _ in xrange(4):\n",
    "    dx1, infodict1, ier1, mesg1 = fsolve(func_dx1, dx_guess, args=(stt_c,tol), full_output=1)\n",
    "    if ier1==1:\n",
    "        dx2, infodict2, ier2, mesg2 = fsolve(func_dx2, dx_guess, args=(stt_c,tol,dx1), full_output=1)\n",
    "    else:\n",
    "        print \"dx1 not found\"\n",
    "    if ier2!=1:\n",
    "        print \"dx2 not found\"\n",
    "    sol2.append([stt_c, dx1, dx2])\n",
    "    stt_c = stt_c+dx1+dx2+e\n",
    "    \n",
    "mdl_start = np.sum(sol1[-1])+e\n",
    "mdl_dx1 = 0\n",
    "mdl_dx2 = sol2[0][0]-e-mdl_start\n",
    "m_stt = [[mdl_start, mdl_dx1, mdl_dx2]]    \n",
    "\n",
    "stt_end = 2*(L/2-0.02*L-e)/L\n",
    "if np.sum(sol2[-1])>stt_end:\n",
    "    print \"End reached\"\n",
    "    dx2_end = stt_end - sol2[-1][0]\n",
    "    sol2[-1] = [sol2[-1][0], 0, dx2_end]\n",
    "\n",
    "sol = np.array(sol1 + m_stt + sol2)"
   ]
  },
  {
   "cell_type": "code",
   "execution_count": 14,
   "metadata": {
    "collapsed": false
   },
   "outputs": [
    {
     "data": {
      "text/plain": [
       "(array([-1.1013913, -0.9181925]), array([ 0.02395946,  0.0764626 ]))"
      ]
     },
     "execution_count": 14,
     "metadata": {},
     "output_type": "execute_result"
    }
   ],
   "source": [
    "linepntsfromsol(sol[0,:],tol=tol)"
   ]
  },
  {
   "cell_type": "code",
   "execution_count": 15,
   "metadata": {
    "collapsed": false,
    "scrolled": true
   },
   "outputs": [
    {
     "data": {
      "text/html": [
       "\n",
       "\n",
       "    <div class=\"bk-root\">\n",
       "        <div class=\"plotdiv\" id=\"dd087e5e-b771-498b-b81e-b406760fc77a\"></div>\n",
       "    </div>\n",
       "<script type=\"text/javascript\">\n",
       "  \n",
       "  (function(global) {\n",
       "    function now() {\n",
       "      return new Date();\n",
       "    }\n",
       "  \n",
       "    var force = \"\";\n",
       "  \n",
       "    if (typeof (window._bokeh_onload_callbacks) === \"undefined\" || force !== \"\") {\n",
       "      window._bokeh_onload_callbacks = [];\n",
       "      window._bokeh_is_loading = undefined;\n",
       "    }\n",
       "  \n",
       "    function run_callbacks() {\n",
       "      window._bokeh_onload_callbacks.forEach(function(callback) { callback() });\n",
       "      delete window._bokeh_onload_callbacks\n",
       "      console.info(\"Bokeh: all callbacks have finished\");\n",
       "    }\n",
       "  \n",
       "    function load_libs(js_urls, callback) {\n",
       "      window._bokeh_onload_callbacks.push(callback);\n",
       "      if (window._bokeh_is_loading > 0) {\n",
       "        console.log(\"Bokeh: BokehJS is being loaded, scheduling callback at\", now());\n",
       "        return null;\n",
       "      }\n",
       "      if (js_urls == null || js_urls.length === 0) {\n",
       "        run_callbacks();\n",
       "        return null;\n",
       "      }\n",
       "      console.log(\"Bokeh: BokehJS not loaded, scheduling load and callback at\", now());\n",
       "      window._bokeh_is_loading = js_urls.length;\n",
       "      for (var i = 0; i < js_urls.length; i++) {\n",
       "        var url = js_urls[i];\n",
       "        var s = document.createElement('script');\n",
       "        s.src = url;\n",
       "        s.async = false;\n",
       "        s.onreadystatechange = s.onload = function() {\n",
       "          window._bokeh_is_loading--;\n",
       "          if (window._bokeh_is_loading === 0) {\n",
       "            console.log(\"Bokeh: all BokehJS libraries loaded\");\n",
       "            run_callbacks()\n",
       "          }\n",
       "        };\n",
       "        s.onerror = function() {\n",
       "          console.warn(\"failed to load library \" + url);\n",
       "        };\n",
       "        console.log(\"Bokeh: injecting script tag for BokehJS library: \", url);\n",
       "        document.getElementsByTagName(\"head\")[0].appendChild(s);\n",
       "      }\n",
       "    };var element = document.getElementById(\"dd087e5e-b771-498b-b81e-b406760fc77a\");\n",
       "    if (element == null) {\n",
       "      console.log(\"Bokeh: ERROR: autoload.js configured with elementid 'dd087e5e-b771-498b-b81e-b406760fc77a' but no matching script tag was found. \")\n",
       "      return false;\n",
       "    }\n",
       "  \n",
       "    var js_urls = [];\n",
       "  \n",
       "    var inline_js = [\n",
       "      function(Bokeh) {\n",
       "        Bokeh.$(function() {\n",
       "            var docs_json = {\"b5120e01-6efc-455d-b72b-d2f5c1c996fd\":{\"roots\":{\"references\":[{\"attributes\":{\"data_source\":{\"id\":\"dc9778ad-399c-47fd-b34c-5060f7843cb8\",\"type\":\"ColumnDataSource\"},\"glyph\":{\"id\":\"18268bce-9ddb-4e94-885f-a19c35a9b095\",\"type\":\"Line\"},\"hover_glyph\":null,\"nonselection_glyph\":{\"id\":\"854a8d12-c44c-45d9-896f-077296ea7cd3\",\"type\":\"Line\"},\"selection_glyph\":null},\"id\":\"3e1c24f9-52fa-47e8-8fae-73e8bbb55169\",\"type\":\"GlyphRenderer\"},{\"attributes\":{\"below\":[{\"id\":\"8d010102-d675-4ef3-ab51-5bdfebe1434c\",\"type\":\"LinearAxis\"}],\"left\":[{\"id\":\"37d104df-c523-4982-a237-e6303141fb3a\",\"type\":\"LinearAxis\"}],\"plot_height\":400,\"plot_width\":900,\"renderers\":[{\"id\":\"8d010102-d675-4ef3-ab51-5bdfebe1434c\",\"type\":\"LinearAxis\"},{\"id\":\"a653ee97-cf73-49d8-b83d-4fa2dc579ee4\",\"type\":\"Grid\"},{\"id\":\"37d104df-c523-4982-a237-e6303141fb3a\",\"type\":\"LinearAxis\"},{\"id\":\"0f248a21-f428-4eee-b8c9-3c0c2a9a7ef8\",\"type\":\"Grid\"},{\"id\":\"ab28e1ac-5ca7-415b-b60a-08777460e8ce\",\"type\":\"BoxAnnotation\"},{\"id\":\"61a37595-e05e-4da0-a12e-0c3c32a32018\",\"type\":\"GlyphRenderer\"},{\"id\":\"117a7d96-240e-4600-8d07-a0b420a7bf43\",\"type\":\"GlyphRenderer\"},{\"id\":\"230c81a5-290a-41c1-8aaf-0173dfc61ca4\",\"type\":\"GlyphRenderer\"},{\"id\":\"d725c0fe-53d0-4a8d-b03e-5451cf83f613\",\"type\":\"GlyphRenderer\"},{\"id\":\"b9ab92e9-26fd-43a7-bdff-2b7b06844dd4\",\"type\":\"GlyphRenderer\"},{\"id\":\"20c9db0d-03cf-45cd-87bc-beab73bfd19a\",\"type\":\"GlyphRenderer\"},{\"id\":\"533e2705-4aa2-45a4-86ca-5af0d5be1a36\",\"type\":\"GlyphRenderer\"},{\"id\":\"80c71ac6-fef1-4bce-b5eb-5f712b71b7c3\",\"type\":\"GlyphRenderer\"},{\"id\":\"4b9ff256-21c6-40dc-87c6-028bfba35d60\",\"type\":\"GlyphRenderer\"},{\"id\":\"a70595b0-938f-4557-b561-d3dbf2b86ff3\",\"type\":\"GlyphRenderer\"},{\"id\":\"93b1d3a8-80c7-41c9-8909-b98a32df1bb7\",\"type\":\"GlyphRenderer\"},{\"id\":\"0ff19082-f775-4795-8351-e64d50214f09\",\"type\":\"GlyphRenderer\"},{\"id\":\"7439d755-2b3d-4b67-9d6a-24e9d946af3a\",\"type\":\"GlyphRenderer\"},{\"id\":\"a58d76fc-7834-4a19-930d-e22722df6787\",\"type\":\"GlyphRenderer\"},{\"id\":\"f2c71fb2-9e60-4298-ad6e-16b2fdfb7528\",\"type\":\"GlyphRenderer\"},{\"id\":\"3e1c24f9-52fa-47e8-8fae-73e8bbb55169\",\"type\":\"GlyphRenderer\"}],\"title\":{\"id\":\"a415d4cc-e055-4872-baf0-64f3a62382c4\",\"type\":\"Title\"},\"tool_events\":{\"id\":\"8fc7cea5-37f2-45af-bb8d-aa5d48054949\",\"type\":\"ToolEvents\"},\"toolbar\":{\"id\":\"43ecba02-57bb-4091-a7e4-ed1ea8f92edd\",\"type\":\"Toolbar\"},\"toolbar_location\":\"above\",\"x_range\":{\"id\":\"a7e1d0dc-4810-449f-bf25-61967456abd9\",\"type\":\"Range1d\"},\"y_range\":{\"id\":\"aa691a3a-5c04-494f-8c24-8409d472404b\",\"type\":\"Range1d\"}},\"id\":\"ba0544c4-d4bc-406d-8163-dbc66bdff855\",\"subtype\":\"Figure\",\"type\":\"Plot\"},{\"attributes\":{\"callback\":null,\"column_names\":[\"y\",\"x\"],\"data\":{\"x\":[0.4507940866102621,0.7026184808946343],\"y\":[-0.16726500769942598,-0.1504115347271688]}},\"id\":\"ea02b7c1-c7b0-4c14-a127-dac7840eba43\",\"type\":\"ColumnDataSource\"},{\"attributes\":{\"line_color\":{\"value\":\"red\"},\"x\":{\"field\":\"x\"},\"y\":{\"field\":\"y\"}},\"id\":\"ee127a0c-e5e9-47b1-8b73-d6e557e00df0\",\"type\":\"Line\"},{\"attributes\":{\"line_alpha\":{\"value\":0.1},\"line_color\":{\"value\":\"#1f77b4\"},\"x\":{\"field\":\"x\"},\"y\":{\"field\":\"y\"}},\"id\":\"879787c3-4e3f-40a0-8622-b1fe58bb30a6\",\"type\":\"Line\"},{\"attributes\":{\"data_source\":{\"id\":\"3909b24f-14bf-44c1-bf66-4289f54ca9e4\",\"type\":\"ColumnDataSource\"},\"glyph\":{\"id\":\"b03910e5-2a58-4dcb-b708-d65ad185fadd\",\"type\":\"Line\"},\"hover_glyph\":null,\"nonselection_glyph\":{\"id\":\"b1395911-16aa-446c-9aed-51135ed15172\",\"type\":\"Line\"},\"selection_glyph\":null},\"id\":\"230c81a5-290a-41c1-8aaf-0173dfc61ca4\",\"type\":\"GlyphRenderer\"},{\"attributes\":{\"formatter\":{\"id\":\"ad3da220-447d-4184-8180-9be642c844bc\",\"type\":\"BasicTickFormatter\"},\"plot\":{\"id\":\"ba0544c4-d4bc-406d-8163-dbc66bdff855\",\"subtype\":\"Figure\",\"type\":\"Plot\"},\"ticker\":{\"id\":\"23b073d5-27e1-4a5f-b368-cb4bdef9c587\",\"type\":\"BasicTicker\"}},\"id\":\"8d010102-d675-4ef3-ab51-5bdfebe1434c\",\"type\":\"LinearAxis\"},{\"attributes\":{\"data_source\":{\"id\":\"ea02b7c1-c7b0-4c14-a127-dac7840eba43\",\"type\":\"ColumnDataSource\"},\"glyph\":{\"id\":\"dbd94e13-f0dd-495c-98e9-272a7da52c27\",\"type\":\"Line\"},\"hover_glyph\":null,\"nonselection_glyph\":{\"id\":\"c16f9616-ae35-44f8-85dd-2ddf467a76c0\",\"type\":\"Line\"},\"selection_glyph\":null},\"id\":\"0ff19082-f775-4795-8351-e64d50214f09\",\"type\":\"GlyphRenderer\"},{\"attributes\":{\"line_alpha\":{\"value\":0.1},\"line_color\":{\"value\":\"#1f77b4\"},\"x\":{\"field\":\"x\"},\"y\":{\"field\":\"y\"}},\"id\":\"426a5f4f-983c-447f-8712-ac2de33b32a5\",\"type\":\"Line\"},{\"attributes\":{\"data_source\":{\"id\":\"aecd65d8-4dd9-477c-8860-e229b46c4136\",\"type\":\"ColumnDataSource\"},\"glyph\":{\"id\":\"b21838fb-4721-4ae3-8995-1080d2bca51e\",\"type\":\"Line\"},\"hover_glyph\":null,\"nonselection_glyph\":{\"id\":\"59e3e136-e2ad-4962-87f4-16f7db4558c7\",\"type\":\"Line\"},\"selection_glyph\":null},\"id\":\"533e2705-4aa2-45a4-86ca-5af0d5be1a36\",\"type\":\"GlyphRenderer\"},{\"attributes\":{\"data_source\":{\"id\":\"5ca1e0b7-c944-4024-9944-ca90270395a1\",\"type\":\"ColumnDataSource\"},\"glyph\":{\"id\":\"cb4bf339-2d97-4ae1-824d-8d4e692d4850\",\"type\":\"Line\"},\"hover_glyph\":null,\"nonselection_glyph\":{\"id\":\"d12f0989-1f69-43c8-8583-bd7107bfd782\",\"type\":\"Line\"},\"selection_glyph\":null},\"id\":\"80c71ac6-fef1-4bce-b5eb-5f712b71b7c3\",\"type\":\"GlyphRenderer\"},{\"attributes\":{\"plot\":{\"id\":\"ba0544c4-d4bc-406d-8163-dbc66bdff855\",\"subtype\":\"Figure\",\"type\":\"Plot\"},\"ticker\":{\"id\":\"23b073d5-27e1-4a5f-b368-cb4bdef9c587\",\"type\":\"BasicTicker\"}},\"id\":\"a653ee97-cf73-49d8-b83d-4fa2dc579ee4\",\"type\":\"Grid\"},{\"attributes\":{\"line_color\":{\"value\":\"red\"},\"x\":{\"field\":\"x\"},\"y\":{\"field\":\"y\"}},\"id\":\"1ded2625-e9a2-42e3-b130-e0bb5b3b363c\",\"type\":\"Line\"},{\"attributes\":{\"line_color\":{\"value\":\"red\"},\"x\":{\"field\":\"x\"},\"y\":{\"field\":\"y\"}},\"id\":\"cb4bf339-2d97-4ae1-824d-8d4e692d4850\",\"type\":\"Line\"},{\"attributes\":{\"data_source\":{\"id\":\"7d7a93eb-40ea-448a-a353-c33a742bf655\",\"type\":\"ColumnDataSource\"},\"glyph\":{\"id\":\"22e62327-ed90-434e-a4e6-752feed10a88\",\"type\":\"Line\"},\"hover_glyph\":null,\"nonselection_glyph\":{\"id\":\"40398e67-c07f-499b-bcc4-dd8fda2e49cd\",\"type\":\"Line\"},\"selection_glyph\":null},\"id\":\"20c9db0d-03cf-45cd-87bc-beab73bfd19a\",\"type\":\"GlyphRenderer\"},{\"attributes\":{\"overlay\":{\"id\":\"ab28e1ac-5ca7-415b-b60a-08777460e8ce\",\"type\":\"BoxAnnotation\"},\"plot\":{\"id\":\"ba0544c4-d4bc-406d-8163-dbc66bdff855\",\"subtype\":\"Figure\",\"type\":\"Plot\"}},\"id\":\"0ef3c3a0-daf4-41f3-98f8-2856e5163b70\",\"type\":\"BoxZoomTool\"},{\"attributes\":{\"dimension\":1,\"plot\":{\"id\":\"ba0544c4-d4bc-406d-8163-dbc66bdff855\",\"subtype\":\"Figure\",\"type\":\"Plot\"},\"ticker\":{\"id\":\"36ad0686-8fad-49ed-a092-696fe8fe05b3\",\"type\":\"BasicTicker\"}},\"id\":\"0f248a21-f428-4eee-b8c9-3c0c2a9a7ef8\",\"type\":\"Grid\"},{\"attributes\":{\"line_color\":{\"value\":\"red\"},\"x\":{\"field\":\"x\"},\"y\":{\"field\":\"y\"}},\"id\":\"86ddd5e1-5b5a-4c2c-8996-dfa672cc4bd5\",\"type\":\"Line\"},{\"attributes\":{\"line_color\":{\"value\":\"red\"},\"x\":{\"field\":\"x\"},\"y\":{\"field\":\"y\"}},\"id\":\"b03910e5-2a58-4dcb-b708-d65ad185fadd\",\"type\":\"Line\"},{\"attributes\":{\"plot\":{\"id\":\"ba0544c4-d4bc-406d-8163-dbc66bdff855\",\"subtype\":\"Figure\",\"type\":\"Plot\"}},\"id\":\"c836cab6-48a0-4f00-806b-f131cd363a63\",\"type\":\"SaveTool\"},{\"attributes\":{},\"id\":\"ad3da220-447d-4184-8180-9be642c844bc\",\"type\":\"BasicTickFormatter\"},{\"attributes\":{\"line_alpha\":{\"value\":0.1},\"line_color\":{\"value\":\"#1f77b4\"},\"x\":{\"field\":\"x\"},\"y\":{\"field\":\"y\"}},\"id\":\"33f9d53d-2274-4750-a1a2-c76e960698a6\",\"type\":\"Line\"},{\"attributes\":{\"line_alpha\":{\"value\":0.1},\"line_color\":{\"value\":\"#1f77b4\"},\"x\":{\"field\":\"x\"},\"y\":{\"field\":\"y\"}},\"id\":\"b1395911-16aa-446c-9aed-51135ed15172\",\"type\":\"Line\"},{\"attributes\":{\"line_color\":{\"value\":\"red\"},\"x\":{\"field\":\"x\"},\"y\":{\"field\":\"y\"}},\"id\":\"ddc8ff79-f257-45fa-84c6-bf07245dedb7\",\"type\":\"Line\"},{\"attributes\":{\"line_color\":{\"value\":\"red\"},\"x\":{\"field\":\"x\"},\"y\":{\"field\":\"y\"}},\"id\":\"dd49a319-17a0-4de9-9a51-c2da5c9440eb\",\"type\":\"Line\"},{\"attributes\":{\"callback\":null,\"column_names\":[\"y\",\"x\"],\"data\":{\"x\":[0.9102741926489056,1.0840078633082806],\"y\":[-0.1060885260216837,-0.03865011319357791]}},\"id\":\"dc9778ad-399c-47fd-b34c-5060f7843cb8\",\"type\":\"ColumnDataSource\"},{\"attributes\":{\"line_alpha\":{\"value\":0.1},\"line_color\":{\"value\":\"#1f77b4\"},\"x\":{\"field\":\"x\"},\"y\":{\"field\":\"y\"}},\"id\":\"3ceb01aa-f7e6-4702-a907-a8b872fa951d\",\"type\":\"Line\"},{\"attributes\":{\"line_alpha\":{\"value\":0.1},\"line_color\":{\"value\":\"#1f77b4\"},\"x\":{\"field\":\"x\"},\"y\":{\"field\":\"y\"}},\"id\":\"7b9ea13d-ecc0-4e6b-97ce-1a4bbc336efe\",\"type\":\"Line\"},{\"attributes\":{\"line_color\":{\"value\":\"red\"},\"x\":{\"field\":\"x\"},\"y\":{\"field\":\"y\"}},\"id\":\"69a87ae6-59d9-46ac-8d46-6aefafce509f\",\"type\":\"Line\"},{\"attributes\":{},\"id\":\"23b073d5-27e1-4a5f-b368-cb4bdef9c587\",\"type\":\"BasicTicker\"},{\"attributes\":{\"line_alpha\":{\"value\":0.1},\"line_color\":{\"value\":\"#1f77b4\"},\"x\":{\"field\":\"x\"},\"y\":{\"field\":\"y\"}},\"id\":\"40398e67-c07f-499b-bcc4-dd8fda2e49cd\",\"type\":\"Line\"},{\"attributes\":{\"line_color\":{\"value\":\"#1f77b4\"},\"x\":{\"field\":\"x\"},\"y\":{\"field\":\"y\"}},\"id\":\"b2f84a57-25be-4f85-ba77-86b6d54e9889\",\"type\":\"Line\"},{\"attributes\":{\"callback\":null,\"column_names\":[\"y\",\"x\"],\"data\":{\"x\":[0.0,0.4477940866102621],\"y\":[-0.14899999999999997,-0.16729177296861644]}},\"id\":\"1f3c83e1-6900-4028-b7b6-e9df26a3f545\",\"type\":\"ColumnDataSource\"},{\"attributes\":{\"line_alpha\":{\"value\":0.1},\"line_color\":{\"value\":\"#1f77b4\"},\"x\":{\"field\":\"x\"},\"y\":{\"field\":\"y\"}},\"id\":\"d12f0989-1f69-43c8-8583-bd7107bfd782\",\"type\":\"Line\"},{\"attributes\":{\"callback\":null,\"end\":1.5,\"start\":-1.5},\"id\":\"a7e1d0dc-4810-449f-bf25-61967456abd9\",\"type\":\"Range1d\"},{\"attributes\":{\"line_color\":{\"value\":\"red\"},\"x\":{\"field\":\"x\"},\"y\":{\"field\":\"y\"}},\"id\":\"485bedae-d935-47fe-8736-1c34faec6387\",\"type\":\"Line\"},{\"attributes\":{\"callback\":null,\"column_names\":[\"y\",\"x\"],\"data\":{\"x\":[0.7056184808946343,0.9072741926489056],\"y\":[0.1499991234776617,0.1069842199296125]}},\"id\":\"3f259e4c-8aa2-4a8b-bc48-f848f257a32a\",\"type\":\"ColumnDataSource\"},{\"attributes\":{\"line_alpha\":{\"value\":0.1},\"line_color\":{\"value\":\"#1f77b4\"},\"x\":{\"field\":\"x\"},\"y\":{\"field\":\"y\"}},\"id\":\"869be204-1ef7-4c06-9f75-62d12a96d046\",\"type\":\"Line\"},{\"attributes\":{\"plot\":{\"id\":\"ba0544c4-d4bc-406d-8163-dbc66bdff855\",\"subtype\":\"Figure\",\"type\":\"Plot\"}},\"id\":\"c81c32ae-5e20-4aa5-a929-7ab48e4c88dc\",\"type\":\"WheelZoomTool\"},{\"attributes\":{\"data_source\":{\"id\":\"f0f742a2-0c53-43c4-8642-ed23d08ea57d\",\"type\":\"ColumnDataSource\"},\"glyph\":{\"id\":\"86ddd5e1-5b5a-4c2c-8996-dfa672cc4bd5\",\"type\":\"Line\"},\"hover_glyph\":null,\"nonselection_glyph\":{\"id\":\"426a5f4f-983c-447f-8712-ac2de33b32a5\",\"type\":\"Line\"},\"selection_glyph\":null},\"id\":\"d725c0fe-53d0-4a8d-b03e-5451cf83f613\",\"type\":\"GlyphRenderer\"},{\"attributes\":{\"plot\":{\"id\":\"ba0544c4-d4bc-406d-8163-dbc66bdff855\",\"subtype\":\"Figure\",\"type\":\"Plot\"}},\"id\":\"741ef575-e814-4524-803a-7edbcb704877\",\"type\":\"ResetTool\"},{\"attributes\":{\"line_alpha\":{\"value\":0.1},\"line_color\":{\"value\":\"#1f77b4\"},\"x\":{\"field\":\"x\"},\"y\":{\"field\":\"y\"}},\"id\":\"c16f9616-ae35-44f8-85dd-2ddf467a76c0\",\"type\":\"Line\"},{\"attributes\":{\"formatter\":{\"id\":\"bb0f992d-5b78-4bdc-9e4e-0a05a3de620f\",\"type\":\"BasicTickFormatter\"},\"plot\":{\"id\":\"ba0544c4-d4bc-406d-8163-dbc66bdff855\",\"subtype\":\"Figure\",\"type\":\"Plot\"},\"ticker\":{\"id\":\"36ad0686-8fad-49ed-a092-696fe8fe05b3\",\"type\":\"BasicTicker\"}},\"id\":\"37d104df-c523-4982-a237-e6303141fb3a\",\"type\":\"LinearAxis\"},{\"attributes\":{\"callback\":null,\"column_names\":[\"y\",\"x\"],\"data\":{\"x\":[0.7056184808946343,0.9072741926489056],\"y\":[-0.1499991234776617,-0.1069842199296125]}},\"id\":\"1d1900b2-c396-496e-ae75-35ea07c1c818\",\"type\":\"ColumnDataSource\"},{\"attributes\":{},\"id\":\"bb0f992d-5b78-4bdc-9e4e-0a05a3de620f\",\"type\":\"BasicTickFormatter\"},{\"attributes\":{\"callback\":null,\"column_names\":[\"y\",\"x\"],\"data\":{\"x\":[-0.6534079966412256,-0.003000000000000008],\"y\":[0.11141386924785365,0.1488115065441302]}},\"id\":\"aecd65d8-4dd9-477c-8860-e229b46c4136\",\"type\":\"ColumnDataSource\"},{\"attributes\":{\"plot\":null,\"text\":null},\"id\":\"a415d4cc-e055-4872-baf0-64f3a62382c4\",\"type\":\"Title\"},{\"attributes\":{\"data_source\":{\"id\":\"73a5510d-4296-48bd-a051-4b95eb5c67f1\",\"type\":\"ColumnDataSource\"},\"glyph\":{\"id\":\"b2f84a57-25be-4f85-ba77-86b6d54e9889\",\"type\":\"Line\"},\"hover_glyph\":null,\"nonselection_glyph\":{\"id\":\"33f9d53d-2274-4750-a1a2-c76e960698a6\",\"type\":\"Line\"},\"selection_glyph\":null},\"id\":\"61a37595-e05e-4da0-a12e-0c3c32a32018\",\"type\":\"GlyphRenderer\"},{\"attributes\":{\"callback\":null,\"column_names\":[\"y\",\"x\"],\"data\":{\"x\":[-0.9151924971819597,-0.6564079966412256],\"y\":[-0.07707746276787636,-0.11117524258473155]}},\"id\":\"7d7a93eb-40ea-448a-a353-c33a742bf655\",\"type\":\"ColumnDataSource\"},{\"attributes\":{\"line_color\":{\"value\":\"red\"},\"x\":{\"field\":\"x\"},\"y\":{\"field\":\"y\"}},\"id\":\"18268bce-9ddb-4e94-885f-a19c35a9b095\",\"type\":\"Line\"},{\"attributes\":{\"data_source\":{\"id\":\"331c590d-533e-453b-ae00-a56afe5e59b2\",\"type\":\"ColumnDataSource\"},\"glyph\":{\"id\":\"186769a2-7ade-4332-afff-7ddf9f4348f5\",\"type\":\"Line\"},\"hover_glyph\":null,\"nonselection_glyph\":{\"id\":\"3ceb01aa-f7e6-4702-a907-a8b872fa951d\",\"type\":\"Line\"},\"selection_glyph\":null},\"id\":\"117a7d96-240e-4600-8d07-a0b420a7bf43\",\"type\":\"GlyphRenderer\"},{\"attributes\":{\"data_source\":{\"id\":\"1f3c83e1-6900-4028-b7b6-e9df26a3f545\",\"type\":\"ColumnDataSource\"},\"glyph\":{\"id\":\"dd49a319-17a0-4de9-9a51-c2da5c9440eb\",\"type\":\"Line\"},\"hover_glyph\":null,\"nonselection_glyph\":{\"id\":\"eac871b8-ec39-48b1-b0ad-700fe80a18bf\",\"type\":\"Line\"},\"selection_glyph\":null},\"id\":\"a70595b0-938f-4557-b561-d3dbf2b86ff3\",\"type\":\"GlyphRenderer\"},{\"attributes\":{\"data_source\":{\"id\":\"57bc9b14-592a-483d-b779-50d98840c454\",\"type\":\"ColumnDataSource\"},\"glyph\":{\"id\":\"69a87ae6-59d9-46ac-8d46-6aefafce509f\",\"type\":\"Line\"},\"hover_glyph\":null,\"nonselection_glyph\":{\"id\":\"7b9ea13d-ecc0-4e6b-97ce-1a4bbc336efe\",\"type\":\"Line\"},\"selection_glyph\":null},\"id\":\"93b1d3a8-80c7-41c9-8909-b98a32df1bb7\",\"type\":\"GlyphRenderer\"},{\"attributes\":{},\"id\":\"36ad0686-8fad-49ed-a092-696fe8fe05b3\",\"type\":\"BasicTicker\"},{\"attributes\":{\"data_source\":{\"id\":\"3f259e4c-8aa2-4a8b-bc48-f848f257a32a\",\"type\":\"ColumnDataSource\"},\"glyph\":{\"id\":\"485bedae-d935-47fe-8736-1c34faec6387\",\"type\":\"Line\"},\"hover_glyph\":null,\"nonselection_glyph\":{\"id\":\"94a51d2b-328b-45e1-a0a6-8125afe651a9\",\"type\":\"Line\"},\"selection_glyph\":null},\"id\":\"7439d755-2b3d-4b67-9d6a-24e9d946af3a\",\"type\":\"GlyphRenderer\"},{\"attributes\":{\"plot\":{\"id\":\"ba0544c4-d4bc-406d-8163-dbc66bdff855\",\"subtype\":\"Figure\",\"type\":\"Plot\"}},\"id\":\"fadf6d31-1125-43f8-9644-3489293441e3\",\"type\":\"HelpTool\"},{\"attributes\":{\"line_alpha\":{\"value\":0.1},\"line_color\":{\"value\":\"#1f77b4\"},\"x\":{\"field\":\"x\"},\"y\":{\"field\":\"y\"}},\"id\":\"9a7b6388-ce4a-47ef-ab63-96a0e62ac400\",\"type\":\"Line\"},{\"attributes\":{\"line_color\":{\"value\":\"#1f77b4\"},\"x\":{\"field\":\"x\"},\"y\":{\"field\":\"y\"}},\"id\":\"186769a2-7ade-4332-afff-7ddf9f4348f5\",\"type\":\"Line\"},{\"attributes\":{\"data_source\":{\"id\":\"074ea305-244d-4650-b2dc-436b08480fda\",\"type\":\"ColumnDataSource\"},\"glyph\":{\"id\":\"1ded2625-e9a2-42e3-b130-e0bb5b3b363c\",\"type\":\"Line\"},\"hover_glyph\":null,\"nonselection_glyph\":{\"id\":\"f2508819-7492-499a-bc50-b6261de0547e\",\"type\":\"Line\"},\"selection_glyph\":null},\"id\":\"f2c71fb2-9e60-4298-ad6e-16b2fdfb7528\",\"type\":\"GlyphRenderer\"},{\"attributes\":{\"callback\":null,\"column_names\":[\"y\",\"x\"],\"data\":{\"x\":[-1.101391304347826,-0.9181924971819597],\"y\":[-0.02395946123787013,-0.0764625960061013]}},\"id\":\"f0f742a2-0c53-43c4-8642-ed23d08ea57d\",\"type\":\"ColumnDataSource\"},{\"attributes\":{\"callback\":null,\"column_names\":[\"y\",\"x\"],\"data\":{\"x\":[-1.15,-1.1267676767676766,-1.1035353535353534,-1.0803030303030303,-1.057070707070707,-1.0338383838383838,-1.0106060606060605,-0.9873737373737372,-0.9641414141414141,-0.9409090909090909,-0.9176767676767676,-0.8944444444444444,-0.8712121212121211,-0.847979797979798,-0.8247474747474747,-0.8015151515151515,-0.7782828282828282,-0.755050505050505,-0.7318181818181818,-0.7085858585858585,-0.6853535353535354,-0.6621212121212121,-0.6388888888888888,-0.6156565656565657,-0.5924242424242424,-0.5691919191919191,-0.545959595959596,-0.5227272727272727,-0.49949494949494944,-0.4762626262626263,-0.453030303030303,-0.42979797979797985,-0.4065656565656566,-0.3833333333333333,-0.36010101010101014,-0.3368686868686869,-0.3136363636363637,-0.29040404040404044,-0.26717171717171717,-0.243939393939394,-0.22070707070707074,-0.19747474747474747,-0.1742424242424243,-0.15101010101010104,-0.12777777777777777,-0.1045454545454545,-0.08131313131313145,-0.05808080808080818,-0.034848484848484906,-0.011616161616161635,0.011616161616161635,0.034848484848484684,0.058080808080807955,0.08131313131313123,0.1045454545454545,0.12777777777777777,0.15101010101010104,0.1742424242424241,0.19747474747474736,0.22070707070707063,0.2439393939393939,0.26717171717171717,0.2904040404040402,0.3136363636363635,0.33686868686868676,0.36010101010101003,0.3833333333333333,0.40656565656565635,0.4297979797979796,0.4530303030303029,0.47626262626262617,0.49949494949494944,0.5227272727272725,0.5459595959595958,0.569191919191919,0.5924242424242423,0.6156565656565656,0.6388888888888888,0.6621212121212119,0.6853535353535352,0.7085858585858584,0.7318181818181817,0.755050505050505,0.778282828282828,0.8015151515151513,0.8247474747474746,0.8479797979797978,0.8712121212121211,0.8944444444444444,0.9176767676767676,0.9409090909090909,0.9641414141414137,0.987373737373737,1.0106060606060603,1.0338383838383836,1.0570707070707068,1.08030303030303,1.1035353535353534,1.1267676767676766,1.15],\"y\":[-2.8166876380389123e-18,0.009908113634893101,0.019140323585793127,0.02773030279913055,0.03571109737242135,0.04311510318758879,0.04997404282846792,0.05631894287543765,0.062180111668606604,0.06758711762909293,0.07256876822569067,0.07715308967161591,0.08136730743308769,0.0852378276282277,0.08879021939117966,0.09204919827246147,0.09503861074239117,0.09778141985998563,0.10029969216503881,0.10261458584616014,0.10474634023241634,0.10671426665088994,0.10853674068696824,0.11023119587852735,0.11181411886940293,0.11330104604166286,0.11470656164024225,0.11604429739749259,0.11732693365915646,0.11856620200723428,0.1197728893691813,0.12095684359688913,0.12212698049298658,0.12329129225616778,0.12445685731154121,0.12562985148641623,0.12681556048652576,0.1280183936224488,0.1292418987309601,0.13048877823122473,0.13176090625118506,0.13305934675517722,0.13438437259978503,0.1357354854411987,0.1371114364139196,0.13851024749754431,0.13992923348559222,0.1413650244679156,0.14281358873616298,0.1442702560200649,0.145729740960976,0.1471861667281554,0.14863308868268968,0.1500635179937731,0.15146994511225007,0.15284436300690038,0.15417829006990297,0.1554627925992459,0.15668850676755391,0.15784565998887248,0.15892409159737256,0.1599132727547095,0.16080232550587648,0.16158004090682165,0.16223489615083447,0.1627550706247407,0.16312846083025195,0.16334269411038804,0.16338514112569985,0.16324292703005602,0.1629029413009916,0.16235184618503629,0.1615760837240155,0.16056188133403157,0.15929525591466112,0.1577620164718213,0.15594776524374504,0.1538378973255298,0.1514175987937729,0.14867184333884376,0.14558538741835506,0.14214276395134667,0.13832827457857438,0.1341259805200689,0.129519692066777,0.12449295674860049,0.11902904622647424,0.11311094196126485,0.10672131971719673,0.09984253296220412,0.09245659523205041,0.08454516152922825,0.07608950883153966,0.0670705157888431,0.05746864168971931,0.0472639047827511,0.03643586003970948,0.0249635764501856,0.012825613939095083,2.8166876380389123e-18]}},\"id\":\"73a5510d-4296-48bd-a051-4b95eb5c67f1\",\"type\":\"ColumnDataSource\"},{\"attributes\":{\"plot\":{\"id\":\"ba0544c4-d4bc-406d-8163-dbc66bdff855\",\"subtype\":\"Figure\",\"type\":\"Plot\"}},\"id\":\"1354480b-ee52-4825-bfbe-34c9f3990bbe\",\"type\":\"PanTool\"},{\"attributes\":{\"line_alpha\":{\"value\":0.1},\"line_color\":{\"value\":\"#1f77b4\"},\"x\":{\"field\":\"x\"},\"y\":{\"field\":\"y\"}},\"id\":\"f2508819-7492-499a-bc50-b6261de0547e\",\"type\":\"Line\"},{\"attributes\":{\"bottom_units\":\"screen\",\"fill_alpha\":{\"value\":0.5},\"fill_color\":{\"value\":\"lightgrey\"},\"left_units\":\"screen\",\"level\":\"overlay\",\"line_alpha\":{\"value\":1.0},\"line_color\":{\"value\":\"black\"},\"line_dash\":[4,4],\"line_width\":{\"value\":2},\"plot\":null,\"render_mode\":\"css\",\"right_units\":\"screen\",\"top_units\":\"screen\"},\"id\":\"ab28e1ac-5ca7-415b-b60a-08777460e8ce\",\"type\":\"BoxAnnotation\"},{\"attributes\":{\"data_source\":{\"id\":\"ae0982ed-111e-4d80-9c80-6a456221f83c\",\"type\":\"ColumnDataSource\"},\"glyph\":{\"id\":\"ee127a0c-e5e9-47b1-8b73-d6e557e00df0\",\"type\":\"Line\"},\"hover_glyph\":null,\"nonselection_glyph\":{\"id\":\"869be204-1ef7-4c06-9f75-62d12a96d046\",\"type\":\"Line\"},\"selection_glyph\":null},\"id\":\"4b9ff256-21c6-40dc-87c6-028bfba35d60\",\"type\":\"GlyphRenderer\"},{\"attributes\":{\"callback\":null,\"column_names\":[\"y\",\"x\"],\"data\":{\"x\":[0.0,0.4477940866102621],\"y\":[0.14899999999999997,0.16729177296861644]}},\"id\":\"ae0982ed-111e-4d80-9c80-6a456221f83c\",\"type\":\"ColumnDataSource\"},{\"attributes\":{},\"id\":\"8fc7cea5-37f2-45af-bb8d-aa5d48054949\",\"type\":\"ToolEvents\"},{\"attributes\":{\"line_alpha\":{\"value\":0.1},\"line_color\":{\"value\":\"#1f77b4\"},\"x\":{\"field\":\"x\"},\"y\":{\"field\":\"y\"}},\"id\":\"59e3e136-e2ad-4962-87f4-16f7db4558c7\",\"type\":\"Line\"},{\"attributes\":{\"callback\":null,\"column_names\":[\"y\",\"x\"],\"data\":{\"x\":[0.4507940866102621,0.7026184808946343],\"y\":[0.16726500769942598,0.1504115347271688]}},\"id\":\"57bc9b14-592a-483d-b779-50d98840c454\",\"type\":\"ColumnDataSource\"},{\"attributes\":{\"line_color\":{\"value\":\"red\"},\"x\":{\"field\":\"x\"},\"y\":{\"field\":\"y\"}},\"id\":\"22e62327-ed90-434e-a4e6-752feed10a88\",\"type\":\"Line\"},{\"attributes\":{\"callback\":null,\"column_names\":[\"y\",\"x\"],\"data\":{\"x\":[-1.101391304347826,-0.9181924971819597],\"y\":[0.02395946123787013,0.0764625960061013]}},\"id\":\"3909b24f-14bf-44c1-bf66-4289f54ca9e4\",\"type\":\"ColumnDataSource\"},{\"attributes\":{\"callback\":null,\"end\":0.3,\"start\":-0.3},\"id\":\"aa691a3a-5c04-494f-8c24-8409d472404b\",\"type\":\"Range1d\"},{\"attributes\":{\"data_source\":{\"id\":\"1d1900b2-c396-496e-ae75-35ea07c1c818\",\"type\":\"ColumnDataSource\"},\"glyph\":{\"id\":\"ad15b05a-7742-4c16-a070-5540e9368225\",\"type\":\"Line\"},\"hover_glyph\":null,\"nonselection_glyph\":{\"id\":\"879787c3-4e3f-40a0-8622-b1fe58bb30a6\",\"type\":\"Line\"},\"selection_glyph\":null},\"id\":\"a58d76fc-7834-4a19-930d-e22722df6787\",\"type\":\"GlyphRenderer\"},{\"attributes\":{\"callback\":null,\"column_names\":[\"y\",\"x\"],\"data\":{\"x\":[-0.6534079966412256,-0.003000000000000008],\"y\":[-0.11141386924785365,-0.1488115065441302]}},\"id\":\"5ca1e0b7-c944-4024-9944-ca90270395a1\",\"type\":\"ColumnDataSource\"},{\"attributes\":{\"line_color\":{\"value\":\"red\"},\"x\":{\"field\":\"x\"},\"y\":{\"field\":\"y\"}},\"id\":\"dbd94e13-f0dd-495c-98e9-272a7da52c27\",\"type\":\"Line\"},{\"attributes\":{\"callback\":null,\"column_names\":[\"y\",\"x\"],\"data\":{\"x\":[-0.9151924971819597,-0.6564079966412256],\"y\":[0.07707746276787636,0.11117524258473155]}},\"id\":\"85c25617-29f3-44e7-8149-acac03a7bf1a\",\"type\":\"ColumnDataSource\"},{\"attributes\":{\"line_color\":{\"value\":\"red\"},\"x\":{\"field\":\"x\"},\"y\":{\"field\":\"y\"}},\"id\":\"b21838fb-4721-4ae3-8995-1080d2bca51e\",\"type\":\"Line\"},{\"attributes\":{\"line_alpha\":{\"value\":0.1},\"line_color\":{\"value\":\"#1f77b4\"},\"x\":{\"field\":\"x\"},\"y\":{\"field\":\"y\"}},\"id\":\"854a8d12-c44c-45d9-896f-077296ea7cd3\",\"type\":\"Line\"},{\"attributes\":{\"line_alpha\":{\"value\":0.1},\"line_color\":{\"value\":\"#1f77b4\"},\"x\":{\"field\":\"x\"},\"y\":{\"field\":\"y\"}},\"id\":\"eac871b8-ec39-48b1-b0ad-700fe80a18bf\",\"type\":\"Line\"},{\"attributes\":{\"callback\":null,\"column_names\":[\"y\",\"x\"],\"data\":{\"x\":[-1.15,-1.1267676767676766,-1.1035353535353534,-1.0803030303030303,-1.057070707070707,-1.0338383838383838,-1.0106060606060605,-0.9873737373737372,-0.9641414141414141,-0.9409090909090909,-0.9176767676767676,-0.8944444444444444,-0.8712121212121211,-0.847979797979798,-0.8247474747474747,-0.8015151515151515,-0.7782828282828282,-0.755050505050505,-0.7318181818181818,-0.7085858585858585,-0.6853535353535354,-0.6621212121212121,-0.6388888888888888,-0.6156565656565657,-0.5924242424242424,-0.5691919191919191,-0.545959595959596,-0.5227272727272727,-0.49949494949494944,-0.4762626262626263,-0.453030303030303,-0.42979797979797985,-0.4065656565656566,-0.3833333333333333,-0.36010101010101014,-0.3368686868686869,-0.3136363636363637,-0.29040404040404044,-0.26717171717171717,-0.243939393939394,-0.22070707070707074,-0.19747474747474747,-0.1742424242424243,-0.15101010101010104,-0.12777777777777777,-0.1045454545454545,-0.08131313131313145,-0.05808080808080818,-0.034848484848484906,-0.011616161616161635,0.011616161616161635,0.034848484848484684,0.058080808080807955,0.08131313131313123,0.1045454545454545,0.12777777777777777,0.15101010101010104,0.1742424242424241,0.19747474747474736,0.22070707070707063,0.2439393939393939,0.26717171717171717,0.2904040404040402,0.3136363636363635,0.33686868686868676,0.36010101010101003,0.3833333333333333,0.40656565656565635,0.4297979797979796,0.4530303030303029,0.47626262626262617,0.49949494949494944,0.5227272727272725,0.5459595959595958,0.569191919191919,0.5924242424242423,0.6156565656565656,0.6388888888888888,0.6621212121212119,0.6853535353535352,0.7085858585858584,0.7318181818181817,0.755050505050505,0.778282828282828,0.8015151515151513,0.8247474747474746,0.8479797979797978,0.8712121212121211,0.8944444444444444,0.9176767676767676,0.9409090909090909,0.9641414141414137,0.987373737373737,1.0106060606060603,1.0338383838383836,1.0570707070707068,1.08030303030303,1.1035353535353534,1.1267676767676766,1.15],\"y\":[2.8166876380389123e-18,-0.009908113634893101,-0.019140323585793127,-0.02773030279913055,-0.03571109737242135,-0.04311510318758879,-0.04997404282846792,-0.05631894287543765,-0.062180111668606604,-0.06758711762909293,-0.07256876822569067,-0.07715308967161591,-0.08136730743308769,-0.0852378276282277,-0.08879021939117966,-0.09204919827246147,-0.09503861074239117,-0.09778141985998563,-0.10029969216503881,-0.10261458584616014,-0.10474634023241634,-0.10671426665088994,-0.10853674068696824,-0.11023119587852735,-0.11181411886940293,-0.11330104604166286,-0.11470656164024225,-0.11604429739749259,-0.11732693365915646,-0.11856620200723428,-0.1197728893691813,-0.12095684359688913,-0.12212698049298658,-0.12329129225616778,-0.12445685731154121,-0.12562985148641623,-0.12681556048652576,-0.1280183936224488,-0.1292418987309601,-0.13048877823122473,-0.13176090625118506,-0.13305934675517722,-0.13438437259978503,-0.1357354854411987,-0.1371114364139196,-0.13851024749754431,-0.13992923348559222,-0.1413650244679156,-0.14281358873616298,-0.1442702560200649,-0.145729740960976,-0.1471861667281554,-0.14863308868268968,-0.1500635179937731,-0.15146994511225007,-0.15284436300690038,-0.15417829006990297,-0.1554627925992459,-0.15668850676755391,-0.15784565998887248,-0.15892409159737256,-0.1599132727547095,-0.16080232550587648,-0.16158004090682165,-0.16223489615083447,-0.1627550706247407,-0.16312846083025195,-0.16334269411038804,-0.16338514112569985,-0.16324292703005602,-0.1629029413009916,-0.16235184618503629,-0.1615760837240155,-0.16056188133403157,-0.15929525591466112,-0.1577620164718213,-0.15594776524374504,-0.1538378973255298,-0.1514175987937729,-0.14867184333884376,-0.14558538741835506,-0.14214276395134667,-0.13832827457857438,-0.1341259805200689,-0.129519692066777,-0.12449295674860049,-0.11902904622647424,-0.11311094196126485,-0.10672131971719673,-0.09984253296220412,-0.09245659523205041,-0.08454516152922825,-0.07608950883153966,-0.0670705157888431,-0.05746864168971931,-0.0472639047827511,-0.03643586003970948,-0.0249635764501856,-0.012825613939095083,-2.8166876380389123e-18]}},\"id\":\"331c590d-533e-453b-ae00-a56afe5e59b2\",\"type\":\"ColumnDataSource\"},{\"attributes\":{\"callback\":null,\"column_names\":[\"y\",\"x\"],\"data\":{\"x\":[0.9102741926489056,1.0840078633082806],\"y\":[0.1060885260216837,0.03865011319357791]}},\"id\":\"074ea305-244d-4650-b2dc-436b08480fda\",\"type\":\"ColumnDataSource\"},{\"attributes\":{\"line_alpha\":{\"value\":0.1},\"line_color\":{\"value\":\"#1f77b4\"},\"x\":{\"field\":\"x\"},\"y\":{\"field\":\"y\"}},\"id\":\"94a51d2b-328b-45e1-a0a6-8125afe651a9\",\"type\":\"Line\"},{\"attributes\":{\"line_color\":{\"value\":\"red\"},\"x\":{\"field\":\"x\"},\"y\":{\"field\":\"y\"}},\"id\":\"ad15b05a-7742-4c16-a070-5540e9368225\",\"type\":\"Line\"},{\"attributes\":{\"active_drag\":\"auto\",\"active_scroll\":\"auto\",\"active_tap\":\"auto\",\"tools\":[{\"id\":\"1354480b-ee52-4825-bfbe-34c9f3990bbe\",\"type\":\"PanTool\"},{\"id\":\"c81c32ae-5e20-4aa5-a929-7ab48e4c88dc\",\"type\":\"WheelZoomTool\"},{\"id\":\"0ef3c3a0-daf4-41f3-98f8-2856e5163b70\",\"type\":\"BoxZoomTool\"},{\"id\":\"c836cab6-48a0-4f00-806b-f131cd363a63\",\"type\":\"SaveTool\"},{\"id\":\"741ef575-e814-4524-803a-7edbcb704877\",\"type\":\"ResetTool\"},{\"id\":\"fadf6d31-1125-43f8-9644-3489293441e3\",\"type\":\"HelpTool\"}]},\"id\":\"43ecba02-57bb-4091-a7e4-ed1ea8f92edd\",\"type\":\"Toolbar\"},{\"attributes\":{\"data_source\":{\"id\":\"85c25617-29f3-44e7-8149-acac03a7bf1a\",\"type\":\"ColumnDataSource\"},\"glyph\":{\"id\":\"ddc8ff79-f257-45fa-84c6-bf07245dedb7\",\"type\":\"Line\"},\"hover_glyph\":null,\"nonselection_glyph\":{\"id\":\"9a7b6388-ce4a-47ef-ab63-96a0e62ac400\",\"type\":\"Line\"},\"selection_glyph\":null},\"id\":\"b9ab92e9-26fd-43a7-bdff-2b7b06844dd4\",\"type\":\"GlyphRenderer\"}],\"root_ids\":[\"ba0544c4-d4bc-406d-8163-dbc66bdff855\"]},\"title\":\"Bokeh Application\",\"version\":\"0.12.1\"}};\n",
       "            var render_items = [{\"docid\":\"b5120e01-6efc-455d-b72b-d2f5c1c996fd\",\"elementid\":\"dd087e5e-b771-498b-b81e-b406760fc77a\",\"modelid\":\"ba0544c4-d4bc-406d-8163-dbc66bdff855\",\"notebook_comms_target\":\"70f21cd5-1e2c-4bee-ab55-882b30675f42\"}];\n",
       "            \n",
       "            Bokeh.embed.embed_items(docs_json, render_items);\n",
       "        });\n",
       "      },\n",
       "      function(Bokeh) {\n",
       "      }\n",
       "    ];\n",
       "  \n",
       "    function run_inline_js() {\n",
       "      for (var i = 0; i < inline_js.length; i++) {\n",
       "        inline_js[i](window.Bokeh);\n",
       "      }\n",
       "    }\n",
       "  \n",
       "    if (window._bokeh_is_loading === 0) {\n",
       "      console.log(\"Bokeh: BokehJS loaded, going straight to plotting\");\n",
       "      run_inline_js();\n",
       "    } else {\n",
       "      load_libs(js_urls, function() {\n",
       "        console.log(\"Bokeh: BokehJS plotting callback run at\", now());\n",
       "        run_inline_js();\n",
       "      });\n",
       "    }\n",
       "  }(this));\n",
       "</script>"
      ]
     },
     "metadata": {},
     "output_type": "display_data"
    },
    {
     "data": {
      "text/html": [
       "<p><code>&lt;Bokeh Notebook handle for <strong>In[15]</strong>&gt;</code></p>"
      ],
      "text/plain": [
       "<bokeh.io._CommsHandle at 0x7f9e7730a850>"
      ]
     },
     "execution_count": 15,
     "metadata": {},
     "output_type": "execute_result"
    }
   ],
   "source": [
    "p = figure(width=900,height=400,toolbar_location='above')\n",
    "p.y_range = Range1d(-0.3,0.3)\n",
    "p.x_range = Range1d(-1.5,1.5)\n",
    "p.line(stt,wl_cl)\n",
    "p.line(stt,-1*np.array(wl_cl))\n",
    "for i,l in enumerate(sol):\n",
    "    if i==2:\n",
    "        xt, yt = linepntsfromsol(l,tol=0.004/L)\n",
    "    else:\n",
    "        xt, yt = linepntsfromsol(l,tol=tol)\n",
    "    p.line(xt,yt,color='red')\n",
    "    p.line(xt,-1*np.array(yt),color='red')\n",
    "\n",
    "show(p)"
   ]
  },
  {
   "cell_type": "code",
   "execution_count": 18,
   "metadata": {
    "collapsed": false
   },
   "outputs": [
    {
     "data": {
      "text/html": [
       "\n",
       "\n",
       "    <div class=\"bk-root\">\n",
       "        <div class=\"plotdiv\" id=\"59c43b6a-bbc2-486d-bb13-40cb36198cee\"></div>\n",
       "    </div>\n",
       "<script type=\"text/javascript\">\n",
       "  \n",
       "  (function(global) {\n",
       "    function now() {\n",
       "      return new Date();\n",
       "    }\n",
       "  \n",
       "    var force = \"\";\n",
       "  \n",
       "    if (typeof (window._bokeh_onload_callbacks) === \"undefined\" || force !== \"\") {\n",
       "      window._bokeh_onload_callbacks = [];\n",
       "      window._bokeh_is_loading = undefined;\n",
       "    }\n",
       "  \n",
       "    function run_callbacks() {\n",
       "      window._bokeh_onload_callbacks.forEach(function(callback) { callback() });\n",
       "      delete window._bokeh_onload_callbacks\n",
       "      console.info(\"Bokeh: all callbacks have finished\");\n",
       "    }\n",
       "  \n",
       "    function load_libs(js_urls, callback) {\n",
       "      window._bokeh_onload_callbacks.push(callback);\n",
       "      if (window._bokeh_is_loading > 0) {\n",
       "        console.log(\"Bokeh: BokehJS is being loaded, scheduling callback at\", now());\n",
       "        return null;\n",
       "      }\n",
       "      if (js_urls == null || js_urls.length === 0) {\n",
       "        run_callbacks();\n",
       "        return null;\n",
       "      }\n",
       "      console.log(\"Bokeh: BokehJS not loaded, scheduling load and callback at\", now());\n",
       "      window._bokeh_is_loading = js_urls.length;\n",
       "      for (var i = 0; i < js_urls.length; i++) {\n",
       "        var url = js_urls[i];\n",
       "        var s = document.createElement('script');\n",
       "        s.src = url;\n",
       "        s.async = false;\n",
       "        s.onreadystatechange = s.onload = function() {\n",
       "          window._bokeh_is_loading--;\n",
       "          if (window._bokeh_is_loading === 0) {\n",
       "            console.log(\"Bokeh: all BokehJS libraries loaded\");\n",
       "            run_callbacks()\n",
       "          }\n",
       "        };\n",
       "        s.onerror = function() {\n",
       "          console.warn(\"failed to load library \" + url);\n",
       "        };\n",
       "        console.log(\"Bokeh: injecting script tag for BokehJS library: \", url);\n",
       "        document.getElementsByTagName(\"head\")[0].appendChild(s);\n",
       "      }\n",
       "    };var element = document.getElementById(\"59c43b6a-bbc2-486d-bb13-40cb36198cee\");\n",
       "    if (element == null) {\n",
       "      console.log(\"Bokeh: ERROR: autoload.js configured with elementid '59c43b6a-bbc2-486d-bb13-40cb36198cee' but no matching script tag was found. \")\n",
       "      return false;\n",
       "    }\n",
       "  \n",
       "    var js_urls = [];\n",
       "  \n",
       "    var inline_js = [\n",
       "      function(Bokeh) {\n",
       "        Bokeh.$(function() {\n",
       "            var docs_json = {\"a667abe9-c9ba-4a16-a63d-9a721ffd4513\":{\"roots\":{\"references\":[{\"attributes\":{\"data_source\":{\"id\":\"2d8ffd64-4600-4eb9-8bac-9f9cf114b984\",\"type\":\"ColumnDataSource\"},\"glyph\":{\"id\":\"5dcf2087-42f6-419c-85c6-f60cc17487d3\",\"type\":\"Line\"},\"hover_glyph\":null,\"nonselection_glyph\":{\"id\":\"8e2cec43-789b-44b3-973f-1cae7d2c87ec\",\"type\":\"Line\"},\"selection_glyph\":null},\"id\":\"30300dbc-acc7-49e4-ad96-ab43a1723da0\",\"type\":\"GlyphRenderer\"},{\"attributes\":{\"plot\":null,\"text\":null},\"id\":\"70857be7-2c36-47ad-b1c8-9688b7e88f73\",\"type\":\"Title\"},{\"attributes\":{\"plot\":{\"id\":\"4649214a-4523-48d3-8ce1-e42043bb70d8\",\"subtype\":\"Figure\",\"type\":\"Plot\"},\"ticker\":{\"id\":\"6116cdc8-cd17-4b97-8f44-0aa9ecc0d1c2\",\"type\":\"BasicTicker\"}},\"id\":\"9f4cb190-0a69-49b6-bb19-8f5c961e16a5\",\"type\":\"Grid\"},{\"attributes\":{\"plot\":{\"id\":\"4649214a-4523-48d3-8ce1-e42043bb70d8\",\"subtype\":\"Figure\",\"type\":\"Plot\"}},\"id\":\"b0c67abf-2448-45f2-879d-0802e0fe8f2b\",\"type\":\"SaveTool\"},{\"attributes\":{\"formatter\":{\"id\":\"713693bd-cebc-450e-b3f8-0edc3471a41e\",\"type\":\"BasicTickFormatter\"},\"plot\":{\"id\":\"4649214a-4523-48d3-8ce1-e42043bb70d8\",\"subtype\":\"Figure\",\"type\":\"Plot\"},\"ticker\":{\"id\":\"40c1e7cd-63bf-4721-94ab-3041d3baf7bf\",\"type\":\"BasicTicker\"}},\"id\":\"cb661851-663a-4136-9bc3-4a6cc796e7a7\",\"type\":\"LinearAxis\"},{\"attributes\":{\"callback\":null,\"end\":50,\"start\":-250},\"id\":\"43748e2d-e64b-477b-b4c8-239103942a11\",\"type\":\"Range1d\"},{\"attributes\":{\"plot\":{\"id\":\"4649214a-4523-48d3-8ce1-e42043bb70d8\",\"subtype\":\"Figure\",\"type\":\"Plot\"}},\"id\":\"430a64e0-d571-41d9-80ed-573f93cee181\",\"type\":\"HelpTool\"},{\"attributes\":{},\"id\":\"48084aa9-e096-4063-aaca-284811075ad2\",\"type\":\"ToolEvents\"},{\"attributes\":{\"active_drag\":\"auto\",\"active_scroll\":\"auto\",\"active_tap\":\"auto\",\"tools\":[{\"id\":\"2970a038-764c-48e0-9fff-5cc38924df37\",\"type\":\"PanTool\"},{\"id\":\"2627e029-130b-4a91-92a2-f677d1d77d5b\",\"type\":\"WheelZoomTool\"},{\"id\":\"bd89f8de-4e26-4228-8a86-355172be3950\",\"type\":\"BoxZoomTool\"},{\"id\":\"b0c67abf-2448-45f2-879d-0802e0fe8f2b\",\"type\":\"SaveTool\"},{\"id\":\"2d84f462-bd34-4a9b-939e-7837a09bc6c1\",\"type\":\"ResetTool\"},{\"id\":\"430a64e0-d571-41d9-80ed-573f93cee181\",\"type\":\"HelpTool\"}]},\"id\":\"764727b7-098f-477d-91eb-f934846c82cd\",\"type\":\"Toolbar\"},{\"attributes\":{},\"id\":\"20bc8f5e-135b-4ba5-b529-8046561fc978\",\"type\":\"BasicTickFormatter\"},{\"attributes\":{\"plot\":{\"id\":\"4649214a-4523-48d3-8ce1-e42043bb70d8\",\"subtype\":\"Figure\",\"type\":\"Plot\"}},\"id\":\"2d84f462-bd34-4a9b-939e-7837a09bc6c1\",\"type\":\"ResetTool\"},{\"attributes\":{\"overlay\":{\"id\":\"6ff123c7-0dbd-4a23-b5d9-2b14bf95a0bd\",\"type\":\"BoxAnnotation\"},\"plot\":{\"id\":\"4649214a-4523-48d3-8ce1-e42043bb70d8\",\"subtype\":\"Figure\",\"type\":\"Plot\"}},\"id\":\"bd89f8de-4e26-4228-8a86-355172be3950\",\"type\":\"BoxZoomTool\"},{\"attributes\":{\"dimension\":1,\"plot\":{\"id\":\"4649214a-4523-48d3-8ce1-e42043bb70d8\",\"subtype\":\"Figure\",\"type\":\"Plot\"},\"ticker\":{\"id\":\"40c1e7cd-63bf-4721-94ab-3041d3baf7bf\",\"type\":\"BasicTicker\"}},\"id\":\"8c548d39-efb5-456f-8a8a-2416bc0dce53\",\"type\":\"Grid\"},{\"attributes\":{\"callback\":null,\"column_names\":[\"y\",\"x\"],\"data\":{\"x\":[111.17524258473155,110.0522603364009,108.92927808807029,107.80629583973966,106.68331359140906,105.56033134307843,104.43734909474782,103.31436684641719,102.19138459808656,101.06840234975593,99.94542010142531,98.8224378530947,97.6994556047641,96.57647335643347,95.45349110810285,94.33050885977221,93.2075266114416,92.08454436311096,90.96156211478035,89.83857986644972,88.7155976181191,87.59261536978849,86.46963312145787,85.34665087312725,84.22366862479662,83.10068637646599,81.97770412813537,80.85472187980474,79.73173963147413,78.60875738314351,77.4857751348129,76.36279288648227,75.23981063815165,74.11682838982102,72.99384614149041,71.8708638931598,70.74788164482916,69.62489939649855,68.50191714816792,67.3789348998373,66.25595265150668,65.13297040317605,64.00998815484543,62.887005906514815,61.764023658184186,60.641041409853564,59.51805916152295,58.39507691319232,57.272094664861704,56.14911241653108,55.02613016820045,53.90314791986983,52.780165671539216,51.65718342320859,50.534201174877964,49.41121892654735,48.288236678216734,47.165254429886105,46.04227218155548,44.91928993322486,43.796307684894245,42.67332543656362,41.55034318823299,40.42736093990237,39.304378691571756,38.181396443241134,37.05841419491051,35.9354319465799,34.812449698249274,33.68946744991865,32.56648520158802,31.443502953257408,30.320520704926782,29.19753845659616,28.07455620826554,26.951573959934915,25.828591711604297,24.705609463273674,23.582627214943052,22.45964496661243,21.33666271828181,20.213680469951186,19.090698221620567,17.96771597328995,16.844733724959326,15.721751476628704,14.59876922829808,13.475786979967458,12.352804731636837,11.229822483306215,10.106840234975593,8.983857986644974,7.860875738314352,6.737893489983729,5.6149112416531075,4.491928993322487,3.3689467449918644,2.2459644966612435,1.1229822483306218,0.0,-0.0,-1.1229822483306218,-2.2459644966612435,-3.3689467449918644,-4.491928993322487,-5.6149112416531075,-6.737893489983729,-7.860875738314352,-8.983857986644974,-10.106840234975593,-11.229822483306215,-12.352804731636837,-13.475786979967458,-14.59876922829808,-15.721751476628704,-16.844733724959326,-17.96771597328995,-19.090698221620567,-20.213680469951186,-21.33666271828181,-22.45964496661243,-23.582627214943052,-24.705609463273674,-25.828591711604297,-26.951573959934915,-28.07455620826554,-29.19753845659616,-30.320520704926782,-31.443502953257408,-32.56648520158802,-33.68946744991865,-34.812449698249274,-35.9354319465799,-37.05841419491051,-38.181396443241134,-39.304378691571756,-40.42736093990237,-41.55034318823299,-42.67332543656362,-43.796307684894245,-44.91928993322486,-46.04227218155548,-47.165254429886105,-48.288236678216734,-49.41121892654735,-50.534201174877964,-51.65718342320859,-52.780165671539216,-53.90314791986983,-55.02613016820045,-56.14911241653108,-57.272094664861704,-58.39507691319232,-59.51805916152295,-60.641041409853564,-61.764023658184186,-62.887005906514815,-64.00998815484543,-65.13297040317605,-66.25595265150668,-67.3789348998373,-68.50191714816792,-69.62489939649855,-70.74788164482916,-71.8708638931598,-72.99384614149041,-74.11682838982102,-75.23981063815165,-76.36279288648227,-77.4857751348129,-78.60875738314351,-79.73173963147413,-80.85472187980474,-81.97770412813537,-83.10068637646599,-84.22366862479662,-85.34665087312725,-86.46963312145787,-87.59261536978849,-88.7155976181191,-89.83857986644972,-90.96156211478035,-92.08454436311096,-93.2075266114416,-94.33050885977221,-95.45349110810285,-96.57647335643347,-97.6994556047641,-98.8224378530947,-99.94542010142531,-101.06840234975593,-102.19138459808656,-103.31436684641719,-104.43734909474782,-105.56033134307843,-106.68331359140906,-107.80629583973966,-108.92927808807029,-110.0522603364009,-111.17524258473155],\"y\":[-0.0,-23.11586975096195,-32.69077650786037,-40.03786086981055,-46.23173950192378,-51.68865612218189,-56.62208585049308,-61.1588427000057,-65.38155301572056,-69.34760925288568,-73.09879850882878,-76.66666666666669,-80.075721739621,-83.34545366404008,-86.49166480539083,-89.52737857857517,-92.46347900384755,-95.30917261123605,-98.0723295235808,-100.75974023649154,-103.3773122443638,-105.93022288852282,-108.42303978193728,-110.85981684045392,-113.24417170098613,-115.5793487548094,-117.86827093382381,-120.11358260943152,-122.3176854000114,-124.48276826918493,-126.61083298953146,-128.70371581522605,-130.76310603144105,-132.79056191361394,-134.78752452536833,-136.75532970242952,-138.69521850577127,-140.60834637640494,-142.49579118363636,-144.35856032599497,-146.1975970176575,-148.01378587172485,-149.80795787415383,-151.5808948277047,-153.33333333333331,-155.0659683665457,-156.77945649796715,-158.47441880045312,-160.151443479242,-161.81108825673311,-163.45388253930133,-165.08032939001288,-166.6909073280801,-168.28607197329796,-169.86625755147915,-171.43187827498386,-172.98332961078165,-174.52098944704545,-176.04521916802852,-177.5563646458854,-179.05475715715028,-180.5407142307504,-182.01454043370526,-183.4765281000171,-184.92695800769502,-186.36610000835245,-187.79421361337697,-189.2115485402783,-190.61834522247204,-192.01483528544603,-193.40124199198,-194.77778065884166,-196.14465904716158,-197.50207772849052,-198.8502304283657,-200.1893043490525,-201.51948047298308,-202.8409338482853,-204.15383385767672,-205.45834447189364,-206.75462448872756,-208.0428277586569,-209.32310339798045,-210.59559599028904,-211.8604457770456,-213.11778883798488,-214.36775726198974,-215.61047930905113,-216.84607956387455,-218.0746790816523,-219.2963955264862,-220.51134330290702,-221.7196336809078,-222.9213749148775,-224.11667235679462,-225.30562856401582,-226.4883434019722,-227.38695356572447,-227.83494827989514,-227.97388896015133,-227.97388896015133,-227.83494827989514,-227.38695356572447,-226.4883434019722,-225.30562856401582,-224.11667235679462,-222.9213749148775,-221.7196336809078,-220.51134330290702,-219.2963955264862,-218.0746790816523,-216.84607956387455,-215.61047930905113,-214.36775726198974,-213.11778883798488,-211.8604457770456,-210.59559599028904,-209.32310339798045,-208.0428277586569,-206.75462448872756,-205.45834447189364,-204.15383385767672,-202.8409338482853,-201.51948047298308,-200.1893043490525,-198.8502304283657,-197.50207772849052,-196.14465904716158,-194.77778065884166,-193.40124199198,-192.01483528544603,-190.61834522247204,-189.2115485402783,-187.79421361337697,-186.36610000835245,-184.92695800769502,-183.4765281000171,-182.01454043370526,-180.5407142307504,-179.05475715715028,-177.5563646458854,-176.04521916802852,-174.52098944704545,-172.98332961078165,-171.43187827498386,-169.86625755147915,-168.28607197329796,-166.6909073280801,-165.08032939001288,-163.45388253930133,-161.81108825673311,-160.151443479242,-158.47441880045312,-156.77945649796715,-155.0659683665457,-153.33333333333331,-151.5808948277047,-149.80795787415383,-148.01378587172485,-146.1975970176575,-144.35856032599497,-142.49579118363636,-140.60834637640494,-138.69521850577127,-136.75532970242952,-134.78752452536833,-132.79056191361394,-130.76310603144105,-128.70371581522605,-126.61083298953146,-124.48276826918493,-122.3176854000114,-120.11358260943152,-117.86827093382381,-115.5793487548094,-113.24417170098613,-110.85981684045392,-108.42303978193728,-105.93022288852282,-103.3773122443638,-100.75974023649154,-98.0723295235808,-95.30917261123605,-92.46347900384755,-89.52737857857517,-86.49166480539083,-83.34545366404008,-80.075721739621,-76.66666666666669,-73.09879850882878,-69.34760925288568,-65.38155301572056,-61.1588427000057,-56.62208585049308,-51.68865612218189,-46.23173950192378,-40.03786086981055,-32.69077650786037,-23.11586975096195,-0.0]}},\"id\":\"ca69543c-2620-4755-a1fc-087372e18b98\",\"type\":\"ColumnDataSource\"},{\"attributes\":{\"plot\":{\"id\":\"4649214a-4523-48d3-8ce1-e42043bb70d8\",\"subtype\":\"Figure\",\"type\":\"Plot\"}},\"id\":\"2970a038-764c-48e0-9fff-5cc38924df37\",\"type\":\"PanTool\"},{\"attributes\":{\"line_alpha\":{\"value\":0.1},\"line_color\":{\"value\":\"#1f77b4\"},\"x\":{\"field\":\"x\"},\"y\":{\"field\":\"y\"}},\"id\":\"8e2cec43-789b-44b3-973f-1cae7d2c87ec\",\"type\":\"Line\"},{\"attributes\":{\"plot\":{\"id\":\"4649214a-4523-48d3-8ce1-e42043bb70d8\",\"subtype\":\"Figure\",\"type\":\"Plot\"}},\"id\":\"2627e029-130b-4a91-92a2-f677d1d77d5b\",\"type\":\"WheelZoomTool\"},{\"attributes\":{},\"id\":\"6116cdc8-cd17-4b97-8f44-0aa9ecc0d1c2\",\"type\":\"BasicTicker\"},{\"attributes\":{\"formatter\":{\"id\":\"20bc8f5e-135b-4ba5-b529-8046561fc978\",\"type\":\"BasicTickFormatter\"},\"plot\":{\"id\":\"4649214a-4523-48d3-8ce1-e42043bb70d8\",\"subtype\":\"Figure\",\"type\":\"Plot\"},\"ticker\":{\"id\":\"6116cdc8-cd17-4b97-8f44-0aa9ecc0d1c2\",\"type\":\"BasicTicker\"}},\"id\":\"be0751d5-1f73-4116-97a5-256d69054774\",\"type\":\"LinearAxis\"},{\"attributes\":{\"below\":[{\"id\":\"be0751d5-1f73-4116-97a5-256d69054774\",\"type\":\"LinearAxis\"}],\"left\":[{\"id\":\"cb661851-663a-4136-9bc3-4a6cc796e7a7\",\"type\":\"LinearAxis\"}],\"plot_height\":500,\"plot_width\":520,\"renderers\":[{\"id\":\"be0751d5-1f73-4116-97a5-256d69054774\",\"type\":\"LinearAxis\"},{\"id\":\"9f4cb190-0a69-49b6-bb19-8f5c961e16a5\",\"type\":\"Grid\"},{\"id\":\"cb661851-663a-4136-9bc3-4a6cc796e7a7\",\"type\":\"LinearAxis\"},{\"id\":\"8c548d39-efb5-456f-8a8a-2416bc0dce53\",\"type\":\"Grid\"},{\"id\":\"6ff123c7-0dbd-4a23-b5d9-2b14bf95a0bd\",\"type\":\"BoxAnnotation\"},{\"id\":\"30300dbc-acc7-49e4-ad96-ab43a1723da0\",\"type\":\"GlyphRenderer\"},{\"id\":\"b916d511-dd73-4358-9b9f-e085bb71e204\",\"type\":\"GlyphRenderer\"}],\"title\":{\"id\":\"70857be7-2c36-47ad-b1c8-9688b7e88f73\",\"type\":\"Title\"},\"tool_events\":{\"id\":\"48084aa9-e096-4063-aaca-284811075ad2\",\"type\":\"ToolEvents\"},\"toolbar\":{\"id\":\"764727b7-098f-477d-91eb-f934846c82cd\",\"type\":\"Toolbar\"},\"x_range\":{\"id\":\"deb8c45e-7e0a-4dad-87f3-f91cab7ae88b\",\"type\":\"Range1d\"},\"y_range\":{\"id\":\"43748e2d-e64b-477b-b4c8-239103942a11\",\"type\":\"Range1d\"}},\"id\":\"4649214a-4523-48d3-8ce1-e42043bb70d8\",\"subtype\":\"Figure\",\"type\":\"Plot\"},{\"attributes\":{\"line_color\":{\"value\":\"red\"},\"x\":{\"field\":\"x\"},\"y\":{\"field\":\"y\"}},\"id\":\"b8740159-ad63-48e2-b7eb-56afe7d4ad31\",\"type\":\"Line\"},{\"attributes\":{\"callback\":null,\"column_names\":[\"y\",\"x\"],\"data\":{\"x\":[77.07746276787636,76.2989025378978,75.52034230791926,74.74178207794071,73.96322184796216,73.18466161798362,72.40610138800507,71.62754115802652,70.84898092804796,70.07042069806943,69.29186046809087,68.51330023811231,67.73474000813378,66.95617977815523,66.17761954817666,65.39905931819813,64.62049908821957,63.84193885824102,63.06337862826247,62.284818398283925,61.50625816830538,60.72769793832682,59.94913770834828,59.17057747836973,58.39201724839118,57.613457018412625,56.83489678843408,56.056336558455534,55.27777632847698,54.49921609849844,53.72065586851988,52.942095638541346,52.16353540856279,51.38497517858424,50.60641494860569,49.827854718627144,49.0492944886486,48.270734258670046,47.4921740286915,46.71361379871294,45.935053568734396,45.156493338755844,44.3779331087773,43.59937287879875,42.8208126488202,42.042252418841656,41.263692188863104,40.48513195888456,39.706571728906,38.928011498927454,38.1494512689489,37.370891038970356,36.59233080899181,35.81377057901326,35.03521034903471,34.256650119056154,33.478089889077616,32.69952965909906,31.92096942912051,31.142409199141962,30.36384896916341,29.585288739184865,28.806728509206312,28.028168279227767,27.24960804924922,26.471047819270673,25.69248758929212,24.913927359313572,24.135367129335023,23.35680689935647,22.578246669377922,21.799686439399373,21.021126209420828,20.24256597944228,19.464005749463727,18.685445519485178,17.90688528950663,17.128325059528077,16.34976482954953,15.571204599570981,14.792644369592432,14.014084139613884,13.235523909635337,12.456963679656786,11.678403449678235,10.899843219699687,10.12128298972114,9.342722759742589,8.564162529764038,7.785602299785491,7.007042069806942,6.228481839828393,5.449921609849843,4.6713613798712945,3.8928011498927453,3.1142409199141965,2.3356806899356473,1.5571204599570982,0.7785602299785491,0.0,-0.0,-0.7785602299785491,-1.5571204599570982,-2.3356806899356473,-3.1142409199141965,-3.8928011498927453,-4.6713613798712945,-5.449921609849843,-6.228481839828393,-7.007042069806942,-7.785602299785491,-8.564162529764038,-9.342722759742589,-10.12128298972114,-10.899843219699687,-11.678403449678235,-12.456963679656786,-13.235523909635337,-14.014084139613884,-14.792644369592432,-15.571204599570981,-16.34976482954953,-17.128325059528077,-17.90688528950663,-18.685445519485178,-19.464005749463727,-20.24256597944228,-21.021126209420828,-21.799686439399373,-22.578246669377922,-23.35680689935647,-24.135367129335023,-24.913927359313572,-25.69248758929212,-26.471047819270673,-27.24960804924922,-28.028168279227767,-28.806728509206312,-29.585288739184865,-30.36384896916341,-31.142409199141962,-31.92096942912051,-32.69952965909906,-33.478089889077616,-34.256650119056154,-35.03521034903471,-35.81377057901326,-36.59233080899181,-37.370891038970356,-38.1494512689489,-38.928011498927454,-39.706571728906,-40.48513195888456,-41.263692188863104,-42.042252418841656,-42.8208126488202,-43.59937287879875,-44.3779331087773,-45.156493338755844,-45.935053568734396,-46.71361379871294,-47.4921740286915,-48.270734258670046,-49.0492944886486,-49.827854718627144,-50.60641494860569,-51.38497517858424,-52.16353540856279,-52.942095638541346,-53.72065586851988,-54.49921609849844,-55.27777632847698,-56.056336558455534,-56.83489678843408,-57.613457018412625,-58.39201724839118,-59.17057747836973,-59.94913770834828,-60.72769793832682,-61.50625816830538,-62.284818398283925,-63.06337862826247,-63.84193885824102,-64.62049908821957,-65.39905931819813,-66.17761954817666,-66.95617977815523,-67.73474000813378,-68.51330023811231,-69.29186046809087,-70.07042069806943,-70.84898092804796,-71.62754115802652,-72.40610138800507,-73.18466161798362,-73.96322184796216,-74.74178207794071,-75.52034230791926,-76.2989025378978,-77.07746276787636],\"y\":[-0.0,-23.11586975096195,-32.69077650786019,-40.03786086981048,-46.23173950192378,-51.688656122181825,-56.622085850493036,-61.1588427000057,-65.38155301572056,-69.34760925288559,-73.09879850882874,-76.66666666666669,-80.07572173962096,-83.34545366404004,-86.49166480539083,-89.52737857857512,-92.46347900384752,-95.30917261123602,-98.0723295235808,-100.75974023649154,-103.37731224436378,-105.93022288852282,-108.42303978193728,-110.85981684045392,-113.2441717009861,-115.57934875480937,-117.86827093382381,-120.1135826094315,-122.31768540001138,-124.48276826918493,-126.61083298953146,-128.70371581522602,-130.76310603144103,-132.7905619136139,-134.78752452536833,-136.7553297024295,-138.69521850577124,-140.60834637640494,-142.49579118363633,-144.35856032599497,-146.19759701765747,-148.01378587172482,-149.8079578741538,-151.5808948277047,-153.33333333333331,-155.06596836654566,-156.77945649796715,-158.4744188004531,-160.151443479242,-161.81108825673311,-163.45388253930133,-165.08032939001288,-166.6909073280801,-168.28607197329796,-169.86625755147915,-171.43187827498386,-172.98332961078162,-174.52098944704545,-176.04521916802852,-177.5563646458854,-179.05475715715028,-180.5407142307504,-182.01454043370526,-183.47652810001708,-184.92695800769502,-186.36610000835245,-187.79421361337697,-189.2115485402783,-190.61834522247204,-192.01483528544603,-193.40124199197996,-194.77778065884166,-196.14465904716158,-197.5020777284905,-198.8502304283657,-200.1893043490525,-201.51948047298308,-202.8409338482853,-204.15383385767672,-205.45834447189364,-206.75462448872756,-208.0428277586569,-209.32310339798045,-210.595595990289,-211.8604457770456,-213.11778883798488,-214.36775726198974,-215.61047930905113,-216.84607956387455,-218.0746790816523,-219.2963955264862,-220.51134330290702,-221.7196336809078,-222.9213749148775,-224.11667235679462,-225.30562856401582,-226.42436110815808,-227.0392130784298,-227.34467837298357,-227.43941510642588,-227.43941510642588,-227.34467837298357,-227.0392130784298,-226.42436110815808,-225.30562856401582,-224.11667235679462,-222.9213749148775,-221.7196336809078,-220.51134330290702,-219.2963955264862,-218.0746790816523,-216.84607956387455,-215.61047930905113,-214.36775726198974,-213.11778883798488,-211.8604457770456,-210.595595990289,-209.32310339798045,-208.0428277586569,-206.75462448872756,-205.45834447189364,-204.15383385767672,-202.8409338482853,-201.51948047298308,-200.1893043490525,-198.8502304283657,-197.5020777284905,-196.14465904716158,-194.77778065884166,-193.40124199197996,-192.01483528544603,-190.61834522247204,-189.2115485402783,-187.79421361337697,-186.36610000835245,-184.92695800769502,-183.47652810001708,-182.01454043370526,-180.5407142307504,-179.05475715715028,-177.5563646458854,-176.04521916802852,-174.52098944704545,-172.98332961078162,-171.43187827498386,-169.86625755147915,-168.28607197329796,-166.6909073280801,-165.08032939001288,-163.45388253930133,-161.81108825673311,-160.151443479242,-158.4744188004531,-156.77945649796715,-155.06596836654566,-153.33333333333331,-151.5808948277047,-149.8079578741538,-148.01378587172482,-146.19759701765747,-144.35856032599497,-142.49579118363633,-140.60834637640494,-138.69521850577124,-136.7553297024295,-134.78752452536833,-132.7905619136139,-130.76310603144103,-128.70371581522602,-126.61083298953146,-124.48276826918493,-122.31768540001138,-120.1135826094315,-117.86827093382381,-115.57934875480937,-113.2441717009861,-110.85981684045392,-108.42303978193728,-105.93022288852282,-103.37731224436378,-100.75974023649154,-98.0723295235808,-95.30917261123602,-92.46347900384752,-89.52737857857512,-86.49166480539083,-83.34545366404004,-80.07572173962096,-76.66666666666669,-73.09879850882874,-69.34760925288559,-65.38155301572056,-61.1588427000057,-56.622085850493036,-51.688656122181825,-46.23173950192378,-40.03786086981048,-32.69077650786019,-23.11586975096195,-0.0]}},\"id\":\"2d8ffd64-4600-4eb9-8bac-9f9cf114b984\",\"type\":\"ColumnDataSource\"},{\"attributes\":{},\"id\":\"40c1e7cd-63bf-4721-94ab-3041d3baf7bf\",\"type\":\"BasicTicker\"},{\"attributes\":{\"bottom_units\":\"screen\",\"fill_alpha\":{\"value\":0.5},\"fill_color\":{\"value\":\"lightgrey\"},\"left_units\":\"screen\",\"level\":\"overlay\",\"line_alpha\":{\"value\":1.0},\"line_color\":{\"value\":\"black\"},\"line_dash\":[4,4],\"line_width\":{\"value\":2},\"plot\":null,\"render_mode\":\"css\",\"right_units\":\"screen\",\"top_units\":\"screen\"},\"id\":\"6ff123c7-0dbd-4a23-b5d9-2b14bf95a0bd\",\"type\":\"BoxAnnotation\"},{\"attributes\":{},\"id\":\"713693bd-cebc-450e-b3f8-0edc3471a41e\",\"type\":\"BasicTickFormatter\"},{\"attributes\":{\"callback\":null,\"end\":125,\"start\":-125},\"id\":\"deb8c45e-7e0a-4dad-87f3-f91cab7ae88b\",\"type\":\"Range1d\"},{\"attributes\":{\"data_source\":{\"id\":\"ca69543c-2620-4755-a1fc-087372e18b98\",\"type\":\"ColumnDataSource\"},\"glyph\":{\"id\":\"b8740159-ad63-48e2-b7eb-56afe7d4ad31\",\"type\":\"Line\"},\"hover_glyph\":null,\"nonselection_glyph\":{\"id\":\"d7456d16-9e8a-43d1-a731-909fa7047c69\",\"type\":\"Line\"},\"selection_glyph\":null},\"id\":\"b916d511-dd73-4358-9b9f-e085bb71e204\",\"type\":\"GlyphRenderer\"},{\"attributes\":{\"line_alpha\":{\"value\":0.1},\"line_color\":{\"value\":\"#1f77b4\"},\"x\":{\"field\":\"x\"},\"y\":{\"field\":\"y\"}},\"id\":\"d7456d16-9e8a-43d1-a731-909fa7047c69\",\"type\":\"Line\"},{\"attributes\":{\"line_color\":{\"value\":\"#1f77b4\"},\"x\":{\"field\":\"x\"},\"y\":{\"field\":\"y\"}},\"id\":\"5dcf2087-42f6-419c-85c6-f60cc17487d3\",\"type\":\"Line\"}],\"root_ids\":[\"4649214a-4523-48d3-8ce1-e42043bb70d8\"]},\"title\":\"Bokeh Application\",\"version\":\"0.12.1\"}};\n",
       "            var render_items = [{\"docid\":\"a667abe9-c9ba-4a16-a63d-9a721ffd4513\",\"elementid\":\"59c43b6a-bbc2-486d-bb13-40cb36198cee\",\"modelid\":\"4649214a-4523-48d3-8ce1-e42043bb70d8\",\"notebook_comms_target\":\"cfd32c1b-7081-43cb-be63-9da2f018a588\"}];\n",
       "            \n",
       "            Bokeh.embed.embed_items(docs_json, render_items);\n",
       "        });\n",
       "      },\n",
       "      function(Bokeh) {\n",
       "      }\n",
       "    ];\n",
       "  \n",
       "    function run_inline_js() {\n",
       "      for (var i = 0; i < inline_js.length; i++) {\n",
       "        inline_js[i](window.Bokeh);\n",
       "      }\n",
       "    }\n",
       "  \n",
       "    if (window._bokeh_is_loading === 0) {\n",
       "      console.log(\"Bokeh: BokehJS loaded, going straight to plotting\");\n",
       "      run_inline_js();\n",
       "    } else {\n",
       "      load_libs(js_urls, function() {\n",
       "        console.log(\"Bokeh: BokehJS plotting callback run at\", now());\n",
       "        run_inline_js();\n",
       "      });\n",
       "    }\n",
       "  }(this));\n",
       "</script>"
      ]
     },
     "metadata": {},
     "output_type": "display_data"
    },
    {
     "data": {
      "text/html": [
       "<p><code>&lt;Bokeh Notebook handle for <strong>In[18]</strong>&gt;</code></p>"
      ],
      "text/plain": [
       "<bokeh.io._CommsHandle at 0x7f9e7729c250>"
      ]
     },
     "execution_count": 18,
     "metadata": {},
     "output_type": "execute_result"
    }
   ],
   "source": [
    "xt,yt = linepntsfromsol(sol[1,:],tol=tol)\n",
    "cs_b = geo.cross_section(xt[0]+shape.length/2,shape.length,shape.keel,shape.waterline,shape.bottom,100)\n",
    "cs_b[0,:] = cs_b[0,:]*yt[0]/cs_b[0,-1]\n",
    "cs_b2 = geo.cross_section(xt[1]+shape.length/2,shape.length,shape.keel,shape.waterline,shape.bottom,100)\n",
    "cs_b2[0,:] = cs_b2[0,:]*yt[1]/cs_b2[0,-1]\n",
    "cs_b_f = np.empty((cs_b.shape[0],cs_b.shape[1]*2))\n",
    "cs_b_f[:,:cs_b.shape[1]] = cs_b[:,::-1]\n",
    "cs_b_f[:,cs_b.shape[1]:] = cs_b\n",
    "cs_b_f[0,cs_b.shape[1]:] *= -1\n",
    "\n",
    "cs_b_f2 = np.empty((cs_b2.shape[0],cs_b2.shape[1]*2))\n",
    "cs_b_f2[:,:cs_b2.shape[1]] = cs_b2[:,::-1]\n",
    "cs_b_f2[:,cs_b2.shape[1]:] = cs_b2\n",
    "cs_b_f2[0,cs_b2.shape[1]:] *= -1\n",
    "\n",
    "p = figure(width=520, height=500)\n",
    "p.y_range = Range1d(-250,50)\n",
    "p.x_range = Range1d(-125,125)\n",
    "p.line(cs_b_f[0,:]*1000,cs_b_f[1,:]*1000)\n",
    "p.line(cs_b_f2[0,:]*1000,cs_b_f2[1,:]*1000,color='red')\n",
    "show(p)"
   ]
  },
  {
   "cell_type": "code",
   "execution_count": 16,
   "metadata": {
    "collapsed": false
   },
   "outputs": [
    {
     "data": {
      "text/html": [
       "\n",
       "\n",
       "    <div class=\"bk-root\">\n",
       "        <div class=\"plotdiv\" id=\"3bd403e5-dbdd-4de5-90c2-a2eb6261114c\"></div>\n",
       "    </div>\n",
       "<script type=\"text/javascript\">\n",
       "  \n",
       "  (function(global) {\n",
       "    function now() {\n",
       "      return new Date();\n",
       "    }\n",
       "  \n",
       "    var force = \"\";\n",
       "  \n",
       "    if (typeof (window._bokeh_onload_callbacks) === \"undefined\" || force !== \"\") {\n",
       "      window._bokeh_onload_callbacks = [];\n",
       "      window._bokeh_is_loading = undefined;\n",
       "    }\n",
       "  \n",
       "    function run_callbacks() {\n",
       "      window._bokeh_onload_callbacks.forEach(function(callback) { callback() });\n",
       "      delete window._bokeh_onload_callbacks\n",
       "      console.info(\"Bokeh: all callbacks have finished\");\n",
       "    }\n",
       "  \n",
       "    function load_libs(js_urls, callback) {\n",
       "      window._bokeh_onload_callbacks.push(callback);\n",
       "      if (window._bokeh_is_loading > 0) {\n",
       "        console.log(\"Bokeh: BokehJS is being loaded, scheduling callback at\", now());\n",
       "        return null;\n",
       "      }\n",
       "      if (js_urls == null || js_urls.length === 0) {\n",
       "        run_callbacks();\n",
       "        return null;\n",
       "      }\n",
       "      console.log(\"Bokeh: BokehJS not loaded, scheduling load and callback at\", now());\n",
       "      window._bokeh_is_loading = js_urls.length;\n",
       "      for (var i = 0; i < js_urls.length; i++) {\n",
       "        var url = js_urls[i];\n",
       "        var s = document.createElement('script');\n",
       "        s.src = url;\n",
       "        s.async = false;\n",
       "        s.onreadystatechange = s.onload = function() {\n",
       "          window._bokeh_is_loading--;\n",
       "          if (window._bokeh_is_loading === 0) {\n",
       "            console.log(\"Bokeh: all BokehJS libraries loaded\");\n",
       "            run_callbacks()\n",
       "          }\n",
       "        };\n",
       "        s.onerror = function() {\n",
       "          console.warn(\"failed to load library \" + url);\n",
       "        };\n",
       "        console.log(\"Bokeh: injecting script tag for BokehJS library: \", url);\n",
       "        document.getElementsByTagName(\"head\")[0].appendChild(s);\n",
       "      }\n",
       "    };var element = document.getElementById(\"3bd403e5-dbdd-4de5-90c2-a2eb6261114c\");\n",
       "    if (element == null) {\n",
       "      console.log(\"Bokeh: ERROR: autoload.js configured with elementid '3bd403e5-dbdd-4de5-90c2-a2eb6261114c' but no matching script tag was found. \")\n",
       "      return false;\n",
       "    }\n",
       "  \n",
       "    var js_urls = [];\n",
       "  \n",
       "    var inline_js = [\n",
       "      function(Bokeh) {\n",
       "        Bokeh.$(function() {\n",
       "            var docs_json = {\"796cb574-0a29-4e18-811e-e9700f0b2afa\":{\"roots\":{\"references\":[{\"attributes\":{\"callback\":null},\"id\":\"a779f416-3b65-4da2-b1fd-ce0aa81e816e\",\"type\":\"DataRange1d\"},{\"attributes\":{\"data_source\":{\"id\":\"210e495a-ee58-434f-98c7-acc33a9091a0\",\"type\":\"ColumnDataSource\"},\"glyph\":{\"id\":\"a1b0ab73-533f-4047-84a6-8c97d58e6e8f\",\"type\":\"Line\"},\"hover_glyph\":null,\"nonselection_glyph\":{\"id\":\"c455df22-2c1a-43f9-beb8-f64fcb4febf1\",\"type\":\"Line\"},\"selection_glyph\":null},\"id\":\"1f2c88af-d61b-4745-8f58-e14a4ac2544c\",\"type\":\"GlyphRenderer\"},{\"attributes\":{\"line_alpha\":{\"value\":0.1},\"line_color\":{\"value\":\"#1f77b4\"},\"x\":{\"field\":\"x\"},\"y\":{\"field\":\"y\"}},\"id\":\"f2d0345e-d9d8-4d10-ad05-5c10c29f144a\",\"type\":\"Line\"},{\"attributes\":{\"formatter\":{\"id\":\"51c30595-7f4b-42a4-9333-2444a95cacf1\",\"type\":\"BasicTickFormatter\"},\"plot\":{\"id\":\"81da7980-2e11-43c9-83a2-fa9fe0b054d7\",\"subtype\":\"Figure\",\"type\":\"Plot\"},\"ticker\":{\"id\":\"30a02f25-a80b-4d5a-8cde-ff07b8f2ff82\",\"type\":\"BasicTicker\"}},\"id\":\"47aa0628-d96c-4caf-88d0-c74bead9178c\",\"type\":\"LinearAxis\"},{\"attributes\":{\"line_color\":{\"value\":\"#1f77b4\"},\"x\":{\"field\":\"x\"},\"y\":{\"field\":\"y\"}},\"id\":\"a256422e-9e4c-4f7f-941b-e0ccdd358ffb\",\"type\":\"Line\"},{\"attributes\":{},\"id\":\"51c30595-7f4b-42a4-9333-2444a95cacf1\",\"type\":\"BasicTickFormatter\"},{\"attributes\":{\"overlay\":{\"id\":\"e6246287-8cf1-4607-9e90-30a1d2f31915\",\"type\":\"BoxAnnotation\"},\"plot\":{\"id\":\"81da7980-2e11-43c9-83a2-fa9fe0b054d7\",\"subtype\":\"Figure\",\"type\":\"Plot\"}},\"id\":\"50bae2fe-6662-4013-a2b5-ed3121f200b7\",\"type\":\"BoxZoomTool\"},{\"attributes\":{\"bottom_units\":\"screen\",\"fill_alpha\":{\"value\":0.5},\"fill_color\":{\"value\":\"lightgrey\"},\"left_units\":\"screen\",\"level\":\"overlay\",\"line_alpha\":{\"value\":1.0},\"line_color\":{\"value\":\"black\"},\"line_dash\":[4,4],\"line_width\":{\"value\":2},\"plot\":null,\"render_mode\":\"css\",\"right_units\":\"screen\",\"top_units\":\"screen\"},\"id\":\"e6246287-8cf1-4607-9e90-30a1d2f31915\",\"type\":\"BoxAnnotation\"},{\"attributes\":{\"plot\":{\"id\":\"81da7980-2e11-43c9-83a2-fa9fe0b054d7\",\"subtype\":\"Figure\",\"type\":\"Plot\"}},\"id\":\"77e3f46c-f2d4-498d-86b5-a01f291864d7\",\"type\":\"HelpTool\"},{\"attributes\":{\"callback\":null,\"column_names\":[\"y\",\"x\"],\"data\":{\"x\":[0.0,0.02378,0.09506,0.21371,0.37946,0.59199,0.85084,1.15549,1.5053,1.89955,2.33741,2.81798,3.34027,3.9032,4.50559,5.14619,5.82369,6.53667,7.28366,8.06311,8.8734,9.71286,10.57974,11.47225,12.38854,13.3267,14.2848,15.26085,16.25283,17.25867,18.2763,19.30361,20.33846,21.37871,22.42221,23.46679,24.51029,25.55054,26.58539,27.61269,28.63032,29.63617,30.62814,31.60419,32.56229,33.50046,34.41675,35.30926,36.17614,37.0156,37.82589,38.60534,39.35233,40.06531,40.74281,41.38341,41.9858,42.54872,43.07101,43.55159,43.98945,44.3837,44.73351,45.03815,45.29701,45.50953,45.67529,45.79393,45.86522,45.889,45.7545,45.35257,44.68793,43.76836,42.60466,41.21045,39.6021,37.79845,35.82065,33.6919,31.43713,29.0828,26.65651,24.18669,21.70231,19.23249,16.8062,14.45186,12.1971,10.06834,8.09054,6.2869,4.67854,3.28434,2.12064,1.20107,0.53643,0.1345,0.0,-0.1345,-0.53643,-1.20107,-2.12064,-3.28434,-4.67854,-6.2869,-8.09054,-10.06834,-12.1971,-14.45186,-16.8062,-19.23249,-21.70231,-24.18669,-26.65651,-29.0828,-31.43713,-33.6919,-35.82065,-37.79845,-39.6021,-41.21045,-42.60466,-43.76836,-44.68793,-45.35257,-45.7545,-45.889,-45.86522,-45.79393,-45.67529,-45.50953,-45.29701,-45.03815,-44.73351,-44.3837,-43.98945,-43.55159,-43.07101,-42.54872,-41.9858,-41.38341,-40.74281,-40.06531,-39.35233,-38.60534,-37.82589,-37.0156,-36.17614,-35.30926,-34.41675,-33.50046,-32.56229,-31.60419,-30.62814,-29.63617,-28.63032,-27.61269,-26.58539,-25.55054,-24.51029,-23.46679,-22.42221,-21.37871,-20.33846,-19.30361,-18.2763,-17.25867,-16.25283,-15.26085,-14.2848,-13.3267,-12.38854,-11.47225,-10.57974,-9.71286,-8.8734,-8.06311,-7.28366,-6.53667,-5.82369,-5.14619,-4.50559,-3.9032,-3.34027,-2.81798,-2.33741,-1.89955,-1.5053,-1.15549,-0.85084,-0.59199,-0.37946,-0.21371,-0.09506,-0.02378],\"y\":[-226.84231,-226.84216,-226.83985,-226.82983,-226.80266,-226.74423,-226.63321,-226.43298,-226.05716,-225.18934,-224.06579,-222.82612,-221.47098,-220.00106,-218.41713,-216.72001,-214.91058,-212.98978,-210.9586,-208.81809,-206.56937,-204.2136,-201.752,-199.18584,-196.51646,-193.74524,-190.87362,-187.90308,-184.83516,-181.67145,-178.4136,-175.06328,-171.62225,-168.09227,-164.47519,-160.77286,-156.98722,-153.12023,-149.17388,-145.15023,-141.05135,-136.87938,-132.63647,-128.32483,-123.94669,-119.50431,-115.0,-110.4361,-105.81496,-101.13899,-96.4106,-91.63225,-86.80642,-81.93559,-77.02231,-72.06911,-67.07857,-62.05326,-56.99579,-51.90879,-46.79488,-41.65673,-36.49699,-31.31833,-26.12344,-20.91502,-15.69576,-10.46836,-5.23554,-0.0,5.0,5.0,5.0,5.0,5.0,5.0,5.0,5.0,5.0,5.0,5.0,5.0,5.0,5.0,5.0,5.0,5.0,5.0,5.0,5.0,5.0,5.0,5.0,5.0,5.0,5.0,5.0,5.0,5.0,5.0,5.0,5.0,5.0,5.0,5.0,5.0,5.0,5.0,5.0,5.0,5.0,5.0,5.0,5.0,5.0,5.0,5.0,5.0,5.0,5.0,5.0,5.0,5.0,5.0,5.0,5.0,5.0,-0.0,-5.23554,-10.46836,-15.69576,-20.91502,-26.12344,-31.31833,-36.49699,-41.65673,-46.79488,-51.90879,-56.99579,-62.05326,-67.07857,-72.06911,-77.02231,-81.93559,-86.80642,-91.63225,-96.4106,-101.13899,-105.81496,-110.4361,-115.0,-119.50431,-123.94669,-128.32483,-132.63647,-136.87938,-141.05135,-145.15023,-149.17388,-153.12023,-156.98722,-160.77286,-164.47519,-168.09227,-171.62225,-175.06328,-178.4136,-181.67145,-184.83516,-187.90308,-190.87362,-193.74524,-196.51646,-199.18584,-201.752,-204.2136,-206.56937,-208.81809,-210.9586,-212.98978,-214.91058,-216.72001,-218.41713,-220.00106,-221.47098,-222.82612,-224.06579,-225.18934,-226.05716,-226.43298,-226.63321,-226.74423,-226.80266,-226.82983,-226.83985,-226.84216]}},\"id\":\"8cf605e6-8b2e-4387-bbe0-63c54e81c270\",\"type\":\"ColumnDataSource\"},{\"attributes\":{\"line_color\":{\"value\":\"#1f77b4\"},\"x\":{\"field\":\"x\"},\"y\":{\"field\":\"y\"}},\"id\":\"bb11fd90-a5ee-4eff-ac77-20adff62fe10\",\"type\":\"Line\"},{\"attributes\":{\"data_source\":{\"id\":\"a51ad087-1343-4cb7-9f18-a2536061284c\",\"type\":\"ColumnDataSource\"},\"glyph\":{\"id\":\"a256422e-9e4c-4f7f-941b-e0ccdd358ffb\",\"type\":\"Line\"},\"hover_glyph\":null,\"nonselection_glyph\":{\"id\":\"435ae31f-7591-468e-9675-a29021e4b149\",\"type\":\"Line\"},\"selection_glyph\":null},\"id\":\"f24fd082-85ed-48cc-bb66-6f0decb6e2e6\",\"type\":\"GlyphRenderer\"},{\"attributes\":{\"line_alpha\":{\"value\":0.1},\"line_color\":{\"value\":\"#1f77b4\"},\"x\":{\"field\":\"x\"},\"y\":{\"field\":\"y\"}},\"id\":\"474ec430-d068-41fd-98a8-8b50b5089995\",\"type\":\"Line\"},{\"attributes\":{\"plot\":{\"id\":\"81da7980-2e11-43c9-83a2-fa9fe0b054d7\",\"subtype\":\"Figure\",\"type\":\"Plot\"}},\"id\":\"9359c889-4d21-411c-8c46-9e81aba2f3b9\",\"type\":\"WheelZoomTool\"},{\"attributes\":{\"callback\":null,\"column_names\":[\"y\",\"x\"],\"data\":{\"x\":[0.0,6e-05,0.00023,0.00051,0.00091,0.00142,0.00205,0.00278,0.00362,0.00457,0.00562,0.00678,0.00803,0.00939,0.01083,0.01237,0.014,0.01572,0.01751,0.01939,0.02134,0.02335,0.02544,0.02758,0.02979,0.03204,0.03435,0.03669,0.03908,0.0415,0.04394,0.04641,0.0489,0.0514,0.05391,0.05642,0.05893,0.06144,0.06392,0.06639,0.06884,0.07126,0.07364,0.07599,0.07829,0.08055,0.08275,0.0849,0.08698,0.089,0.09095,0.09282,0.09462,0.09634,0.09796,0.0995,0.10095,0.10231,0.10356,0.10472,0.10577,0.10672,0.10756,0.10829,0.10891,0.10943,0.10982,0.11011,0.11028,0.11034,0.11001,0.10905,0.10745,0.10524,0.10244,0.09909,0.09522,0.09088,0.08613,0.08101,0.07559,0.06993,0.06409,0.05816,0.05218,0.04624,0.04041,0.03475,0.02933,0.02421,0.01945,0.01512,0.01125,0.0079,0.0051,0.00289,0.00129,0.00032,0.0,-0.00032,-0.00129,-0.00289,-0.0051,-0.0079,-0.01125,-0.01512,-0.01945,-0.02421,-0.02933,-0.03475,-0.04041,-0.04624,-0.05218,-0.05816,-0.06409,-0.06993,-0.07559,-0.08101,-0.08613,-0.09088,-0.09522,-0.09909,-0.10244,-0.10524,-0.10745,-0.10905,-0.11001,-0.11034,-0.11028,-0.11011,-0.10982,-0.10943,-0.10891,-0.10829,-0.10756,-0.10672,-0.10577,-0.10472,-0.10356,-0.10231,-0.10095,-0.0995,-0.09796,-0.09634,-0.09462,-0.09282,-0.09095,-0.089,-0.08698,-0.0849,-0.08275,-0.08055,-0.07829,-0.07599,-0.07364,-0.07126,-0.06884,-0.06639,-0.06392,-0.06144,-0.05893,-0.05642,-0.05391,-0.0514,-0.0489,-0.04641,-0.04394,-0.0415,-0.03908,-0.03669,-0.03435,-0.03204,-0.02979,-0.02758,-0.02544,-0.02335,-0.02134,-0.01939,-0.01751,-0.01572,-0.014,-0.01237,-0.01083,-0.00939,-0.00803,-0.00678,-0.00562,-0.00457,-0.00362,-0.00278,-0.00205,-0.00142,-0.00091,-0.00051,-0.00023,-6e-05],\"y\":[-1.22878,-1.22878,-1.22877,-1.22875,-1.22868,-1.22854,-1.22828,-1.2278,-1.22689,-1.22386,-1.21775,-1.21101,-1.20365,-1.19566,-1.18705,-1.17783,-1.16799,-1.15755,-1.14651,-1.13488,-1.12266,-1.10986,-1.09648,-1.08253,-1.06802,-1.05296,-1.03736,-1.02121,-1.00454,-0.98734,-0.96964,-0.95143,-0.93273,-0.91354,-0.89389,-0.87377,-0.85319,-0.83218,-0.81073,-0.78886,-0.76658,-0.74391,-0.72085,-0.69742,-0.67362,-0.64948,-0.625,-0.6002,-0.57508,-0.54967,-0.52397,-0.498,-0.47177,-0.4453,-0.4186,-0.39168,-0.36456,-0.33725,-0.30976,-0.28211,-0.25432,-0.2264,-0.19835,-0.17021,-0.14198,-0.11367,-0.0853,-0.05689,-0.02845,-0.0,5.0,5.0,5.0,5.0,5.0,5.0,5.0,5.0,5.0,5.0,5.0,5.0,5.0,5.0,5.0,5.0,5.0,5.0,5.0,5.0,5.0,5.0,5.0,5.0,5.0,5.0,5.0,5.0,5.0,5.0,5.0,5.0,5.0,5.0,5.0,5.0,5.0,5.0,5.0,5.0,5.0,5.0,5.0,5.0,5.0,5.0,5.0,5.0,5.0,5.0,5.0,5.0,5.0,5.0,5.0,5.0,5.0,-0.0,-0.02845,-0.05689,-0.0853,-0.11367,-0.14198,-0.17021,-0.19835,-0.2264,-0.25432,-0.28211,-0.30976,-0.33725,-0.36456,-0.39168,-0.4186,-0.4453,-0.47177,-0.498,-0.52397,-0.54967,-0.57508,-0.6002,-0.625,-0.64948,-0.67362,-0.69742,-0.72085,-0.74391,-0.76658,-0.78886,-0.81073,-0.83218,-0.85319,-0.87377,-0.89389,-0.91354,-0.93273,-0.95143,-0.96964,-0.98734,-1.00454,-1.02121,-1.03736,-1.05296,-1.06802,-1.08253,-1.09648,-1.10986,-1.12266,-1.13488,-1.14651,-1.15755,-1.16799,-1.17783,-1.18705,-1.19566,-1.20365,-1.21101,-1.21775,-1.22386,-1.22689,-1.2278,-1.22828,-1.22854,-1.22868,-1.22875,-1.22877,-1.22878]}},\"id\":\"a51ad087-1343-4cb7-9f18-a2536061284c\",\"type\":\"ColumnDataSource\"},{\"attributes\":{\"below\":[{\"id\":\"47aa0628-d96c-4caf-88d0-c74bead9178c\",\"type\":\"LinearAxis\"}],\"left\":[{\"id\":\"70c8497c-4d99-43b0-b029-c1e368292e5a\",\"type\":\"LinearAxis\"}],\"plot_height\":500,\"plot_width\":520,\"renderers\":[{\"id\":\"47aa0628-d96c-4caf-88d0-c74bead9178c\",\"type\":\"LinearAxis\"},{\"id\":\"07b31d17-9d89-4287-abdb-30a7a2209901\",\"type\":\"Grid\"},{\"id\":\"70c8497c-4d99-43b0-b029-c1e368292e5a\",\"type\":\"LinearAxis\"},{\"id\":\"8ba7e232-db13-4667-90c9-8da3f84e27e1\",\"type\":\"Grid\"},{\"id\":\"e6246287-8cf1-4607-9e90-30a1d2f31915\",\"type\":\"BoxAnnotation\"},{\"id\":\"f24fd082-85ed-48cc-bb66-6f0decb6e2e6\",\"type\":\"GlyphRenderer\"},{\"id\":\"1f2c88af-d61b-4745-8f58-e14a4ac2544c\",\"type\":\"GlyphRenderer\"},{\"id\":\"42b972be-cd67-403b-9f63-90a83778ffc3\",\"type\":\"GlyphRenderer\"},{\"id\":\"27efd4b6-f6ba-4d73-879b-1fc361ee9a43\",\"type\":\"GlyphRenderer\"},{\"id\":\"e345db2c-38ae-4900-8d5d-fe530a4bf83f\",\"type\":\"GlyphRenderer\"}],\"title\":{\"id\":\"03f8e17b-bbaf-45c4-a651-0548d6eee058\",\"type\":\"Title\"},\"tool_events\":{\"id\":\"c68191d6-3ed0-40e1-a799-59bbd0cbf99c\",\"type\":\"ToolEvents\"},\"toolbar\":{\"id\":\"1485ed66-58c3-48cf-a48b-5604a2d762ab\",\"type\":\"Toolbar\"},\"x_range\":{\"id\":\"5913a4a9-ad1f-4575-8c7f-a04068d81295\",\"type\":\"DataRange1d\"},\"y_range\":{\"id\":\"a779f416-3b65-4da2-b1fd-ce0aa81e816e\",\"type\":\"DataRange1d\"}},\"id\":\"81da7980-2e11-43c9-83a2-fa9fe0b054d7\",\"subtype\":\"Figure\",\"type\":\"Plot\"},{\"attributes\":{\"dimension\":1,\"plot\":{\"id\":\"81da7980-2e11-43c9-83a2-fa9fe0b054d7\",\"subtype\":\"Figure\",\"type\":\"Plot\"},\"ticker\":{\"id\":\"7f7f78bb-65f7-495d-a2f5-0a5dc0d2f9ba\",\"type\":\"BasicTicker\"}},\"id\":\"8ba7e232-db13-4667-90c9-8da3f84e27e1\",\"type\":\"Grid\"},{\"attributes\":{\"plot\":{\"id\":\"81da7980-2e11-43c9-83a2-fa9fe0b054d7\",\"subtype\":\"Figure\",\"type\":\"Plot\"}},\"id\":\"7a92ad93-db52-459a-ae6f-c599af7835c0\",\"type\":\"PanTool\"},{\"attributes\":{\"plot\":{\"id\":\"81da7980-2e11-43c9-83a2-fa9fe0b054d7\",\"subtype\":\"Figure\",\"type\":\"Plot\"}},\"id\":\"7b3e5902-92e5-4dfa-97c3-7445dcccc23b\",\"type\":\"ResetTool\"},{\"attributes\":{\"plot\":null,\"text\":null},\"id\":\"03f8e17b-bbaf-45c4-a651-0548d6eee058\",\"type\":\"Title\"},{\"attributes\":{},\"id\":\"c68191d6-3ed0-40e1-a799-59bbd0cbf99c\",\"type\":\"ToolEvents\"},{\"attributes\":{\"line_alpha\":{\"value\":0.1},\"line_color\":{\"value\":\"#1f77b4\"},\"x\":{\"field\":\"x\"},\"y\":{\"field\":\"y\"}},\"id\":\"c455df22-2c1a-43f9-beb8-f64fcb4febf1\",\"type\":\"Line\"},{\"attributes\":{\"line_color\":{\"value\":\"#1f77b4\"},\"x\":{\"field\":\"x\"},\"y\":{\"field\":\"y\"}},\"id\":\"a1b0ab73-533f-4047-84a6-8c97d58e6e8f\",\"type\":\"Line\"},{\"attributes\":{\"data_source\":{\"id\":\"f38e3758-b46d-42ce-aabb-1c89bd489876\",\"type\":\"ColumnDataSource\"},\"glyph\":{\"id\":\"b4c30a6c-ed95-4701-8372-39c3558531c5\",\"type\":\"Line\"},\"hover_glyph\":null,\"nonselection_glyph\":{\"id\":\"f2d0345e-d9d8-4d10-ad05-5c10c29f144a\",\"type\":\"Line\"},\"selection_glyph\":null},\"id\":\"42b972be-cd67-403b-9f63-90a83778ffc3\",\"type\":\"GlyphRenderer\"},{\"attributes\":{\"plot\":{\"id\":\"81da7980-2e11-43c9-83a2-fa9fe0b054d7\",\"subtype\":\"Figure\",\"type\":\"Plot\"},\"ticker\":{\"id\":\"30a02f25-a80b-4d5a-8cde-ff07b8f2ff82\",\"type\":\"BasicTicker\"}},\"id\":\"07b31d17-9d89-4287-abdb-30a7a2209901\",\"type\":\"Grid\"},{\"attributes\":{\"callback\":null},\"id\":\"5913a4a9-ad1f-4575-8c7f-a04068d81295\",\"type\":\"DataRange1d\"},{\"attributes\":{\"formatter\":{\"id\":\"d0e875a4-235a-4113-bd28-731b32de2060\",\"type\":\"BasicTickFormatter\"},\"plot\":{\"id\":\"81da7980-2e11-43c9-83a2-fa9fe0b054d7\",\"subtype\":\"Figure\",\"type\":\"Plot\"},\"ticker\":{\"id\":\"7f7f78bb-65f7-495d-a2f5-0a5dc0d2f9ba\",\"type\":\"BasicTicker\"}},\"id\":\"70c8497c-4d99-43b0-b029-c1e368292e5a\",\"type\":\"LinearAxis\"},{\"attributes\":{},\"id\":\"30a02f25-a80b-4d5a-8cde-ff07b8f2ff82\",\"type\":\"BasicTicker\"},{\"attributes\":{\"line_alpha\":{\"value\":0.1},\"line_color\":{\"value\":\"#1f77b4\"},\"x\":{\"field\":\"x\"},\"y\":{\"field\":\"y\"}},\"id\":\"325f2079-0b8d-4d43-a397-81b104c82356\",\"type\":\"Line\"},{\"attributes\":{\"data_source\":{\"id\":\"8cf605e6-8b2e-4387-bbe0-63c54e81c270\",\"type\":\"ColumnDataSource\"},\"glyph\":{\"id\":\"c60aaddf-e657-4250-b7a4-8dadd9be3aa4\",\"type\":\"Line\"},\"hover_glyph\":null,\"nonselection_glyph\":{\"id\":\"325f2079-0b8d-4d43-a397-81b104c82356\",\"type\":\"Line\"},\"selection_glyph\":null},\"id\":\"27efd4b6-f6ba-4d73-879b-1fc361ee9a43\",\"type\":\"GlyphRenderer\"},{\"attributes\":{},\"id\":\"7f7f78bb-65f7-495d-a2f5-0a5dc0d2f9ba\",\"type\":\"BasicTicker\"},{\"attributes\":{\"line_color\":{\"value\":\"#1f77b4\"},\"x\":{\"field\":\"x\"},\"y\":{\"field\":\"y\"}},\"id\":\"c60aaddf-e657-4250-b7a4-8dadd9be3aa4\",\"type\":\"Line\"},{\"attributes\":{\"callback\":null,\"column_names\":[\"y\",\"x\"],\"data\":{\"x\":[0.0,0.0547,0.21868,0.4916,0.8729,1.36179,1.95725,2.65805,3.46274,4.36964,5.37689,6.48238,7.68384,8.97876,10.36448,11.8381,13.39659,15.03671,16.75505,18.54807,20.41203,22.34309,24.33723,26.39032,28.49812,30.65624,32.86022,35.10549,37.38739,39.70119,42.04211,44.40528,46.78581,49.17877,51.57919,53.98211,56.38253,58.77549,61.15602,63.51919,65.8601,68.17391,70.45581,72.70108,74.90506,77.06318,79.17097,81.22407,83.21821,85.14927,87.01323,88.80625,90.52459,92.16471,93.72319,95.19682,96.58253,97.87746,99.07892,100.18441,101.19166,102.09856,102.90325,103.60405,104.19951,104.6884,105.0697,105.34262,105.5066,105.5613,105.2519,104.32732,102.7984,100.68307,98.00613,94.79896,91.09916,86.95012,82.40047,77.50355,72.31678,66.90097,61.31961,55.63814,49.92316,44.24169,38.66033,33.24452,28.05775,23.16083,18.61118,14.46214,10.76234,7.55517,4.87823,2.7629,1.23398,0.3094,0.0,-0.3094,-1.23398,-2.7629,-4.87823,-7.55517,-10.76234,-14.46214,-18.61118,-23.16083,-28.05775,-33.24452,-38.66033,-44.24169,-49.92316,-55.63814,-61.31961,-66.90097,-72.31678,-77.50355,-82.40047,-86.95012,-91.09916,-94.79896,-98.00613,-100.68307,-102.7984,-104.32732,-105.2519,-105.5613,-105.5066,-105.34262,-105.0697,-104.6884,-104.19951,-103.60405,-102.90325,-102.09856,-101.19166,-100.18441,-99.07892,-97.87746,-96.58253,-95.19682,-93.72319,-92.16471,-90.52459,-88.80625,-87.01323,-85.14927,-83.21821,-81.22407,-79.17097,-77.06318,-74.90506,-72.70108,-70.45581,-68.17391,-65.8601,-63.51919,-61.15602,-58.77549,-56.38253,-53.98211,-51.57919,-49.17877,-46.78581,-44.40528,-42.04211,-39.70119,-37.38739,-35.10549,-32.86022,-30.65624,-28.49812,-26.39032,-24.33723,-22.34309,-20.41203,-18.54807,-16.75505,-15.03671,-13.39659,-11.8381,-10.36448,-8.97876,-7.68384,-6.48238,-5.37689,-4.36964,-3.46274,-2.65805,-1.95725,-1.36179,-0.8729,-0.4916,-0.21868,-0.0547],\"y\":[-227.95281,-227.95246,-227.94714,-227.9241,-227.8616,-227.72719,-227.47179,-227.01119,-226.19619,-225.18934,-224.06579,-222.82612,-221.47098,-220.00106,-218.41713,-216.72001,-214.91058,-212.98978,-210.9586,-208.81809,-206.56937,-204.2136,-201.752,-199.18584,-196.51646,-193.74524,-190.87362,-187.90308,-184.83516,-181.67145,-178.4136,-175.06328,-171.62225,-168.09227,-164.47519,-160.77286,-156.98722,-153.12023,-149.17388,-145.15023,-141.05135,-136.87938,-132.63647,-128.32483,-123.94669,-119.50431,-115.0,-110.4361,-105.81496,-101.13899,-96.4106,-91.63225,-86.80642,-81.93559,-77.02231,-72.06911,-67.07857,-62.05326,-56.99579,-51.90879,-46.79488,-41.65673,-36.49699,-31.31833,-26.12344,-20.91502,-15.69576,-10.46836,-5.23554,-0.0,5.0,5.0,5.0,5.0,5.0,5.0,5.0,5.0,5.0,5.0,5.0,5.0,5.0,5.0,5.0,5.0,5.0,5.0,5.0,5.0,5.0,5.0,5.0,5.0,5.0,5.0,5.0,5.0,5.0,5.0,5.0,5.0,5.0,5.0,5.0,5.0,5.0,5.0,5.0,5.0,5.0,5.0,5.0,5.0,5.0,5.0,5.0,5.0,5.0,5.0,5.0,5.0,5.0,5.0,5.0,5.0,5.0,-0.0,-5.23554,-10.46836,-15.69576,-20.91502,-26.12344,-31.31833,-36.49699,-41.65673,-46.79488,-51.90879,-56.99579,-62.05326,-67.07857,-72.06911,-77.02231,-81.93559,-86.80642,-91.63225,-96.4106,-101.13899,-105.81496,-110.4361,-115.0,-119.50431,-123.94669,-128.32483,-132.63647,-136.87938,-141.05135,-145.15023,-149.17388,-153.12023,-156.98722,-160.77286,-164.47519,-168.09227,-171.62225,-175.06328,-178.4136,-181.67145,-184.83516,-187.90308,-190.87362,-193.74524,-196.51646,-199.18584,-201.752,-204.2136,-206.56937,-208.81809,-210.9586,-212.98978,-214.91058,-216.72001,-218.41713,-220.00106,-221.47098,-222.82612,-224.06579,-225.18934,-226.19619,-227.01119,-227.47179,-227.72719,-227.8616,-227.9241,-227.94714,-227.95246]}},\"id\":\"8bf18fa7-20fd-47cf-84d3-64839f9d7795\",\"type\":\"ColumnDataSource\"},{\"attributes\":{\"plot\":{\"id\":\"81da7980-2e11-43c9-83a2-fa9fe0b054d7\",\"subtype\":\"Figure\",\"type\":\"Plot\"}},\"id\":\"44546037-66f9-4094-ad8c-61057a80fea5\",\"type\":\"SaveTool\"},{\"attributes\":{\"active_drag\":\"auto\",\"active_scroll\":\"auto\",\"active_tap\":\"auto\",\"tools\":[{\"id\":\"7a92ad93-db52-459a-ae6f-c599af7835c0\",\"type\":\"PanTool\"},{\"id\":\"9359c889-4d21-411c-8c46-9e81aba2f3b9\",\"type\":\"WheelZoomTool\"},{\"id\":\"50bae2fe-6662-4013-a2b5-ed3121f200b7\",\"type\":\"BoxZoomTool\"},{\"id\":\"44546037-66f9-4094-ad8c-61057a80fea5\",\"type\":\"SaveTool\"},{\"id\":\"7b3e5902-92e5-4dfa-97c3-7445dcccc23b\",\"type\":\"ResetTool\"},{\"id\":\"77e3f46c-f2d4-498d-86b5-a01f291864d7\",\"type\":\"HelpTool\"}]},\"id\":\"1485ed66-58c3-48cf-a48b-5604a2d762ab\",\"type\":\"Toolbar\"},{\"attributes\":{\"callback\":null,\"column_names\":[\"y\",\"x\"],\"data\":{\"x\":[0.0,0.01184,0.04733,0.1064,0.18893,0.29475,0.42363,0.57531,0.74948,0.94577,1.16378,1.40305,1.6631,1.94337,2.24329,2.56225,2.89957,3.25456,3.62648,4.01456,4.41799,4.83595,5.26757,5.71194,6.16815,6.63526,7.11229,7.59826,8.09215,8.59295,9.09962,9.61111,10.12635,10.64429,11.16384,11.68393,12.20347,12.72141,13.23665,13.74814,14.25481,14.75561,15.24951,15.73547,16.2125,16.67961,17.13582,17.5802,18.01181,18.42977,18.83321,19.22129,19.59321,19.94819,20.28551,20.60447,20.90439,21.18467,21.44471,21.68399,21.90199,22.09829,22.27245,22.42413,22.55302,22.65883,22.74136,22.80043,22.83592,22.84776,22.7808,22.58068,22.24976,21.79191,21.21252,20.51835,19.71757,18.81955,17.83482,16.77492,15.6523,14.48009,13.27206,12.04236,10.8054,9.5757,8.36767,7.19547,6.07284,5.01295,4.02822,3.13019,2.32941,1.63525,1.05585,0.598,0.26708,0.06697,0.0,-0.06697,-0.26708,-0.598,-1.05585,-1.63525,-2.32941,-3.13019,-4.02822,-5.01295,-6.07284,-7.19547,-8.36767,-9.5757,-10.8054,-12.04236,-13.27206,-14.48009,-15.6523,-16.77492,-17.83482,-18.81955,-19.71757,-20.51835,-21.21252,-21.79191,-22.24976,-22.58068,-22.7808,-22.84776,-22.83592,-22.80043,-22.74136,-22.65883,-22.55302,-22.42413,-22.27245,-22.09829,-21.90199,-21.68399,-21.44471,-21.18467,-20.90439,-20.60447,-20.28551,-19.94819,-19.59321,-19.22129,-18.83321,-18.42977,-18.01181,-17.5802,-17.13582,-16.67961,-16.2125,-15.73547,-15.24951,-14.75561,-14.25481,-13.74814,-13.23665,-12.72141,-12.20347,-11.68393,-11.16384,-10.64429,-10.12635,-9.61111,-9.09962,-8.59295,-8.09215,-7.59826,-7.11229,-6.63526,-6.16815,-5.71194,-5.26757,-4.83595,-4.41799,-4.01456,-3.62648,-3.25456,-2.89957,-2.56225,-2.24329,-1.94337,-1.6631,-1.40305,-1.16378,-0.94577,-0.74948,-0.57531,-0.42363,-0.29475,-0.18893,-0.1064,-0.04733,-0.01184],\"y\":[-226.17883,-226.17875,-226.1776,-226.17261,-226.15908,-226.12999,-226.07471,-225.97502,-225.7879,-225.18934,-224.06579,-222.82612,-221.47098,-220.00106,-218.41713,-216.72001,-214.91058,-212.98978,-210.9586,-208.81809,-206.56937,-204.2136,-201.752,-199.18584,-196.51646,-193.74524,-190.87362,-187.90308,-184.83516,-181.67145,-178.4136,-175.06328,-171.62225,-168.09227,-164.47519,-160.77286,-156.98722,-153.12023,-149.17388,-145.15023,-141.05135,-136.87938,-132.63647,-128.32483,-123.94669,-119.50431,-115.0,-110.4361,-105.81496,-101.13899,-96.4106,-91.63225,-86.80642,-81.93559,-77.02231,-72.06911,-67.07857,-62.05326,-56.99579,-51.90879,-46.79488,-41.65673,-36.49699,-31.31833,-26.12344,-20.91502,-15.69576,-10.46836,-5.23554,-0.0,5.0,5.0,5.0,5.0,5.0,5.0,5.0,5.0,5.0,5.0,5.0,5.0,5.0,5.0,5.0,5.0,5.0,5.0,5.0,5.0,5.0,5.0,5.0,5.0,5.0,5.0,5.0,5.0,5.0,5.0,5.0,5.0,5.0,5.0,5.0,5.0,5.0,5.0,5.0,5.0,5.0,5.0,5.0,5.0,5.0,5.0,5.0,5.0,5.0,5.0,5.0,5.0,5.0,5.0,5.0,5.0,5.0,-0.0,-5.23554,-10.46836,-15.69576,-20.91502,-26.12344,-31.31833,-36.49699,-41.65673,-46.79488,-51.90879,-56.99579,-62.05326,-67.07857,-72.06911,-77.02231,-81.93559,-86.80642,-91.63225,-96.4106,-101.13899,-105.81496,-110.4361,-115.0,-119.50431,-123.94669,-128.32483,-132.63647,-136.87938,-141.05135,-145.15023,-149.17388,-153.12023,-156.98722,-160.77286,-164.47519,-168.09227,-171.62225,-175.06328,-178.4136,-181.67145,-184.83516,-187.90308,-190.87362,-193.74524,-196.51646,-199.18584,-201.752,-204.2136,-206.56937,-208.81809,-210.9586,-212.98978,-214.91058,-216.72001,-218.41713,-220.00106,-221.47098,-222.82612,-224.06579,-225.18934,-225.7879,-225.97502,-226.07471,-226.12999,-226.15908,-226.17261,-226.1776,-226.17875]}},\"id\":\"f38e3758-b46d-42ce-aabb-1c89bd489876\",\"type\":\"ColumnDataSource\"},{\"attributes\":{\"data_source\":{\"id\":\"8bf18fa7-20fd-47cf-84d3-64839f9d7795\",\"type\":\"ColumnDataSource\"},\"glyph\":{\"id\":\"bb11fd90-a5ee-4eff-ac77-20adff62fe10\",\"type\":\"Line\"},\"hover_glyph\":null,\"nonselection_glyph\":{\"id\":\"474ec430-d068-41fd-98a8-8b50b5089995\",\"type\":\"Line\"},\"selection_glyph\":null},\"id\":\"e345db2c-38ae-4900-8d5d-fe530a4bf83f\",\"type\":\"GlyphRenderer\"},{\"attributes\":{},\"id\":\"d0e875a4-235a-4113-bd28-731b32de2060\",\"type\":\"BasicTickFormatter\"},{\"attributes\":{\"line_color\":{\"value\":\"#1f77b4\"},\"x\":{\"field\":\"x\"},\"y\":{\"field\":\"y\"}},\"id\":\"b4c30a6c-ed95-4701-8372-39c3558531c5\",\"type\":\"Line\"},{\"attributes\":{\"callback\":null,\"column_names\":[\"y\",\"x\"],\"data\":{\"x\":[0.0,0.00205,0.00818,0.0184,0.03266,0.05096,0.07324,0.09946,0.12957,0.16351,0.2012,0.24256,0.28752,0.33597,0.38782,0.44297,0.50128,0.56265,0.62695,0.69404,0.76379,0.83605,0.91066,0.98749,1.06636,1.14711,1.22958,1.3136,1.39898,1.48556,1.57316,1.66158,1.75066,1.8402,1.93002,2.01993,2.10975,2.1993,2.28837,2.3768,2.46439,2.55097,2.63636,2.72037,2.80284,2.8836,2.96247,3.03929,3.11391,3.18617,3.25591,3.323,3.3873,3.44867,3.50699,3.56213,3.61398,3.66244,3.70739,3.74876,3.78645,3.82038,3.85049,3.87672,3.899,3.91729,3.93156,3.94177,3.94791,3.94996,3.93838,3.90378,3.84657,3.76742,3.66725,3.54724,3.4088,3.25355,3.08331,2.90007,2.70599,2.50334,2.29449,2.0819,1.86805,1.65546,1.44662,1.24396,1.04988,0.86665,0.6964,0.54115,0.40271,0.2827,0.18254,0.10338,0.04617,0.01158,0.0,-0.01158,-0.04617,-0.10338,-0.18254,-0.2827,-0.40271,-0.54115,-0.6964,-0.86665,-1.04988,-1.24396,-1.44662,-1.65546,-1.86805,-2.0819,-2.29449,-2.50334,-2.70599,-2.90007,-3.08331,-3.25355,-3.4088,-3.54724,-3.66725,-3.76742,-3.84657,-3.90378,-3.93838,-3.94996,-3.94791,-3.94177,-3.93156,-3.91729,-3.899,-3.87672,-3.85049,-3.82038,-3.78645,-3.74876,-3.70739,-3.66244,-3.61398,-3.56213,-3.50699,-3.44867,-3.3873,-3.323,-3.25591,-3.18617,-3.11391,-3.03929,-2.96247,-2.8836,-2.80284,-2.72037,-2.63636,-2.55097,-2.46439,-2.3768,-2.28837,-2.1993,-2.10975,-2.01993,-1.93002,-1.8402,-1.75066,-1.66158,-1.57316,-1.48556,-1.39898,-1.3136,-1.22958,-1.14711,-1.06636,-0.98749,-0.91066,-0.83605,-0.76379,-0.69404,-0.62695,-0.56265,-0.50128,-0.44297,-0.38782,-0.33597,-0.28752,-0.24256,-0.2012,-0.16351,-0.12957,-0.09946,-0.07324,-0.05096,-0.03266,-0.0184,-0.00818,-0.00205],\"y\":[-44.56901,-44.569,-44.5688,-44.56794,-44.5656,-44.56057,-44.55101,-44.53378,-44.50143,-44.39213,-44.17064,-43.92626,-43.65912,-43.36935,-43.05711,-42.72255,-42.36585,-41.9872,-41.58679,-41.16483,-40.72153,-40.25713,-39.77187,-39.266,-38.73978,-38.19348,-37.62739,-37.0418,-36.43701,-35.81334,-35.17111,-34.51066,-33.83232,-33.13644,-32.4234,-31.69355,-30.94728,-30.18497,-29.40702,-28.61382,-27.8058,-26.98337,-26.14696,-25.29699,-24.43392,-23.55818,-22.67023,-21.77054,-20.85956,-19.93778,-19.00566,-18.06369,-17.11236,-16.15217,-15.1836,-14.20716,-13.22336,-12.23271,-11.23572,-10.23291,-9.22479,-8.21189,-7.19474,-6.17386,-5.14978,-4.12303,-3.09414,-2.06365,-1.03209,-0.0,5.0,5.0,5.0,5.0,5.0,5.0,5.0,5.0,5.0,5.0,5.0,5.0,5.0,5.0,5.0,5.0,5.0,5.0,5.0,5.0,5.0,5.0,5.0,5.0,5.0,5.0,5.0,5.0,5.0,5.0,5.0,5.0,5.0,5.0,5.0,5.0,5.0,5.0,5.0,5.0,5.0,5.0,5.0,5.0,5.0,5.0,5.0,5.0,5.0,5.0,5.0,5.0,5.0,5.0,5.0,5.0,5.0,-0.0,-1.03209,-2.06365,-3.09414,-4.12303,-5.14978,-6.17386,-7.19474,-8.21189,-9.22479,-10.23291,-11.23572,-12.23271,-13.22336,-14.20716,-15.1836,-16.15217,-17.11236,-18.06369,-19.00566,-19.93778,-20.85956,-21.77054,-22.67023,-23.55818,-24.43392,-25.29699,-26.14696,-26.98337,-27.8058,-28.61382,-29.40702,-30.18497,-30.94728,-31.69355,-32.4234,-33.13644,-33.83232,-34.51066,-35.17111,-35.81334,-36.43701,-37.0418,-37.62739,-38.19348,-38.73978,-39.266,-39.77187,-40.25713,-40.72153,-41.16483,-41.58679,-41.9872,-42.36585,-42.72255,-43.05711,-43.36935,-43.65912,-43.92626,-44.17064,-44.39213,-44.50143,-44.53378,-44.55101,-44.56057,-44.5656,-44.56794,-44.5688,-44.569]}},\"id\":\"210e495a-ee58-434f-98c7-acc33a9091a0\",\"type\":\"ColumnDataSource\"},{\"attributes\":{\"line_alpha\":{\"value\":0.1},\"line_color\":{\"value\":\"#1f77b4\"},\"x\":{\"field\":\"x\"},\"y\":{\"field\":\"y\"}},\"id\":\"435ae31f-7591-468e-9675-a29021e4b149\",\"type\":\"Line\"}],\"root_ids\":[\"81da7980-2e11-43c9-83a2-fa9fe0b054d7\"]},\"title\":\"Bokeh Application\",\"version\":\"0.12.1\"}};\n",
       "            var render_items = [{\"docid\":\"796cb574-0a29-4e18-811e-e9700f0b2afa\",\"elementid\":\"3bd403e5-dbdd-4de5-90c2-a2eb6261114c\",\"modelid\":\"81da7980-2e11-43c9-83a2-fa9fe0b054d7\",\"notebook_comms_target\":\"1436ff44-9220-4fa5-87bb-bd3780000681\"}];\n",
       "            \n",
       "            Bokeh.embed.embed_items(docs_json, render_items);\n",
       "        });\n",
       "      },\n",
       "      function(Bokeh) {\n",
       "      }\n",
       "    ];\n",
       "  \n",
       "    function run_inline_js() {\n",
       "      for (var i = 0; i < inline_js.length; i++) {\n",
       "        inline_js[i](window.Bokeh);\n",
       "      }\n",
       "    }\n",
       "  \n",
       "    if (window._bokeh_is_loading === 0) {\n",
       "      console.log(\"Bokeh: BokehJS loaded, going straight to plotting\");\n",
       "      run_inline_js();\n",
       "    } else {\n",
       "      load_libs(js_urls, function() {\n",
       "        console.log(\"Bokeh: BokehJS plotting callback run at\", now());\n",
       "        run_inline_js();\n",
       "      });\n",
       "    }\n",
       "  }(this));\n",
       "</script>"
      ]
     },
     "metadata": {},
     "output_type": "display_data"
    },
    {
     "data": {
      "text/html": [
       "<p><code>&lt;Bokeh Notebook handle for <strong>In[16]</strong>&gt;</code></p>"
      ],
      "text/plain": [
       "<bokeh.io._CommsHandle at 0x7f84d3eff490>"
      ]
     },
     "execution_count": 16,
     "metadata": {},
     "output_type": "execute_result"
    }
   ],
   "source": [
    "COORDS_DIR = './cross_sections'\n",
    "\n",
    "sections = range(100)\n",
    "coords   = []\n",
    "\n",
    "for s in sections:\n",
    "    coords.append(np.loadtxt(COORDS_DIR + '/cs_{:02d}.sldcrv'.format(s)))\n",
    "\n",
    "    \n",
    "p = figure(width=520, height=500)\n",
    "for sp in [0,4,10,15,30]:\n",
    "    p.line(coords[sp][:,0],coords[sp][:,1])\n",
    "show(p)"
   ]
  }
 ],
 "metadata": {
  "kernelspec": {
   "display_name": "Python 2",
   "language": "python",
   "name": "python2"
  },
  "language_info": {
   "codemirror_mode": {
    "name": "ipython",
    "version": 2
   },
   "file_extension": ".py",
   "mimetype": "text/x-python",
   "name": "python",
   "nbconvert_exporter": "python",
   "pygments_lexer": "ipython2",
   "version": "2.7.11"
  }
 },
 "nbformat": 4,
 "nbformat_minor": 0
}
